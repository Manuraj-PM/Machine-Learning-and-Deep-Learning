{
 "cells": [
  {
   "cell_type": "markdown",
   "id": "e6084aca",
   "metadata": {},
   "source": [
    "# Question 2\n",
    "Gaurav Anand(213079019)\n",
    "Manuraj P M (213230012)"
   ]
  },
  {
   "cell_type": "code",
   "execution_count": 1,
   "id": "1b87d5a2",
   "metadata": {},
   "outputs": [],
   "source": [
    "import pandas as pd\n",
    "import numpy as np\n",
    "import matplotlib.pyplot as plt\n",
    "import seaborn as sns\n",
    "from sklearn import preprocessing"
   ]
  },
  {
   "cell_type": "code",
   "execution_count": 2,
   "id": "105c7512",
   "metadata": {},
   "outputs": [
    {
     "data": {
      "text/html": [
       "<div>\n",
       "<style scoped>\n",
       "    .dataframe tbody tr th:only-of-type {\n",
       "        vertical-align: middle;\n",
       "    }\n",
       "\n",
       "    .dataframe tbody tr th {\n",
       "        vertical-align: top;\n",
       "    }\n",
       "\n",
       "    .dataframe thead th {\n",
       "        text-align: right;\n",
       "    }\n",
       "</style>\n",
       "<table border=\"1\" class=\"dataframe\">\n",
       "  <thead>\n",
       "    <tr style=\"text-align: right;\">\n",
       "      <th></th>\n",
       "      <th>x1</th>\n",
       "      <th>x2</th>\n",
       "      <th>x3</th>\n",
       "      <th>x4</th>\n",
       "    </tr>\n",
       "  </thead>\n",
       "  <tbody>\n",
       "    <tr>\n",
       "      <th>0</th>\n",
       "      <td>0.832354</td>\n",
       "      <td>1.389428</td>\n",
       "      <td>0.962226</td>\n",
       "      <td>0.993671</td>\n",
       "    </tr>\n",
       "    <tr>\n",
       "      <th>1</th>\n",
       "      <td>1.256087</td>\n",
       "      <td>1.500487</td>\n",
       "      <td>0.904118</td>\n",
       "      <td>0.738035</td>\n",
       "    </tr>\n",
       "    <tr>\n",
       "      <th>2</th>\n",
       "      <td>0.976953</td>\n",
       "      <td>1.058524</td>\n",
       "      <td>1.217530</td>\n",
       "      <td>1.357238</td>\n",
       "    </tr>\n",
       "    <tr>\n",
       "      <th>3</th>\n",
       "      <td>1.014365</td>\n",
       "      <td>1.122684</td>\n",
       "      <td>1.195847</td>\n",
       "      <td>0.984144</td>\n",
       "    </tr>\n",
       "    <tr>\n",
       "      <th>4</th>\n",
       "      <td>1.041386</td>\n",
       "      <td>1.219014</td>\n",
       "      <td>0.864819</td>\n",
       "      <td>1.720825</td>\n",
       "    </tr>\n",
       "  </tbody>\n",
       "</table>\n",
       "</div>"
      ],
      "text/plain": [
       "         x1        x2        x3        x4\n",
       "0  0.832354  1.389428  0.962226  0.993671\n",
       "1  1.256087  1.500487  0.904118  0.738035\n",
       "2  0.976953  1.058524  1.217530  1.357238\n",
       "3  1.014365  1.122684  1.195847  0.984144\n",
       "4  1.041386  1.219014  0.864819  1.720825"
      ]
     },
     "execution_count": 2,
     "metadata": {},
     "output_type": "execute_result"
    }
   ],
   "source": [
    "df = pd.read_csv(\"DataClustering.csv\")\n",
    "df.head()"
   ]
  },
  {
   "cell_type": "code",
   "execution_count": 3,
   "id": "24162943",
   "metadata": {},
   "outputs": [
    {
     "data": {
      "text/plain": [
       "<matplotlib.collections.PathCollection at 0x22a0fc22fa0>"
      ]
     },
     "execution_count": 3,
     "metadata": {},
     "output_type": "execute_result"
    },
    {
     "data": {
      "image/png": "[encoded data removed]",
      "text/plain": [
       "<Figure size 432x288 with 1 Axes>"
      ]
     },
     "metadata": {
      "needs_background": "light"
     },
     "output_type": "display_data"
    }
   ],
   "source": [
    "plt.scatter(df['x1'],df['x2'],df['x3'],df['x4'])"
   ]
  },
  {
   "cell_type": "code",
   "execution_count": 4,
   "id": "0e1d348b",
   "metadata": {},
   "outputs": [],
   "source": [
    "from sklearn.cluster import KMeans"
   ]
  },
  {
   "cell_type": "code",
   "execution_count": 5,
   "id": "4f20ca3a",
   "metadata": {},
   "outputs": [
    {
     "name": "stderr",
     "output_type": "stream",
     "text": [
      "C:\\Users\\GAURAV ANAND\\anaconda3\\lib\\site-packages\\sklearn\\cluster\\_kmeans.py:881: UserWarning: KMeans is known to have a memory leak on Windows with MKL, when there are less chunks than available threads. You can avoid it by setting the environment variable OMP_NUM_THREADS=2.\n",
      "  warnings.warn(\n"
     ]
    }
   ],
   "source": [
    "#optimum value of k using elbow method\n",
    "p=[] #list\n",
    "\n",
    "for i in range (1,20):\n",
    "      km = KMeans(n_clusters=i)\n",
    "      km.fit_predict(df)\n",
    "      p.append(km.inertia_)"
   ]
  },
  {
   "cell_type": "code",
   "execution_count": 6,
   "id": "b9a8782a",
   "metadata": {},
   "outputs": [
    {
     "data": {
      "text/plain": [
       "[1431.3096155020742,\n",
       " 744.626768160586,\n",
       " 520.2791145774667,\n",
       " 357.2400953090385,\n",
       " 289.4998742111646,\n",
       " 238.94781441580005,\n",
       " 199.65378694399402,\n",
       " 178.8141729014506,\n",
       " 155.57880902206003,\n",
       " 138.91908906198717,\n",
       " 127.00859165297545,\n",
       " 116.72900258921022,\n",
       " 108.84104728207282,\n",
       " 102.54108367380559,\n",
       " 95.46875896319273,\n",
       " 90.4194284254454,\n",
       " 87.004767762123,\n",
       " 81.46987799972608,\n",
       " 76.40263188533113]"
      ]
     },
     "execution_count": 6,
     "metadata": {},
     "output_type": "execute_result"
    }
   ],
   "source": [
    "p"
   ]
  },
  {
   "cell_type": "code",
   "execution_count": 7,
   "id": "d4bd3644",
   "metadata": {},
   "outputs": [
    {
     "data": {
      "text/plain": [
       "[<matplotlib.lines.Line2D at 0x22a1095baf0>]"
      ]
     },
     "execution_count": 7,
     "metadata": {},
     "output_type": "execute_result"
    },
    {
     "data": {
      "image/png": "[encoded data removed]",
      "text/plain": [
       "<Figure size 432x288 with 1 Axes>"
      ]
     },
     "metadata": {
      "needs_background": "light"
     },
     "output_type": "display_data"
    }
   ],
   "source": [
    "plt.plot(range(1,20),p)"
   ]
  },
  {
   "cell_type": "markdown",
   "id": "0be5e959",
   "metadata": {},
   "source": [
    "optimum value of k turns out to be 5"
   ]
  },
  {
   "cell_type": "code",
   "execution_count": 8,
   "id": "d57f7711",
   "metadata": {},
   "outputs": [],
   "source": [
    "x= df.iloc[:,[1,2]].values   #we are extracting only 1st and 2nd feature. It is because we need a 2d plot to visualize the model\n",
    "km = KMeans(n_clusters=5)   \n",
    "K = km.fit_predict(x)"
   ]
  },
  {
   "cell_type": "code",
   "execution_count": 9,
   "id": "335d0ce8",
   "metadata": {},
   "outputs": [
    {
     "data": {
      "text/plain": [
       "array([3, 3, 3, 3, 3, 3, 3, 3, 3, 3, 3, 3, 3, 3, 3, 0, 3, 3, 3, 3, 3, 3,\n",
       "       3, 3, 3, 3, 3, 0, 3, 3, 3, 3, 3, 3, 4, 3, 3, 3, 3, 0, 3, 4, 3, 3,\n",
       "       0, 3, 4, 3, 3, 0, 3, 3, 3, 3, 3, 3, 3, 3, 4, 3, 3, 3, 3, 3, 3, 3,\n",
       "       3, 3, 3, 3, 3, 0, 3, 3, 3, 0, 3, 3, 3, 0, 3, 3, 4, 3, 3, 3, 3, 3,\n",
       "       3, 3, 0, 3, 3, 0, 3, 3, 3, 3, 3, 3, 3, 3, 3, 3, 3, 3, 3, 0, 3, 3,\n",
       "       3, 3, 3, 3, 3, 3, 4, 3, 4, 0, 3, 3, 0, 0, 0, 0, 0, 0, 0, 0, 0, 0,\n",
       "       0, 0, 0, 0, 0, 0, 0, 0, 0, 0, 0, 0, 0, 0, 0, 0, 0, 4, 0, 0, 0, 0,\n",
       "       0, 0, 0, 0, 0, 0, 0, 0, 0, 4, 0, 0, 0, 0, 0, 0, 0, 0, 0, 0, 0, 0,\n",
       "       0, 0, 0, 0, 0, 0, 0, 0, 0, 0, 0, 0, 0, 0, 0, 0, 0, 0, 0, 0, 0, 0,\n",
       "       0, 0, 0, 0, 0, 0, 0, 0, 0, 0, 4, 0, 0, 0, 4, 4, 1, 4, 4, 1, 4, 1,\n",
       "       4, 1, 4, 1, 1, 4, 1, 2, 4, 4, 2, 4, 4, 4, 1, 4, 4, 1, 1, 4, 1, 0,\n",
       "       1, 4, 4, 1, 2, 1, 1, 2, 4, 4, 4, 4, 4, 1, 4, 4, 4, 4, 1, 4, 4, 0,\n",
       "       0, 0, 0, 0, 0, 0, 0, 0, 0, 0, 0, 0, 0, 0, 0, 0, 0, 0, 0, 0, 0, 0,\n",
       "       0, 0, 0, 0, 0, 0, 0, 0, 0, 0, 0, 0, 0, 0, 0, 0, 0, 0, 0, 0, 0, 0,\n",
       "       0, 0, 0, 0, 0, 0, 0, 0, 0, 0, 0, 0, 0, 0, 0, 4, 0, 0, 0, 0, 0, 0,\n",
       "       0, 0, 0, 0, 0, 0, 0, 0, 0, 0, 0, 0, 0, 0, 0, 0, 4, 0, 0, 0, 0])"
      ]
     },
     "execution_count": 9,
     "metadata": {},
     "output_type": "execute_result"
    }
   ],
   "source": [
    "K"
   ]
  },
  {
   "cell_type": "code",
   "execution_count": 10,
   "id": "03f612e1",
   "metadata": {},
   "outputs": [
    {
     "data": {
      "text/plain": [
       "<matplotlib.collections.PathCollection at 0x22a11275af0>"
      ]
     },
     "execution_count": 10,
     "metadata": {},
     "output_type": "execute_result"
    },
    {
     "data": {
      "image/png": "[encoded data removed]",
      "text/plain": [
       "<Figure size 432x288 with 1 Axes>"
      ]
     },
     "metadata": {
      "needs_background": "light"
     },
     "output_type": "display_data"
    }
   ],
   "source": [
    "plt.scatter(x[K==0,0],x[K==0,1],c='blue')\n",
    "plt.scatter(x[K==1,0],x[K==1,1],c='red')\n",
    "plt.scatter(x[K==2,0],x[K==2,1],c='green')\n",
    "plt.scatter(x[K==3,0],x[K==3,1],c='yellow')\n",
    "plt.scatter(x[K==4,0],x[K==4,1],c='orange')"
   ]
  },
  {
   "cell_type": "code",
   "execution_count": 11,
   "id": "e83242e4",
   "metadata": {},
   "outputs": [],
   "source": [
    "#TSNE\n",
    "from sklearn.manifold import TSNE"
   ]
  },
  {
   "cell_type": "code",
   "execution_count": 12,
   "id": "61665178",
   "metadata": {},
   "outputs": [],
   "source": [
    "m=TSNE(n_components=2,random_state=0)\n"
   ]
  },
  {
   "cell_type": "code",
   "execution_count": 13,
   "id": "62a7dfd4",
   "metadata": {},
   "outputs": [
    {
     "data": {
      "text/plain": [
       "array([[ 20.915224, -11.87031 ],\n",
       "       [ 19.49773 , -13.961566],\n",
       "       [ 19.14008 , -11.999056]], dtype=float32)"
      ]
     },
     "execution_count": 13,
     "metadata": {},
     "output_type": "execute_result"
    }
   ],
   "source": [
    "tsne_features=m.fit_transform(df)\n",
    "tsne_features[1:4,:]"
   ]
  },
  {
   "cell_type": "code",
   "execution_count": 14,
   "id": "81480258",
   "metadata": {},
   "outputs": [],
   "source": [
    "df['x']=tsne_features[:,0]\n",
    "df['y']=tsne_features[:,1]"
   ]
  },
  {
   "cell_type": "code",
   "execution_count": 15,
   "id": "317c62d0",
   "metadata": {},
   "outputs": [
    {
     "data": {
      "image/png": "[encoded data removed]",
      "text/plain": [
       "<Figure size 432x288 with 1 Axes>"
      ]
     },
     "metadata": {
      "needs_background": "light"
     },
     "output_type": "display_data"
    }
   ],
   "source": [
    "import seaborn as sns\n",
    "sns.scatterplot(x=\"x\",y=\"y\",data=df)\n",
    "plt.show()"
   ]
  }
 ],
 "metadata": {
  "kernelspec": {
   "display_name": "Python 3 (ipykernel)",
   "language": "python",
   "name": "python3"
  },
  "language_info": {
   "codemirror_mode": {
    "name": "ipython",
    "version": 3
   },
   "file_extension": ".py",
   "mimetype": "text/x-python",
   "name": "python",
   "nbconvert_exporter": "python",
   "pygments_lexer": "ipython3",
   "version": "3.9.7"
  }
 },
 "nbformat": 4,
 "nbformat_minor": 5
}
