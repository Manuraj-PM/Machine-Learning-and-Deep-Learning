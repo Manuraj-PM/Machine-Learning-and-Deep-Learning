{
 "cells": [
  {
   "cell_type": "markdown",
   "id": "a5658f23",
   "metadata": {},
   "source": [
    "# Question 3  \n",
    "Gaurav Anand(213079019)\n",
    "Manuraj P M (213230012)\n"
   ]
  },
  {
   "cell_type": "code",
   "execution_count": 1,
   "id": "f6fb1765",
   "metadata": {},
   "outputs": [],
   "source": [
    "import pandas as pd\n",
    "import numpy as np\n",
    "import matplotlib.pyplot as plt\n",
    "import seaborn as sns \n",
    "from sklearn import preprocessing\n"
   ]
  },
  {
   "cell_type": "code",
   "execution_count": 2,
   "id": "a585e89d",
   "metadata": {},
   "outputs": [
    {
     "data": {
      "text/html": [
       "<div>\n",
       "<style scoped>\n",
       "    .dataframe tbody tr th:only-of-type {\n",
       "        vertical-align: middle;\n",
       "    }\n",
       "\n",
       "    .dataframe tbody tr th {\n",
       "        vertical-align: top;\n",
       "    }\n",
       "\n",
       "    .dataframe thead th {\n",
       "        text-align: right;\n",
       "    }\n",
       "</style>\n",
       "<table border=\"1\" class=\"dataframe\">\n",
       "  <thead>\n",
       "    <tr style=\"text-align: right;\">\n",
       "      <th></th>\n",
       "      <th>x1</th>\n",
       "      <th>x2</th>\n",
       "      <th>x3</th>\n",
       "      <th>x4</th>\n",
       "      <th>x5</th>\n",
       "      <th>x6</th>\n",
       "      <th>x7</th>\n",
       "    </tr>\n",
       "  </thead>\n",
       "  <tbody>\n",
       "    <tr>\n",
       "      <th>0</th>\n",
       "      <td>0.840261</td>\n",
       "      <td>-1.088160</td>\n",
       "      <td>4.861744</td>\n",
       "      <td>4.273055</td>\n",
       "      <td>4.312457</td>\n",
       "      <td>-0.137834</td>\n",
       "      <td>0.076453</td>\n",
       "    </tr>\n",
       "    <tr>\n",
       "      <th>1</th>\n",
       "      <td>1.320591</td>\n",
       "      <td>-1.174113</td>\n",
       "      <td>5.247360</td>\n",
       "      <td>3.295027</td>\n",
       "      <td>4.283410</td>\n",
       "      <td>-0.363759</td>\n",
       "      <td>-0.170605</td>\n",
       "    </tr>\n",
       "    <tr>\n",
       "      <th>2</th>\n",
       "      <td>1.537909</td>\n",
       "      <td>-1.175882</td>\n",
       "      <td>5.556251</td>\n",
       "      <td>3.394183</td>\n",
       "      <td>3.971574</td>\n",
       "      <td>-0.888398</td>\n",
       "      <td>0.080617</td>\n",
       "    </tr>\n",
       "    <tr>\n",
       "      <th>3</th>\n",
       "      <td>0.363552</td>\n",
       "      <td>-1.130608</td>\n",
       "      <td>4.329890</td>\n",
       "      <td>5.547488</td>\n",
       "      <td>4.539732</td>\n",
       "      <td>0.342330</td>\n",
       "      <td>0.251953</td>\n",
       "    </tr>\n",
       "    <tr>\n",
       "      <th>4</th>\n",
       "      <td>1.567938</td>\n",
       "      <td>-1.114719</td>\n",
       "      <td>5.542104</td>\n",
       "      <td>2.493071</td>\n",
       "      <td>4.156157</td>\n",
       "      <td>-0.609694</td>\n",
       "      <td>-0.291367</td>\n",
       "    </tr>\n",
       "  </tbody>\n",
       "</table>\n",
       "</div>"
      ],
      "text/plain": [
       "         x1        x2        x3        x4        x5        x6        x7\n",
       "0  0.840261 -1.088160  4.861744  4.273055  4.312457 -0.137834  0.076453\n",
       "1  1.320591 -1.174113  5.247360  3.295027  4.283410 -0.363759 -0.170605\n",
       "2  1.537909 -1.175882  5.556251  3.394183  3.971574 -0.888398  0.080617\n",
       "3  0.363552 -1.130608  4.329890  5.547488  4.539732  0.342330  0.251953\n",
       "4  1.567938 -1.114719  5.542104  2.493071  4.156157 -0.609694 -0.291367"
      ]
     },
     "execution_count": 2,
     "metadata": {},
     "output_type": "execute_result"
    }
   ],
   "source": [
    "df= pd.read_csv(\"DataPCA.csv\")\n",
    "df.head()"
   ]
  },
  {
   "cell_type": "code",
   "execution_count": 3,
   "id": "367e19e6",
   "metadata": {},
   "outputs": [],
   "source": [
    "from sklearn.preprocessing import StandardScaler"
   ]
  },
  {
   "cell_type": "code",
   "execution_count": 4,
   "id": "f7210af9",
   "metadata": {},
   "outputs": [
    {
     "data": {
      "text/plain": [
       "StandardScaler()"
      ]
     },
     "execution_count": 4,
     "metadata": {},
     "output_type": "execute_result"
    }
   ],
   "source": [
    "scaler=StandardScaler()\n",
    "scaler.fit(df)"
   ]
  },
  {
   "cell_type": "code",
   "execution_count": 5,
   "id": "980cb862",
   "metadata": {},
   "outputs": [],
   "source": [
    "scaled_data = scaler.transform(df)"
   ]
  },
  {
   "cell_type": "code",
   "execution_count": 6,
   "id": "d4c14db0",
   "metadata": {},
   "outputs": [
    {
     "data": {
      "text/plain": [
       "array([[-0.87970185,  0.20358106, -0.7178119 , ...,  0.24030982,\n",
       "         0.572178  ,  0.81782988],\n",
       "       [ 0.06690112, -0.16483345, -0.01377784, ...,  0.15160586,\n",
       "         0.10228252, -0.215624  ],\n",
       "       [ 0.49517799, -0.17241562,  0.55017623, ..., -0.80067599,\n",
       "        -0.98890001,  0.83524673],\n",
       "       ...,\n",
       "       [ 0.7726511 , -0.39257257,  0.65526181, ..., -0.57237401,\n",
       "        -1.02614162,  0.08363971],\n",
       "       [ 0.80132199, -0.80445602,  0.39375587, ..., -0.07767042,\n",
       "        -0.58435868, -0.29291356],\n",
       "       [ 1.02385053, -0.906317  ,  0.5235481 , ...,  0.02058323,\n",
       "        -0.57800454, -0.43309953]])"
      ]
     },
     "execution_count": 6,
     "metadata": {},
     "output_type": "execute_result"
    }
   ],
   "source": [
    "scaled_data"
   ]
  },
  {
   "cell_type": "code",
   "execution_count": 7,
   "id": "031fbada",
   "metadata": {},
   "outputs": [],
   "source": [
    "from sklearn.decomposition import PCA"
   ]
  },
  {
   "cell_type": "code",
   "execution_count": 8,
   "id": "dbf327d6",
   "metadata": {},
   "outputs": [],
   "source": [
    "pca=PCA(n_components=2)"
   ]
  },
  {
   "cell_type": "code",
   "execution_count": 9,
   "id": "8b5551f9",
   "metadata": {},
   "outputs": [
    {
     "data": {
      "text/plain": [
       "PCA(n_components=2)"
      ]
     },
     "execution_count": 9,
     "metadata": {},
     "output_type": "execute_result"
    }
   ],
   "source": [
    "pca.fit(scaled_data)"
   ]
  },
  {
   "cell_type": "code",
   "execution_count": 10,
   "id": "ea3560b2",
   "metadata": {},
   "outputs": [],
   "source": [
    "x_pca = pca.transform(scaled_data)"
   ]
  },
  {
   "cell_type": "code",
   "execution_count": 11,
   "id": "bdb8129a",
   "metadata": {},
   "outputs": [
    {
     "data": {
      "text/plain": [
       "(190, 7)"
      ]
     },
     "execution_count": 11,
     "metadata": {},
     "output_type": "execute_result"
    }
   ],
   "source": [
    "scaled_data.shape"
   ]
  },
  {
   "cell_type": "code",
   "execution_count": 12,
   "id": "ab0bad30",
   "metadata": {},
   "outputs": [
    {
     "data": {
      "text/plain": [
       "(190, 2)"
      ]
     },
     "execution_count": 12,
     "metadata": {},
     "output_type": "execute_result"
    }
   ],
   "source": [
    "x_pca.shape"
   ]
  },
  {
   "cell_type": "code",
   "execution_count": 13,
   "id": "1ed237f1",
   "metadata": {},
   "outputs": [
    {
     "data": {
      "text/plain": [
       "array([[-1.59702425e+00,  8.26765877e-01],\n",
       "       [-4.47094849e-02, -3.26854584e-01],\n",
       "       [ 1.05989206e+00,  7.42774576e-01],\n",
       "       [-3.88950822e+00,  1.21477957e+00],\n",
       "       [ 1.26840455e+00, -5.23475258e-01],\n",
       "       [ 3.77951767e+00, -1.90569443e-01],\n",
       "       [-3.00701913e+00, -1.33502875e+00],\n",
       "       [-2.62335510e+00, -1.87596181e+00],\n",
       "       [ 2.82029180e-01,  2.88133953e-01],\n",
       "       [-3.33413162e-01,  3.38759789e-02],\n",
       "       [ 4.83092767e+00, -6.12540389e-01],\n",
       "       [ 3.84008060e+00,  5.54928931e-01],\n",
       "       [-2.53557460e+00,  5.59603395e-01],\n",
       "       [ 3.48050273e+00, -7.93793650e-01],\n",
       "       [-2.20708361e+00, -2.46790988e-01],\n",
       "       [-2.70175173e+00,  1.90107275e-01],\n",
       "       [ 4.15230351e-02,  1.06500780e+00],\n",
       "       [ 1.45834397e+00, -2.21829034e+00],\n",
       "       [-4.83915879e-01,  1.07920891e+00],\n",
       "       [-5.52503929e-01, -1.54533457e+00],\n",
       "       [-3.28637532e-01, -1.39366315e+00],\n",
       "       [ 2.38109312e+00,  2.06548265e-01],\n",
       "       [ 3.74543219e-01,  1.45074615e-01],\n",
       "       [-1.74522526e+00, -4.08957271e-02],\n",
       "       [-3.92685339e+00, -1.74380018e+00],\n",
       "       [-3.26075740e+00, -5.02107042e-01],\n",
       "       [ 8.83896926e-02, -2.51641426e-01],\n",
       "       [ 5.93690909e+00,  1.32610199e+00],\n",
       "       [-2.98656926e+00,  3.15860077e+00],\n",
       "       [ 1.65798237e+00,  3.94840887e-01],\n",
       "       [ 8.99905812e-02,  2.05347761e-01],\n",
       "       [ 1.17320524e+00, -2.07006948e-01],\n",
       "       [-6.36551376e-01,  1.79942980e+00],\n",
       "       [ 8.22130885e-02,  5.20647789e-01],\n",
       "       [-2.09233969e+00, -1.06004323e+00],\n",
       "       [ 4.79486393e-01, -7.71327072e-01],\n",
       "       [ 3.67531864e-01, -8.25482855e-01],\n",
       "       [ 1.73442765e+00, -8.21205868e-01],\n",
       "       [ 2.99493094e+00,  1.25918585e-01],\n",
       "       [ 2.16781914e+00, -9.21758451e-01],\n",
       "       [-4.69447557e-02,  3.22546162e+00],\n",
       "       [ 9.83230627e-01,  3.31319458e+00],\n",
       "       [-1.47218621e+00, -1.09558961e+00],\n",
       "       [ 1.57366263e+00,  8.16089713e-02],\n",
       "       [ 2.39544781e+00,  6.75791173e-01],\n",
       "       [-1.20588191e+00, -3.15791221e-01],\n",
       "       [-9.30731801e-02, -4.42671964e-01],\n",
       "       [-1.01969437e+00, -7.17408344e-01],\n",
       "       [-3.77115238e+00,  7.86163172e-01],\n",
       "       [-6.94551949e-01,  4.68951868e-01],\n",
       "       [ 2.10917283e+00,  9.79980376e-01],\n",
       "       [ 1.41014686e+00,  1.99097934e+00],\n",
       "       [-2.14215569e+00,  1.75873234e+00],\n",
       "       [ 1.88302180e+00, -6.95305795e-01],\n",
       "       [ 1.46822079e+00,  1.05898358e+00],\n",
       "       [-7.92818715e-01,  2.79644855e-01],\n",
       "       [-3.81218991e-01, -2.26552253e+00],\n",
       "       [-3.07572353e-01,  4.40281870e+00],\n",
       "       [-9.79431494e-01,  1.72755920e+00],\n",
       "       [-4.10628375e+00, -2.22683497e+00],\n",
       "       [-1.32701287e+00,  2.88982817e+00],\n",
       "       [ 1.32241556e+00,  2.40488070e+00],\n",
       "       [-2.97727939e-01,  1.87048686e+00],\n",
       "       [-4.62029171e+00, -1.38802562e+00],\n",
       "       [ 3.14960556e-02,  3.34243424e-01],\n",
       "       [ 2.19757973e+00, -1.37720140e+00],\n",
       "       [-2.57220502e-01,  8.51716066e-01],\n",
       "       [ 2.18819451e+00,  7.54383685e-01],\n",
       "       [-2.50822607e-01,  1.44989470e+00],\n",
       "       [ 1.29034018e+00, -2.50033513e+00],\n",
       "       [-1.92643884e+00, -3.50085569e-01],\n",
       "       [ 3.19926560e+00, -1.18764556e+00],\n",
       "       [ 2.17240798e+00,  2.93693866e-01],\n",
       "       [-1.74871532e+00, -9.81677164e-01],\n",
       "       [ 2.72776666e+00,  1.73690139e+00],\n",
       "       [-3.23803431e+00,  1.41443291e+00],\n",
       "       [-3.81383240e-01, -8.59815592e-01],\n",
       "       [-3.14428465e+00, -1.25059861e+00],\n",
       "       [-9.30435418e-01, -9.74585248e-02],\n",
       "       [-2.67627762e+00, -1.35629629e+00],\n",
       "       [ 2.57816380e+00,  9.67528595e-02],\n",
       "       [-7.18471318e-01,  3.39955243e+00],\n",
       "       [ 2.26506564e+00,  9.55930033e-01],\n",
       "       [-2.12495511e+00, -1.17397459e+00],\n",
       "       [-1.17055255e+00, -1.27042510e+00],\n",
       "       [-2.02780422e+00,  1.82548757e-02],\n",
       "       [ 1.59447193e+00, -9.89262944e-01],\n",
       "       [ 2.07111520e+00, -1.72092242e-01],\n",
       "       [-3.44058498e+00, -5.38713015e-01],\n",
       "       [ 1.04150712e+00, -1.69615863e-03],\n",
       "       [ 3.81283164e+00, -2.71486548e-01],\n",
       "       [ 1.98245448e+00,  8.83183674e-01],\n",
       "       [ 1.65081493e+00, -1.65117133e+00],\n",
       "       [-8.39460351e-01,  4.32681748e-01],\n",
       "       [ 7.60274976e-01, -1.80756886e+00],\n",
       "       [-1.22344944e+00,  1.93866303e+00],\n",
       "       [-1.42269547e-01,  1.14482451e-01],\n",
       "       [ 2.44121966e+00,  1.11113097e+00],\n",
       "       [-9.71182995e-01,  2.05933387e-01],\n",
       "       [ 1.50446486e+00, -5.07454823e-01],\n",
       "       [-1.23085198e+00,  1.21652963e+00],\n",
       "       [-1.32413668e+00, -1.58599316e+00],\n",
       "       [ 1.31498262e+00,  1.70854842e+00],\n",
       "       [ 3.89264462e+00,  3.31809339e-01],\n",
       "       [ 8.44008972e-01, -1.99680553e+00],\n",
       "       [-1.81608040e+00, -1.49947686e+00],\n",
       "       [ 2.55712761e+00,  3.03915870e+00],\n",
       "       [ 1.01073989e+00,  9.57339877e-02],\n",
       "       [-4.35799768e-01, -2.55467626e+00],\n",
       "       [ 2.69708911e+00, -9.14629918e-01],\n",
       "       [ 1.74680000e-01,  2.29688864e+00],\n",
       "       [ 2.69912251e+00, -1.22105152e+00],\n",
       "       [-2.35080871e+00,  2.25119642e+00],\n",
       "       [ 1.52135291e+00, -1.35816046e-02],\n",
       "       [ 2.50480889e+00, -8.45820840e-01],\n",
       "       [-2.46137033e+00,  7.12712283e-01],\n",
       "       [ 4.48893350e+00,  1.28915216e+00],\n",
       "       [ 4.45514093e+00,  1.56957381e+00],\n",
       "       [ 3.32815179e-01,  5.36037246e-01],\n",
       "       [-3.40938481e+00,  3.15090023e+00],\n",
       "       [ 7.47600194e-02, -9.55025551e-01],\n",
       "       [-1.14008754e+00, -3.37364818e+00],\n",
       "       [ 5.43378817e-01,  3.81013659e+00],\n",
       "       [-9.47459240e-01,  1.75484759e-01],\n",
       "       [-2.06393716e+00,  2.16154917e+00],\n",
       "       [ 1.80711235e+00, -1.82425831e+00],\n",
       "       [-5.05527443e-02,  7.96561450e-02],\n",
       "       [ 7.04528467e-01,  1.34646694e+00],\n",
       "       [ 1.85785449e+00, -9.34643949e-01],\n",
       "       [ 2.68587050e-02,  1.10665537e+00],\n",
       "       [ 2.77392817e+00, -2.75776058e-01],\n",
       "       [ 1.09345414e+00, -3.59520966e+00],\n",
       "       [-2.17161981e+00, -1.23360226e+00],\n",
       "       [-2.67493090e-01,  2.35821482e-01],\n",
       "       [-2.48261854e-01, -3.46892058e+00],\n",
       "       [ 1.06400439e+00,  2.22809746e+00],\n",
       "       [-4.17299370e-01,  2.18027555e-01],\n",
       "       [-2.16890795e+00,  8.77353426e-01],\n",
       "       [ 4.29084748e+00, -1.68714710e+00],\n",
       "       [ 1.39097558e-01,  3.28404922e+00],\n",
       "       [-1.06689531e+00, -1.99945363e+00],\n",
       "       [ 1.60829584e+00,  2.57241636e+00],\n",
       "       [ 5.06590462e-01, -8.11855022e-01],\n",
       "       [ 4.05133156e+00, -2.75672259e+00],\n",
       "       [-5.82762756e-01,  4.81811309e-01],\n",
       "       [-7.50672875e-01, -2.13047549e+00],\n",
       "       [ 3.90712170e+00,  2.07286309e-01],\n",
       "       [ 1.48859778e+00, -2.40956862e+00],\n",
       "       [-1.74559837e+00,  2.47476155e+00],\n",
       "       [-1.91946234e+00,  6.08632493e-01],\n",
       "       [-6.66279265e-01,  9.54214148e-01],\n",
       "       [-1.06730846e+00,  1.01498490e+00],\n",
       "       [-2.04458519e+00,  4.54141042e-01],\n",
       "       [ 1.57852869e+00, -1.04409347e+00],\n",
       "       [-2.21357162e+00, -1.90659909e+00],\n",
       "       [-5.62907536e-01, -8.08189437e-01],\n",
       "       [ 5.82423596e-01, -1.09267362e+00],\n",
       "       [-1.61222770e+00, -2.60132048e+00],\n",
       "       [ 3.12397627e-01, -1.16307721e+00],\n",
       "       [-1.71665822e+00, -6.03495978e-01],\n",
       "       [-2.19202757e+00, -1.46555420e+00],\n",
       "       [ 4.74043966e-01,  2.24658420e+00],\n",
       "       [-9.94006508e-01,  5.18298198e-01],\n",
       "       [ 4.79465915e-01, -1.29656118e+00],\n",
       "       [-8.91914313e-01, -1.82074713e+00],\n",
       "       [ 1.02955676e+00, -2.72889354e+00],\n",
       "       [ 4.50973703e-01,  1.87405940e-01],\n",
       "       [-1.29114591e+00, -4.69889889e-01],\n",
       "       [-4.75613310e-01,  5.62878436e-01],\n",
       "       [-2.74521546e-01, -2.87128178e-02],\n",
       "       [ 3.79122709e+00, -7.12247601e-02],\n",
       "       [ 1.06100503e-01,  1.62144455e+00],\n",
       "       [-5.12530427e-01, -9.25412830e-02],\n",
       "       [-8.84671089e-01, -1.01436009e+00],\n",
       "       [-5.42625531e-01, -7.78250672e-01],\n",
       "       [ 8.04311300e-01, -1.79360819e+00],\n",
       "       [-4.67848521e+00,  1.95671623e+00],\n",
       "       [ 2.07759394e-03, -1.35520934e-01],\n",
       "       [-4.92661168e+00, -3.86183007e-01],\n",
       "       [-1.50825432e+00, -3.49954500e-01],\n",
       "       [-3.63795736e+00, -8.53268921e-01],\n",
       "       [ 4.30774735e-01,  1.28967771e+00],\n",
       "       [-1.21229241e+00,  1.45077257e+00],\n",
       "       [-1.18868103e+00, -2.14994347e+00],\n",
       "       [-3.21714050e+00,  1.32310773e+00],\n",
       "       [-2.18974393e+00, -9.41233828e-01],\n",
       "       [-1.77995917e+00, -6.08858605e-01],\n",
       "       [ 1.49069416e+00, -1.00477599e-01],\n",
       "       [ 9.32145740e-01, -8.09761124e-01],\n",
       "       [ 1.15386944e+00, -1.08824752e+00]])"
      ]
     },
     "execution_count": 13,
     "metadata": {},
     "output_type": "execute_result"
    }
   ],
   "source": [
    "x_pca"
   ]
  },
  {
   "cell_type": "code",
   "execution_count": 14,
   "id": "a79820de",
   "metadata": {},
   "outputs": [
    {
     "data": {
      "text/plain": [
       "array([4.28745955, 2.24805866])"
      ]
     },
     "execution_count": 14,
     "metadata": {},
     "output_type": "execute_result"
    }
   ],
   "source": [
    "pca.explained_variance_"
   ]
  },
  {
   "cell_type": "code",
   "execution_count": 15,
   "id": "cdfd9294",
   "metadata": {},
   "outputs": [
    {
     "data": {
      "image/png": "[encoded data removed]",
      "text/plain": [
       "<Figure size 432x288 with 1 Axes>"
      ]
     },
     "metadata": {
      "needs_background": "light"
     },
     "output_type": "display_data"
    }
   ],
   "source": [
    "fig= plt.scatter (x=x_pca[:,0],y=x_pca[:,1])\n",
    "plt.show()"
   ]
  },
  {
   "cell_type": "code",
   "execution_count": 16,
   "id": "29ecd355",
   "metadata": {},
   "outputs": [],
   "source": [
    "#transforming in 3D\n",
    "pca=PCA(n_components=3)\n",
    "x_pca3=pca.fit_transform(scaled_data)"
   ]
  },
  {
   "cell_type": "code",
   "execution_count": 17,
   "id": "12fb6010",
   "metadata": {},
   "outputs": [
    {
     "data": {
      "text/plain": [
       "array([[-1.59702425e+00,  8.26765877e-01, -1.68860477e-01],\n",
       "       [-4.47094849e-02, -3.26854584e-01,  5.90225928e-02],\n",
       "       [ 1.05989206e+00,  7.42774576e-01, -1.10013535e+00],\n",
       "       [-3.88950822e+00,  1.21477957e+00, -4.30487010e-01],\n",
       "       [ 1.26840455e+00, -5.23475258e-01,  4.06015894e-01],\n",
       "       [ 3.77951767e+00, -1.90569443e-01,  4.54098211e-01],\n",
       "       [-3.00701913e+00, -1.33502875e+00, -8.94411173e-01],\n",
       "       [-2.62335510e+00, -1.87596181e+00,  1.01301160e+00],\n",
       "       [ 2.82029180e-01,  2.88133953e-01, -1.06697563e-01],\n",
       "       [-3.33413162e-01,  3.38759789e-02, -4.29663720e-01],\n",
       "       [ 4.83092767e+00, -6.12540389e-01, -5.48718159e-01],\n",
       "       [ 3.84008060e+00,  5.54928931e-01,  5.46026892e-01],\n",
       "       [-2.53557460e+00,  5.59603395e-01,  6.54030041e-01],\n",
       "       [ 3.48050273e+00, -7.93793650e-01,  6.10516003e-01],\n",
       "       [-2.20708361e+00, -2.46790988e-01, -1.30506506e+00],\n",
       "       [-2.70175173e+00,  1.90107275e-01, -4.14335816e-01],\n",
       "       [ 4.15230351e-02,  1.06500780e+00, -6.26336039e-01],\n",
       "       [ 1.45834397e+00, -2.21829034e+00, -6.82418245e-02],\n",
       "       [-4.83915879e-01,  1.07920891e+00,  9.77570078e-01],\n",
       "       [-5.52503929e-01, -1.54533457e+00,  3.41383106e-01],\n",
       "       [-3.28637532e-01, -1.39366315e+00,  1.09743949e-01],\n",
       "       [ 2.38109312e+00,  2.06548265e-01, -1.04785253e+00],\n",
       "       [ 3.74543219e-01,  1.45074615e-01, -1.21231325e+00],\n",
       "       [-1.74522526e+00, -4.08957271e-02,  9.96817256e-01],\n",
       "       [-3.92685339e+00, -1.74380018e+00,  1.41733331e+00],\n",
       "       [-3.26075740e+00, -5.02107042e-01,  2.17478661e-01],\n",
       "       [ 8.83896926e-02, -2.51641426e-01, -5.20828844e-01],\n",
       "       [ 5.93690909e+00,  1.32610199e+00, -8.63972982e-01],\n",
       "       [-2.98656926e+00,  3.15860077e+00,  2.88172474e-01],\n",
       "       [ 1.65798237e+00,  3.94840887e-01, -1.16373751e-01],\n",
       "       [ 8.99905812e-02,  2.05347761e-01, -1.48081174e-01],\n",
       "       [ 1.17320524e+00, -2.07006948e-01, -4.92490358e-01],\n",
       "       [-6.36551376e-01,  1.79942980e+00, -4.37044738e-01],\n",
       "       [ 8.22130885e-02,  5.20647789e-01, -3.66578561e-01],\n",
       "       [-2.09233969e+00, -1.06004323e+00, -2.09818004e-01],\n",
       "       [ 4.79486393e-01, -7.71327072e-01,  2.26165789e-01],\n",
       "       [ 3.67531864e-01, -8.25482855e-01, -1.04829219e+00],\n",
       "       [ 1.73442765e+00, -8.21205868e-01, -7.65461012e-01],\n",
       "       [ 2.99493094e+00,  1.25918585e-01,  6.45633466e-02],\n",
       "       [ 2.16781914e+00, -9.21758451e-01,  5.14049707e-01],\n",
       "       [-4.69447557e-02,  3.22546162e+00,  1.17281739e+00],\n",
       "       [ 9.83230627e-01,  3.31319458e+00,  9.00355670e-01],\n",
       "       [-1.47218621e+00, -1.09558961e+00, -8.35252843e-01],\n",
       "       [ 1.57366263e+00,  8.16089713e-02,  3.83217107e-01],\n",
       "       [ 2.39544781e+00,  6.75791173e-01,  5.93868604e-01],\n",
       "       [-1.20588191e+00, -3.15791221e-01,  6.37876790e-02],\n",
       "       [-9.30731801e-02, -4.42671964e-01, -9.81564039e-01],\n",
       "       [-1.01969437e+00, -7.17408344e-01, -5.88358042e-02],\n",
       "       [-3.77115238e+00,  7.86163172e-01, -3.39465081e-01],\n",
       "       [-6.94551949e-01,  4.68951868e-01, -1.10941295e-01],\n",
       "       [ 2.10917283e+00,  9.79980376e-01, -3.32946511e-02],\n",
       "       [ 1.41014686e+00,  1.99097934e+00, -2.60972881e-01],\n",
       "       [-2.14215569e+00,  1.75873234e+00, -2.82243436e-01],\n",
       "       [ 1.88302180e+00, -6.95305795e-01, -6.31996135e-03],\n",
       "       [ 1.46822079e+00,  1.05898358e+00, -1.39354635e+00],\n",
       "       [-7.92818715e-01,  2.79644855e-01, -2.19742148e-01],\n",
       "       [-3.81218991e-01, -2.26552253e+00,  4.03825369e-01],\n",
       "       [-3.07572353e-01,  4.40281870e+00, -1.20597780e-01],\n",
       "       [-9.79431494e-01,  1.72755920e+00, -9.82830873e-01],\n",
       "       [-4.10628375e+00, -2.22683497e+00, -3.34313317e-01],\n",
       "       [-1.32701287e+00,  2.88982817e+00,  5.07651302e-01],\n",
       "       [ 1.32241556e+00,  2.40488070e+00,  2.38509558e-01],\n",
       "       [-2.97727939e-01,  1.87048686e+00,  1.26159066e+00],\n",
       "       [-4.62029171e+00, -1.38802562e+00,  4.36174646e-01],\n",
       "       [ 3.14960556e-02,  3.34243424e-01,  6.52661795e-02],\n",
       "       [ 2.19757973e+00, -1.37720140e+00,  1.20661377e+00],\n",
       "       [-2.57220502e-01,  8.51716066e-01,  1.67772842e-01],\n",
       "       [ 2.18819451e+00,  7.54383685e-01, -2.11203087e-01],\n",
       "       [-2.50822607e-01,  1.44989470e+00, -1.64465517e+00],\n",
       "       [ 1.29034018e+00, -2.50033513e+00,  3.16104682e-01],\n",
       "       [-1.92643884e+00, -3.50085569e-01,  4.47371849e-01],\n",
       "       [ 3.19926560e+00, -1.18764556e+00,  3.37534095e-01],\n",
       "       [ 2.17240798e+00,  2.93693866e-01, -5.53527466e-02],\n",
       "       [-1.74871532e+00, -9.81677164e-01, -5.66896675e-01],\n",
       "       [ 2.72776666e+00,  1.73690139e+00, -6.56090804e-01],\n",
       "       [-3.23803431e+00,  1.41443291e+00, -7.63604074e-01],\n",
       "       [-3.81383240e-01, -8.59815592e-01, -7.53484957e-01],\n",
       "       [-3.14428465e+00, -1.25059861e+00,  4.43301934e-01],\n",
       "       [-9.30435418e-01, -9.74585248e-02,  4.28256065e-02],\n",
       "       [-2.67627762e+00, -1.35629629e+00,  5.82647226e-02],\n",
       "       [ 2.57816380e+00,  9.67528595e-02,  8.10959696e-02],\n",
       "       [-7.18471318e-01,  3.39955243e+00, -1.84510003e-01],\n",
       "       [ 2.26506564e+00,  9.55930033e-01,  3.98102921e-01],\n",
       "       [-2.12495511e+00, -1.17397459e+00, -2.63226987e-03],\n",
       "       [-1.17055255e+00, -1.27042510e+00, -4.93529235e-01],\n",
       "       [-2.02780422e+00,  1.82548757e-02, -8.37240550e-02],\n",
       "       [ 1.59447193e+00, -9.89262944e-01,  4.62112863e-02],\n",
       "       [ 2.07111520e+00, -1.72092242e-01,  7.88420991e-01],\n",
       "       [-3.44058498e+00, -5.38713015e-01, -1.27316538e+00],\n",
       "       [ 1.04150712e+00, -1.69615863e-03,  3.05397109e-01],\n",
       "       [ 3.81283164e+00, -2.71486548e-01, -3.03135766e-02],\n",
       "       [ 1.98245448e+00,  8.83183674e-01, -8.75291551e-01],\n",
       "       [ 1.65081493e+00, -1.65117133e+00,  4.11689792e-01],\n",
       "       [-8.39460351e-01,  4.32681748e-01, -6.66766000e-01],\n",
       "       [ 7.60274976e-01, -1.80756886e+00, -2.05798794e-01],\n",
       "       [-1.22344944e+00,  1.93866303e+00, -7.73528752e-01],\n",
       "       [-1.42269547e-01,  1.14482451e-01,  1.66197362e-01],\n",
       "       [ 2.44121966e+00,  1.11113097e+00, -4.26939141e-01],\n",
       "       [-9.71182995e-01,  2.05933387e-01,  1.95080356e+00],\n",
       "       [ 1.50446486e+00, -5.07454823e-01, -5.31319197e-01],\n",
       "       [-1.23085198e+00,  1.21652963e+00,  5.55787489e-01],\n",
       "       [-1.32413668e+00, -1.58599316e+00, -1.28112118e-01],\n",
       "       [ 1.31498262e+00,  1.70854842e+00, -6.18782945e-01],\n",
       "       [ 3.89264462e+00,  3.31809339e-01,  4.02373300e-01],\n",
       "       [ 8.44008972e-01, -1.99680553e+00,  8.85739762e-01],\n",
       "       [-1.81608040e+00, -1.49947686e+00, -6.41544059e-01],\n",
       "       [ 2.55712761e+00,  3.03915870e+00,  4.04938513e-01],\n",
       "       [ 1.01073989e+00,  9.57339877e-02,  4.54495544e-01],\n",
       "       [-4.35799768e-01, -2.55467626e+00,  5.68733295e-01],\n",
       "       [ 2.69708911e+00, -9.14629918e-01, -4.43897377e-01],\n",
       "       [ 1.74680000e-01,  2.29688864e+00, -6.06214013e-03],\n",
       "       [ 2.69912251e+00, -1.22105152e+00, -1.13535690e+00],\n",
       "       [-2.35080871e+00,  2.25119642e+00,  1.28263609e-01],\n",
       "       [ 1.52135291e+00, -1.35816046e-02,  2.94574781e-01],\n",
       "       [ 2.50480889e+00, -8.45820840e-01, -7.97239099e-01],\n",
       "       [-2.46137033e+00,  7.12712283e-01, -5.96290525e-01],\n",
       "       [ 4.48893350e+00,  1.28915216e+00, -1.46912722e+00],\n",
       "       [ 4.45514093e+00,  1.56957381e+00, -4.73113373e-01],\n",
       "       [ 3.32815179e-01,  5.36037246e-01,  6.68967500e-01],\n",
       "       [-3.40938481e+00,  3.15090023e+00, -3.22148703e-01],\n",
       "       [ 7.47600194e-02, -9.55025551e-01,  5.44990708e-01],\n",
       "       [-1.14008754e+00, -3.37364818e+00, -7.38470575e-01],\n",
       "       [ 5.43378817e-01,  3.81013659e+00,  1.09896056e+00],\n",
       "       [-9.47459240e-01,  1.75484759e-01, -8.80045065e-01],\n",
       "       [-2.06393716e+00,  2.16154917e+00,  3.76865854e-01],\n",
       "       [ 1.80711235e+00, -1.82425831e+00, -4.14296139e-01],\n",
       "       [-5.05527443e-02,  7.96561450e-02,  1.10185490e+00],\n",
       "       [ 7.04528467e-01,  1.34646694e+00, -1.08397860e-01],\n",
       "       [ 1.85785449e+00, -9.34643949e-01, -9.44828445e-01],\n",
       "       [ 2.68587050e-02,  1.10665537e+00,  1.05060449e+00],\n",
       "       [ 2.77392817e+00, -2.75776058e-01,  2.75291965e-02],\n",
       "       [ 1.09345414e+00, -3.59520966e+00,  9.31869545e-01],\n",
       "       [-2.17161981e+00, -1.23360226e+00,  1.75345757e+00],\n",
       "       [-2.67493090e-01,  2.35821482e-01,  7.17026890e-02],\n",
       "       [-2.48261854e-01, -3.46892058e+00,  1.43598104e-01],\n",
       "       [ 1.06400439e+00,  2.22809746e+00,  1.00186921e+00],\n",
       "       [-4.17299370e-01,  2.18027555e-01,  5.37911458e-01],\n",
       "       [-2.16890795e+00,  8.77353426e-01, -8.16259339e-02],\n",
       "       [ 4.29084748e+00, -1.68714710e+00,  1.02340543e+00],\n",
       "       [ 1.39097558e-01,  3.28404922e+00, -8.05527365e-01],\n",
       "       [-1.06689531e+00, -1.99945363e+00, -6.73331201e-01],\n",
       "       [ 1.60829584e+00,  2.57241636e+00, -1.03793283e-01],\n",
       "       [ 5.06590462e-01, -8.11855022e-01,  5.18723580e-01],\n",
       "       [ 4.05133156e+00, -2.75672259e+00,  1.19329287e+00],\n",
       "       [-5.82762756e-01,  4.81811309e-01,  4.41151321e-01],\n",
       "       [-7.50672875e-01, -2.13047549e+00, -1.05551047e+00],\n",
       "       [ 3.90712170e+00,  2.07286309e-01,  3.73269665e-01],\n",
       "       [ 1.48859778e+00, -2.40956862e+00,  1.73713421e-01],\n",
       "       [-1.74559837e+00,  2.47476155e+00,  1.08370044e-01],\n",
       "       [-1.91946234e+00,  6.08632493e-01,  1.13185201e+00],\n",
       "       [-6.66279265e-01,  9.54214148e-01, -5.13012664e-01],\n",
       "       [-1.06730846e+00,  1.01498490e+00, -4.88432542e-01],\n",
       "       [-2.04458519e+00,  4.54141042e-01,  4.45206119e-01],\n",
       "       [ 1.57852869e+00, -1.04409347e+00,  1.58960348e+00],\n",
       "       [-2.21357162e+00, -1.90659909e+00,  4.04046626e-01],\n",
       "       [-5.62907536e-01, -8.08189437e-01,  6.90573250e-01],\n",
       "       [ 5.82423596e-01, -1.09267362e+00, -1.55089522e-01],\n",
       "       [-1.61222770e+00, -2.60132048e+00, -8.79259971e-01],\n",
       "       [ 3.12397627e-01, -1.16307721e+00,  2.14933153e-01],\n",
       "       [-1.71665822e+00, -6.03495978e-01, -1.27872270e+00],\n",
       "       [-2.19202757e+00, -1.46555420e+00,  1.33562654e-01],\n",
       "       [ 4.74043966e-01,  2.24658420e+00,  7.89350144e-01],\n",
       "       [-9.94006508e-01,  5.18298198e-01,  6.44612091e-01],\n",
       "       [ 4.79465915e-01, -1.29656118e+00, -9.80113908e-01],\n",
       "       [-8.91914313e-01, -1.82074713e+00, -3.41495137e-01],\n",
       "       [ 1.02955676e+00, -2.72889354e+00,  1.65941107e-02],\n",
       "       [ 4.50973703e-01,  1.87405940e-01, -5.20902203e-01],\n",
       "       [-1.29114591e+00, -4.69889889e-01, -5.03446757e-02],\n",
       "       [-4.75613310e-01,  5.62878436e-01,  5.51339111e-01],\n",
       "       [-2.74521546e-01, -2.87128178e-02,  1.51348513e-02],\n",
       "       [ 3.79122709e+00, -7.12247601e-02,  7.96932822e-01],\n",
       "       [ 1.06100503e-01,  1.62144455e+00,  7.13306260e-01],\n",
       "       [-5.12530427e-01, -9.25412830e-02,  1.07090749e+00],\n",
       "       [-8.84671089e-01, -1.01436009e+00,  4.19873189e-01],\n",
       "       [-5.42625531e-01, -7.78250672e-01,  1.92935795e-01],\n",
       "       [ 8.04311300e-01, -1.79360819e+00, -2.64880226e-01],\n",
       "       [-4.67848521e+00,  1.95671623e+00, -1.21532965e-01],\n",
       "       [ 2.07759394e-03, -1.35520934e-01, -2.98640146e-01],\n",
       "       [-4.92661168e+00, -3.86183007e-01,  4.62832066e-01],\n",
       "       [-1.50825432e+00, -3.49954500e-01,  8.00533278e-02],\n",
       "       [-3.63795736e+00, -8.53268921e-01,  1.64616095e-01],\n",
       "       [ 4.30774735e-01,  1.28967771e+00,  1.12320583e+00],\n",
       "       [-1.21229241e+00,  1.45077257e+00, -6.52503081e-01],\n",
       "       [-1.18868103e+00, -2.14994347e+00, -8.62894022e-01],\n",
       "       [-3.21714050e+00,  1.32310773e+00,  7.24831375e-02],\n",
       "       [-2.18974393e+00, -9.41233828e-01,  3.15020343e-01],\n",
       "       [-1.77995917e+00, -6.08858605e-01,  4.00300889e-01],\n",
       "       [ 1.49069416e+00, -1.00477599e-01, -7.51700799e-01],\n",
       "       [ 9.32145740e-01, -8.09761124e-01, -6.65205848e-01],\n",
       "       [ 1.15386944e+00, -1.08824752e+00, -6.24044099e-01]])"
      ]
     },
     "execution_count": 17,
     "metadata": {},
     "output_type": "execute_result"
    }
   ],
   "source": [
    "x_pca3"
   ]
  },
  {
   "cell_type": "code",
   "execution_count": 18,
   "id": "74ba8060",
   "metadata": {},
   "outputs": [
    {
     "data": {
      "text/plain": [
       "array([4.28745955, 2.24805866, 0.45709919])"
      ]
     },
     "execution_count": 18,
     "metadata": {},
     "output_type": "execute_result"
    }
   ],
   "source": [
    "pca.explained_variance_   #eigen values"
   ]
  },
  {
   "cell_type": "code",
   "execution_count": 19,
   "id": "4e3536a4",
   "metadata": {},
   "outputs": [],
   "source": [
    "#optimum number of principal components required\n",
    "pca=PCA(n_components=None)\n",
    "x_pcaN=pca.fit_transform(scaled_data)"
   ]
  },
  {
   "cell_type": "code",
   "execution_count": 20,
   "id": "7745d740",
   "metadata": {},
   "outputs": [
    {
     "data": {
      "text/plain": [
       "(190, 7)"
      ]
     },
     "execution_count": 20,
     "metadata": {},
     "output_type": "execute_result"
    }
   ],
   "source": [
    "x_pcaN.shape"
   ]
  },
  {
   "cell_type": "code",
   "execution_count": 21,
   "id": "057e477f",
   "metadata": {},
   "outputs": [
    {
     "data": {
      "text/plain": [
       "array([[ 0.43317128,  0.10688441,  0.47876303, -0.44964211, -0.37624049,\n",
       "        -0.45319076, -0.15035799],\n",
       "       [-0.27755113,  0.58261645,  0.07397819,  0.20409753, -0.41973091,\n",
       "        -0.10010361,  0.59177707],\n",
       "       [-0.17626997,  0.65002822,  0.05259511, -0.28649785,  0.06206424,\n",
       "         0.44281272, -0.51147813],\n",
       "       [ 0.55915884,  0.03818838,  0.45641243,  0.39746127,  0.04595249,\n",
       "         0.54178701,  0.15475942],\n",
       "       [-0.11037788, -0.09304976, -0.01507989,  0.59615727, -0.5428373 ,\n",
       "        -0.09666457, -0.56525322],\n",
       "       [-0.5428688 , -0.12514317,  0.73396168,  0.12268238,  0.33143193,\n",
       "        -0.15132589, -0.05599364],\n",
       "       [ 0.29104723,  0.44812909, -0.12372342,  0.38164805,  0.52133099,\n",
       "        -0.51257933, -0.13778803]])"
      ]
     },
     "execution_count": 21,
     "metadata": {},
     "output_type": "execute_result"
    }
   ],
   "source": [
    "pca.components_"
   ]
  },
  {
   "cell_type": "code",
   "execution_count": 22,
   "id": "395bcaf3",
   "metadata": {},
   "outputs": [
    {
     "data": {
      "text/plain": [
       "(7, 7)"
      ]
     },
     "execution_count": 22,
     "metadata": {},
     "output_type": "execute_result"
    }
   ],
   "source": [
    "pca.components_.shape"
   ]
  },
  {
   "cell_type": "code",
   "execution_count": 23,
   "id": "723970f0",
   "metadata": {},
   "outputs": [
    {
     "data": {
      "text/plain": [
       "array([0.60927057, 0.92873153, 0.99368774, 0.99976012, 0.99997615,\n",
       "       0.999996  , 1.        ])"
      ]
     },
     "execution_count": 23,
     "metadata": {},
     "output_type": "execute_result"
    }
   ],
   "source": [
    "np.cumsum(pca.explained_variance_ratio_) #caling cumulative sum function"
   ]
  },
  {
   "cell_type": "code",
   "execution_count": 24,
   "id": "435707b0",
   "metadata": {},
   "outputs": [
    {
     "data": {
      "text/plain": [
       "Text(0, 0.5, 'explained variance')"
      ]
     },
     "execution_count": 24,
     "metadata": {},
     "output_type": "execute_result"
    },
    {
     "data": {
      "image/png": "[encoded data removed]",
      "text/plain": [
       "<Figure size 432x288 with 1 Axes>"
      ]
     },
     "metadata": {
      "needs_background": "light"
     },
     "output_type": "display_data"
    }
   ],
   "source": [
    "plt.plot(np.cumsum(pca.explained_variance_ratio_)) \n",
    "plt.xlabel(\"Number of dimensions\")\n",
    "plt.ylabel(\"explained variance\")"
   ]
  },
  {
   "cell_type": "markdown",
   "id": "1a27cd37",
   "metadata": {},
   "source": [
    "so we can clearly see that explained variance is above 95% with number of dimensions equal to 2."
   ]
  },
  {
   "cell_type": "code",
   "execution_count": 25,
   "id": "1d941336",
   "metadata": {},
   "outputs": [
    {
     "data": {
      "text/plain": [
       "array([ 2.10358047e-17, -4.34739963e-16,  9.33755997e-16,  4.25390717e-16,\n",
       "       -2.14097745e-15,  1.05179023e-16,  8.41432187e-17])"
      ]
     },
     "execution_count": 25,
     "metadata": {},
     "output_type": "execute_result"
    }
   ],
   "source": [
    "#since PCA reconstruction=PC scores⋅Eigenvectors⊤+Mean\n",
    "mean_of_scaled_data= np.mean(scaled_data, axis=0)\n",
    "mean_of_scaled_data"
   ]
  },
  {
   "cell_type": "code",
   "execution_count": 26,
   "id": "d97bcbd4",
   "metadata": {},
   "outputs": [],
   "source": [
    "nComp=2\n",
    "x_reconstructed=np.dot(pca.transform(scaled_data)[:,:nComp], pca.components_[:nComp,:])\n",
    "x_reconstructed+=mean_of_scaled_data"
   ]
  },
  {
   "cell_type": "code",
   "execution_count": 27,
   "id": "44cce927",
   "metadata": {},
   "outputs": [
    {
     "data": {
      "text/plain": [
       "array([[-0.92125485,  0.3109904 , -0.70343352, ...,  0.253846  ,\n",
       "         0.64099438,  0.72938644],\n",
       "       [ 0.071352  , -0.19520961, -0.04558536, ...,  0.15401249,\n",
       "         0.05298125, -0.18670262],\n",
       "       [ 0.25295688,  0.54603863,  0.56238625, ..., -0.71053976,\n",
       "        -0.5546877 ,  0.28019372],\n",
       "       ...,\n",
       "       [ 0.67361357,  0.10079207,  0.7062561 , ..., -0.51868595,\n",
       "        -0.66551065, -0.28359812],\n",
       "       [ 0.62852888, -0.3721483 ,  0.38637225, ..., -0.0108292 ,\n",
       "        -0.34137983, -0.61935362],\n",
       "       [ 0.80186744, -0.51070025,  0.47192344, ...,  0.02263871,\n",
       "        -0.41398547, -0.81749341]])"
      ]
     },
     "execution_count": 27,
     "metadata": {},
     "output_type": "execute_result"
    }
   ],
   "source": [
    "x_reconstructed"
   ]
  },
  {
   "cell_type": "code",
   "execution_count": 28,
   "id": "54faffb9",
   "metadata": {},
   "outputs": [
    {
     "data": {
      "text/plain": [
       "0.071268465553543"
      ]
     },
     "execution_count": 28,
     "metadata": {},
     "output_type": "execute_result"
    }
   ],
   "source": [
    "MSE = np.square(np.subtract(scaled_data,x_reconstructed)).mean()\n",
    "MSE"
   ]
  }
 ],
 "metadata": {
  "kernelspec": {
   "display_name": "Python 3 (ipykernel)",
   "language": "python",
   "name": "python3"
  },
  "language_info": {
   "codemirror_mode": {
    "name": "ipython",
    "version": 3
   },
   "file_extension": ".py",
   "mimetype": "text/x-python",
   "name": "python",
   "nbconvert_exporter": "python",
   "pygments_lexer": "ipython3",
   "version": "3.9.7"
  }
 },
 "nbformat": 4,
 "nbformat_minor": 5
}
