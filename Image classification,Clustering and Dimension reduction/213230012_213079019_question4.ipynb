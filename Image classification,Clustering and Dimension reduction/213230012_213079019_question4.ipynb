{
 "cells": [
  {
   "cell_type": "markdown",
   "metadata": {
    "id": "leK_mtHIbHKG"
   },
   "source": [
    "**Gaurav Anand** \\\\\n",
    "**Manuraj P M  213230012**"
   ]
  },
  {
   "cell_type": "code",
   "execution_count": 90,
   "metadata": {
    "id": "6Khj2Z9o4OWe"
   },
   "outputs": [],
   "source": [
    "#import related liabrary\n",
    "import numpy as np\n",
    "import pandas as pd"
   ]
  },
  {
   "cell_type": "markdown",
   "metadata": {
    "id": "C6uybmV75vOA"
   },
   "source": [
    "# PART 4"
   ]
  },
  {
   "cell_type": "code",
   "execution_count": 91,
   "metadata": {
    "colab": {
     "base_uri": "https://localhost:8080/",
     "height": 206
    },
    "id": "r125iUQx4Yr1",
    "outputId": "15a587d0-cdec-4396-f4cd-886b6f44cdb8"
   },
   "outputs": [
    {
     "data": {
      "text/html": [
       "\n",
       "  <div id=\"df-5b543416-c993-4cdf-bafd-834f26250f89\">\n",
       "    <div class=\"colab-df-container\">\n",
       "      <div>\n",
       "<style scoped>\n",
       "    .dataframe tbody tr th:only-of-type {\n",
       "        vertical-align: middle;\n",
       "    }\n",
       "\n",
       "    .dataframe tbody tr th {\n",
       "        vertical-align: top;\n",
       "    }\n",
       "\n",
       "    .dataframe thead th {\n",
       "        text-align: right;\n",
       "    }\n",
       "</style>\n",
       "<table border=\"1\" class=\"dataframe\">\n",
       "  <thead>\n",
       "    <tr style=\"text-align: right;\">\n",
       "      <th></th>\n",
       "      <th>x1</th>\n",
       "      <th>x2</th>\n",
       "      <th>x3</th>\n",
       "      <th>x4</th>\n",
       "      <th>x5</th>\n",
       "      <th>x6</th>\n",
       "      <th>x7</th>\n",
       "    </tr>\n",
       "  </thead>\n",
       "  <tbody>\n",
       "    <tr>\n",
       "      <th>0</th>\n",
       "      <td>2.596641</td>\n",
       "      <td>15.263178</td>\n",
       "      <td>-46.289607</td>\n",
       "      <td>-10.993265</td>\n",
       "      <td>-2.266729</td>\n",
       "      <td>1.935832</td>\n",
       "      <td>2.039688</td>\n",
       "    </tr>\n",
       "    <tr>\n",
       "      <th>1</th>\n",
       "      <td>3.096286</td>\n",
       "      <td>14.784802</td>\n",
       "      <td>-48.175614</td>\n",
       "      <td>-8.799362</td>\n",
       "      <td>-2.220871</td>\n",
       "      <td>1.851201</td>\n",
       "      <td>1.921974</td>\n",
       "    </tr>\n",
       "    <tr>\n",
       "      <th>2</th>\n",
       "      <td>3.360246</td>\n",
       "      <td>14.774917</td>\n",
       "      <td>-49.471841</td>\n",
       "      <td>-9.030501</td>\n",
       "      <td>-1.760447</td>\n",
       "      <td>1.753114</td>\n",
       "      <td>2.041933</td>\n",
       "    </tr>\n",
       "    <tr>\n",
       "      <th>3</th>\n",
       "      <td>2.214819</td>\n",
       "      <td>15.027394</td>\n",
       "      <td>-43.200400</td>\n",
       "      <td>-13.565001</td>\n",
       "      <td>-2.643018</td>\n",
       "      <td>2.200463</td>\n",
       "      <td>2.141847</td>\n",
       "    </tr>\n",
       "    <tr>\n",
       "      <th>4</th>\n",
       "      <td>3.398576</td>\n",
       "      <td>15.115756</td>\n",
       "      <td>-49.416644</td>\n",
       "      <td>-6.857672</td>\n",
       "      <td>-2.025936</td>\n",
       "      <td>1.788085</td>\n",
       "      <td>1.875540</td>\n",
       "    </tr>\n",
       "  </tbody>\n",
       "</table>\n",
       "</div>\n",
       "      <button class=\"colab-df-convert\" onclick=\"convertToInteractive('df-5b543416-c993-4cdf-bafd-834f26250f89')\"\n",
       "              title=\"Convert this dataframe to an interactive table.\"\n",
       "              style=\"display:none;\">\n",
       "        \n",
       "  <svg xmlns=\"http://www.w3.org/2000/svg\" height=\"24px\"viewBox=\"0 0 24 24\"\n",
       "       width=\"24px\">\n",
       "    <path d=\"M0 0h24v24H0V0z\" fill=\"none\"/>\n",
       "    <path d=\"M18.56 5.44l.94 2.06.94-2.06 2.06-.94-2.06-.94-.94-2.06-.94 2.06-2.06.94zm-11 1L8.5 8.5l.94-2.06 2.06-.94-2.06-.94L8.5 2.5l-.94 2.06-2.06.94zm10 10l.94 2.06.94-2.06 2.06-.94-2.06-.94-.94-2.06-.94 2.06-2.06.94z\"/><path d=\"M17.41 7.96l-1.37-1.37c-.4-.4-.92-.59-1.43-.59-.52 0-1.04.2-1.43.59L10.3 9.45l-7.72 7.72c-.78.78-.78 2.05 0 2.83L4 21.41c.39.39.9.59 1.41.59.51 0 1.02-.2 1.41-.59l7.78-7.78 2.81-2.81c.8-.78.8-2.07 0-2.86zM5.41 20L4 18.59l7.72-7.72 1.47 1.35L5.41 20z\"/>\n",
       "  </svg>\n",
       "      </button>\n",
       "      \n",
       "  <style>\n",
       "    .colab-df-container {\n",
       "      display:flex;\n",
       "      flex-wrap:wrap;\n",
       "      gap: 12px;\n",
       "    }\n",
       "\n",
       "    .colab-df-convert {\n",
       "      background-color: #E8F0FE;\n",
       "      border: none;\n",
       "      border-radius: 50%;\n",
       "      cursor: pointer;\n",
       "      display: none;\n",
       "      fill: #1967D2;\n",
       "      height: 32px;\n",
       "      padding: 0 0 0 0;\n",
       "      width: 32px;\n",
       "    }\n",
       "\n",
       "    .colab-df-convert:hover {\n",
       "      background-color: #E2EBFA;\n",
       "      box-shadow: 0px 1px 2px rgba(60, 64, 67, 0.3), 0px 1px 3px 1px rgba(60, 64, 67, 0.15);\n",
       "      fill: #174EA6;\n",
       "    }\n",
       "\n",
       "    [theme=dark] .colab-df-convert {\n",
       "      background-color: #3B4455;\n",
       "      fill: #D2E3FC;\n",
       "    }\n",
       "\n",
       "    [theme=dark] .colab-df-convert:hover {\n",
       "      background-color: #434B5C;\n",
       "      box-shadow: 0px 1px 3px 1px rgba(0, 0, 0, 0.15);\n",
       "      filter: drop-shadow(0px 1px 2px rgba(0, 0, 0, 0.3));\n",
       "      fill: #FFFFFF;\n",
       "    }\n",
       "  </style>\n",
       "\n",
       "      <script>\n",
       "        const buttonEl =\n",
       "          document.querySelector('#df-5b543416-c993-4cdf-bafd-834f26250f89 button.colab-df-convert');\n",
       "        buttonEl.style.display =\n",
       "          google.colab.kernel.accessAllowed ? 'block' : 'none';\n",
       "\n",
       "        async function convertToInteractive(key) {\n",
       "          const element = document.querySelector('#df-5b543416-c993-4cdf-bafd-834f26250f89');\n",
       "          const dataTable =\n",
       "            await google.colab.kernel.invokeFunction('convertToInteractive',\n",
       "                                                     [key], {});\n",
       "          if (!dataTable) return;\n",
       "\n",
       "          const docLinkHtml = 'Like what you see? Visit the ' +\n",
       "            '<a target=\"_blank\" href=https://colab.research.google.com/notebooks/data_table.ipynb>data table notebook</a>'\n",
       "            + ' to learn more about interactive tables.';\n",
       "          element.innerHTML = '';\n",
       "          dataTable['output_type'] = 'display_data';\n",
       "          await google.colab.output.renderOutput(dataTable, element);\n",
       "          const docLink = document.createElement('div');\n",
       "          docLink.innerHTML = docLinkHtml;\n",
       "          element.appendChild(docLink);\n",
       "        }\n",
       "      </script>\n",
       "    </div>\n",
       "  </div>\n",
       "  "
      ],
      "text/plain": [
       "         x1         x2         x3         x4        x5        x6        x7\n",
       "0  2.596641  15.263178 -46.289607 -10.993265 -2.266729  1.935832  2.039688\n",
       "1  3.096286  14.784802 -48.175614  -8.799362 -2.220871  1.851201  1.921974\n",
       "2  3.360246  14.774917 -49.471841  -9.030501 -1.760447  1.753114  2.041933\n",
       "3  2.214819  15.027394 -43.200400 -13.565001 -2.643018  2.200463  2.141847\n",
       "4  3.398576  15.115756 -49.416644  -6.857672 -2.025936  1.788085  1.875540"
      ]
     },
     "execution_count": 91,
     "metadata": {},
     "output_type": "execute_result"
    }
   ],
   "source": [
    "#input data frame for dimension reduction..\n",
    "data_KPCA = pd.read_csv('DataKPCA.csv')\n",
    "data_KPCA.head()"
   ]
  },
  {
   "cell_type": "code",
   "execution_count": 127,
   "metadata": {
    "colab": {
     "base_uri": "https://localhost:8080/"
    },
    "id": "STH2TNPr44-k",
    "outputId": "9cf9d436-a355-493b-8290-4592152269d4"
   },
   "outputs": [
    {
     "name": "stdout",
     "output_type": "stream",
     "text": [
      "<class 'pandas.core.frame.DataFrame'>\n",
      "RangeIndex: 190 entries, 0 to 189\n",
      "Data columns (total 7 columns):\n",
      " #   Column  Non-Null Count  Dtype  \n",
      "---  ------  --------------  -----  \n",
      " 0   x1      190 non-null    float64\n",
      " 1   x2      190 non-null    float64\n",
      " 2   x3      190 non-null    float64\n",
      " 3   x4      190 non-null    float64\n",
      " 4   x5      190 non-null    float64\n",
      " 5   x6      190 non-null    float64\n",
      " 6   x7      190 non-null    float64\n",
      "dtypes: float64(7)\n",
      "memory usage: 10.5 KB\n"
     ]
    }
   ],
   "source": [
    "data_KPCA.info()"
   ]
  },
  {
   "cell_type": "markdown",
   "metadata": {
    "id": "1cHGniZEUqPo"
   },
   "source": [
    "**OBSERVATIONS** \\\\\n",
    "\n",
    "\n",
    "1.   The given dataframe has 7 columns(7 dimension) and 190 diffrent observations or datas.\n",
    "2.   No missing values and all datas are floating point.\n",
    "\n"
   ]
  },
  {
   "cell_type": "markdown",
   "metadata": {
    "id": "mkGAKgAA5e4S"
   },
   "source": [
    "**Non-Linear Dimension Reduction** \\\\\n",
    "Using Kernal Principle Component Analysis\n"
   ]
  },
  {
   "cell_type": "code",
   "execution_count": 93,
   "metadata": {
    "colab": {
     "base_uri": "https://localhost:8080/"
    },
    "id": "20_abh29A023",
    "outputId": "adde166f-90b0-444c-93b5-c11d06de7a9f"
   },
   "outputs": [
    {
     "data": {
      "text/plain": [
       "array(['x1', 'x2', 'x3', 'x4', 'x5', 'x6', 'x7'], dtype=object)"
      ]
     },
     "execution_count": 93,
     "metadata": {},
     "output_type": "execute_result"
    }
   ],
   "source": [
    "#Let's see the dimension\n",
    "columns = data_KPCA.columns\n",
    "columns = np.array(columns)\n",
    "columns"
   ]
  },
  {
   "cell_type": "code",
   "execution_count": 94,
   "metadata": {
    "id": "2oZNSzKCBrsW"
   },
   "outputs": [],
   "source": [
    "#Sperate each dimension for plotting the input data\n",
    "x1 = data_KPCA['x1']\n",
    "x1 = np.array(x1)\n",
    "x2 = np.array(data_KPCA['x2'])\n",
    "x3 = np.array(data_KPCA['x3'])\n",
    "x4 = np.array(data_KPCA['x4'])\n",
    "x5 = np.array(data_KPCA['x5'])\n",
    "x6 = np.array(data_KPCA['x6'])\n",
    "x7 = np.array(data_KPCA['x7'])"
   ]
  },
  {
   "cell_type": "code",
   "execution_count": 95,
   "metadata": {
    "colab": {
     "base_uri": "https://localhost:8080/",
     "height": 265
    },
    "id": "-ypMdDOL9Vgj",
    "outputId": "64ff60ed-3781-4f6d-9e38-27bdb6f3a739"
   },
   "outputs": [
    {
     "data": {
      "image/png": "[encoded data removed]",
      "text/plain": [
       "<Figure size 432x288 with 1 Axes>"
      ]
     },
     "metadata": {
      "needs_background": "light"
     },
     "output_type": "display_data"
    }
   ],
   "source": [
    "#Visualize input data\n",
    "#Indivigual dimesions grouped together..Column wise\n",
    "import matplotlib.pyplot as plt\n",
    "plt.scatter(x1,x1,s=10, c='b', marker=\"s\")\n",
    "plt.scatter(x2,x2,s=10, c='r', marker=\"o\")\n",
    "plt.scatter(x3,x3)\n",
    "plt.scatter(x4,x4)\n",
    "plt.scatter(x5,x5)\n",
    "plt.scatter(x6,x6)\n",
    "plt.scatter(x7,x7)\n",
    "plt.legend(labels=['x1','x2','x3','x4','x5','x6','x7'], loc='lower right');"
   ]
  },
  {
   "cell_type": "code",
   "execution_count": 96,
   "metadata": {
    "id": "Lcpi54I3J3Cx"
   },
   "outputs": [],
   "source": [
    "#For training let's use Normalized data values\n",
    "from sklearn.preprocessing import StandardScaler"
   ]
  },
  {
   "cell_type": "code",
   "execution_count": 97,
   "metadata": {
    "colab": {
     "base_uri": "https://localhost:8080/"
    },
    "id": "Uzo4Bwg5KKVu",
    "outputId": "4da35e88-9bf4-4c4d-e96e-eb1eff9bbb9e"
   },
   "outputs": [
    {
     "data": {
      "text/plain": [
       "StandardScaler()"
      ]
     },
     "execution_count": 97,
     "metadata": {},
     "output_type": "execute_result"
    }
   ],
   "source": [
    "scaler = StandardScaler()\n",
    "scaler.fit(data_KPCA)"
   ]
  },
  {
   "cell_type": "code",
   "execution_count": 98,
   "metadata": {
    "id": "I-UtDoK0KmgW"
   },
   "outputs": [],
   "source": [
    "#Transform the orginal data to normalized\n",
    "normal_data_KPCA = scaler.transform(data_KPCA)"
   ]
  },
  {
   "cell_type": "code",
   "execution_count": 99,
   "metadata": {
    "id": "_105rrZaFqTJ"
   },
   "outputs": [],
   "source": [
    "#Train KPCA for 2 dimension\n",
    "from sklearn.decomposition import KernelPCA\n",
    "kpca = KernelPCA(n_components=2,kernel = 'rbf')"
   ]
  },
  {
   "cell_type": "code",
   "execution_count": 100,
   "metadata": {
    "id": "Gx3Y7PZ-OWF4"
   },
   "outputs": [],
   "source": [
    "#Fit the model to our input scaled data\n",
    "X_fit = kpca.fit_transform(normal_data_KPCA)"
   ]
  },
  {
   "cell_type": "code",
   "execution_count": 101,
   "metadata": {
    "colab": {
     "base_uri": "https://localhost:8080/"
    },
    "id": "3c8i_mXl2lCr",
    "outputId": "abdfff56-c555-460e-f1ef-57b65f2cd9bb"
   },
   "outputs": [
    {
     "data": {
      "text/plain": [
       "(190, 2)"
      ]
     },
     "execution_count": 101,
     "metadata": {},
     "output_type": "execute_result"
    }
   ],
   "source": [
    "#Data in Reduced dimesion\n",
    "X_fit.shape"
   ]
  },
  {
   "cell_type": "markdown",
   "metadata": {
    "id": "F4rAQGo_M851"
   },
   "source": [
    "**EXPLAINED VARIANCE for 2D** "
   ]
  },
  {
   "cell_type": "code",
   "execution_count": 104,
   "metadata": {
    "colab": {
     "base_uri": "https://localhost:8080/"
    },
    "id": "YIGqL1SfLQ7o",
    "outputId": "e0a8fdf8-828c-4c76-9a8f-847209e5a9ce"
   },
   "outputs": [
    {
     "data": {
      "text/plain": [
       "array([0.14807904, 0.10631211])"
      ]
     },
     "execution_count": 104,
     "metadata": {},
     "output_type": "execute_result"
    }
   ],
   "source": [
    "#To get the explained variance for 2-D\n",
    "expl_var_kpca = np.var(X_fit, axis=0)\n",
    "expl_var_kpca"
   ]
  },
  {
   "cell_type": "code",
   "execution_count": 108,
   "metadata": {
    "colab": {
     "base_uri": "https://localhost:8080/",
     "height": 297
    },
    "id": "4uti7pUOQQba",
    "outputId": "2e925ab4-8437-4d4d-dd56-073c43ea9c20"
   },
   "outputs": [
    {
     "data": {
      "text/plain": [
       "Text(0, 0.5, 'Explained Variance')"
      ]
     },
     "execution_count": 108,
     "metadata": {},
     "output_type": "execute_result"
    },
    {
     "data": {
      "image/png": "[encoded data removed]",
      "text/plain": [
       "<Figure size 432x288 with 1 Axes>"
      ]
     },
     "metadata": {
      "needs_background": "light"
     },
     "output_type": "display_data"
    }
   ],
   "source": [
    "plt.plot(np.cumsum(expl_var_kpca))\n",
    "plt.xlabel(\"Dimension\")\n",
    "plt.ylabel(\"Explained Variance\")"
   ]
  },
  {
   "cell_type": "code",
   "execution_count": 112,
   "metadata": {
    "id": "6xI0meZ5RKom"
   },
   "outputs": [],
   "source": [
    "#Let's check for 3D\n",
    "kpca3 = KernelPCA(n_components=3,kernel = 'rbf')\n",
    "X_fit3 = kpca3.fit_transform(normal_data_KPCA)"
   ]
  },
  {
   "cell_type": "code",
   "execution_count": 125,
   "metadata": {
    "colab": {
     "base_uri": "https://localhost:8080/"
    },
    "id": "jIDaBMT4Rc6C",
    "outputId": "4ea3acd5-1957-4fab-93d3-dfa0ba01d177"
   },
   "outputs": [
    {
     "data": {
      "text/plain": [
       "array([ 0.00538125, -0.23512604, -0.48585489])"
      ]
     },
     "execution_count": 125,
     "metadata": {},
     "output_type": "execute_result"
    }
   ],
   "source": [
    "X_fit3[1] #Only interested with dimension of data \n",
    "#So that's why printed first element."
   ]
  },
  {
   "cell_type": "code",
   "execution_count": 116,
   "metadata": {
    "colab": {
     "base_uri": "https://localhost:8080/"
    },
    "id": "oR2yZ_bdRmsy",
    "outputId": "48459c12-0ea8-4b32-82a1-ea2b9ba2e7fc"
   },
   "outputs": [
    {
     "data": {
      "text/plain": [
       "array([0.14807904, 0.10631211, 0.09957545])"
      ]
     },
     "execution_count": 116,
     "metadata": {},
     "output_type": "execute_result"
    }
   ],
   "source": [
    "#To get the explained variance for 3-D\n",
    "expl_var_kpca3 = np.var(X_fit3, axis=0)\n",
    "expl_var_kpca3"
   ]
  },
  {
   "cell_type": "code",
   "execution_count": 118,
   "metadata": {
    "colab": {
     "base_uri": "https://localhost:8080/",
     "height": 297
    },
    "id": "XQse5OpvR0OM",
    "outputId": "def61e6f-2d78-4522-9aa3-86ff713cfb05"
   },
   "outputs": [
    {
     "data": {
      "text/plain": [
       "Text(0, 0.5, 'Explained Variance')"
      ]
     },
     "execution_count": 118,
     "metadata": {},
     "output_type": "execute_result"
    },
    {
     "data": {
      "image/png": "[encoded data removed]",
      "text/plain": [
       "<Figure size 432x288 with 1 Axes>"
      ]
     },
     "metadata": {
      "needs_background": "light"
     },
     "output_type": "display_data"
    }
   ],
   "source": [
    "#To plot the explained variance...\n",
    "plt.plot(np.cumsum(expl_var_kpca3))\n",
    "plt.xlabel(\"Dimension\")\n",
    "plt.ylabel(\"Explained Variance\")"
   ]
  },
  {
   "cell_type": "markdown",
   "metadata": {
    "id": "TO8TzkcjTkSD"
   },
   "source": [
    "**10-D KPCA**"
   ]
  },
  {
   "cell_type": "code",
   "execution_count": 120,
   "metadata": {
    "id": "cBojexjlSBvx"
   },
   "outputs": [],
   "source": [
    "#Let's check for 10d\n",
    "kpca10 = KernelPCA(n_components=10,kernel = 'rbf')\n",
    "X_fit10 = kpca10.fit_transform(normal_data_KPCA)"
   ]
  },
  {
   "cell_type": "code",
   "execution_count": 122,
   "metadata": {
    "colab": {
     "base_uri": "https://localhost:8080/"
    },
    "id": "cGxT5-ZsSMRE",
    "outputId": "890074fe-1756-45fa-8450-42e9339ac05d"
   },
   "outputs": [
    {
     "data": {
      "text/plain": [
       "array([ 0.00538125, -0.23512604, -0.48585489, -0.05894817,  0.0226161 ,\n",
       "        0.04262842,  0.0304442 ,  0.04481696,  0.0971946 , -0.01597777])"
      ]
     },
     "execution_count": 122,
     "metadata": {},
     "output_type": "execute_result"
    }
   ],
   "source": [
    "X_fit10[1] #Let's see the first data else it will messy.."
   ]
  },
  {
   "cell_type": "code",
   "execution_count": 123,
   "metadata": {
    "colab": {
     "base_uri": "https://localhost:8080/"
    },
    "id": "uchvCWBzSkVd",
    "outputId": "d63e8267-96bb-4bd3-c999-8a014936ba6e"
   },
   "outputs": [
    {
     "data": {
      "text/plain": [
       "array([0.14807904, 0.10631211, 0.09957545, 0.04579814, 0.04268317,\n",
       "       0.03428645, 0.02913138, 0.02046354, 0.01659669, 0.01434459])"
      ]
     },
     "execution_count": 123,
     "metadata": {},
     "output_type": "execute_result"
    }
   ],
   "source": [
    "expl_var_kpca10 = np.var(X_fit10, axis=0)\n",
    "expl_var_kpca10"
   ]
  },
  {
   "cell_type": "code",
   "execution_count": 124,
   "metadata": {
    "colab": {
     "base_uri": "https://localhost:8080/",
     "height": 297
    },
    "id": "htKurnqRSrrk",
    "outputId": "528c70a1-7757-4fb4-aa6f-0ee76ff525db"
   },
   "outputs": [
    {
     "data": {
      "text/plain": [
       "Text(0, 0.5, 'Explained Variance')"
      ]
     },
     "execution_count": 124,
     "metadata": {},
     "output_type": "execute_result"
    },
    {
     "data": {
      "image/png": "[encoded data removed]",
      "text/plain": [
       "<Figure size 432x288 with 1 Axes>"
      ]
     },
     "metadata": {
      "needs_background": "light"
     },
     "output_type": "display_data"
    }
   ],
   "source": [
    "plt.plot(np.cumsum(expl_var_kpca10))\n",
    "plt.xlabel(\"Dimension\")\n",
    "plt.ylabel(\"Explained Variance\")"
   ]
  },
  {
   "cell_type": "markdown",
   "metadata": {
    "id": "yw9TiiCtUBz7"
   },
   "source": [
    "**CONCLUSIONS** \\\\\n",
    "\n",
    "\n",
    "*   As we increase the dimension of KPCA explained variance increses\n",
    "*   Variance is slightly above 50% even in 10 dimension\n",
    "\n",
    "*   In array the indexing starts with zero that's why its started from 0th dimension and ends at 9th dimension.\n",
    "*   Explained variance not yet saturated..\n",
    "\n",
    "\n",
    "\n"
   ]
  },
  {
   "cell_type": "markdown",
   "metadata": {
    "id": "1-Cm83X_WDA9"
   },
   "source": [
    "**References** \\\\\n",
    "[1]$\\,\\,\\,\\,\\,\\,$[Dimesion reduction on KPCA from sklearn](https://scikit-learn.org/stable/modules/generated/sklearn.decomposition.KernelPCA.html#sklearn.decomposition.KernelPCA) \\\\\n",
    "[2]$\\,\\,\\,\\,\\,\\,$[Explained Variance Concepts](https://vitalflux.com/pca-explained-variance-concept-python-example/) \\\\\n",
    "[3]$\\,\\,\\,\\,\\,\\,$[scikit-learn kernel PCA explained variance](https://stackoverflow.com/questions/29611842/scikit-learn-kernel-pca-explained-variance) \\\\\n",
    "[4]$\\,\\,\\,\\,\\,\\,$Aurélien Géron, Hands-on Machine Learning with\n",
    "Scikit-Learn, Keras, and \n",
    "Tensor Flow,  *from page no 222*\n",
    "\n"
   ]
  }
 ],
 "metadata": {
  "colab": {
   "name": "213230012_<4>.ipynb",
   "provenance": []
  },
  "kernelspec": {
   "display_name": "Python 3 (ipykernel)",
   "language": "python",
   "name": "python3"
  },
  "language_info": {
   "codemirror_mode": {
    "name": "ipython",
    "version": 3
   },
   "file_extension": ".py",
   "mimetype": "text/x-python",
   "name": "python",
   "nbconvert_exporter": "python",
   "pygments_lexer": "ipython3",
   "version": "3.9.7"
  }
 },
 "nbformat": 4,
 "nbformat_minor": 1
}
