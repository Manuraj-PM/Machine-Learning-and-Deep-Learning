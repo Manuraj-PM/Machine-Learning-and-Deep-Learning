{
  "cells": [
    {
      "cell_type": "markdown",
      "metadata": {
        "deletable": false,
        "editable": false,
        "nbgrader": {
          "cell_type": "markdown",
          "checksum": "2a747369b91572b4ada4e32643e31bca",
          "grade": false,
          "grade_id": "Title",
          "locked": true,
          "schema_version": 3,
          "solution": false,
          "task": false
        },
        "id": "axXMBtXk0HVU"
      },
      "source": [
        "#**EE769 Introduction to Machine Learning**\n",
        "\n",
        "#Assignment 1: Gradient Descent, Linear Regression, and Regularization\n",
        "\n",
        "\n",
        "**Template and Instructions**\n",
        "\n",
        "\n",
        "\n",
        "1. Up to two people can team up, but only one should submit, and both should understand the entire code.\n",
        "2. Every line of code should end in a comment explaining the line\n",
        "3. It is recommended to solve the assignment in Google Colab.\n",
        "Write your roll no.s separated by commas here: 213074005, 213230012\n",
        "4. Write your names here: Mihir Chandrahas Jog, Manuraj P M\n",
        "5. There are two parts to the assignment. In the Part 1, the code format has to be strictly followed to enable auto-grading. In the second part, you can be creative.\n",
        "6. **You can discuss with other groups or refer to the internet without being penalized, but you cannot copy their code and modify it. Write every line of code and comment on your own.**"
      ]
    },
    {
      "cell_type": "markdown",
      "metadata": {
        "deletable": false,
        "editable": false,
        "nbgrader": {
          "cell_type": "markdown",
          "checksum": "cae69541658b406d495bcffe0b7c0932",
          "grade": false,
          "grade_id": "cell-aa1aa8c8181f8810",
          "locked": true,
          "schema_version": 3,
          "solution": false,
          "task": false
        },
        "id": "VEQq-0g60HVc"
      },
      "source": [
        "#**Part 1 begins ...**\n",
        "**Instructions to be strictly followed:**\n",
        "\n",
        "1. Do not add any code cells or markdown cells until the end of this part. Especially, do not change the blocks that say \"TEST CASES, DO NOT CHANGE\"\n",
        "2. In all other cells only add code where it says \"CODE HERE\".\n",
        "3. If you encounter any raise NotImplementedError() calls you may comment them out.\n",
        "\n",
        "We cannot ensure correct grading if you change anything else, and you may be penalised for not following these instructions."
      ]
    },
    {
      "cell_type": "markdown",
      "metadata": {
        "deletable": false,
        "editable": false,
        "nbgrader": {
          "cell_type": "markdown",
          "checksum": "0ecbf8e96219ab11b7716eaae61cb7f9",
          "grade": false,
          "grade_id": "cell-1e940101f37c7af2",
          "locked": true,
          "schema_version": 3,
          "solution": false,
          "task": false
        },
        "id": "LHCocuw70HVd"
      },
      "source": [
        "## Import Statements"
      ]
    },
    {
      "cell_type": "code",
      "execution_count": 1,
      "metadata": {
        "deletable": false,
        "editable": false,
        "nbgrader": {
          "cell_type": "code",
          "checksum": "fe70877a859ee0a10e9d591778022f8a",
          "grade": false,
          "grade_id": "Import_Statements",
          "locked": true,
          "schema_version": 3,
          "solution": false,
          "task": false
        },
        "id": "PK4BOgaV0HVe"
      },
      "outputs": [],
      "source": [
        "import numpy as np\n",
        "import pandas as pd\n",
        "from matplotlib import pyplot as plt\n"
      ]
    },
    {
      "cell_type": "markdown",
      "metadata": {
        "deletable": false,
        "editable": false,
        "nbgrader": {
          "cell_type": "markdown",
          "checksum": "e36a214573fc40f26b45e72215d61375",
          "grade": false,
          "grade_id": "Normalize_Title",
          "locked": true,
          "schema_version": 3,
          "solution": false,
          "task": false
        },
        "id": "ranIujOw0HVf"
      },
      "source": [
        "## Normalize function \n",
        "\n"
      ]
    },
    {
      "cell_type": "code",
      "execution_count": 2,
      "metadata": {
        "deletable": false,
        "nbgrader": {
          "cell_type": "code",
          "checksum": "42293dda356d746ac19e9b6d81106261",
          "grade": false,
          "grade_id": "Normalize_Function",
          "locked": false,
          "schema_version": 3,
          "solution": true,
          "task": false
        },
        "id": "c6B3UcLu0HVg"
      },
      "outputs": [],
      "source": [
        "def Normalize(X): # Output should be a normalized data matrix of the same dimension\n",
        "    '''\n",
        "    Normalize all columns of X using mean and standard deviation\n",
        "    '''\n",
        "    # YOUR CODE HERE\n",
        "    X = np.array(X)\n",
        "    mean_column = X.mean(axis=0) #Mean in column wise of matrix X by applying axis=0\n",
        "    std_devi_column = X.std(axis=0) #column wise standard deviation of matrix x by applying axis=0\n",
        "    result_matrix = (X-mean_column)/std_devi_column #Normalize matrix is given by each element is substracted by mean and divided by standard deviation\n",
        "    return result_matrix                            #Now return the result matrix \n",
        "    raise NotImplementedError()"
      ]
    },
    {
      "cell_type": "code",
      "execution_count": 3,
      "metadata": {
        "deletable": false,
        "editable": false,
        "nbgrader": {
          "cell_type": "code",
          "checksum": "7797dd606a68f028c945acd08850d108",
          "grade": true,
          "grade_id": "Normalize_Test",
          "locked": true,
          "points": 5,
          "schema_version": 3,
          "solution": false,
          "task": false
        },
        "id": "IchnZpzY0HVh"
      },
      "outputs": [],
      "source": [
        "'''\n",
        "TEST CASES, DO NOT CHANGE\n",
        "'''\n",
        "''' case 1 - 1 dimensional array'''\n",
        "#X=np.array([[1,2,3],[3,4,5],[7,8,9]])\n",
        "X1=np.array([1,2,3])\n",
        "np.testing.assert_array_almost_equal(Normalize(X1),np.array([-1.224,  0.      ,  1.224]),decimal=3)\n",
        "''' case 2 - 2 dimensional array'''\n",
        "X2=np.array([[4,7,6],[3,8,9],[5,11,10]])\n",
        "np.testing.assert_array_almost_equal(Normalize(X2),np.array([[ 0.  , -0.980581, -1.372813],[-1.224745, -0.392232,  0.392232],[ 1.224745,  1.372813,  0.980581]]))\n",
        "''' case 3 - 1 dimensional array with float'''\n",
        "X3=np.array([5.5,6.7,3.2,6.7])\n",
        "np.testing.assert_array_almost_equal(Normalize(X3),np.array([-0.017,  0.822, -1.627,  0.822]),decimal=3)"
      ]
    },
    {
      "cell_type": "markdown",
      "metadata": {
        "deletable": false,
        "editable": false,
        "nbgrader": {
          "cell_type": "markdown",
          "checksum": "63ee774a26a0438a0b2f5ec298eac80e",
          "grade": false,
          "grade_id": "cell-66ab98f84d3c58fa",
          "locked": true,
          "schema_version": 3,
          "solution": false,
          "task": false
        },
        "id": "dwVu2BGD0HVi"
      },
      "source": [
        "## Prediction Function\n",
        "\n",
        "Given X and w, compute the predicted output. Do not forget to add 1's in X"
      ]
    },
    {
      "cell_type": "code",
      "execution_count": 4,
      "metadata": {
        "deletable": false,
        "nbgrader": {
          "cell_type": "code",
          "checksum": "5976e32bd96bc4bdc2b2efd61e98441c",
          "grade": false,
          "grade_id": "Prediction",
          "locked": false,
          "schema_version": 3,
          "solution": true,
          "task": false
        },
        "id": "hQwLtlyd0HVj"
      },
      "outputs": [],
      "source": [
        "def Prediction (X, w): # Output should be a prediction vector y\n",
        "    '''\n",
        "    Compute Prediction given an input datamatrix X and weight vecor w. Output y = [X 1]w where 1 is a vector of all 1s \n",
        "    '''\n",
        "    # YOUR CODE HERE\n",
        "    one_dim = w.shape[0]-X.shape[1] #Dimesion of one matrix is diference b/w coloumns of w and rows of X\n",
        "    b = np.ones([X.shape[0],one_dim]) # Define extra column for X as b as t\n",
        "    h = np.column_stack((X,b)) #[X 1] augumented matrix by stacking X column wise to 1\n",
        "    y = h.dot(np.transpose(w)) #Now the y will be matrix multipication of augumented matrix with transpose of w\n",
        "    return y #Let us return the result matrix y\n",
        "    raise NotImplementedError()\n"
      ]
    },
    {
      "cell_type": "code",
      "execution_count": 5,
      "metadata": {
        "deletable": false,
        "editable": false,
        "nbgrader": {
          "cell_type": "code",
          "checksum": "741f088432fb2ac3c49d3c9711d5c9c5",
          "grade": true,
          "grade_id": "PredictionTest",
          "locked": true,
          "points": 5,
          "schema_version": 3,
          "solution": false,
          "task": false
        },
        "id": "W4vL6J6U0HVk"
      },
      "outputs": [],
      "source": [
        "'''\n",
        "TEST CASES, DO NOT CHANGE\n",
        "'''\n",
        "''' case 1 - Known input output matrix and weights 1'''\n",
        "X1 = np.array([[3,2],[1,1]])\n",
        "w1 = np.array([2,1,1]) \n",
        "np.testing.assert_array_equal(Prediction(X1,w1),np.array([9,4]))\n"
      ]
    },
    {
      "cell_type": "markdown",
      "metadata": {
        "deletable": false,
        "editable": false,
        "nbgrader": {
          "cell_type": "markdown",
          "checksum": "227f6e0da2f8c6d631599c44041e3b65",
          "grade": false,
          "grade_id": "cell-6fda2832d5967072",
          "locked": true,
          "schema_version": 3,
          "solution": false,
          "task": false
        },
        "id": "Q-qj_E990HVm"
      },
      "source": [
        "## Loss Functions\n",
        "\n",
        "Code the four  loss functions:\n",
        "\n",
        "1. MSE loss is only for the error\n",
        "2. MAE loss is only for the error\n",
        "3. L2 loss is for MSE and L2 regularization, and can call MSE loss\n",
        "4. L1 loss is for MSE and L1 regularization, and can call MSE loss"
      ]
    },
    {
      "cell_type": "code",
      "execution_count": 6,
      "metadata": {
        "deletable": false,
        "nbgrader": {
          "cell_type": "code",
          "checksum": "2c3e17b8559f0dfdfecdc8d242aba152",
          "grade": false,
          "grade_id": "MSE_Loss",
          "locked": false,
          "schema_version": 3,
          "solution": true,
          "task": false
        },
        "id": "3UPJv9Zc0HVn"
      },
      "outputs": [],
      "source": [
        "def MSE_Loss (X, t, w, lamda =0): # Ouput should be a single number\n",
        "    '''\n",
        "    lamda=0 is a default argument to prevent errors if you pass lamda to a function that doesn't need it by mistake. \n",
        "    This allows us to call all loss functions with the same input format.\n",
        "    \n",
        "    You are encouraged read about default arguments by yourself online if you're not familiar.\n",
        "    '''\n",
        "    # YOUR CODE HERE\n",
        "    X = np.array(X)\n",
        "    one_dim = w.shape[0]-X.shape[1] #Dimesion of one matrix is diference b/w coloumns of w and rows of X\n",
        "    b = np.ones([X.shape[0],one_dim]) # Define extra column for X as b as t\n",
        "    h = np.column_stack((X,b)) #[X 1] augumented matrix by stacking X column wise to 1\n",
        "    y = h.dot(np.transpose(w)) #Now the y will be matrix multipication of augumented matrix with transpose of w\n",
        "    squre_error = (t-y)**2      #squred error matrix\n",
        "    mean_of_error = squre_error.mean() #Expected value of the error is same as mean \n",
        "    return mean_of_error            #return the Expected value\n",
        "    raise NotImplementedError()"
      ]
    },
    {
      "cell_type": "code",
      "execution_count": 7,
      "metadata": {
        "deletable": false,
        "editable": false,
        "nbgrader": {
          "cell_type": "code",
          "checksum": "923a1372a401b41d6ef6b0749a49ff66",
          "grade": true,
          "grade_id": "MSE_Loss_Test",
          "locked": true,
          "points": 2,
          "schema_version": 3,
          "solution": false,
          "task": false
        },
        "id": "-bZS7hFE0HVo"
      },
      "outputs": [],
      "source": [
        "'''\n",
        "TEST CASES, DO NOT CHANGE\n",
        "'''\n",
        "''' case 1 '''\n",
        "X=np.array([[3,6,5],[4.5,6.6,6]])\n",
        "t=np.array([4,5.5])\n",
        "w=np.array([2,-1,0.5,1])\n",
        "np.testing.assert_almost_equal(MSE_Loss(X,t,w),0.53,decimal=3)\n"
      ]
    },
    {
      "cell_type": "code",
      "execution_count": 8,
      "metadata": {
        "deletable": false,
        "nbgrader": {
          "cell_type": "code",
          "checksum": "b0b3b381c7a3ac5d7dfbb5df647c0d85",
          "grade": false,
          "grade_id": "MAE_Loss",
          "locked": false,
          "schema_version": 3,
          "solution": true,
          "task": false
        },
        "id": "tL4RGhUA0HVp"
      },
      "outputs": [],
      "source": [
        "def MAE_Loss (X, t, w, lamda = 0): # Output should be a single number\n",
        "    # YOUR CODE HERE\n",
        "    one_dim = w.shape[0]-X.shape[1] #Dimesion of one matrix is diference b/w rows of w and columns of X\n",
        "    b = np.ones([X.shape[0],one_dim]) # Define extra column for X as b as t\n",
        "    h = np.column_stack((X,b)) #[X 1] augumented matrix by stacking X column wise to 1\n",
        "    y = h.dot(np.transpose(w)) #Now the y will be matrix multipication of augumented matrix with transpose of w\n",
        "    error_mat = t-y                 #error matrix given by t-y\n",
        "    abs_error = np.absolute(error_mat) #Absolute value of the error matrix \n",
        "    mean_of_error = abs_error.mean() #Expected value of the error\n",
        "    return mean_of_error            #return the Expected value\n",
        "    raise NotImplementedError()"
      ]
    },
    {
      "cell_type": "code",
      "execution_count": 9,
      "metadata": {
        "deletable": false,
        "editable": false,
        "nbgrader": {
          "cell_type": "code",
          "checksum": "f11d5fde7220893a9809f2954d18c5e5",
          "grade": true,
          "grade_id": "MAE_Loss_Test",
          "locked": true,
          "points": 2,
          "schema_version": 3,
          "solution": false,
          "task": false
        },
        "id": "XO7OCEAQ0HVp"
      },
      "outputs": [],
      "source": [
        "'''\n",
        "TEST CASES, DO NOT CHANGE\n",
        "'''\n",
        "''' case 1 '''\n",
        "X=np.array([[3,6,5],[4.5,6.6,6]])\n",
        "t=np.array([4,5.5])\n",
        "w=np.array([2,-1,0.5,1])\n",
        "np.testing.assert_almost_equal(MAE_Loss(X,t,w),0.700,decimal=3)\n"
      ]
    },
    {
      "cell_type": "code",
      "execution_count": 10,
      "metadata": {
        "deletable": false,
        "nbgrader": {
          "cell_type": "code",
          "checksum": "a8309762ea56bb6b24bbbf4a19cb16bc",
          "grade": false,
          "grade_id": "L2_Loss",
          "locked": false,
          "schema_version": 3,
          "solution": true,
          "task": false
        },
        "id": "4rt4AlvV0HVq"
      },
      "outputs": [],
      "source": [
        "def L2_Loss (X, t, w, lamda): # Output should be a single number based on L2-norm (with sqrt)\n",
        "    ''' Need to specify what inputs are'''\n",
        "    # YOUR CODE HERE\n",
        "    h = MSE_Loss (X, t, w, lamda) #MSE for the vectors\n",
        "    bias = w.shape[0]-X.shape[1] #Find number of bias term\n",
        "    w[-bias:] =0                    #Bias terms in to zero\n",
        "    return h+ lamda*np.sqrt((w**2).sum(axis=0))#Return L2 loss         \n",
        "    raise NotImplementedError()"
      ]
    },
    {
      "cell_type": "code",
      "execution_count": 11,
      "metadata": {
        "deletable": false,
        "editable": false,
        "nbgrader": {
          "cell_type": "code",
          "checksum": "a5a409056f6797cdf8cbfab61b138c37",
          "grade": true,
          "grade_id": "L2_Loss_Test",
          "locked": true,
          "points": 2,
          "schema_version": 3,
          "solution": false,
          "task": false
        },
        "id": "rzUcu4DM0HVr"
      },
      "outputs": [],
      "source": [
        "'''\n",
        "TEST CASES, DO NOT CHANGE\n",
        "'''\n",
        "''' case 1 '''\n",
        "X=np.array([[3,6,5],[4.5,6.6,6]])\n",
        "t=np.array([4,5.5])\n",
        "w=np.array([2,-1,0.5,1])\n",
        "np.testing.assert_almost_equal(L2_Loss(X,t,w,0.5),1.675,decimal=3)\n"
      ]
    },
    {
      "cell_type": "code",
      "execution_count": 12,
      "metadata": {
        "deletable": false,
        "nbgrader": {
          "cell_type": "code",
          "checksum": "1af69c123815524cdc71c72e09ece638",
          "grade": false,
          "grade_id": "L1_Loss",
          "locked": false,
          "schema_version": 3,
          "solution": true,
          "task": false
        },
        "id": "HYAPnohD0HVr"
      },
      "outputs": [],
      "source": [
        "def L1_Loss (X, t, w, lamda): # Output should be a single number\n",
        "    # YOUR CODE HERE\n",
        "    h= MSE_Loss (X, t, w, lamda)\n",
        "    bias = w.shape[0]-X.shape[1] #Find number of bias term\n",
        "    w[-bias:] = 0                 #Bias terms in to zero\n",
        "    return h +np.absolute(w).sum(axis=0)*lamda\n",
        "    raise NotImplementedError()"
      ]
    },
    {
      "cell_type": "code",
      "execution_count": 13,
      "metadata": {
        "deletable": false,
        "editable": false,
        "nbgrader": {
          "cell_type": "code",
          "checksum": "40224dd69dd8e6499a67271c33701bf4",
          "grade": true,
          "grade_id": "L1_Loss_Test",
          "locked": true,
          "points": 2,
          "schema_version": 3,
          "solution": false,
          "task": false
        },
        "id": "Msg9kmpL0HVs"
      },
      "outputs": [],
      "source": [
        "'''\n",
        "TEST CASES, DO NOT CHANGE\n",
        "'''\n",
        "''' case 1 '''\n",
        "X=np.array([[3,6,5],[4.5,6.6,6]])\n",
        "t=np.array([4,5.5])\n",
        "w=np.array([2,-1,0.5,1])\n",
        "np.testing.assert_almost_equal(L1_Loss(X,t,w,0.5),2.280,decimal=3)\n"
      ]
    },
    {
      "cell_type": "code",
      "execution_count": 14,
      "metadata": {
        "deletable": false,
        "nbgrader": {
          "cell_type": "code",
          "checksum": "855bd2ded492e567b20f1d9705d9a97a",
          "grade": false,
          "grade_id": "NRMSE_Metric",
          "locked": false,
          "schema_version": 3,
          "solution": true,
          "task": false
        },
        "id": "BhHso71s0HVs"
      },
      "outputs": [],
      "source": [
        "def NRMSE_Metric (X, t, w, lamda=0): # Output should be a single number. RMSE/std_dev(t)\n",
        "    # YOUR CODE HERE\n",
        "    std_t = t.std(axis=0)                           #standard deviation along t matrix\n",
        "    return np.sqrt(MSE_Loss(X, t, w, lamda=0))/std_t # normalizing root of MSE_loss\n",
        "    raise NotImplementedError()"
      ]
    },
    {
      "cell_type": "code",
      "execution_count": 15,
      "metadata": {
        "deletable": false,
        "editable": false,
        "nbgrader": {
          "cell_type": "code",
          "checksum": "256795799ceb6dfa0b32ab75e8ef30c4",
          "grade": true,
          "grade_id": "NRMSE_Metric_Test",
          "locked": true,
          "points": 2,
          "schema_version": 3,
          "solution": false,
          "task": false
        },
        "id": "F-ZukpOX0HVs"
      },
      "outputs": [],
      "source": [
        "'''\n",
        "TEST CASES, DO NOT CHANGE\n",
        "'''\n",
        "''' Test case 1 '''\n",
        "X=np.array([[3,6,5],[4.5,6.6,6]])\n",
        "t=np.array([4,5.5])\n",
        "w=np.array([2,-1,0.5,1])\n",
        "np.testing.assert_almost_equal(NRMSE_Metric(X,t,w,0.5),0.970,decimal=3)\n"
      ]
    },
    {
      "cell_type": "markdown",
      "metadata": {
        "deletable": false,
        "editable": false,
        "nbgrader": {
          "cell_type": "markdown",
          "checksum": "cc5df30e29bbe17d4bc7aa89210eb5cf",
          "grade": false,
          "grade_id": "Gradient_Title",
          "locked": true,
          "schema_version": 3,
          "solution": false,
          "task": false
        },
        "id": "mi9fsbb60HVt"
      },
      "source": [
        "## Gradient function\n",
        "Each Loss function will have its own gradient function:\n",
        "\n",
        "1. MSE gradient is only for the error\n",
        "2. MAE gradient is only for the error\n",
        "3. L2 gradient is for MSE and L2 regularization, and can call MSE gradient\n",
        "4. L1 gradient is for MSE and L1 regularization, and can call MSE gradient"
      ]
    },
    {
      "cell_type": "code",
      "execution_count": 16,
      "metadata": {
        "deletable": false,
        "nbgrader": {
          "cell_type": "code",
          "checksum": "0190492ee216edce701f93e697572fc1",
          "grade": false,
          "grade_id": "MSE_Gradient",
          "locked": false,
          "schema_version": 3,
          "solution": true,
          "task": false
        },
        "id": "aOSaDff80HVt"
      },
      "outputs": [],
      "source": [
        "def MSE_Gradient (X, t, w, lamda=0): # Output should have the same size as w\n",
        "    # YOUR CODE HERE\n",
        "    first_part = 2*(t- Prediction (X, w))/t.shape[0]# To find the 2/N(t_i-wx_i) part\n",
        "    one_dim = w.shape[0]-X.shape[1] #Dimesion of one matrix is diference b/w coloumns of w and rows of X\n",
        "    b = np.ones([X.shape[0],one_dim]) # Define extra column for X as b as t\n",
        "    h = np.column_stack((X,b)) #[X 1] augumented matrix by stacking X column wise to 1\n",
        "    full = np.array(first_part).dot(-h) # Multiplying first part with -[X 1]\n",
        "    return full #return the full part\n",
        "    raise NotImplementedError()"
      ]
    },
    {
      "cell_type": "code",
      "execution_count": 17,
      "metadata": {
        "deletable": false,
        "editable": false,
        "nbgrader": {
          "cell_type": "code",
          "checksum": "d61466927592a8776a8bfa688472bad4",
          "grade": true,
          "grade_id": "MSE_Gradient_Test",
          "locked": true,
          "points": 3,
          "schema_version": 3,
          "solution": false,
          "task": false
        },
        "id": "tYU6UgDO0HVt"
      },
      "outputs": [],
      "source": [
        "'''\n",
        "TEST CASES, DO NOT CHANGE\n",
        "'''\n",
        "''' case 1 '''\n",
        "X=np.array([[3,6,5],[4.5,6.6,6]])\n",
        "t=np.array([4,5.5])\n",
        "w=np.array([2,-1,0.5,1])\n",
        "np.testing.assert_array_almost_equal(MSE_Gradient(X,t,w),np.array([2.55, 2.94, 2.9 , 0.4 ]),decimal=3)\n"
      ]
    },
    {
      "cell_type": "code",
      "execution_count": 18,
      "metadata": {
        "deletable": false,
        "nbgrader": {
          "cell_type": "code",
          "checksum": "49cc4e37cafad52f41853b4b0e71f89f",
          "grade": false,
          "grade_id": "MAE_Gradient",
          "locked": false,
          "schema_version": 3,
          "solution": true,
          "task": false
        },
        "id": "MJmIll8b0HVu"
      },
      "outputs": [],
      "source": [
        "from numpy.core.fromnumeric import transpose\n",
        "def MAE_Gradient (X, t, w, lamda=0): # Output should have the same size as w\n",
        "    # YOUR CODE HERE\n",
        "    y = Prediction (X, w)#Prediction of given problem\n",
        "    k = np.sign(t-y)/t.shape[0] #Modulus term i.e, sign of (t-y)/N\n",
        "    one_dim = w.shape[0]-X.shape[1] #Dimesion of one matrix is diference b/w coloumns of w and rows of X\n",
        "    b = np.ones([X.shape[0],one_dim]) # Define extra column for X as b as t\n",
        "    h = np.column_stack((X,b)) #[X 1] augumented matrix by stacking X column wise to 1\n",
        "    result_mat = np.array(k).dot(-h) #multiplying -[X 1]\n",
        "    return result_mat #return the result\n",
        "    raise NotImplementedError()"
      ]
    },
    {
      "cell_type": "code",
      "execution_count": 19,
      "metadata": {
        "deletable": false,
        "editable": false,
        "nbgrader": {
          "cell_type": "code",
          "checksum": "e1d418bf5351112ae8716877f8bb6359",
          "grade": true,
          "grade_id": "MAE_Gradient_Test",
          "locked": true,
          "points": 3,
          "schema_version": 3,
          "solution": false,
          "task": false
        },
        "id": "sw9DmrwF0HVu"
      },
      "outputs": [],
      "source": [
        "'''\n",
        "TEST CASES, DO NOT CHANGE\n",
        "'''\n",
        "''' case 1 '''\n",
        "X=np.array([[3,6,5],[4.5,6.6,6]])\n",
        "t=np.array([4,5.5])\n",
        "w=np.array([2,-1,0.5,1])\n",
        "np.testing.assert_array_almost_equal(MAE_Gradient(X,t,w),np.array([0.75,  0.3 ,  0.5 , 0.]),decimal=3)\n"
      ]
    },
    {
      "cell_type": "code",
      "execution_count": 20,
      "metadata": {
        "deletable": false,
        "nbgrader": {
          "cell_type": "code",
          "checksum": "595829c0dd17df55a03d346fac507b4a",
          "grade": false,
          "grade_id": "L2_Gradient",
          "locked": false,
          "schema_version": 3,
          "solution": true,
          "task": false
        },
        "id": "UvhfKGYs0HVu"
      },
      "outputs": [],
      "source": [
        "def L2_Gradient (X, t, w, lamda): # Output should have the same size as w\n",
        "    # YOUR CODE HERE\n",
        "    mse = MSE_Gradient (X, t, w, lamda) #MSE gradient\n",
        "    bias = w.shape[0]-X.shape[1] #Find number of bias term\n",
        "    w[-bias:] = 0                 #Bias terms in to zero\n",
        "    return mse + lamda*(w)/(np.sqrt((w**2).sum(axis=0))) #Sum of MSE gradient and gradient of L2 norm of w\n",
        "    raise NotImplementedError()"
      ]
    },
    {
      "cell_type": "code",
      "execution_count": 21,
      "metadata": {
        "deletable": false,
        "editable": false,
        "nbgrader": {
          "cell_type": "code",
          "checksum": "f292b42c3389b24e369234a7210b87bb",
          "grade": true,
          "grade_id": "L2_Gradient_Test",
          "locked": true,
          "points": 3,
          "schema_version": 3,
          "solution": false,
          "task": false
        },
        "id": "EdTQ1IcN0HVu"
      },
      "outputs": [],
      "source": [
        "'''\n",
        "TEST CASES, DO NOT CHANGE\n",
        "'''\n",
        "''' case 1 '''\n",
        "X=np.array([[3,6,5],[4.5,6.6,6]])\n",
        "t=np.array([4,5.5])\n",
        "w=np.array([2,-1,0.5,1])\n",
        "np.testing.assert_array_almost_equal(L2_Gradient(X,t,w,0.5),np.array([2.986, 2.721, 3.009 , 0.4 ]),decimal=3)\n"
      ]
    },
    {
      "cell_type": "code",
      "execution_count": 22,
      "metadata": {
        "deletable": false,
        "nbgrader": {
          "cell_type": "code",
          "checksum": "141736f1feda5aa225e008d749f0015c",
          "grade": false,
          "grade_id": "L1_Gradient",
          "locked": false,
          "schema_version": 3,
          "solution": true,
          "task": false
        },
        "id": "Nc_gpDDY0HVu"
      },
      "outputs": [],
      "source": [
        "def L1_Gradient (X, t, w, lamda): # Output should have the same size as w\n",
        "    # YOUR CODE HERE\n",
        "    mse = MSE_Gradient(X,t,w,lamda) #MAE gradient\n",
        "    bias = w.shape[0]-X.shape[1] #Find number of bias term\n",
        "    w[-bias:] = 0                 #Bias terms in to zero\n",
        "    return mse + lamda*np.sign(w)\n",
        "    raise NotImplementedError()"
      ]
    },
    {
      "cell_type": "code",
      "execution_count": 23,
      "metadata": {
        "deletable": false,
        "editable": false,
        "nbgrader": {
          "cell_type": "code",
          "checksum": "9097b61320e470f429a9f46c7da0b219",
          "grade": true,
          "grade_id": "L1_Gradient_Test",
          "locked": true,
          "points": 3,
          "schema_version": 3,
          "solution": false,
          "task": false
        },
        "id": "TXahqyL20HVv"
      },
      "outputs": [],
      "source": [
        "'''\n",
        "TEST CASES, DO NOT CHANGE\n",
        "'''\n",
        "''' case 1 '''\n",
        "X=np.array([[3,6,5],[4.5,6.6,6]])\n",
        "t=np.array([4,5.5])\n",
        "w=np.array([2,-1,0.5,1])\n",
        "np.testing.assert_array_almost_equal(L1_Gradient(X,t,w,0.5),np.array([3.05, 2.44, 3.4 , 0.4 ]),decimal=3)\n"
      ]
    },
    {
      "cell_type": "markdown",
      "metadata": {
        "deletable": false,
        "editable": false,
        "nbgrader": {
          "cell_type": "markdown",
          "checksum": "1980a2f831b5e1ddc9b510c22ef502c7",
          "grade": false,
          "grade_id": "Gradient_Desc_Title",
          "locked": true,
          "schema_version": 3,
          "solution": false,
          "task": false
        },
        "id": "QHsxYSTh0HVv"
      },
      "source": [
        "## Gradient Descent Function\n"
      ]
    },
    {
      "cell_type": "code",
      "execution_count": 24,
      "metadata": {
        "deletable": false,
        "nbgrader": {
          "cell_type": "code",
          "checksum": "78cdd5ffa4590c10e19281722ccd537f",
          "grade": false,
          "grade_id": "Gradient_Descent",
          "locked": false,
          "schema_version": 3,
          "solution": true,
          "task": false
        },
        "id": "OVGwvVIy0HVv"
      },
      "outputs": [],
      "source": [
        "def Gradient_Descent (X, X_val, t, t_val, w, lamda, max_iter, epsilon, lr, lossfunc, gradfunc): # See output format in 'return' statement\n",
        "    # YOUR CODE HERE\n",
        "    for x in range(max_iter):             #iteration in for loop for loop\n",
        "      w = w-(lr*(gradfunc(X,t,w,lamda)))  #Updating w\n",
        "    w_final = w                           #assign final w\n",
        "    train_loss_final = (lossfunc(X,t,w,lamda)) #Training loss\n",
        "    validation_loss_final = (lossfunc(X_val,t_val,w,lamda)) #Validation loss\n",
        "    validation_NRMSE = NRMSE_Metric(X_val,t_val,w)#Validation NRMSE\n",
        "    return w_final, train_loss_final, validation_loss_final, validation_NRMSE #You should return variables structured like this.\n",
        "    raise NotImplementedError()\n",
        "    \n",
        "    "
      ]
    },
    {
      "cell_type": "code",
      "execution_count": 25,
      "metadata": {
        "deletable": false,
        "editable": false,
        "nbgrader": {
          "cell_type": "code",
          "checksum": "15a67336bed20a51f33820bf615186e8",
          "grade": true,
          "grade_id": "Gradient_Check",
          "locked": true,
          "points": 20,
          "schema_version": 3,
          "solution": false,
          "task": false
        },
        "id": "mUpWVdKd0HVv"
      },
      "outputs": [],
      "source": [
        "'''\n",
        "TEST CASES, DO NOT CHANGE\n",
        "'''\n",
        "X=np.array([[23,24],[1,2]])\n",
        "t=np.array([4,5])\n",
        "X_val=np.array([[3,4],[5,6]])\n",
        "t_val=np.array([3,4])\n",
        "w=np.array([3,2,1])\n",
        "results =Gradient_Descent (X, X_val, t, t_val, w, 0.1, 100, 1e-10, 1e-5, L2_Loss,L2_Gradient) \n",
        "np.testing.assert_allclose([results[1]],[697.919],rtol =0.05)\n",
        "np.testing.assert_allclose([results[2]],[20],atol=5) # we expect around 17.5  but some students got 24 which we will also accept\n",
        "#Instructor Values of results[1] and results [2] are 697.919 and 17.512 respectively"
      ]
    },
    {
      "cell_type": "markdown",
      "metadata": {
        "deletable": false,
        "editable": false,
        "nbgrader": {
          "cell_type": "markdown",
          "checksum": "24f327aa6a14590077f907ee8323724c",
          "grade": false,
          "grade_id": "PseudoInvTitle",
          "locked": true,
          "schema_version": 3,
          "solution": false,
          "task": false
        },
        "id": "dqQ_xh730HVv"
      },
      "source": [
        "## Pseudo Inverse Method\n",
        "\n",
        "You have to implement a slightly more advanced version, with L2 penalty:\n",
        "\n",
        "w = (X' X + lambda I)^(-1) X' t.\n",
        "\n",
        "See, for example: Section 2 of https://web.mit.edu/zoya/www/linearRegression.pdf\n",
        "\n",
        "Here, the column of 1's in assumed to be included in X"
      ]
    },
    {
      "cell_type": "code",
      "execution_count": 26,
      "metadata": {
        "deletable": false,
        "nbgrader": {
          "cell_type": "code",
          "checksum": "928c9b105c4bcf3c132c7520a140d509",
          "grade": false,
          "grade_id": "PseudoInv",
          "locked": false,
          "schema_version": 3,
          "solution": true,
          "task": false
        },
        "id": "ltbwfHT_0HVw"
      },
      "outputs": [],
      "source": [
        "def Pseudo_Inverse (X, t, lamda): # Output should be weight vector\n",
        "    # YOUR CODE HERE\n",
        "    X = np.array(X)\n",
        "    t = np.array(t)\n",
        "    clms = 1\n",
        "    b = np.ones([X.shape[0],clms]) # Define extra column for X as b as t\n",
        "    X = np.column_stack((X,b)) #Agument b to X Column wise [X 1]\n",
        "    temp = np.transpose(X).dot(X) #X^TX term\n",
        "    term = (temp + lamda*(np.identity(X.shape[1])))/X.shape[0]#assign (X^TX+lamda*I(N))/N as term\n",
        "    term1 = np.linalg.inv(term)                                #Pesudo inverse\n",
        "    term2 = (np.transpose(X).dot(t))/X.shape[0]                #Second term as X^T*target_value\n",
        "    w = term1.dot(term2)                                       #W = term1*term2\n",
        "    return w                                                   #  Return w\n",
        "    raise NotImplementedError()"
      ]
    },
    {
      "cell_type": "code",
      "execution_count": 27,
      "metadata": {
        "deletable": false,
        "editable": false,
        "nbgrader": {
          "cell_type": "code",
          "checksum": "a5178b8280650ed5d1d55dc6bbb38a29",
          "grade": true,
          "grade_id": "PseudoInvTest",
          "locked": true,
          "points": 10,
          "schema_version": 3,
          "solution": false,
          "task": false
        },
        "id": "veJEXL180HVw"
      },
      "outputs": [],
      "source": [
        "'''\n",
        "TEST CASES, DO NOT CHANGE\n",
        "'''\n",
        "''' case 1 - other data'''\n",
        "X=np.array([[3,6,5],[4.5,6.6,6]])\n",
        "t=np.array([4,5.5])\n",
        "np.testing.assert_array_almost_equal(Pseudo_Inverse(X,t,0.5),np.array([ 0.491,  0.183,  0.319, -0.002]),decimal=3)"
      ]
    },
    {
      "cell_type": "markdown",
      "metadata": {
        "deletable": false,
        "editable": false,
        "nbgrader": {
          "cell_type": "markdown",
          "checksum": "8748fcc0dc96df6e7bb48a4e315927d3",
          "grade": false,
          "grade_id": "cell-e0fa02d7eecfb851",
          "locked": true,
          "schema_version": 3,
          "solution": false,
          "task": false
        },
        "id": "uOaVq5XK0HVw"
      },
      "source": [
        "#... Part 1 ends Below this you be more creative. Just comment out the lines where you save files (e.g. test predictions)."
      ]
    },
    {
      "cell_type": "markdown",
      "metadata": {
        "deletable": false,
        "editable": false,
        "nbgrader": {
          "cell_type": "markdown",
          "checksum": "c9047f75587bfee6b7b0a4b244efc7fa",
          "grade": false,
          "grade_id": "cell-10f0d275f5cd36f6",
          "locked": true,
          "schema_version": 3,
          "solution": false,
          "task": false
        },
        "id": "9DK2ntub0HVw"
      },
      "source": [
        "#**Part 2 begins ...**\n",
        "\n",
        "**Instructions to be loosely followed (except number 8):**\n",
        "\n",
        "1. Add more code and text cells between this and the last cell.\n",
        "2. Read training data from: https://www.ee.iitb.ac.in/~asethi/Dump/TempTrain.csv only. Do not use a local copy of the dataset.\n",
        "3. Find the best lamda for **MSE+lamda*L2(w)** loss function. Plot training and validation RMSE vs. 1/lamda (1/lamda represents model complexity). Print weights, validation RMSE, validation NRMSE for the best lamda.\n",
        "4. Find the best lamda for **MSE+lamda*L1(w)** loss function. Plot training and validation RMSE vs. 1/lamda (1/lamda represents model complexity). Print weights, validation RMSE, validation NRMSE for the best lamda.\n",
        "5. Find the best lamda for the **pseudo-inv method**. Plot training and validation RMSE vs. 1/lamda (1/lamda represents model complexity). Print weights, validation RMSE, validation NRMSE for the best lamda.\n",
        "6. Write your observations and conclusions.\n",
        "7. Read test data from: https://www.ee.iitb.ac.in/~asethi/Dump/TempTest.csv only. Do not use a local copy of the dataset. Predict its dependent (missing last column) using the model with the lowest MSE, RMSE, or NRMSE. Save it as a file RollNo1_RollNo2_1.csv.\n",
        "8. **Disable the prediction csv file saving statement and submit this entire .ipynb file, .py file, and .csv file as a single RollNo1_RollNo2_1.zip file.**\n"
      ]
    },
    {
      "cell_type": "code",
      "execution_count": 28,
      "metadata": {
        "id": "9IoTClC_0HVx",
        "colab": {
          "base_uri": "https://localhost:8080/",
          "height": 287
        },
        "outputId": "56453d41-8f5b-45fb-afc6-7ad7a4dc2ca2"
      },
      "outputs": [
        {
          "output_type": "execute_result",
          "data": {
            "text/html": [
              "\n",
              "  <div id=\"df-5d58491a-892a-41f6-9cf0-d92551905b9a\">\n",
              "    <div class=\"colab-df-container\">\n",
              "      <div>\n",
              "<style scoped>\n",
              "    .dataframe tbody tr th:only-of-type {\n",
              "        vertical-align: middle;\n",
              "    }\n",
              "\n",
              "    .dataframe tbody tr th {\n",
              "        vertical-align: top;\n",
              "    }\n",
              "\n",
              "    .dataframe thead th {\n",
              "        text-align: right;\n",
              "    }\n",
              "</style>\n",
              "<table border=\"1\" class=\"dataframe\">\n",
              "  <thead>\n",
              "    <tr style=\"text-align: right;\">\n",
              "      <th></th>\n",
              "      <th>Present_Tmax</th>\n",
              "      <th>Present_Tmin</th>\n",
              "      <th>LDAPS_RHmin</th>\n",
              "      <th>LDAPS_RHmax</th>\n",
              "      <th>LDAPS_Tmax_lapse</th>\n",
              "      <th>LDAPS_Tmin_lapse</th>\n",
              "      <th>LDAPS_WS</th>\n",
              "      <th>LDAPS_LH</th>\n",
              "      <th>LDAPS_CC1</th>\n",
              "      <th>LDAPS_CC2</th>\n",
              "      <th>LDAPS_CC3</th>\n",
              "      <th>LDAPS_CC4</th>\n",
              "      <th>LDAPS_PPT1</th>\n",
              "      <th>LDAPS_PPT2</th>\n",
              "      <th>LDAPS_PPT3</th>\n",
              "      <th>LDAPS_PPT4</th>\n",
              "      <th>lat</th>\n",
              "      <th>lon</th>\n",
              "      <th>DEM</th>\n",
              "      <th>Slope</th>\n",
              "      <th>Solar radiation</th>\n",
              "      <th>Next_Tmax</th>\n",
              "    </tr>\n",
              "  </thead>\n",
              "  <tbody>\n",
              "    <tr>\n",
              "      <th>0</th>\n",
              "      <td>28.7</td>\n",
              "      <td>21.4</td>\n",
              "      <td>58.255688</td>\n",
              "      <td>91.116364</td>\n",
              "      <td>28.074101</td>\n",
              "      <td>23.006936</td>\n",
              "      <td>6.818887</td>\n",
              "      <td>69.451805</td>\n",
              "      <td>0.233947</td>\n",
              "      <td>0.203896</td>\n",
              "      <td>0.161697</td>\n",
              "      <td>0.130928</td>\n",
              "      <td>0.0</td>\n",
              "      <td>0.0</td>\n",
              "      <td>0.0</td>\n",
              "      <td>0.0</td>\n",
              "      <td>37.6046</td>\n",
              "      <td>126.991</td>\n",
              "      <td>212.3350</td>\n",
              "      <td>2.7850</td>\n",
              "      <td>5992.895996</td>\n",
              "      <td>29.1</td>\n",
              "    </tr>\n",
              "    <tr>\n",
              "      <th>1</th>\n",
              "      <td>31.9</td>\n",
              "      <td>21.6</td>\n",
              "      <td>52.263397</td>\n",
              "      <td>90.604721</td>\n",
              "      <td>29.850689</td>\n",
              "      <td>24.035009</td>\n",
              "      <td>5.691890</td>\n",
              "      <td>51.937448</td>\n",
              "      <td>0.225508</td>\n",
              "      <td>0.251771</td>\n",
              "      <td>0.159444</td>\n",
              "      <td>0.127727</td>\n",
              "      <td>0.0</td>\n",
              "      <td>0.0</td>\n",
              "      <td>0.0</td>\n",
              "      <td>0.0</td>\n",
              "      <td>37.6046</td>\n",
              "      <td>127.032</td>\n",
              "      <td>44.7624</td>\n",
              "      <td>0.5141</td>\n",
              "      <td>5869.312500</td>\n",
              "      <td>30.5</td>\n",
              "    </tr>\n",
              "    <tr>\n",
              "      <th>2</th>\n",
              "      <td>31.6</td>\n",
              "      <td>23.3</td>\n",
              "      <td>48.690479</td>\n",
              "      <td>83.973587</td>\n",
              "      <td>30.091292</td>\n",
              "      <td>24.565633</td>\n",
              "      <td>6.138224</td>\n",
              "      <td>20.573050</td>\n",
              "      <td>0.209344</td>\n",
              "      <td>0.257469</td>\n",
              "      <td>0.204091</td>\n",
              "      <td>0.142125</td>\n",
              "      <td>0.0</td>\n",
              "      <td>0.0</td>\n",
              "      <td>0.0</td>\n",
              "      <td>0.0</td>\n",
              "      <td>37.5776</td>\n",
              "      <td>127.058</td>\n",
              "      <td>33.3068</td>\n",
              "      <td>0.2661</td>\n",
              "      <td>5863.555664</td>\n",
              "      <td>31.1</td>\n",
              "    </tr>\n",
              "    <tr>\n",
              "      <th>3</th>\n",
              "      <td>32.0</td>\n",
              "      <td>23.4</td>\n",
              "      <td>58.239788</td>\n",
              "      <td>96.483688</td>\n",
              "      <td>29.704629</td>\n",
              "      <td>23.326177</td>\n",
              "      <td>5.650050</td>\n",
              "      <td>65.727144</td>\n",
              "      <td>0.216372</td>\n",
              "      <td>0.226002</td>\n",
              "      <td>0.161157</td>\n",
              "      <td>0.134249</td>\n",
              "      <td>0.0</td>\n",
              "      <td>0.0</td>\n",
              "      <td>0.0</td>\n",
              "      <td>0.0</td>\n",
              "      <td>37.6450</td>\n",
              "      <td>127.022</td>\n",
              "      <td>45.7160</td>\n",
              "      <td>2.5348</td>\n",
              "      <td>5856.964844</td>\n",
              "      <td>31.7</td>\n",
              "    </tr>\n",
              "    <tr>\n",
              "      <th>4</th>\n",
              "      <td>31.4</td>\n",
              "      <td>21.9</td>\n",
              "      <td>56.174095</td>\n",
              "      <td>90.155128</td>\n",
              "      <td>29.113934</td>\n",
              "      <td>23.486480</td>\n",
              "      <td>5.735004</td>\n",
              "      <td>107.965535</td>\n",
              "      <td>0.151407</td>\n",
              "      <td>0.249995</td>\n",
              "      <td>0.178892</td>\n",
              "      <td>0.170021</td>\n",
              "      <td>0.0</td>\n",
              "      <td>0.0</td>\n",
              "      <td>0.0</td>\n",
              "      <td>0.0</td>\n",
              "      <td>37.5507</td>\n",
              "      <td>127.135</td>\n",
              "      <td>35.0380</td>\n",
              "      <td>0.5055</td>\n",
              "      <td>5859.552246</td>\n",
              "      <td>31.2</td>\n",
              "    </tr>\n",
              "  </tbody>\n",
              "</table>\n",
              "</div>\n",
              "      <button class=\"colab-df-convert\" onclick=\"convertToInteractive('df-5d58491a-892a-41f6-9cf0-d92551905b9a')\"\n",
              "              title=\"Convert this dataframe to an interactive table.\"\n",
              "              style=\"display:none;\">\n",
              "        \n",
              "  <svg xmlns=\"http://www.w3.org/2000/svg\" height=\"24px\"viewBox=\"0 0 24 24\"\n",
              "       width=\"24px\">\n",
              "    <path d=\"M0 0h24v24H0V0z\" fill=\"none\"/>\n",
              "    <path d=\"M18.56 5.44l.94 2.06.94-2.06 2.06-.94-2.06-.94-.94-2.06-.94 2.06-2.06.94zm-11 1L8.5 8.5l.94-2.06 2.06-.94-2.06-.94L8.5 2.5l-.94 2.06-2.06.94zm10 10l.94 2.06.94-2.06 2.06-.94-2.06-.94-.94-2.06-.94 2.06-2.06.94z\"/><path d=\"M17.41 7.96l-1.37-1.37c-.4-.4-.92-.59-1.43-.59-.52 0-1.04.2-1.43.59L10.3 9.45l-7.72 7.72c-.78.78-.78 2.05 0 2.83L4 21.41c.39.39.9.59 1.41.59.51 0 1.02-.2 1.41-.59l7.78-7.78 2.81-2.81c.8-.78.8-2.07 0-2.86zM5.41 20L4 18.59l7.72-7.72 1.47 1.35L5.41 20z\"/>\n",
              "  </svg>\n",
              "      </button>\n",
              "      \n",
              "  <style>\n",
              "    .colab-df-container {\n",
              "      display:flex;\n",
              "      flex-wrap:wrap;\n",
              "      gap: 12px;\n",
              "    }\n",
              "\n",
              "    .colab-df-convert {\n",
              "      background-color: #E8F0FE;\n",
              "      border: none;\n",
              "      border-radius: 50%;\n",
              "      cursor: pointer;\n",
              "      display: none;\n",
              "      fill: #1967D2;\n",
              "      height: 32px;\n",
              "      padding: 0 0 0 0;\n",
              "      width: 32px;\n",
              "    }\n",
              "\n",
              "    .colab-df-convert:hover {\n",
              "      background-color: #E2EBFA;\n",
              "      box-shadow: 0px 1px 2px rgba(60, 64, 67, 0.3), 0px 1px 3px 1px rgba(60, 64, 67, 0.15);\n",
              "      fill: #174EA6;\n",
              "    }\n",
              "\n",
              "    [theme=dark] .colab-df-convert {\n",
              "      background-color: #3B4455;\n",
              "      fill: #D2E3FC;\n",
              "    }\n",
              "\n",
              "    [theme=dark] .colab-df-convert:hover {\n",
              "      background-color: #434B5C;\n",
              "      box-shadow: 0px 1px 3px 1px rgba(0, 0, 0, 0.15);\n",
              "      filter: drop-shadow(0px 1px 2px rgba(0, 0, 0, 0.3));\n",
              "      fill: #FFFFFF;\n",
              "    }\n",
              "  </style>\n",
              "\n",
              "      <script>\n",
              "        const buttonEl =\n",
              "          document.querySelector('#df-5d58491a-892a-41f6-9cf0-d92551905b9a button.colab-df-convert');\n",
              "        buttonEl.style.display =\n",
              "          google.colab.kernel.accessAllowed ? 'block' : 'none';\n",
              "\n",
              "        async function convertToInteractive(key) {\n",
              "          const element = document.querySelector('#df-5d58491a-892a-41f6-9cf0-d92551905b9a');\n",
              "          const dataTable =\n",
              "            await google.colab.kernel.invokeFunction('convertToInteractive',\n",
              "                                                     [key], {});\n",
              "          if (!dataTable) return;\n",
              "\n",
              "          const docLinkHtml = 'Like what you see? Visit the ' +\n",
              "            '<a target=\"_blank\" href=https://colab.research.google.com/notebooks/data_table.ipynb>data table notebook</a>'\n",
              "            + ' to learn more about interactive tables.';\n",
              "          element.innerHTML = '';\n",
              "          dataTable['output_type'] = 'display_data';\n",
              "          await google.colab.output.renderOutput(dataTable, element);\n",
              "          const docLink = document.createElement('div');\n",
              "          docLink.innerHTML = docLinkHtml;\n",
              "          element.appendChild(docLink);\n",
              "        }\n",
              "      </script>\n",
              "    </div>\n",
              "  </div>\n",
              "  "
            ],
            "text/plain": [
              "   Present_Tmax  Present_Tmin  LDAPS_RHmin  ...   Slope  Solar radiation  Next_Tmax\n",
              "0          28.7          21.4    58.255688  ...  2.7850      5992.895996       29.1\n",
              "1          31.9          21.6    52.263397  ...  0.5141      5869.312500       30.5\n",
              "2          31.6          23.3    48.690479  ...  0.2661      5863.555664       31.1\n",
              "3          32.0          23.4    58.239788  ...  2.5348      5856.964844       31.7\n",
              "4          31.4          21.9    56.174095  ...  0.5055      5859.552246       31.2\n",
              "\n",
              "[5 rows x 22 columns]"
            ]
          },
          "metadata": {},
          "execution_count": 28
        }
      ],
      "source": [
        "data = pd.read_csv('https://www.ee.iitb.ac.in/~asethi/Dump/TempTrain.csv')#Readig the CSV file\n",
        "data.head()                                                               #Display the CSV"
      ]
    },
    {
      "cell_type": "code",
      "source": [
        "data.info() #Let us check the missing value data type etc for the df"
      ],
      "metadata": {
        "colab": {
          "base_uri": "https://localhost:8080/"
        },
        "id": "6rRuiy81cyvi",
        "outputId": "825f4ac3-51f6-430b-8a31-4a269894a18c"
      },
      "execution_count": 29,
      "outputs": [
        {
          "output_type": "stream",
          "name": "stdout",
          "text": [
            "<class 'pandas.core.frame.DataFrame'>\n",
            "RangeIndex: 6082 entries, 0 to 6081\n",
            "Data columns (total 22 columns):\n",
            " #   Column            Non-Null Count  Dtype  \n",
            "---  ------            --------------  -----  \n",
            " 0   Present_Tmax      6082 non-null   float64\n",
            " 1   Present_Tmin      6082 non-null   float64\n",
            " 2   LDAPS_RHmin       6082 non-null   float64\n",
            " 3   LDAPS_RHmax       6082 non-null   float64\n",
            " 4   LDAPS_Tmax_lapse  6082 non-null   float64\n",
            " 5   LDAPS_Tmin_lapse  6082 non-null   float64\n",
            " 6   LDAPS_WS          6082 non-null   float64\n",
            " 7   LDAPS_LH          6082 non-null   float64\n",
            " 8   LDAPS_CC1         6082 non-null   float64\n",
            " 9   LDAPS_CC2         6082 non-null   float64\n",
            " 10  LDAPS_CC3         6082 non-null   float64\n",
            " 11  LDAPS_CC4         6082 non-null   float64\n",
            " 12  LDAPS_PPT1        6082 non-null   float64\n",
            " 13  LDAPS_PPT2        6082 non-null   float64\n",
            " 14  LDAPS_PPT3        6082 non-null   float64\n",
            " 15  LDAPS_PPT4        6082 non-null   float64\n",
            " 16  lat               6082 non-null   float64\n",
            " 17  lon               6082 non-null   float64\n",
            " 18  DEM               6082 non-null   float64\n",
            " 19  Slope             6082 non-null   float64\n",
            " 20  Solar radiation   6082 non-null   float64\n",
            " 21  Next_Tmax         6082 non-null   float64\n",
            "dtypes: float64(22)\n",
            "memory usage: 1.0 MB\n"
          ]
        }
      ]
    },
    {
      "cell_type": "markdown",
      "source": [
        "**Summary**\n",
        "\n",
        "*   For given csv there is no missing values and all the values are in float\n",
        "*   There are 6082 datas and 21 independent datas\n",
        "* In 21th column we have target value\n",
        "\n"
      ],
      "metadata": {
        "id": "jM8BjtJfea68"
      }
    },
    {
      "cell_type": "markdown",
      "source": [
        "**Spliting the dataset into Training and validation set**"
      ],
      "metadata": {
        "id": "ucjhQ2DagCuF"
      }
    },
    {
      "cell_type": "code",
      "source": [
        "#this code snippet was taken from https://stackoverflow.com/questions/24147278/how-do-i-create-test-and-train-samples-from-one-dataframe-with-pandas\n",
        "mask = np.random.rand(len(data)) < 0.8 #select mask as 80% of the data set\n",
        "train = data[mask]                    #set 80% in to train\n",
        "validate = data[~mask]                    #rest 20% in to validation"
      ],
      "metadata": {
        "id": "VqNtzATEJJLk"
      },
      "execution_count": 52,
      "outputs": []
    },
    {
      "cell_type": "code",
      "source": [
        "X_train = train.loc[:,'Present_Tmax':'Solar radiation'].values #assign train values of X, which will be : ALL rown ; column first to last but one (since last one is target )\n",
        "X_validate = validate.loc[:,'Present_Tmax':'Solar radiation'].values  #assign test values of X ,which will be : ALL rown ; column first to last but one (since last one is target )"
      ],
      "metadata": {
        "id": "Hy-5hCxEKdwu"
      },
      "execution_count": 53,
      "outputs": []
    },
    {
      "cell_type": "markdown",
      "source": [
        "**Target in to training and validation**"
      ],
      "metadata": {
        "id": "uwlPceSafczg"
      }
    },
    {
      "cell_type": "code",
      "source": [
        "t_train = train['Next_Tmax'].values  #assign target train vector which is the last column\n",
        "t_validate = validate['Next_Tmax'].values #assign target validation vector which is the last column"
      ],
      "metadata": {
        "id": "DTM2u7cUfSYk"
      },
      "execution_count": 56,
      "outputs": []
    },
    {
      "cell_type": "markdown",
      "source": [
        "initial weight array is all 1's"
      ],
      "metadata": {
        "id": "tTpIqDIrgHzp"
      }
    },
    {
      "cell_type": "code",
      "source": [
        "X_train_row,X_train_col = np.shape(X_train) #Shape of data vector\n",
        "my_w = np.ones(X_train_col+1)              #Initial weight matrix is with dimension one greater than data matrix "
      ],
      "metadata": {
        "id": "7NH-kEvplcmm"
      },
      "execution_count": 55,
      "outputs": []
    },
    {
      "cell_type": "markdown",
      "source": [
        "Normalize all arrays"
      ],
      "metadata": {
        "id": "OWQpcvfdo_kt"
      }
    },
    {
      "cell_type": "code",
      "source": [
        "#normalize all the arrays by passing it to normalize function\n",
        "X_train_norm = Normalize(X_train)\n",
        "X_validate_norm = Normalize(X_validate)\n",
        "t_train_norm = Normalize(t_train)\n",
        "t_validate_norm = Normalize(t_validate)"
      ],
      "metadata": {
        "id": "kDy1I9D-oo5A"
      },
      "execution_count": 57,
      "outputs": []
    },
    {
      "cell_type": "markdown",
      "source": [
        "**best lamda for MSE+lamda*L2(w) loss function**"
      ],
      "metadata": {
        "id": "ZaKPr84Qgv2a"
      }
    },
    {
      "cell_type": "code",
      "source": [
        "validation_loss = [] #Array to store validation loss\n",
        "l_array = []         #Array to store diifernt lamda values\n",
        "w_array2 = [my_w]     #array to store w values for different lamda and applied first w\n",
        "loss_array = []     #to store loos error\n",
        "lamda = 0                  #Initilize lamda\n",
        "key = 0                    #Key to access weight array\n",
        "while(lamda<=1):          #Let us try for lamda=10\n",
        "  lamda += 0.01 \n",
        "  a_result = Gradient_Descent (X_train_norm, X_validate_norm, t_train_norm, t_validate_norm, my_w, lamda, 1000, 1e-5, 1e-2, L2_Loss, L2_Gradient)#Find w and trainig loss\n",
        "  w_array2.append(a_result[0])               #Update w values\n",
        "  loss_array.append(a_result[1])            #Loss for training data\n",
        "  validation_loss.append(L2_Loss(X_validate,t_validate,w_array2[key],lamda))   #Validation loss with updated w\n",
        "  l_array.append(1/lamda)                   #1/lamda array\n",
        "  key += 1\n"
      ],
      "metadata": {
        "id": "vhrHVOIvMm1i"
      },
      "execution_count": 65,
      "outputs": []
    },
    {
      "cell_type": "code",
      "source": [
        "loss_array1 = np.sqrt(loss_array)        #RMSE of training loss\n",
        "validation_loss1 = np.sqrt(validation_loss)  #RMSE for validation loss"
      ],
      "metadata": {
        "id": "WhC9ajsDrX7C"
      },
      "execution_count": 66,
      "outputs": []
    },
    {
      "cell_type": "code",
      "source": [
        "l2_min_weight_index = np.argmin(validation_loss1) #find the index of minimum value of loss which will also be the index of best lamda\n",
        "l2_min_weight_index"
      ],
      "metadata": {
        "colab": {
          "base_uri": "https://localhost:8080/"
        },
        "id": "JQDFsMSFxuzF",
        "outputId": "9490e13b-d81d-434f-a664-01f7633a7b88"
      },
      "execution_count": 67,
      "outputs": [
        {
          "output_type": "execute_result",
          "data": {
            "text/plain": [
              "99"
            ]
          },
          "metadata": {},
          "execution_count": 67
        }
      ]
    },
    {
      "cell_type": "code",
      "source": [
        "best_lamda_L2 = 1/(l_array[l2_min_weight_index])\n",
        "print(\"Best lamda for L2 loss:\",best_lamda_L2)"
      ],
      "metadata": {
        "colab": {
          "base_uri": "https://localhost:8080/"
        },
        "id": "5R48gfhRx2mm",
        "outputId": "850cf682-2920-4692-f263-557f8b1996d7"
      },
      "execution_count": 68,
      "outputs": [
        {
          "output_type": "stream",
          "name": "stdout",
          "text": [
            "Best lamda for L2 loss: 1.0000000000000007\n"
          ]
        }
      ]
    },
    {
      "cell_type": "code",
      "source": [
        "%matplotlib inline\n",
        "plt.figure()\n",
        "plt.plot(l_array,loss_array1,label='Training RMSE')\n",
        "plt.plot(l_array,validation_loss1,label='Validation RMSE'),\n",
        "plt.xlabel('1/lamda')\n",
        "plt.ylabel('RMSE')\n",
        "plt.legend()\n",
        "plt.show()"
      ],
      "metadata": {
        "colab": {
          "base_uri": "https://localhost:8080/",
          "height": 279
        },
        "id": "FcW4RH8xSq4U",
        "outputId": "446eaff1-813c-42d3-e903-8ffdd0148125"
      },
      "execution_count": 69,
      "outputs": [
        {
          "output_type": "display_data",
          "data": {
            "image/png": "[encoded data removed]",
            "text/plain": [
              "<Figure size 432x288 with 1 Axes>"
            ]
          },
          "metadata": {
            "needs_background": "light"
          }
        }
      ]
    },
    {
      "cell_type": "markdown",
      "source": [
        "**Summary**\n",
        "\n",
        "1.   We can see that training error reduces as increasing model complexity\n",
        "2.   From 1/lamda > 40 there is overfitting occured therefore we have to select lamda in min of validation error (sweet spot range)\n",
        "\n"
      ],
      "metadata": {
        "id": "xQHF9NmPiir2"
      }
    },
    {
      "cell_type": "code",
      "source": [
        "weight_L2_LOSS = w_array2[l2_min_weight_index+1]   #weight for desired lamda we can store in to variable weight_L2_LOSS\n",
        "print(\"Best weights for L2:\")\n",
        "print(weight_L2_LOSS)"
      ],
      "metadata": {
        "id": "J7NL-PZV2rq2",
        "colab": {
          "base_uri": "https://localhost:8080/"
        },
        "outputId": "12315f3c-82f0-47c0-ed49-207e0123f026"
      },
      "execution_count": 71,
      "outputs": [
        {
          "output_type": "stream",
          "name": "stdout",
          "text": [
            "Best weights for L2:\n",
            "[ 0.1161485   0.08625109 -0.05479408 -0.03266043  0.1717167   0.12663569\n",
            " -0.07322122  0.03385108 -0.06910912 -0.06846774 -0.06857748 -0.05803767\n",
            " -0.00990691  0.00157854 -0.01404729 -0.01793156 -0.00395102 -0.00196949\n",
            " -0.02207854  0.00556746  0.00965085  0.        ]\n"
          ]
        }
      ]
    },
    {
      "cell_type": "code",
      "source": [
        "print(\"Best Validation loss for L2:\")\n",
        "print(validation_loss1[l2_min_weight_index] )#Validation RMSE"
      ],
      "metadata": {
        "id": "sqbOPuQp9-4U",
        "colab": {
          "base_uri": "https://localhost:8080/"
        },
        "outputId": "a7865631-672f-4381-c022-dca0c4c8fca3"
      },
      "execution_count": 77,
      "outputs": [
        {
          "output_type": "stream",
          "name": "stdout",
          "text": [
            "Best Validation loss for L2:\n",
            "30.19428443318417\n"
          ]
        }
      ]
    },
    {
      "cell_type": "code",
      "source": [
        "print(\"Normalised Validation RMSE:\")\n",
        "Normalize(validation_loss1)[l2_min_weight_index] #Normalised Validation RMSE"
      ],
      "metadata": {
        "id": "lOS6YEcx-Q2r",
        "colab": {
          "base_uri": "https://localhost:8080/"
        },
        "outputId": "0a83319d-bedd-41b7-c54a-ec8246b3138e"
      },
      "execution_count": 79,
      "outputs": [
        {
          "output_type": "stream",
          "name": "stdout",
          "text": [
            "Normalised Validation RMSE:\n"
          ]
        },
        {
          "output_type": "execute_result",
          "data": {
            "text/plain": [
              "-0.22479849840097285"
            ]
          },
          "metadata": {},
          "execution_count": 79
        }
      ]
    },
    {
      "cell_type": "markdown",
      "source": [
        "**best lamda for MSE+lamda*L1(w) loss function**"
      ],
      "metadata": {
        "id": "lBoOpxDHZmMV"
      }
    },
    {
      "cell_type": "code",
      "source": [
        "validation_loss_L1 = [] #Array to store validation loss\n",
        "l_array = []             #Array to store diifernt lamda values\n",
        "w_array = [my_w]         #array to store w values for different lamda\n",
        "loss_array_L1 = []           #to store loos error\n",
        "lamda =0\n",
        "key=0 \n",
        "while(lamda<=10):\n",
        "  lamda += 0.1 \n",
        "  a_result = Gradient_Descent (X_train_norm, X_validate_norm, t_train_norm, t_validate_norm, my_w, lamda, 1000, 1e-5, 1e-2, L1_Loss, L1_Gradient)\n",
        "  w_array.append(a_result[0])\n",
        "  loss_array_L1.append(a_result[1])\n",
        "  validation_loss_L1.append(L1_Loss(X_validate_norm,t_validate_norm,w_array[key],lamda))\n",
        "  l_array.append(1/lamda)\n",
        "  key += 1\n"
      ],
      "metadata": {
        "id": "OzIlvcXKaVqr"
      },
      "execution_count": 135,
      "outputs": []
    },
    {
      "cell_type": "code",
      "source": [
        "loss_array_L1_1 = np.sqrt(loss_array_L1)\n",
        "validation_loss_L1_1 = np.sqrt(validation_loss_L1)"
      ],
      "metadata": {
        "id": "zbqBb1a7ahpX"
      },
      "execution_count": 136,
      "outputs": []
    },
    {
      "cell_type": "code",
      "source": [
        "%matplotlib inline\n",
        "plt.figure()\n",
        "plt.plot(l_array,loss_array_L1_1,label='Training RMSE')\n",
        "plt.plot(l_array,validation_loss_L1_1,label='Validation RMSE')\n",
        "plt.xlabel('1/lamda')\n",
        "plt.ylabel('RMSE')\n",
        "plt.legend()\n",
        "plt.show()"
      ],
      "metadata": {
        "id": "NvtEkL6Majht",
        "colab": {
          "base_uri": "https://localhost:8080/",
          "height": 279
        },
        "outputId": "27a5bc13-4e08-41ff-8041-312125fe72ce"
      },
      "execution_count": 137,
      "outputs": [
        {
          "output_type": "display_data",
          "data": {
            "image/png": "[encoded data removed]",
            "text/plain": [
              "<Figure size 432x288 with 1 Axes>"
            ]
          },
          "metadata": {
            "needs_background": "light"
          }
        }
      ]
    },
    {
      "cell_type": "code",
      "source": [
        "l_array.index(5)"
      ],
      "metadata": {
        "colab": {
          "base_uri": "https://localhost:8080/"
        },
        "id": "gXB8ijZ_48V6",
        "outputId": "0b6bec56-5d3c-4d13-f8bf-8112668a9148"
      },
      "execution_count": 138,
      "outputs": [
        {
          "output_type": "execute_result",
          "data": {
            "text/plain": [
              "1"
            ]
          },
          "metadata": {},
          "execution_count": 138
        }
      ]
    },
    {
      "cell_type": "code",
      "source": [
        "l1_min_weight_index=np.argmin(validation_loss_L1_1) # #find the index of minimum value of loss which will also be the index of best lamda\n",
        "l1_min_weight_index"
      ],
      "metadata": {
        "id": "WgNovTsDa7Ld",
        "colab": {
          "base_uri": "https://localhost:8080/"
        },
        "outputId": "ae7a72e0-34af-4773-f651-c5137f646171"
      },
      "execution_count": 139,
      "outputs": [
        {
          "output_type": "execute_result",
          "data": {
            "text/plain": [
              "1"
            ]
          },
          "metadata": {},
          "execution_count": 139
        }
      ]
    },
    {
      "cell_type": "code",
      "source": [
        "best_lamda_L1=1/(l_array[l1_min_weight_index])\n",
        "print(\"best lamda for L1 loss:\")\n",
        "best_lamda_L1\n"
      ],
      "metadata": {
        "id": "7tD_ZKkka_tv",
        "colab": {
          "base_uri": "https://localhost:8080/"
        },
        "outputId": "15061ceb-77b4-4c4d-85d0-66fceb834cc1"
      },
      "execution_count": 140,
      "outputs": [
        {
          "output_type": "stream",
          "name": "stdout",
          "text": [
            "best lamda for L1 loss:\n"
          ]
        },
        {
          "output_type": "execute_result",
          "data": {
            "text/plain": [
              "0.2"
            ]
          },
          "metadata": {},
          "execution_count": 140
        }
      ]
    },
    {
      "cell_type": "code",
      "source": [
        "weight_L1 = w_array[l1_min_weight_index+1]#weight for desired lamda here w array have first weight as [1,1,1,1....]\n",
        "print(\"Best weights for L1 loss:\")\n",
        "weight_L1"
      ],
      "metadata": {
        "colab": {
          "base_uri": "https://localhost:8080/"
        },
        "id": "uhI3cME1z8J8",
        "outputId": "4275fa32-a986-4bd9-cd33-206e74266df7"
      },
      "execution_count": 141,
      "outputs": [
        {
          "output_type": "stream",
          "name": "stdout",
          "text": [
            "Best weights for L1 loss:\n"
          ]
        },
        {
          "output_type": "execute_result",
          "data": {
            "text/plain": [
              "array([ 1.65860139e-01,  1.89131223e-03,  1.36899711e-04, -1.52238881e-03,\n",
              "        6.07266449e-01,  1.35988447e-03, -4.13598205e-02,  5.80631426e-04,\n",
              "       -1.93578945e-02, -2.29977729e-03, -1.09666297e-03, -2.73334931e-02,\n",
              "       -1.89512249e-03, -1.56299222e-03, -2.63931372e-03, -9.81925330e-04,\n",
              "        1.57853014e-03, -2.63243727e-03,  5.91981835e-04, -1.36783507e-04,\n",
              "       -1.22943465e-03,  0.00000000e+00])"
            ]
          },
          "metadata": {},
          "execution_count": 141
        }
      ]
    },
    {
      "cell_type": "code",
      "source": [
        "print(\"Least L1 Validation loss:\")\n",
        "print(validation_loss_L1_1[1])      #Validation MRSE"
      ],
      "metadata": {
        "id": "GZV_KM-HcKXz",
        "colab": {
          "base_uri": "https://localhost:8080/"
        },
        "outputId": "b1bc91d2-34f4-4e9f-f3b9-c30ee363920a"
      },
      "execution_count": 142,
      "outputs": [
        {
          "output_type": "stream",
          "name": "stdout",
          "text": [
            "Least L1 Validation loss:\n",
            "0.6528850276804212\n"
          ]
        }
      ]
    },
    {
      "cell_type": "code",
      "source": [
        "print(\"Normalised Validation RMSE:\")\n",
        "Normalize(validation_loss_L1)[1] #Normalised Validation RMSE"
      ],
      "metadata": {
        "id": "enKmZ0X8cZzm",
        "colab": {
          "base_uri": "https://localhost:8080/"
        },
        "outputId": "6e288dfa-b1f9-4669-f4de-466f83d06ecc"
      },
      "execution_count": 143,
      "outputs": [
        {
          "output_type": "stream",
          "name": "stdout",
          "text": [
            "Normalised Validation RMSE:\n"
          ]
        },
        {
          "output_type": "execute_result",
          "data": {
            "text/plain": [
              "-0.7514114459483199"
            ]
          },
          "metadata": {},
          "execution_count": 143
        }
      ]
    },
    {
      "cell_type": "markdown",
      "source": [
        "**bset lamda for pseudo inverse method**"
      ],
      "metadata": {
        "id": "qVOc67VaA6L9"
      }
    },
    {
      "cell_type": "code",
      "source": [
        "l_array = []        #Array to store diifernt lamda values\n",
        "w_array_p = [my_w]        #array to store w values for different lamda\n",
        "loss_array_pse = []     #to store loos error\n",
        "validation_MSE_array_pse = []#To store validation RMSE\n",
        "lamda = 0\n",
        "key = 0 \n",
        "while(lamda<=10):\n",
        "  lamda += 0.1 \n",
        "  a_result = Pseudo_Inverse (X_train_norm, t_train_norm, lamda)\n",
        "  w_array_p.append(a_result)\n",
        "  validation_MSE_array_pse.append(L1_Loss(X_validate_norm,t_validate_norm,w_array_p[key],lamda))\n",
        "  loss_array_pse.append(L1_Loss(X_train_norm,t_train_norm,my_w,lamda))\n",
        "  l_array.append(1/lamda)\n",
        "  key += 1\n"
      ],
      "metadata": {
        "id": "OMMH7vKKAevJ"
      },
      "execution_count": 97,
      "outputs": []
    },
    {
      "cell_type": "code",
      "source": [
        "loss_array_pse1 = np.sqrt(loss_array_pse)\n",
        "validation_MSE_array1 = np.sqrt(validation_MSE_array_pse)"
      ],
      "metadata": {
        "id": "0d12IIiY0fQb"
      },
      "execution_count": 104,
      "outputs": []
    },
    {
      "cell_type": "code",
      "source": [
        "%matplotlib inline\n",
        "plt.figure()\n",
        "plt.plot(l_array,loss_array_pse1,label='Training RMSE')\n",
        "plt.plot(l_array,validation_MSE_array1,label='Validation RMSE'),\n",
        "plt.xlabel('1/lamda')\n",
        "plt.ylabel('RMSE')\n",
        "plt.legend()\n",
        "plt.show()"
      ],
      "metadata": {
        "id": "k8a-l0gfXj1i",
        "colab": {
          "base_uri": "https://localhost:8080/",
          "height": 279
        },
        "outputId": "018cbc01-f710-494d-ca9b-9371ca6ca2c7"
      },
      "execution_count": 99,
      "outputs": [
        {
          "output_type": "display_data",
          "data": {
            "image/png": "[encoded data removed]",
            "text/plain": [
              "<Figure size 432x288 with 1 Axes>"
            ]
          },
          "metadata": {
            "needs_background": "light"
          }
        }
      ]
    },
    {
      "cell_type": "code",
      "source": [
        "pse_min_weight_index = np.argmin(validation_MSE_array_pse) # #find the index of minimum value of loss which will also be the index of best lamda\n",
        "pse_min_weight_index"
      ],
      "metadata": {
        "id": "Xtfh7DsTcm9O",
        "colab": {
          "base_uri": "https://localhost:8080/"
        },
        "outputId": "1ff37e7f-2f41-4315-c56f-9f98a7239071"
      },
      "execution_count": 105,
      "outputs": [
        {
          "output_type": "execute_result",
          "data": {
            "text/plain": [
              "1"
            ]
          },
          "metadata": {},
          "execution_count": 105
        }
      ]
    },
    {
      "cell_type": "code",
      "source": [
        "best_lamda_Pes = 1/(l_array[pse_min_weight_index])\n",
        "print(\"best lamda for pseudo inverse  method:\")\n",
        "best_lamda_Pes\n"
      ],
      "metadata": {
        "colab": {
          "base_uri": "https://localhost:8080/"
        },
        "id": "2dBNYjvk0zSB",
        "outputId": "9c3e958a-f3f5-48e3-9906-191118d19edf"
      },
      "execution_count": 106,
      "outputs": [
        {
          "output_type": "stream",
          "name": "stdout",
          "text": [
            "best lamda for pseudo inverse  method:\n"
          ]
        },
        {
          "output_type": "execute_result",
          "data": {
            "text/plain": [
              "0.2"
            ]
          },
          "metadata": {},
          "execution_count": 106
        }
      ]
    },
    {
      "cell_type": "code",
      "source": [
        "w_pesud = w_array_p[pse_min_weight_index+1]\n",
        "print(\"Best weights for pseudo inverse method:\")\n",
        "w_pesud"
      ],
      "metadata": {
        "id": "v8-S3Ng2cuvd",
        "colab": {
          "base_uri": "https://localhost:8080/"
        },
        "outputId": "b34e0579-06ad-4949-ebe3-0154146563f0"
      },
      "execution_count": 108,
      "outputs": [
        {
          "output_type": "stream",
          "name": "stdout",
          "text": [
            "Best weights for pseudo inverse method:\n"
          ]
        },
        {
          "output_type": "execute_result",
          "data": {
            "text/plain": [
              "array([ 0.15523723,  0.04360852,  0.12936769, -0.04056138,  0.58721616,\n",
              "        0.0725416 , -0.13170335,  0.079266  , -0.09182421, -0.0743816 ,\n",
              "       -0.0469021 , -0.07639996, -0.02353704,  0.06237454, -0.00589521,\n",
              "       -0.00507689, -0.01347794, -0.03903572, -0.07982029,  0.10132676,\n",
              "        0.01761667,  0.        ])"
            ]
          },
          "metadata": {},
          "execution_count": 108
        }
      ]
    },
    {
      "cell_type": "code",
      "source": [
        "print(\"Validation RMSE:\")\n",
        "validation_MSE_array1[pse_min_weight_index] #Validation RMSE"
      ],
      "metadata": {
        "id": "VtAmwJF7cs7q",
        "colab": {
          "base_uri": "https://localhost:8080/"
        },
        "outputId": "122e4b8a-11c2-4699-849f-e3b20cc4f00b"
      },
      "execution_count": 112,
      "outputs": [
        {
          "output_type": "stream",
          "name": "stdout",
          "text": [
            "Validation RMSE:\n"
          ]
        },
        {
          "output_type": "execute_result",
          "data": {
            "text/plain": [
              "0.7508315332143086"
            ]
          },
          "metadata": {},
          "execution_count": 112
        }
      ]
    },
    {
      "cell_type": "code",
      "source": [
        "print(\"Validation NRMSE:\")\n",
        "Normalize(validation_MSE_array_pse)[pse_min_weight_index] #validation NMRSE"
      ],
      "metadata": {
        "id": "g0gYjeb2dC-k",
        "colab": {
          "base_uri": "https://localhost:8080/"
        },
        "outputId": "61b225cb-54f4-4491-e612-208fa4933ed7"
      },
      "execution_count": 111,
      "outputs": [
        {
          "output_type": "stream",
          "name": "stdout",
          "text": [
            "Validation NRMSE:\n"
          ]
        },
        {
          "output_type": "execute_result",
          "data": {
            "text/plain": [
              "-1.3574575348297442"
            ]
          },
          "metadata": {},
          "execution_count": 111
        }
      ]
    },
    {
      "cell_type": "markdown",
      "source": [
        " **TEST DATA**"
      ],
      "metadata": {
        "id": "fjPFRtW5dmGS"
      }
    },
    {
      "cell_type": "code",
      "source": [
        "data_test = pd.read_csv('https://www.ee.iitb.ac.in/~asethi/Dump/TempTest.csv')#Readig the CSV file\n",
        "data_test.head()                                                               #Display the CSV"
      ],
      "metadata": {
        "id": "pcFUQLahdfWV",
        "colab": {
          "base_uri": "https://localhost:8080/",
          "height": 287
        },
        "outputId": "a11b8dc1-0ad5-4e44-a6b8-5ca14f5cf498"
      },
      "execution_count": 113,
      "outputs": [
        {
          "output_type": "execute_result",
          "data": {
            "text/html": [
              "\n",
              "  <div id=\"df-f1578aae-6802-4491-ae38-41e1dadf9d7b\">\n",
              "    <div class=\"colab-df-container\">\n",
              "      <div>\n",
              "<style scoped>\n",
              "    .dataframe tbody tr th:only-of-type {\n",
              "        vertical-align: middle;\n",
              "    }\n",
              "\n",
              "    .dataframe tbody tr th {\n",
              "        vertical-align: top;\n",
              "    }\n",
              "\n",
              "    .dataframe thead th {\n",
              "        text-align: right;\n",
              "    }\n",
              "</style>\n",
              "<table border=\"1\" class=\"dataframe\">\n",
              "  <thead>\n",
              "    <tr style=\"text-align: right;\">\n",
              "      <th></th>\n",
              "      <th>Present_Tmax</th>\n",
              "      <th>Present_Tmin</th>\n",
              "      <th>LDAPS_RHmin</th>\n",
              "      <th>LDAPS_RHmax</th>\n",
              "      <th>LDAPS_Tmax_lapse</th>\n",
              "      <th>LDAPS_Tmin_lapse</th>\n",
              "      <th>LDAPS_WS</th>\n",
              "      <th>LDAPS_LH</th>\n",
              "      <th>LDAPS_CC1</th>\n",
              "      <th>LDAPS_CC2</th>\n",
              "      <th>LDAPS_CC3</th>\n",
              "      <th>LDAPS_CC4</th>\n",
              "      <th>LDAPS_PPT1</th>\n",
              "      <th>LDAPS_PPT2</th>\n",
              "      <th>LDAPS_PPT3</th>\n",
              "      <th>LDAPS_PPT4</th>\n",
              "      <th>lat</th>\n",
              "      <th>lon</th>\n",
              "      <th>DEM</th>\n",
              "      <th>Slope</th>\n",
              "      <th>Solar radiation</th>\n",
              "    </tr>\n",
              "  </thead>\n",
              "  <tbody>\n",
              "    <tr>\n",
              "      <th>0</th>\n",
              "      <td>27.9</td>\n",
              "      <td>19.9</td>\n",
              "      <td>58.964123</td>\n",
              "      <td>97.821373</td>\n",
              "      <td>26.798375</td>\n",
              "      <td>20.828714</td>\n",
              "      <td>6.397833</td>\n",
              "      <td>75.366664</td>\n",
              "      <td>0.197580</td>\n",
              "      <td>0.306510</td>\n",
              "      <td>0.423613</td>\n",
              "      <td>0.842868</td>\n",
              "      <td>0.0</td>\n",
              "      <td>0.0</td>\n",
              "      <td>0.0</td>\n",
              "      <td>0.025890</td>\n",
              "      <td>37.6046</td>\n",
              "      <td>126.991</td>\n",
              "      <td>212.3350</td>\n",
              "      <td>2.7850</td>\n",
              "      <td>5992.895996</td>\n",
              "    </tr>\n",
              "    <tr>\n",
              "      <th>1</th>\n",
              "      <td>30.3</td>\n",
              "      <td>21.0</td>\n",
              "      <td>51.617828</td>\n",
              "      <td>89.577393</td>\n",
              "      <td>29.069652</td>\n",
              "      <td>22.979956</td>\n",
              "      <td>6.199736</td>\n",
              "      <td>54.449329</td>\n",
              "      <td>0.193229</td>\n",
              "      <td>0.311707</td>\n",
              "      <td>0.431707</td>\n",
              "      <td>0.816846</td>\n",
              "      <td>0.0</td>\n",
              "      <td>0.0</td>\n",
              "      <td>0.0</td>\n",
              "      <td>0.031924</td>\n",
              "      <td>37.6046</td>\n",
              "      <td>127.032</td>\n",
              "      <td>44.7624</td>\n",
              "      <td>0.5141</td>\n",
              "      <td>5869.312500</td>\n",
              "    </tr>\n",
              "    <tr>\n",
              "      <th>2</th>\n",
              "      <td>30.2</td>\n",
              "      <td>22.5</td>\n",
              "      <td>47.538521</td>\n",
              "      <td>85.529457</td>\n",
              "      <td>29.696974</td>\n",
              "      <td>23.554281</td>\n",
              "      <td>6.269956</td>\n",
              "      <td>14.450297</td>\n",
              "      <td>0.200518</td>\n",
              "      <td>0.301901</td>\n",
              "      <td>0.410575</td>\n",
              "      <td>0.825653</td>\n",
              "      <td>0.0</td>\n",
              "      <td>0.0</td>\n",
              "      <td>0.0</td>\n",
              "      <td>0.011254</td>\n",
              "      <td>37.5776</td>\n",
              "      <td>127.058</td>\n",
              "      <td>33.3068</td>\n",
              "      <td>0.2661</td>\n",
              "      <td>5863.555664</td>\n",
              "    </tr>\n",
              "    <tr>\n",
              "      <th>3</th>\n",
              "      <td>30.7</td>\n",
              "      <td>22.0</td>\n",
              "      <td>59.407711</td>\n",
              "      <td>98.806969</td>\n",
              "      <td>28.234872</td>\n",
              "      <td>21.380987</td>\n",
              "      <td>6.755825</td>\n",
              "      <td>105.226457</td>\n",
              "      <td>0.186295</td>\n",
              "      <td>0.302106</td>\n",
              "      <td>0.397818</td>\n",
              "      <td>0.781959</td>\n",
              "      <td>0.0</td>\n",
              "      <td>0.0</td>\n",
              "      <td>0.0</td>\n",
              "      <td>0.041682</td>\n",
              "      <td>37.6450</td>\n",
              "      <td>127.022</td>\n",
              "      <td>45.7160</td>\n",
              "      <td>2.5348</td>\n",
              "      <td>5856.964844</td>\n",
              "    </tr>\n",
              "    <tr>\n",
              "      <th>4</th>\n",
              "      <td>31.0</td>\n",
              "      <td>21.8</td>\n",
              "      <td>55.004128</td>\n",
              "      <td>92.867073</td>\n",
              "      <td>27.988202</td>\n",
              "      <td>22.164184</td>\n",
              "      <td>6.241006</td>\n",
              "      <td>104.791246</td>\n",
              "      <td>0.173245</td>\n",
              "      <td>0.291852</td>\n",
              "      <td>0.447998</td>\n",
              "      <td>0.823050</td>\n",
              "      <td>0.0</td>\n",
              "      <td>0.0</td>\n",
              "      <td>0.0</td>\n",
              "      <td>0.014004</td>\n",
              "      <td>37.5507</td>\n",
              "      <td>127.135</td>\n",
              "      <td>35.0380</td>\n",
              "      <td>0.5055</td>\n",
              "      <td>5859.552246</td>\n",
              "    </tr>\n",
              "  </tbody>\n",
              "</table>\n",
              "</div>\n",
              "      <button class=\"colab-df-convert\" onclick=\"convertToInteractive('df-f1578aae-6802-4491-ae38-41e1dadf9d7b')\"\n",
              "              title=\"Convert this dataframe to an interactive table.\"\n",
              "              style=\"display:none;\">\n",
              "        \n",
              "  <svg xmlns=\"http://www.w3.org/2000/svg\" height=\"24px\"viewBox=\"0 0 24 24\"\n",
              "       width=\"24px\">\n",
              "    <path d=\"M0 0h24v24H0V0z\" fill=\"none\"/>\n",
              "    <path d=\"M18.56 5.44l.94 2.06.94-2.06 2.06-.94-2.06-.94-.94-2.06-.94 2.06-2.06.94zm-11 1L8.5 8.5l.94-2.06 2.06-.94-2.06-.94L8.5 2.5l-.94 2.06-2.06.94zm10 10l.94 2.06.94-2.06 2.06-.94-2.06-.94-.94-2.06-.94 2.06-2.06.94z\"/><path d=\"M17.41 7.96l-1.37-1.37c-.4-.4-.92-.59-1.43-.59-.52 0-1.04.2-1.43.59L10.3 9.45l-7.72 7.72c-.78.78-.78 2.05 0 2.83L4 21.41c.39.39.9.59 1.41.59.51 0 1.02-.2 1.41-.59l7.78-7.78 2.81-2.81c.8-.78.8-2.07 0-2.86zM5.41 20L4 18.59l7.72-7.72 1.47 1.35L5.41 20z\"/>\n",
              "  </svg>\n",
              "      </button>\n",
              "      \n",
              "  <style>\n",
              "    .colab-df-container {\n",
              "      display:flex;\n",
              "      flex-wrap:wrap;\n",
              "      gap: 12px;\n",
              "    }\n",
              "\n",
              "    .colab-df-convert {\n",
              "      background-color: #E8F0FE;\n",
              "      border: none;\n",
              "      border-radius: 50%;\n",
              "      cursor: pointer;\n",
              "      display: none;\n",
              "      fill: #1967D2;\n",
              "      height: 32px;\n",
              "      padding: 0 0 0 0;\n",
              "      width: 32px;\n",
              "    }\n",
              "\n",
              "    .colab-df-convert:hover {\n",
              "      background-color: #E2EBFA;\n",
              "      box-shadow: 0px 1px 2px rgba(60, 64, 67, 0.3), 0px 1px 3px 1px rgba(60, 64, 67, 0.15);\n",
              "      fill: #174EA6;\n",
              "    }\n",
              "\n",
              "    [theme=dark] .colab-df-convert {\n",
              "      background-color: #3B4455;\n",
              "      fill: #D2E3FC;\n",
              "    }\n",
              "\n",
              "    [theme=dark] .colab-df-convert:hover {\n",
              "      background-color: #434B5C;\n",
              "      box-shadow: 0px 1px 3px 1px rgba(0, 0, 0, 0.15);\n",
              "      filter: drop-shadow(0px 1px 2px rgba(0, 0, 0, 0.3));\n",
              "      fill: #FFFFFF;\n",
              "    }\n",
              "  </style>\n",
              "\n",
              "      <script>\n",
              "        const buttonEl =\n",
              "          document.querySelector('#df-f1578aae-6802-4491-ae38-41e1dadf9d7b button.colab-df-convert');\n",
              "        buttonEl.style.display =\n",
              "          google.colab.kernel.accessAllowed ? 'block' : 'none';\n",
              "\n",
              "        async function convertToInteractive(key) {\n",
              "          const element = document.querySelector('#df-f1578aae-6802-4491-ae38-41e1dadf9d7b');\n",
              "          const dataTable =\n",
              "            await google.colab.kernel.invokeFunction('convertToInteractive',\n",
              "                                                     [key], {});\n",
              "          if (!dataTable) return;\n",
              "\n",
              "          const docLinkHtml = 'Like what you see? Visit the ' +\n",
              "            '<a target=\"_blank\" href=https://colab.research.google.com/notebooks/data_table.ipynb>data table notebook</a>'\n",
              "            + ' to learn more about interactive tables.';\n",
              "          element.innerHTML = '';\n",
              "          dataTable['output_type'] = 'display_data';\n",
              "          await google.colab.output.renderOutput(dataTable, element);\n",
              "          const docLink = document.createElement('div');\n",
              "          docLink.innerHTML = docLinkHtml;\n",
              "          element.appendChild(docLink);\n",
              "        }\n",
              "      </script>\n",
              "    </div>\n",
              "  </div>\n",
              "  "
            ],
            "text/plain": [
              "   Present_Tmax  Present_Tmin  LDAPS_RHmin  ...       DEM   Slope  Solar radiation\n",
              "0          27.9          19.9    58.964123  ...  212.3350  2.7850      5992.895996\n",
              "1          30.3          21.0    51.617828  ...   44.7624  0.5141      5869.312500\n",
              "2          30.2          22.5    47.538521  ...   33.3068  0.2661      5863.555664\n",
              "3          30.7          22.0    59.407711  ...   45.7160  2.5348      5856.964844\n",
              "4          31.0          21.8    55.004128  ...   35.0380  0.5055      5859.552246\n",
              "\n",
              "[5 rows x 21 columns]"
            ]
          },
          "metadata": {},
          "execution_count": 113
        }
      ]
    },
    {
      "cell_type": "code",
      "source": [
        "data.head() #T0 show train data"
      ],
      "metadata": {
        "id": "u9eGQARu4dJx",
        "colab": {
          "base_uri": "https://localhost:8080/",
          "height": 287
        },
        "outputId": "e853a429-cb46-4b05-cd38-59dd1a93612e"
      },
      "execution_count": 115,
      "outputs": [
        {
          "output_type": "execute_result",
          "data": {
            "text/html": [
              "\n",
              "  <div id=\"df-ce65a26b-333c-4d65-acea-f0083b64f5b0\">\n",
              "    <div class=\"colab-df-container\">\n",
              "      <div>\n",
              "<style scoped>\n",
              "    .dataframe tbody tr th:only-of-type {\n",
              "        vertical-align: middle;\n",
              "    }\n",
              "\n",
              "    .dataframe tbody tr th {\n",
              "        vertical-align: top;\n",
              "    }\n",
              "\n",
              "    .dataframe thead th {\n",
              "        text-align: right;\n",
              "    }\n",
              "</style>\n",
              "<table border=\"1\" class=\"dataframe\">\n",
              "  <thead>\n",
              "    <tr style=\"text-align: right;\">\n",
              "      <th></th>\n",
              "      <th>Present_Tmax</th>\n",
              "      <th>Present_Tmin</th>\n",
              "      <th>LDAPS_RHmin</th>\n",
              "      <th>LDAPS_RHmax</th>\n",
              "      <th>LDAPS_Tmax_lapse</th>\n",
              "      <th>LDAPS_Tmin_lapse</th>\n",
              "      <th>LDAPS_WS</th>\n",
              "      <th>LDAPS_LH</th>\n",
              "      <th>LDAPS_CC1</th>\n",
              "      <th>LDAPS_CC2</th>\n",
              "      <th>LDAPS_CC3</th>\n",
              "      <th>LDAPS_CC4</th>\n",
              "      <th>LDAPS_PPT1</th>\n",
              "      <th>LDAPS_PPT2</th>\n",
              "      <th>LDAPS_PPT3</th>\n",
              "      <th>LDAPS_PPT4</th>\n",
              "      <th>lat</th>\n",
              "      <th>lon</th>\n",
              "      <th>DEM</th>\n",
              "      <th>Slope</th>\n",
              "      <th>Solar radiation</th>\n",
              "      <th>Next_Tmax</th>\n",
              "    </tr>\n",
              "  </thead>\n",
              "  <tbody>\n",
              "    <tr>\n",
              "      <th>0</th>\n",
              "      <td>28.7</td>\n",
              "      <td>21.4</td>\n",
              "      <td>58.255688</td>\n",
              "      <td>91.116364</td>\n",
              "      <td>28.074101</td>\n",
              "      <td>23.006936</td>\n",
              "      <td>6.818887</td>\n",
              "      <td>69.451805</td>\n",
              "      <td>0.233947</td>\n",
              "      <td>0.203896</td>\n",
              "      <td>0.161697</td>\n",
              "      <td>0.130928</td>\n",
              "      <td>0.0</td>\n",
              "      <td>0.0</td>\n",
              "      <td>0.0</td>\n",
              "      <td>0.0</td>\n",
              "      <td>37.6046</td>\n",
              "      <td>126.991</td>\n",
              "      <td>212.3350</td>\n",
              "      <td>2.7850</td>\n",
              "      <td>5992.895996</td>\n",
              "      <td>29.1</td>\n",
              "    </tr>\n",
              "    <tr>\n",
              "      <th>1</th>\n",
              "      <td>31.9</td>\n",
              "      <td>21.6</td>\n",
              "      <td>52.263397</td>\n",
              "      <td>90.604721</td>\n",
              "      <td>29.850689</td>\n",
              "      <td>24.035009</td>\n",
              "      <td>5.691890</td>\n",
              "      <td>51.937448</td>\n",
              "      <td>0.225508</td>\n",
              "      <td>0.251771</td>\n",
              "      <td>0.159444</td>\n",
              "      <td>0.127727</td>\n",
              "      <td>0.0</td>\n",
              "      <td>0.0</td>\n",
              "      <td>0.0</td>\n",
              "      <td>0.0</td>\n",
              "      <td>37.6046</td>\n",
              "      <td>127.032</td>\n",
              "      <td>44.7624</td>\n",
              "      <td>0.5141</td>\n",
              "      <td>5869.312500</td>\n",
              "      <td>30.5</td>\n",
              "    </tr>\n",
              "    <tr>\n",
              "      <th>2</th>\n",
              "      <td>31.6</td>\n",
              "      <td>23.3</td>\n",
              "      <td>48.690479</td>\n",
              "      <td>83.973587</td>\n",
              "      <td>30.091292</td>\n",
              "      <td>24.565633</td>\n",
              "      <td>6.138224</td>\n",
              "      <td>20.573050</td>\n",
              "      <td>0.209344</td>\n",
              "      <td>0.257469</td>\n",
              "      <td>0.204091</td>\n",
              "      <td>0.142125</td>\n",
              "      <td>0.0</td>\n",
              "      <td>0.0</td>\n",
              "      <td>0.0</td>\n",
              "      <td>0.0</td>\n",
              "      <td>37.5776</td>\n",
              "      <td>127.058</td>\n",
              "      <td>33.3068</td>\n",
              "      <td>0.2661</td>\n",
              "      <td>5863.555664</td>\n",
              "      <td>31.1</td>\n",
              "    </tr>\n",
              "    <tr>\n",
              "      <th>3</th>\n",
              "      <td>32.0</td>\n",
              "      <td>23.4</td>\n",
              "      <td>58.239788</td>\n",
              "      <td>96.483688</td>\n",
              "      <td>29.704629</td>\n",
              "      <td>23.326177</td>\n",
              "      <td>5.650050</td>\n",
              "      <td>65.727144</td>\n",
              "      <td>0.216372</td>\n",
              "      <td>0.226002</td>\n",
              "      <td>0.161157</td>\n",
              "      <td>0.134249</td>\n",
              "      <td>0.0</td>\n",
              "      <td>0.0</td>\n",
              "      <td>0.0</td>\n",
              "      <td>0.0</td>\n",
              "      <td>37.6450</td>\n",
              "      <td>127.022</td>\n",
              "      <td>45.7160</td>\n",
              "      <td>2.5348</td>\n",
              "      <td>5856.964844</td>\n",
              "      <td>31.7</td>\n",
              "    </tr>\n",
              "    <tr>\n",
              "      <th>4</th>\n",
              "      <td>31.4</td>\n",
              "      <td>21.9</td>\n",
              "      <td>56.174095</td>\n",
              "      <td>90.155128</td>\n",
              "      <td>29.113934</td>\n",
              "      <td>23.486480</td>\n",
              "      <td>5.735004</td>\n",
              "      <td>107.965535</td>\n",
              "      <td>0.151407</td>\n",
              "      <td>0.249995</td>\n",
              "      <td>0.178892</td>\n",
              "      <td>0.170021</td>\n",
              "      <td>0.0</td>\n",
              "      <td>0.0</td>\n",
              "      <td>0.0</td>\n",
              "      <td>0.0</td>\n",
              "      <td>37.5507</td>\n",
              "      <td>127.135</td>\n",
              "      <td>35.0380</td>\n",
              "      <td>0.5055</td>\n",
              "      <td>5859.552246</td>\n",
              "      <td>31.2</td>\n",
              "    </tr>\n",
              "  </tbody>\n",
              "</table>\n",
              "</div>\n",
              "      <button class=\"colab-df-convert\" onclick=\"convertToInteractive('df-ce65a26b-333c-4d65-acea-f0083b64f5b0')\"\n",
              "              title=\"Convert this dataframe to an interactive table.\"\n",
              "              style=\"display:none;\">\n",
              "        \n",
              "  <svg xmlns=\"http://www.w3.org/2000/svg\" height=\"24px\"viewBox=\"0 0 24 24\"\n",
              "       width=\"24px\">\n",
              "    <path d=\"M0 0h24v24H0V0z\" fill=\"none\"/>\n",
              "    <path d=\"M18.56 5.44l.94 2.06.94-2.06 2.06-.94-2.06-.94-.94-2.06-.94 2.06-2.06.94zm-11 1L8.5 8.5l.94-2.06 2.06-.94-2.06-.94L8.5 2.5l-.94 2.06-2.06.94zm10 10l.94 2.06.94-2.06 2.06-.94-2.06-.94-.94-2.06-.94 2.06-2.06.94z\"/><path d=\"M17.41 7.96l-1.37-1.37c-.4-.4-.92-.59-1.43-.59-.52 0-1.04.2-1.43.59L10.3 9.45l-7.72 7.72c-.78.78-.78 2.05 0 2.83L4 21.41c.39.39.9.59 1.41.59.51 0 1.02-.2 1.41-.59l7.78-7.78 2.81-2.81c.8-.78.8-2.07 0-2.86zM5.41 20L4 18.59l7.72-7.72 1.47 1.35L5.41 20z\"/>\n",
              "  </svg>\n",
              "      </button>\n",
              "      \n",
              "  <style>\n",
              "    .colab-df-container {\n",
              "      display:flex;\n",
              "      flex-wrap:wrap;\n",
              "      gap: 12px;\n",
              "    }\n",
              "\n",
              "    .colab-df-convert {\n",
              "      background-color: #E8F0FE;\n",
              "      border: none;\n",
              "      border-radius: 50%;\n",
              "      cursor: pointer;\n",
              "      display: none;\n",
              "      fill: #1967D2;\n",
              "      height: 32px;\n",
              "      padding: 0 0 0 0;\n",
              "      width: 32px;\n",
              "    }\n",
              "\n",
              "    .colab-df-convert:hover {\n",
              "      background-color: #E2EBFA;\n",
              "      box-shadow: 0px 1px 2px rgba(60, 64, 67, 0.3), 0px 1px 3px 1px rgba(60, 64, 67, 0.15);\n",
              "      fill: #174EA6;\n",
              "    }\n",
              "\n",
              "    [theme=dark] .colab-df-convert {\n",
              "      background-color: #3B4455;\n",
              "      fill: #D2E3FC;\n",
              "    }\n",
              "\n",
              "    [theme=dark] .colab-df-convert:hover {\n",
              "      background-color: #434B5C;\n",
              "      box-shadow: 0px 1px 3px 1px rgba(0, 0, 0, 0.15);\n",
              "      filter: drop-shadow(0px 1px 2px rgba(0, 0, 0, 0.3));\n",
              "      fill: #FFFFFF;\n",
              "    }\n",
              "  </style>\n",
              "\n",
              "      <script>\n",
              "        const buttonEl =\n",
              "          document.querySelector('#df-ce65a26b-333c-4d65-acea-f0083b64f5b0 button.colab-df-convert');\n",
              "        buttonEl.style.display =\n",
              "          google.colab.kernel.accessAllowed ? 'block' : 'none';\n",
              "\n",
              "        async function convertToInteractive(key) {\n",
              "          const element = document.querySelector('#df-ce65a26b-333c-4d65-acea-f0083b64f5b0');\n",
              "          const dataTable =\n",
              "            await google.colab.kernel.invokeFunction('convertToInteractive',\n",
              "                                                     [key], {});\n",
              "          if (!dataTable) return;\n",
              "\n",
              "          const docLinkHtml = 'Like what you see? Visit the ' +\n",
              "            '<a target=\"_blank\" href=https://colab.research.google.com/notebooks/data_table.ipynb>data table notebook</a>'\n",
              "            + ' to learn more about interactive tables.';\n",
              "          element.innerHTML = '';\n",
              "          dataTable['output_type'] = 'display_data';\n",
              "          await google.colab.output.renderOutput(dataTable, element);\n",
              "          const docLink = document.createElement('div');\n",
              "          docLink.innerHTML = docLinkHtml;\n",
              "          element.appendChild(docLink);\n",
              "        }\n",
              "      </script>\n",
              "    </div>\n",
              "  </div>\n",
              "  "
            ],
            "text/plain": [
              "   Present_Tmax  Present_Tmin  LDAPS_RHmin  ...   Slope  Solar radiation  Next_Tmax\n",
              "0          28.7          21.4    58.255688  ...  2.7850      5992.895996       29.1\n",
              "1          31.9          21.6    52.263397  ...  0.5141      5869.312500       30.5\n",
              "2          31.6          23.3    48.690479  ...  0.2661      5863.555664       31.1\n",
              "3          32.0          23.4    58.239788  ...  2.5348      5856.964844       31.7\n",
              "4          31.4          21.9    56.174095  ...  0.5055      5859.552246       31.2\n",
              "\n",
              "[5 rows x 22 columns]"
            ]
          },
          "metadata": {},
          "execution_count": 115
        }
      ]
    },
    {
      "cell_type": "code",
      "source": [
        "X_test = data_test.loc[:,'Present_Tmax':'Solar radiation'].values #Test data\n",
        "X_test_norm = Normalize(X_test) #Normalise test data"
      ],
      "metadata": {
        "id": "BlI_aWcTeJMp"
      },
      "execution_count": 117,
      "outputs": []
    },
    {
      "cell_type": "markdown",
      "source": [
        "# **Predictions**"
      ],
      "metadata": {
        "id": "7dEI5H81p6iU"
      }
    },
    {
      "cell_type": "markdown",
      "source": [
        "**L2 Prediction**"
      ],
      "metadata": {
        "id": "R2CJReww2qcN"
      }
    },
    {
      "cell_type": "code",
      "source": [
        "y_L2 = Prediction (X_test, weight_L2_LOSS)\n",
        "y_L2 "
      ],
      "metadata": {
        "id": "yUVBYNNBpvqg",
        "colab": {
          "base_uri": "https://localhost:8080/"
        },
        "outputId": "7d146672-a997-4665-cffa-d9b96be2426a"
      },
      "execution_count": 118,
      "outputs": [
        {
          "output_type": "execute_result",
          "data": {
            "text/plain": [
              "array([60.50559823, 64.01502717, 63.50733371, ..., 51.16438588,\n",
              "       50.56931828, 49.45587706])"
            ]
          },
          "metadata": {},
          "execution_count": 118
        }
      ]
    },
    {
      "cell_type": "markdown",
      "source": [
        "**Summary**\n",
        "\n",
        "> L2 Prediction is not giving a best values because its minimum validation loss is in range 30.19428443318417\n",
        "\n"
      ],
      "metadata": {
        "id": "pCYBbF0t26ak"
      }
    },
    {
      "cell_type": "markdown",
      "source": [
        "**L1 prediction**"
      ],
      "metadata": {
        "id": "39SV8c9t21Me"
      }
    },
    {
      "cell_type": "code",
      "source": [
        "y_L1 = Prediction (X_test, weight_L1)\n",
        "y_L1"
      ],
      "metadata": {
        "id": "bKwNrV1kqtb3",
        "colab": {
          "base_uri": "https://localhost:8080/"
        },
        "outputId": "a606b154-4dda-437f-84cd-b1b39584d607"
      },
      "execution_count": 144,
      "outputs": [
        {
          "output_type": "execute_result",
          "data": {
            "text/plain": [
              "array([13.05996029, 14.90360302, 15.25096485, ..., 13.86715725,\n",
              "       14.24611883, 14.72492658])"
            ]
          },
          "metadata": {},
          "execution_count": 144
        }
      ]
    },
    {
      "cell_type": "code",
      "source": [
        "plt.plot(range(0,len(y_L1)),y_L1)#Plot for variation of prediction value with number of samples\n",
        "plt.xlabel('Sample')\n",
        "plt.ylabel('Tmax_Next')\n",
        "plt.legend()"
      ],
      "metadata": {
        "colab": {
          "base_uri": "https://localhost:8080/",
          "height": 314
        },
        "id": "lwB2sxuWvkvG",
        "outputId": "fb38142c-4c1a-4a07-c93b-b142c6a17134"
      },
      "execution_count": 130,
      "outputs": [
        {
          "output_type": "stream",
          "name": "stderr",
          "text": [
            "No handles with labels found to put in legend.\n"
          ]
        },
        {
          "output_type": "execute_result",
          "data": {
            "text/plain": [
              "<matplotlib.legend.Legend at 0x7fef905825d0>"
            ]
          },
          "metadata": {},
          "execution_count": 130
        },
        {
          "output_type": "display_data",
          "data": {
            "image/png": "[encoded data removed]",
            "text/plain": [
              "<Figure size 432x288 with 1 Axes>"
            ]
          },
          "metadata": {
            "needs_background": "light"
          }
        }
      ]
    },
    {
      "cell_type": "markdown",
      "source": [
        "**Prediction using Pesudo Inverse Method**"
      ],
      "metadata": {
        "id": "tyKW_UzH4MSN"
      }
    },
    {
      "cell_type": "code",
      "source": [
        "y_pse = Prediction (X_test, w_pesud)\n",
        "y_pse"
      ],
      "metadata": {
        "id": "extp4Nklq8j2",
        "colab": {
          "base_uri": "https://localhost:8080/"
        },
        "outputId": "018ae373-a090-4eff-9ba9-6f3447439180"
      },
      "execution_count": 131,
      "outputs": [
        {
          "output_type": "execute_result",
          "data": {
            "text/plain": [
              "array([114.55706316, 125.18790854, 122.89215785, ...,  97.94139108,\n",
              "        95.82924808,  93.11571877])"
            ]
          },
          "metadata": {},
          "execution_count": 131
        }
      ]
    },
    {
      "cell_type": "markdown",
      "source": [
        "**We Got the best Loss and Predictions for L1 loss. Thus we will write those values, in the file.**"
      ],
      "metadata": {
        "id": "wFWVEqSv4jby"
      }
    },
    {
      "cell_type": "code",
      "source": [
        "data_test['Tmax_Next'] = y_L1       #in the dataset, we form a new coloumn 'Tmax_Next' and in that, we will save our results"
      ],
      "metadata": {
        "id": "v4WO5kDy4lcA"
      },
      "execution_count": 132,
      "outputs": []
    },
    {
      "cell_type": "code",
      "source": [
        "data_test.head()"
      ],
      "metadata": {
        "colab": {
          "base_uri": "https://localhost:8080/",
          "height": 287
        },
        "id": "m0veHkdr4x1B",
        "outputId": "2486baf4-70e7-4417-8d1e-fb24f87b3df9"
      },
      "execution_count": 133,
      "outputs": [
        {
          "output_type": "execute_result",
          "data": {
            "text/html": [
              "\n",
              "  <div id=\"df-b9b2aed3-d46e-44b5-b424-7175e9dae5c6\">\n",
              "    <div class=\"colab-df-container\">\n",
              "      <div>\n",
              "<style scoped>\n",
              "    .dataframe tbody tr th:only-of-type {\n",
              "        vertical-align: middle;\n",
              "    }\n",
              "\n",
              "    .dataframe tbody tr th {\n",
              "        vertical-align: top;\n",
              "    }\n",
              "\n",
              "    .dataframe thead th {\n",
              "        text-align: right;\n",
              "    }\n",
              "</style>\n",
              "<table border=\"1\" class=\"dataframe\">\n",
              "  <thead>\n",
              "    <tr style=\"text-align: right;\">\n",
              "      <th></th>\n",
              "      <th>Present_Tmax</th>\n",
              "      <th>Present_Tmin</th>\n",
              "      <th>LDAPS_RHmin</th>\n",
              "      <th>LDAPS_RHmax</th>\n",
              "      <th>LDAPS_Tmax_lapse</th>\n",
              "      <th>LDAPS_Tmin_lapse</th>\n",
              "      <th>LDAPS_WS</th>\n",
              "      <th>LDAPS_LH</th>\n",
              "      <th>LDAPS_CC1</th>\n",
              "      <th>LDAPS_CC2</th>\n",
              "      <th>LDAPS_CC3</th>\n",
              "      <th>LDAPS_CC4</th>\n",
              "      <th>LDAPS_PPT1</th>\n",
              "      <th>LDAPS_PPT2</th>\n",
              "      <th>LDAPS_PPT3</th>\n",
              "      <th>LDAPS_PPT4</th>\n",
              "      <th>lat</th>\n",
              "      <th>lon</th>\n",
              "      <th>DEM</th>\n",
              "      <th>Slope</th>\n",
              "      <th>Solar radiation</th>\n",
              "      <th>Tmax_Next</th>\n",
              "    </tr>\n",
              "  </thead>\n",
              "  <tbody>\n",
              "    <tr>\n",
              "      <th>0</th>\n",
              "      <td>27.9</td>\n",
              "      <td>19.9</td>\n",
              "      <td>58.964123</td>\n",
              "      <td>97.821373</td>\n",
              "      <td>26.798375</td>\n",
              "      <td>20.828714</td>\n",
              "      <td>6.397833</td>\n",
              "      <td>75.366664</td>\n",
              "      <td>0.197580</td>\n",
              "      <td>0.306510</td>\n",
              "      <td>0.423613</td>\n",
              "      <td>0.842868</td>\n",
              "      <td>0.0</td>\n",
              "      <td>0.0</td>\n",
              "      <td>0.0</td>\n",
              "      <td>0.025890</td>\n",
              "      <td>37.6046</td>\n",
              "      <td>126.991</td>\n",
              "      <td>212.3350</td>\n",
              "      <td>2.7850</td>\n",
              "      <td>5992.895996</td>\n",
              "      <td>13.059960</td>\n",
              "    </tr>\n",
              "    <tr>\n",
              "      <th>1</th>\n",
              "      <td>30.3</td>\n",
              "      <td>21.0</td>\n",
              "      <td>51.617828</td>\n",
              "      <td>89.577393</td>\n",
              "      <td>29.069652</td>\n",
              "      <td>22.979956</td>\n",
              "      <td>6.199736</td>\n",
              "      <td>54.449329</td>\n",
              "      <td>0.193229</td>\n",
              "      <td>0.311707</td>\n",
              "      <td>0.431707</td>\n",
              "      <td>0.816846</td>\n",
              "      <td>0.0</td>\n",
              "      <td>0.0</td>\n",
              "      <td>0.0</td>\n",
              "      <td>0.031924</td>\n",
              "      <td>37.6046</td>\n",
              "      <td>127.032</td>\n",
              "      <td>44.7624</td>\n",
              "      <td>0.5141</td>\n",
              "      <td>5869.312500</td>\n",
              "      <td>14.903603</td>\n",
              "    </tr>\n",
              "    <tr>\n",
              "      <th>2</th>\n",
              "      <td>30.2</td>\n",
              "      <td>22.5</td>\n",
              "      <td>47.538521</td>\n",
              "      <td>85.529457</td>\n",
              "      <td>29.696974</td>\n",
              "      <td>23.554281</td>\n",
              "      <td>6.269956</td>\n",
              "      <td>14.450297</td>\n",
              "      <td>0.200518</td>\n",
              "      <td>0.301901</td>\n",
              "      <td>0.410575</td>\n",
              "      <td>0.825653</td>\n",
              "      <td>0.0</td>\n",
              "      <td>0.0</td>\n",
              "      <td>0.0</td>\n",
              "      <td>0.011254</td>\n",
              "      <td>37.5776</td>\n",
              "      <td>127.058</td>\n",
              "      <td>33.3068</td>\n",
              "      <td>0.2661</td>\n",
              "      <td>5863.555664</td>\n",
              "      <td>15.250965</td>\n",
              "    </tr>\n",
              "    <tr>\n",
              "      <th>3</th>\n",
              "      <td>30.7</td>\n",
              "      <td>22.0</td>\n",
              "      <td>59.407711</td>\n",
              "      <td>98.806969</td>\n",
              "      <td>28.234872</td>\n",
              "      <td>21.380987</td>\n",
              "      <td>6.755825</td>\n",
              "      <td>105.226457</td>\n",
              "      <td>0.186295</td>\n",
              "      <td>0.302106</td>\n",
              "      <td>0.397818</td>\n",
              "      <td>0.781959</td>\n",
              "      <td>0.0</td>\n",
              "      <td>0.0</td>\n",
              "      <td>0.0</td>\n",
              "      <td>0.041682</td>\n",
              "      <td>37.6450</td>\n",
              "      <td>127.022</td>\n",
              "      <td>45.7160</td>\n",
              "      <td>2.5348</td>\n",
              "      <td>5856.964844</td>\n",
              "      <td>14.472925</td>\n",
              "    </tr>\n",
              "    <tr>\n",
              "      <th>4</th>\n",
              "      <td>31.0</td>\n",
              "      <td>21.8</td>\n",
              "      <td>55.004128</td>\n",
              "      <td>92.867073</td>\n",
              "      <td>27.988202</td>\n",
              "      <td>22.164184</td>\n",
              "      <td>6.241006</td>\n",
              "      <td>104.791246</td>\n",
              "      <td>0.173245</td>\n",
              "      <td>0.291852</td>\n",
              "      <td>0.447998</td>\n",
              "      <td>0.823050</td>\n",
              "      <td>0.0</td>\n",
              "      <td>0.0</td>\n",
              "      <td>0.0</td>\n",
              "      <td>0.014004</td>\n",
              "      <td>37.5507</td>\n",
              "      <td>127.135</td>\n",
              "      <td>35.0380</td>\n",
              "      <td>0.5055</td>\n",
              "      <td>5859.552246</td>\n",
              "      <td>14.392509</td>\n",
              "    </tr>\n",
              "  </tbody>\n",
              "</table>\n",
              "</div>\n",
              "      <button class=\"colab-df-convert\" onclick=\"convertToInteractive('df-b9b2aed3-d46e-44b5-b424-7175e9dae5c6')\"\n",
              "              title=\"Convert this dataframe to an interactive table.\"\n",
              "              style=\"display:none;\">\n",
              "        \n",
              "  <svg xmlns=\"http://www.w3.org/2000/svg\" height=\"24px\"viewBox=\"0 0 24 24\"\n",
              "       width=\"24px\">\n",
              "    <path d=\"M0 0h24v24H0V0z\" fill=\"none\"/>\n",
              "    <path d=\"M18.56 5.44l.94 2.06.94-2.06 2.06-.94-2.06-.94-.94-2.06-.94 2.06-2.06.94zm-11 1L8.5 8.5l.94-2.06 2.06-.94-2.06-.94L8.5 2.5l-.94 2.06-2.06.94zm10 10l.94 2.06.94-2.06 2.06-.94-2.06-.94-.94-2.06-.94 2.06-2.06.94z\"/><path d=\"M17.41 7.96l-1.37-1.37c-.4-.4-.92-.59-1.43-.59-.52 0-1.04.2-1.43.59L10.3 9.45l-7.72 7.72c-.78.78-.78 2.05 0 2.83L4 21.41c.39.39.9.59 1.41.59.51 0 1.02-.2 1.41-.59l7.78-7.78 2.81-2.81c.8-.78.8-2.07 0-2.86zM5.41 20L4 18.59l7.72-7.72 1.47 1.35L5.41 20z\"/>\n",
              "  </svg>\n",
              "      </button>\n",
              "      \n",
              "  <style>\n",
              "    .colab-df-container {\n",
              "      display:flex;\n",
              "      flex-wrap:wrap;\n",
              "      gap: 12px;\n",
              "    }\n",
              "\n",
              "    .colab-df-convert {\n",
              "      background-color: #E8F0FE;\n",
              "      border: none;\n",
              "      border-radius: 50%;\n",
              "      cursor: pointer;\n",
              "      display: none;\n",
              "      fill: #1967D2;\n",
              "      height: 32px;\n",
              "      padding: 0 0 0 0;\n",
              "      width: 32px;\n",
              "    }\n",
              "\n",
              "    .colab-df-convert:hover {\n",
              "      background-color: #E2EBFA;\n",
              "      box-shadow: 0px 1px 2px rgba(60, 64, 67, 0.3), 0px 1px 3px 1px rgba(60, 64, 67, 0.15);\n",
              "      fill: #174EA6;\n",
              "    }\n",
              "\n",
              "    [theme=dark] .colab-df-convert {\n",
              "      background-color: #3B4455;\n",
              "      fill: #D2E3FC;\n",
              "    }\n",
              "\n",
              "    [theme=dark] .colab-df-convert:hover {\n",
              "      background-color: #434B5C;\n",
              "      box-shadow: 0px 1px 3px 1px rgba(0, 0, 0, 0.15);\n",
              "      filter: drop-shadow(0px 1px 2px rgba(0, 0, 0, 0.3));\n",
              "      fill: #FFFFFF;\n",
              "    }\n",
              "  </style>\n",
              "\n",
              "      <script>\n",
              "        const buttonEl =\n",
              "          document.querySelector('#df-b9b2aed3-d46e-44b5-b424-7175e9dae5c6 button.colab-df-convert');\n",
              "        buttonEl.style.display =\n",
              "          google.colab.kernel.accessAllowed ? 'block' : 'none';\n",
              "\n",
              "        async function convertToInteractive(key) {\n",
              "          const element = document.querySelector('#df-b9b2aed3-d46e-44b5-b424-7175e9dae5c6');\n",
              "          const dataTable =\n",
              "            await google.colab.kernel.invokeFunction('convertToInteractive',\n",
              "                                                     [key], {});\n",
              "          if (!dataTable) return;\n",
              "\n",
              "          const docLinkHtml = 'Like what you see? Visit the ' +\n",
              "            '<a target=\"_blank\" href=https://colab.research.google.com/notebooks/data_table.ipynb>data table notebook</a>'\n",
              "            + ' to learn more about interactive tables.';\n",
              "          element.innerHTML = '';\n",
              "          dataTable['output_type'] = 'display_data';\n",
              "          await google.colab.output.renderOutput(dataTable, element);\n",
              "          const docLink = document.createElement('div');\n",
              "          docLink.innerHTML = docLinkHtml;\n",
              "          element.appendChild(docLink);\n",
              "        }\n",
              "      </script>\n",
              "    </div>\n",
              "  </div>\n",
              "  "
            ],
            "text/plain": [
              "   Present_Tmax  Present_Tmin  LDAPS_RHmin  ...   Slope  Solar radiation  Tmax_Next\n",
              "0          27.9          19.9    58.964123  ...  2.7850      5992.895996  13.059960\n",
              "1          30.3          21.0    51.617828  ...  0.5141      5869.312500  14.903603\n",
              "2          30.2          22.5    47.538521  ...  0.2661      5863.555664  15.250965\n",
              "3          30.7          22.0    59.407711  ...  2.5348      5856.964844  14.472925\n",
              "4          31.0          21.8    55.004128  ...  0.5055      5859.552246  14.392509\n",
              "\n",
              "[5 rows x 22 columns]"
            ]
          },
          "metadata": {},
          "execution_count": 133
        }
      ]
    },
    {
      "cell_type": "code",
      "source": [
        "#data_test.to_csv('213074005_213230012_1.csv')     #saving the csv file"
      ],
      "metadata": {
        "id": "bvCAJRhA54Wc"
      },
      "execution_count": 146,
      "outputs": []
    },
    {
      "cell_type": "markdown",
      "source": [
        "**R2 Score for best predictor**"
      ],
      "metadata": {
        "id": "LITg2iZfIDKm"
      }
    },
    {
      "cell_type": "markdown",
      "source": [
        "Equation for R2 score given by:\n",
        "\n",
        "* $R^2 = 1 - \\frac{RSS}{TSS}$\n",
        "\n",
        "\n",
        " Where,\n",
        "\n",
        "* RSS -\tsum of squares of residuals\n",
        "\n",
        "* TSS\t-\ttotal sum of squares\n",
        "\n",
        "\n",
        "\n",
        "\n"
      ],
      "metadata": {
        "id": "w8qSVURxIW1S"
      }
    },
    {
      "cell_type": "markdown",
      "source": [
        "\n",
        "\n",
        "*   $RSS=\\sum \\limits_{i=1}^{n} (t_i-f(x_i))^2$\n",
        "\n",
        "Where,\n",
        "* $t_i\t=\ti^th$ value of the variable to be predicted\n",
        "* $f(x_i)\t=$\tpredicted value of *t_i* \n",
        "* n\t=\tupper limit of summation\n",
        "\n",
        "\n",
        "\n"
      ],
      "metadata": {
        "id": "h4Eq31sZJfcO"
      }
    },
    {
      "cell_type": "markdown",
      "source": [
        "\n",
        "\n",
        "$\\mathrm{TSS}=\\sum_{i=1}^{n}(t_{i}-\\bar{t})^{2}$\n",
        "\n",
        "Where,\n",
        "\n",
        "*   ${n}\t=$\tnumber of observations\n",
        "*  $t_{i}\t=$ target\tvalue in a sample\n",
        "*  $\\bar{t}\t=$\tmean value of a target sample\n",
        "\n",
        "**Reference of equation for R2** [link text](https://www.google.com/search?q=r2+score&oq=R2+score&aqs=chrome.0.0i131i433i512j0i512l9.5721j0j7&sourceid=chrome&ie=UTF-8#wptab=s:H4sIAAAAAAAAAONgVuLUz9U3MDWzKMh4xGjCLfDyxz1hKe1Ja05eY1Tl4grOyC93zSvJLKkUEudig7J4pbi5ELp4djFJuqaUJieWZObnJeY45-clpxaUuOUX5ZbmJC5iVUnOT01Ly0zOTM0rUchPU0hJLUktys3MAytXSIMoAwDDIszGhwAAAA)\n",
        "\n",
        "\n",
        "\n"
      ],
      "metadata": {
        "id": "7b2GLnNAKbkJ"
      }
    },
    {
      "cell_type": "code",
      "source": [
        "a = np.square(t_validate- Prediction (X_validate,w_array[l1_min_weight_index])) #Indivagual term to be summed in RSS\n",
        "rss_val = np.sum(a)                                                             #Sum of squre gives RSS\n",
        "\n",
        "b=np.square(t_validate - np.mean(t_validate))                                   #Indivigual TSS elements\n",
        "\n",
        "tss_val= np.sum(b)                                                              #sum gives TSS\n",
        "\n",
        "R2_score= 1-(rss_val/tss_val)                                                   #R2 score\n",
        "print('R2 Score:')\n",
        "R2_score"
      ],
      "metadata": {
        "colab": {
          "base_uri": "https://localhost:8080/"
        },
        "id": "-SKc_qP0ICD5",
        "outputId": "91b7a1cf-6296-489a-dfed-60fdeae0e5ce"
      },
      "execution_count": 172,
      "outputs": [
        {
          "output_type": "stream",
          "name": "stdout",
          "text": [
            "R2 Score:\n"
          ]
        },
        {
          "output_type": "execute_result",
          "data": {
            "text/plain": [
              "0.6975912317416243"
            ]
          },
          "metadata": {},
          "execution_count": 172
        }
      ]
    },
    {
      "cell_type": "markdown",
      "source": [
        "#**... Part 2 ends.**\n",
        "\n",
        "1. Write the name or roll no.s of friends from outside your group with whom you discussed the assignment here (no penalty for mere discussion without copying code):\n",
        "\n",
        "\n",
        "**Other References:**\n",
        "\n",
        "1. Class Notes\n",
        "2. MS Teams Discussion Threads\n",
        "\n",
        "**Coursemates with whom we discussed:**\n",
        "\n",
        "1. Anal Prakash Sharma: 213079011\n",
        "2. Paavan Gouniyal: 213070051\n",
        "3. Aswin Thomas: 213074003\n",
        "4. Rajat Sankhla: 213079008\n",
        "5. Abhishek Verma: 213070024\n",
        "6. Surbhika Rastogi: 213070056\n",
        "7. Ankit Singh: 213070029\n",
        "8. Prafull Bhosale: 20301005\n",
        "\n",
        "Mainly Discussed Mathematical Expressions/ Formulas and Parameter tunning with these people.\n",
        "2. Write the links of sources on the internet referred here (no penalty for mere consultation without copying code): **Internet Sources Reffered:**\n",
        "\n",
        "https://www.w3schools.com/python/python_conditions.asp\n",
        "https://www.w3schools.com/python/python_for_loops.asp\n",
        "https://stackoverflow.com/questions/32827269/adding-columns-to-matrix-in-python/32827597\n",
        "https://www.educative.io/edpresso/how-to-create-an-empty-numpy-array\n",
        "https://numpy.org/doc/stable/reference/generated/numpy.matrix.transpose.html\n",
        "https://note.nkmk.me/en/python-numpy-ndarray-ndim-shape-size/\n",
        "https://www.datacamp.com/community/tutorials/elif-statements-python?utm_source=adwords_ppc&utm_medium=cpc&utm_campaignid=1455363063&utm_adgroupid=65083631748&utm_device=c&utm_keyword=&utm_matchtype=&utm_network=g&utm_adpostion=&utm_creative=332602034361&utm_targetid=dsa-429603003980&utm_loc_interest_ms=&utm_loc_physical_ms=9062235&gclid=Cj0KCQiArt6PBhCoARIsAMF5wagCvPK4u69CWeyFQFEj9bsEMsNg2Ym4IBkJc21GN2k4QugwO0AykTsaAmFrEALw_wcB\n",
        "https://www.w3schools.com/python/numpy/numpy_array_shape.asp\n",
        "https://numpy.org/doc/stable/reference/generated/numpy.column_stack.html#numpy.column_stack\n",
        "https://numpy.org/doc/stable/reference/generated/numpy.ndarray.size.html\n",
        "https://www.kite.com/python/answers/how-to-add-a-column-to-a-numpy-array-in-python#:~:text=Use%20numpy.,-append()%20to&text=Call%20numpy.,column%20to%20the%20array%20arr%20.\n",
        "https://www.javatpoint.com/numpy-empty\n",
        "https://www.w3schools.com/python/python_conditions.asp\n",
        "https://numpy.org/doc/stable/reference/generated/numpy.append.html\n",
        "https://www.tutorialspoint.com/numpy/numpy_matmul.htm\n",
        "https://www.delftstack.com/howto/numpy/numpy-add-row-to-matrix/\n",
        "https://www.tutorialspoint.com/numpy/numpy_hstack.htm\n",
        "https://pandas.pydata.org/docs/reference/api/pandas.read_csv.html\n",
        "https://math.stackexchange.com/questions/883016/gradient-of-squared-2-norm\n",
        "https://www.geeksforgeeks.org/numpy-identity-python/\n",
        "https://stackoverflow.com/questions/21065938/read-a-single-column-of-a-csv-and-store-in-an-array\n",
        "https://pandas.pydata.org/docs/reference/api/pandas.read_excel.html\n",
        "https://stackoverflow.com/questions/15017072/pandas-read-csv-and-filter-columns-with-usecols\n",
        "https://www.kite.com/python/answers/how-to-read-specific-columns-from-a-%60.csv%60-file-to-a-pandas-dataframe-in-python\n",
        "https://numpy.org/doc/stable/reference/random/generated/numpy.random.rand.html\n",
        "https://numpy.org/doc/stable/reference/generated/numpy.ones.html\n",
        "https://stackoverflow.com/questions/24147278/how-do-i-create-test-and-train-samples-from-one-dataframe-with-pandas\n",
        "https://www.geeksforgeeks.org/dealing-with-rows-and-columns-in-pandas-dataframe/#:~:text=In%20Order%20to%20select%20a,them%20by%20their%20columns%20name.&text=Column%20Addition%3A,add%20to%20a%20existing%20Dataframe. \n",
        "\n"
      ],
      "metadata": {
        "id": "x3abzij-6LgV"
      }
    }
  ],
  "metadata": {
    "kernelspec": {
      "display_name": "Python 3",
      "language": "python",
      "name": "python3"
    },
    "language_info": {
      "codemirror_mode": {
        "name": "ipython",
        "version": 3
      },
      "file_extension": ".py",
      "mimetype": "text/x-python",
      "name": "python",
      "nbconvert_exporter": "python",
      "pygments_lexer": "ipython3",
      "version": "3.8.3"
    },
    "colab": {
      "name": "213074005_213230012_1.ipynb",
      "provenance": []
    }
  },
  "nbformat": 4,
  "nbformat_minor": 0
}