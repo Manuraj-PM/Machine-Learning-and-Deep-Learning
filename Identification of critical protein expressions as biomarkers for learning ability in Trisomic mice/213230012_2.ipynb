{
  "nbformat": 4,
  "nbformat_minor": 0,
  "metadata": {
    "colab": {
      "name": "213230012_2.ipynb",
      "provenance": [],
      "collapsed_sections": []
    },
    "kernelspec": {
      "name": "python3",
      "display_name": "Python 3"
    },
    "language_info": {
      "name": "python"
    }
  },
  "cells": [
    {
      "cell_type": "markdown",
      "source": [
        "# EE 769 Assignment 2\n",
        "\n",
        "\n",
        "Manuraj P M  -  213230012\n",
        "\n"
      ],
      "metadata": {
        "id": "cn4u9feR4ht8"
      }
    },
    {
      "cell_type": "markdown",
      "source": [
        "DATA READING,PREPROCESSING AND IMPUTATION"
      ],
      "metadata": {
        "id": "rYjYSog-T0cT"
      }
    },
    {
      "cell_type": "code",
      "source": [
        "import pandas as pd  #Related library\n",
        "import matplotlib.pyplot as plt\n",
        "import numpy as np\n",
        "import seaborn as sns\n",
        "sns.set()\n",
        "sns.set(style=\"darkgrid\")\n",
        "%matplotlib inline \n",
        "import warnings\n",
        "warnings.filterwarnings(\"ignore\") #Ignore warnings\n",
        "plt.rcParams['figure.figsize'] =(30,15) #Set size of plot\n",
        "train_df = pd.read_csv(\"https://www.ee.iitb.ac.in/~asethi/Dump/MouseTrain.csv\")\n",
        "train_df.info()\n",
        "train_df.Genotype.value_counts() #Value count...\n",
        "train_df.Treatment_Behavior.value_counts()\n",
        "#Unique values count\n",
        "for clms in train_df.columns.values: #Ittertared through columns\n",
        "  print(clms+\" has \"+str(len(pd.unique(train_df[clms])))+\" unique values \") #Generates string length for unique values in each columns\n",
        "  print(\"\\n\")\n",
        "from sklearn.experimental import enable_iterative_imputer #Related library\n",
        "from sklearn.impute import IterativeImputer\n",
        "data_test_ip = train_df.loc[:,'DYRK1A_N':'CaNA_N'] #taking the features out of the dataset\n",
        "data_test_ip \n",
        "#ref [5]\n",
        "\n",
        "# imp = IterativeImputer(max_iter=20, random_state=0)\n",
        "# imp.fit(data_test_ip)\n",
        "# IterativeImputer(random_state=0)\n",
        "# imp.transform(data_test_ip)\n",
        "\n",
        "#ref [9]\n",
        "#now we will do the imputation since some values are nan\n",
        "from sklearn.experimental import enable_iterative_imputer\n",
        "from sklearn.impute import IterativeImputer\n",
        "imputer = IterativeImputer(random_state=42)\n",
        "test_data_ip = imputer.fit_transform(data_test_ip)\n",
        "test_data_ip = pd.DataFrame(test_data_ip, columns=data_test_ip.columns)\n",
        "test_data_ip.info()"
      ],
      "metadata": {
        "id": "_aB5nFH9ru3l",
        "colab": {
          "base_uri": "https://localhost:8080/"
        },
        "outputId": "8b160646-46cf-4c85-bb58-6b5211bf5c61"
      },
      "execution_count": 1,
      "outputs": [
        {
          "output_type": "stream",
          "name": "stdout",
          "text": [
            "<class 'pandas.core.frame.DataFrame'>\n",
            "RangeIndex: 762 entries, 0 to 761\n",
            "Data columns (total 79 columns):\n",
            " #   Column              Non-Null Count  Dtype  \n",
            "---  ------              --------------  -----  \n",
            " 0   DYRK1A_N            762 non-null    float64\n",
            " 1   ITSN1_N             762 non-null    float64\n",
            " 2   BDNF_N              762 non-null    float64\n",
            " 3   NR1_N               762 non-null    float64\n",
            " 4   NR2A_N              762 non-null    float64\n",
            " 5   pAKT_N              762 non-null    float64\n",
            " 6   pBRAF_N             762 non-null    float64\n",
            " 7   pCAMKII_N           762 non-null    float64\n",
            " 8   pCREB_N             762 non-null    float64\n",
            " 9   pELK_N              762 non-null    float64\n",
            " 10  pERK_N              762 non-null    float64\n",
            " 11  pJNK_N              762 non-null    float64\n",
            " 12  PKCA_N              762 non-null    float64\n",
            " 13  pMEK_N              762 non-null    float64\n",
            " 14  pNR1_N              762 non-null    float64\n",
            " 15  pNR2A_N             762 non-null    float64\n",
            " 16  pNR2B_N             762 non-null    float64\n",
            " 17  pPKCAB_N            762 non-null    float64\n",
            " 18  pRSK_N              762 non-null    float64\n",
            " 19  AKT_N               762 non-null    float64\n",
            " 20  BRAF_N              762 non-null    float64\n",
            " 21  CAMKII_N            762 non-null    float64\n",
            " 22  CREB_N              762 non-null    float64\n",
            " 23  ELK_N               747 non-null    float64\n",
            " 24  ERK_N               762 non-null    float64\n",
            " 25  GSK3B_N             762 non-null    float64\n",
            " 26  JNK_N               762 non-null    float64\n",
            " 27  MEK_N               758 non-null    float64\n",
            " 28  TRKA_N              762 non-null    float64\n",
            " 29  RSK_N               762 non-null    float64\n",
            " 30  APP_N               762 non-null    float64\n",
            " 31  Bcatenin_N          747 non-null    float64\n",
            " 32  SOD1_N              762 non-null    float64\n",
            " 33  MTOR_N              762 non-null    float64\n",
            " 34  P38_N               762 non-null    float64\n",
            " 35  pMTOR_N             762 non-null    float64\n",
            " 36  DSCR1_N             762 non-null    float64\n",
            " 37  AMPKA_N             762 non-null    float64\n",
            " 38  NR2B_N              762 non-null    float64\n",
            " 39  pNUMB_N             762 non-null    float64\n",
            " 40  RAPTOR_N            762 non-null    float64\n",
            " 41  TIAM1_N             762 non-null    float64\n",
            " 42  pP70S6_N            762 non-null    float64\n",
            " 43  NUMB_N              762 non-null    float64\n",
            " 44  P70S6_N             762 non-null    float64\n",
            " 45  pGSK3B_N            762 non-null    float64\n",
            " 46  pPKCG_N             762 non-null    float64\n",
            " 47  CDK5_N              762 non-null    float64\n",
            " 48  S6_N                762 non-null    float64\n",
            " 49  ADARB1_N            762 non-null    float64\n",
            " 50  AcetylH3K9_N        762 non-null    float64\n",
            " 51  RRP1_N              762 non-null    float64\n",
            " 52  BAX_N               762 non-null    float64\n",
            " 53  ARC_N               762 non-null    float64\n",
            " 54  ERBB4_N             762 non-null    float64\n",
            " 55  nNOS_N              762 non-null    float64\n",
            " 56  Tau_N               762 non-null    float64\n",
            " 57  GFAP_N              762 non-null    float64\n",
            " 58  GluR3_N             762 non-null    float64\n",
            " 59  GluR4_N             762 non-null    float64\n",
            " 60  IL1B_N              762 non-null    float64\n",
            " 61  P3525_N             762 non-null    float64\n",
            " 62  pCASP9_N            762 non-null    float64\n",
            " 63  PSD95_N             762 non-null    float64\n",
            " 64  SNCA_N              762 non-null    float64\n",
            " 65  Ubiquitin_N         762 non-null    float64\n",
            " 66  pGSK3B_Tyr216_N     762 non-null    float64\n",
            " 67  SHH_N               762 non-null    float64\n",
            " 68  BAD_N               582 non-null    float64\n",
            " 69  BCL2_N              567 non-null    float64\n",
            " 70  pS6_N               762 non-null    float64\n",
            " 71  pCFOS_N             702 non-null    float64\n",
            " 72  SYP_N               762 non-null    float64\n",
            " 73  H3AcK18_N           612 non-null    float64\n",
            " 74  EGR1_N              582 non-null    float64\n",
            " 75  H3MeK4_N            582 non-null    float64\n",
            " 76  CaNA_N              762 non-null    float64\n",
            " 77  Genotype            762 non-null    object \n",
            " 78  Treatment_Behavior  762 non-null    object \n",
            "dtypes: float64(77), object(2)\n",
            "memory usage: 470.4+ KB\n",
            "DYRK1A_N has 762 unique values \n",
            "\n",
            "\n",
            "ITSN1_N has 761 unique values \n",
            "\n",
            "\n",
            "BDNF_N has 762 unique values \n",
            "\n",
            "\n",
            "NR1_N has 762 unique values \n",
            "\n",
            "\n",
            "NR2A_N has 762 unique values \n",
            "\n",
            "\n",
            "pAKT_N has 762 unique values \n",
            "\n",
            "\n",
            "pBRAF_N has 760 unique values \n",
            "\n",
            "\n",
            "pCAMKII_N has 762 unique values \n",
            "\n",
            "\n",
            "pCREB_N has 762 unique values \n",
            "\n",
            "\n",
            "pELK_N has 762 unique values \n",
            "\n",
            "\n",
            "pERK_N has 762 unique values \n",
            "\n",
            "\n",
            "pJNK_N has 761 unique values \n",
            "\n",
            "\n",
            "PKCA_N has 762 unique values \n",
            "\n",
            "\n",
            "pMEK_N has 762 unique values \n",
            "\n",
            "\n",
            "pNR1_N has 762 unique values \n",
            "\n",
            "\n",
            "pNR2A_N has 762 unique values \n",
            "\n",
            "\n",
            "pNR2B_N has 762 unique values \n",
            "\n",
            "\n",
            "pPKCAB_N has 762 unique values \n",
            "\n",
            "\n",
            "pRSK_N has 762 unique values \n",
            "\n",
            "\n",
            "AKT_N has 762 unique values \n",
            "\n",
            "\n",
            "BRAF_N has 762 unique values \n",
            "\n",
            "\n",
            "CAMKII_N has 762 unique values \n",
            "\n",
            "\n",
            "CREB_N has 758 unique values \n",
            "\n",
            "\n",
            "ELK_N has 748 unique values \n",
            "\n",
            "\n",
            "ERK_N has 762 unique values \n",
            "\n",
            "\n",
            "GSK3B_N has 762 unique values \n",
            "\n",
            "\n",
            "JNK_N has 762 unique values \n",
            "\n",
            "\n",
            "MEK_N has 759 unique values \n",
            "\n",
            "\n",
            "TRKA_N has 762 unique values \n",
            "\n",
            "\n",
            "RSK_N has 761 unique values \n",
            "\n",
            "\n",
            "APP_N has 762 unique values \n",
            "\n",
            "\n",
            "Bcatenin_N has 748 unique values \n",
            "\n",
            "\n",
            "SOD1_N has 762 unique values \n",
            "\n",
            "\n",
            "MTOR_N has 762 unique values \n",
            "\n",
            "\n",
            "P38_N has 761 unique values \n",
            "\n",
            "\n",
            "pMTOR_N has 762 unique values \n",
            "\n",
            "\n",
            "DSCR1_N has 762 unique values \n",
            "\n",
            "\n",
            "AMPKA_N has 762 unique values \n",
            "\n",
            "\n",
            "NR2B_N has 762 unique values \n",
            "\n",
            "\n",
            "pNUMB_N has 762 unique values \n",
            "\n",
            "\n",
            "RAPTOR_N has 762 unique values \n",
            "\n",
            "\n",
            "TIAM1_N has 760 unique values \n",
            "\n",
            "\n",
            "pP70S6_N has 761 unique values \n",
            "\n",
            "\n",
            "NUMB_N has 762 unique values \n",
            "\n",
            "\n",
            "P70S6_N has 762 unique values \n",
            "\n",
            "\n",
            "pGSK3B_N has 762 unique values \n",
            "\n",
            "\n",
            "pPKCG_N has 762 unique values \n",
            "\n",
            "\n",
            "CDK5_N has 762 unique values \n",
            "\n",
            "\n",
            "S6_N has 762 unique values \n",
            "\n",
            "\n",
            "ADARB1_N has 762 unique values \n",
            "\n",
            "\n",
            "AcetylH3K9_N has 762 unique values \n",
            "\n",
            "\n",
            "RRP1_N has 762 unique values \n",
            "\n",
            "\n",
            "BAX_N has 762 unique values \n",
            "\n",
            "\n",
            "ARC_N has 762 unique values \n",
            "\n",
            "\n",
            "ERBB4_N has 762 unique values \n",
            "\n",
            "\n",
            "nNOS_N has 762 unique values \n",
            "\n",
            "\n",
            "Tau_N has 762 unique values \n",
            "\n",
            "\n",
            "GFAP_N has 762 unique values \n",
            "\n",
            "\n",
            "GluR3_N has 762 unique values \n",
            "\n",
            "\n",
            "GluR4_N has 762 unique values \n",
            "\n",
            "\n",
            "IL1B_N has 762 unique values \n",
            "\n",
            "\n",
            "P3525_N has 762 unique values \n",
            "\n",
            "\n",
            "pCASP9_N has 762 unique values \n",
            "\n",
            "\n",
            "PSD95_N has 762 unique values \n",
            "\n",
            "\n",
            "SNCA_N has 761 unique values \n",
            "\n",
            "\n",
            "Ubiquitin_N has 762 unique values \n",
            "\n",
            "\n",
            "pGSK3B_Tyr216_N has 762 unique values \n",
            "\n",
            "\n",
            "SHH_N has 762 unique values \n",
            "\n",
            "\n",
            "BAD_N has 582 unique values \n",
            "\n",
            "\n",
            "BCL2_N has 568 unique values \n",
            "\n",
            "\n",
            "pS6_N has 762 unique values \n",
            "\n",
            "\n",
            "pCFOS_N has 703 unique values \n",
            "\n",
            "\n",
            "SYP_N has 762 unique values \n",
            "\n",
            "\n",
            "H3AcK18_N has 613 unique values \n",
            "\n",
            "\n",
            "EGR1_N has 583 unique values \n",
            "\n",
            "\n",
            "H3MeK4_N has 583 unique values \n",
            "\n",
            "\n",
            "CaNA_N has 762 unique values \n",
            "\n",
            "\n",
            "Genotype has 2 unique values \n",
            "\n",
            "\n",
            "Treatment_Behavior has 4 unique values \n",
            "\n",
            "\n",
            "<class 'pandas.core.frame.DataFrame'>\n",
            "RangeIndex: 762 entries, 0 to 761\n",
            "Data columns (total 77 columns):\n",
            " #   Column           Non-Null Count  Dtype  \n",
            "---  ------           --------------  -----  \n",
            " 0   DYRK1A_N         762 non-null    float64\n",
            " 1   ITSN1_N          762 non-null    float64\n",
            " 2   BDNF_N           762 non-null    float64\n",
            " 3   NR1_N            762 non-null    float64\n",
            " 4   NR2A_N           762 non-null    float64\n",
            " 5   pAKT_N           762 non-null    float64\n",
            " 6   pBRAF_N          762 non-null    float64\n",
            " 7   pCAMKII_N        762 non-null    float64\n",
            " 8   pCREB_N          762 non-null    float64\n",
            " 9   pELK_N           762 non-null    float64\n",
            " 10  pERK_N           762 non-null    float64\n",
            " 11  pJNK_N           762 non-null    float64\n",
            " 12  PKCA_N           762 non-null    float64\n",
            " 13  pMEK_N           762 non-null    float64\n",
            " 14  pNR1_N           762 non-null    float64\n",
            " 15  pNR2A_N          762 non-null    float64\n",
            " 16  pNR2B_N          762 non-null    float64\n",
            " 17  pPKCAB_N         762 non-null    float64\n",
            " 18  pRSK_N           762 non-null    float64\n",
            " 19  AKT_N            762 non-null    float64\n",
            " 20  BRAF_N           762 non-null    float64\n",
            " 21  CAMKII_N         762 non-null    float64\n",
            " 22  CREB_N           762 non-null    float64\n",
            " 23  ELK_N            762 non-null    float64\n",
            " 24  ERK_N            762 non-null    float64\n",
            " 25  GSK3B_N          762 non-null    float64\n",
            " 26  JNK_N            762 non-null    float64\n",
            " 27  MEK_N            762 non-null    float64\n",
            " 28  TRKA_N           762 non-null    float64\n",
            " 29  RSK_N            762 non-null    float64\n",
            " 30  APP_N            762 non-null    float64\n",
            " 31  Bcatenin_N       762 non-null    float64\n",
            " 32  SOD1_N           762 non-null    float64\n",
            " 33  MTOR_N           762 non-null    float64\n",
            " 34  P38_N            762 non-null    float64\n",
            " 35  pMTOR_N          762 non-null    float64\n",
            " 36  DSCR1_N          762 non-null    float64\n",
            " 37  AMPKA_N          762 non-null    float64\n",
            " 38  NR2B_N           762 non-null    float64\n",
            " 39  pNUMB_N          762 non-null    float64\n",
            " 40  RAPTOR_N         762 non-null    float64\n",
            " 41  TIAM1_N          762 non-null    float64\n",
            " 42  pP70S6_N         762 non-null    float64\n",
            " 43  NUMB_N           762 non-null    float64\n",
            " 44  P70S6_N          762 non-null    float64\n",
            " 45  pGSK3B_N         762 non-null    float64\n",
            " 46  pPKCG_N          762 non-null    float64\n",
            " 47  CDK5_N           762 non-null    float64\n",
            " 48  S6_N             762 non-null    float64\n",
            " 49  ADARB1_N         762 non-null    float64\n",
            " 50  AcetylH3K9_N     762 non-null    float64\n",
            " 51  RRP1_N           762 non-null    float64\n",
            " 52  BAX_N            762 non-null    float64\n",
            " 53  ARC_N            762 non-null    float64\n",
            " 54  ERBB4_N          762 non-null    float64\n",
            " 55  nNOS_N           762 non-null    float64\n",
            " 56  Tau_N            762 non-null    float64\n",
            " 57  GFAP_N           762 non-null    float64\n",
            " 58  GluR3_N          762 non-null    float64\n",
            " 59  GluR4_N          762 non-null    float64\n",
            " 60  IL1B_N           762 non-null    float64\n",
            " 61  P3525_N          762 non-null    float64\n",
            " 62  pCASP9_N         762 non-null    float64\n",
            " 63  PSD95_N          762 non-null    float64\n",
            " 64  SNCA_N           762 non-null    float64\n",
            " 65  Ubiquitin_N      762 non-null    float64\n",
            " 66  pGSK3B_Tyr216_N  762 non-null    float64\n",
            " 67  SHH_N            762 non-null    float64\n",
            " 68  BAD_N            762 non-null    float64\n",
            " 69  BCL2_N           762 non-null    float64\n",
            " 70  pS6_N            762 non-null    float64\n",
            " 71  pCFOS_N          762 non-null    float64\n",
            " 72  SYP_N            762 non-null    float64\n",
            " 73  H3AcK18_N        762 non-null    float64\n",
            " 74  EGR1_N           762 non-null    float64\n",
            " 75  H3MeK4_N         762 non-null    float64\n",
            " 76  CaNA_N           762 non-null    float64\n",
            "dtypes: float64(77)\n",
            "memory usage: 458.5 KB\n"
          ]
        }
      ]
    },
    {
      "cell_type": "markdown",
      "source": [
        "**Eliminationg Hoghly correlated columns**"
      ],
      "metadata": {
        "id": "SH8Ada0NWh07"
      }
    },
    {
      "cell_type": "code",
      "source": [
        "corrM = test_data_ip.corr()#To Generate correlation matrix df\n",
        "corrM.head()"
      ],
      "metadata": {
        "id": "ui6QvH7brGvg",
        "colab": {
          "base_uri": "https://localhost:8080/",
          "height": 299
        },
        "outputId": "ffe4f10a-4405-4a78-ee40-f087d967caaa"
      },
      "execution_count": 2,
      "outputs": [
        {
          "output_type": "execute_result",
          "data": {
            "text/plain": [
              "          DYRK1A_N   ITSN1_N    BDNF_N     NR1_N    NR2A_N    pAKT_N  \\\n",
              "DYRK1A_N  1.000000  0.961321  0.407110  0.314795  0.340011 -0.182126   \n",
              "ITSN1_N   0.961321  1.000000  0.495102  0.428745  0.421034 -0.149509   \n",
              "BDNF_N    0.407110  0.495102  1.000000  0.817986  0.746004  0.241501   \n",
              "NR1_N     0.314795  0.428745  0.817986  1.000000  0.866667  0.185322   \n",
              "NR2A_N    0.340011  0.421034  0.746004  0.866667  1.000000  0.076446   \n",
              "\n",
              "           pBRAF_N  pCAMKII_N   pCREB_N    pELK_N  ...     SHH_N     BAD_N  \\\n",
              "DYRK1A_N -0.085401  -0.158167  0.082463  0.811398  ... -0.223812 -0.255974   \n",
              "ITSN1_N  -0.068712  -0.114789  0.200468  0.796880  ... -0.220720 -0.341409   \n",
              "BDNF_N    0.332689   0.129602  0.569146  0.458951  ... -0.112984 -0.241762   \n",
              "NR1_N     0.220929   0.253744  0.599846  0.399791  ... -0.100915 -0.431328   \n",
              "NR2A_N    0.079740   0.223203  0.362348  0.387644  ... -0.237932 -0.515386   \n",
              "\n",
              "            BCL2_N     pS6_N   pCFOS_N     SYP_N  H3AcK18_N    EGR1_N  \\\n",
              "DYRK1A_N -0.216103 -0.358480 -0.251624 -0.035929  -0.335634 -0.318127   \n",
              "ITSN1_N  -0.307867 -0.299066 -0.323878  0.039384  -0.357801 -0.404352   \n",
              "BDNF_N   -0.170503  0.070504 -0.261622  0.454025  -0.284638 -0.245891   \n",
              "NR1_N    -0.329547  0.227674 -0.354048  0.486483  -0.339320 -0.371601   \n",
              "NR2A_N   -0.360714  0.215495 -0.398397  0.377628  -0.365133 -0.404731   \n",
              "\n",
              "          H3MeK4_N    CaNA_N  \n",
              "DYRK1A_N -0.303629  0.457907  \n",
              "ITSN1_N  -0.374469  0.495085  \n",
              "BDNF_N   -0.316513  0.304098  \n",
              "NR1_N    -0.416312  0.205033  \n",
              "NR2A_N   -0.495630  0.185840  \n",
              "\n",
              "[5 rows x 77 columns]"
            ],
            "text/html": [
              "\n",
              "  <div id=\"df-64ebf634-ac40-49f2-8128-4f647e920f48\">\n",
              "    <div class=\"colab-df-container\">\n",
              "      <div>\n",
              "<style scoped>\n",
              "    .dataframe tbody tr th:only-of-type {\n",
              "        vertical-align: middle;\n",
              "    }\n",
              "\n",
              "    .dataframe tbody tr th {\n",
              "        vertical-align: top;\n",
              "    }\n",
              "\n",
              "    .dataframe thead th {\n",
              "        text-align: right;\n",
              "    }\n",
              "</style>\n",
              "<table border=\"1\" class=\"dataframe\">\n",
              "  <thead>\n",
              "    <tr style=\"text-align: right;\">\n",
              "      <th></th>\n",
              "      <th>DYRK1A_N</th>\n",
              "      <th>ITSN1_N</th>\n",
              "      <th>BDNF_N</th>\n",
              "      <th>NR1_N</th>\n",
              "      <th>NR2A_N</th>\n",
              "      <th>pAKT_N</th>\n",
              "      <th>pBRAF_N</th>\n",
              "      <th>pCAMKII_N</th>\n",
              "      <th>pCREB_N</th>\n",
              "      <th>pELK_N</th>\n",
              "      <th>...</th>\n",
              "      <th>SHH_N</th>\n",
              "      <th>BAD_N</th>\n",
              "      <th>BCL2_N</th>\n",
              "      <th>pS6_N</th>\n",
              "      <th>pCFOS_N</th>\n",
              "      <th>SYP_N</th>\n",
              "      <th>H3AcK18_N</th>\n",
              "      <th>EGR1_N</th>\n",
              "      <th>H3MeK4_N</th>\n",
              "      <th>CaNA_N</th>\n",
              "    </tr>\n",
              "  </thead>\n",
              "  <tbody>\n",
              "    <tr>\n",
              "      <th>DYRK1A_N</th>\n",
              "      <td>1.000000</td>\n",
              "      <td>0.961321</td>\n",
              "      <td>0.407110</td>\n",
              "      <td>0.314795</td>\n",
              "      <td>0.340011</td>\n",
              "      <td>-0.182126</td>\n",
              "      <td>-0.085401</td>\n",
              "      <td>-0.158167</td>\n",
              "      <td>0.082463</td>\n",
              "      <td>0.811398</td>\n",
              "      <td>...</td>\n",
              "      <td>-0.223812</td>\n",
              "      <td>-0.255974</td>\n",
              "      <td>-0.216103</td>\n",
              "      <td>-0.358480</td>\n",
              "      <td>-0.251624</td>\n",
              "      <td>-0.035929</td>\n",
              "      <td>-0.335634</td>\n",
              "      <td>-0.318127</td>\n",
              "      <td>-0.303629</td>\n",
              "      <td>0.457907</td>\n",
              "    </tr>\n",
              "    <tr>\n",
              "      <th>ITSN1_N</th>\n",
              "      <td>0.961321</td>\n",
              "      <td>1.000000</td>\n",
              "      <td>0.495102</td>\n",
              "      <td>0.428745</td>\n",
              "      <td>0.421034</td>\n",
              "      <td>-0.149509</td>\n",
              "      <td>-0.068712</td>\n",
              "      <td>-0.114789</td>\n",
              "      <td>0.200468</td>\n",
              "      <td>0.796880</td>\n",
              "      <td>...</td>\n",
              "      <td>-0.220720</td>\n",
              "      <td>-0.341409</td>\n",
              "      <td>-0.307867</td>\n",
              "      <td>-0.299066</td>\n",
              "      <td>-0.323878</td>\n",
              "      <td>0.039384</td>\n",
              "      <td>-0.357801</td>\n",
              "      <td>-0.404352</td>\n",
              "      <td>-0.374469</td>\n",
              "      <td>0.495085</td>\n",
              "    </tr>\n",
              "    <tr>\n",
              "      <th>BDNF_N</th>\n",
              "      <td>0.407110</td>\n",
              "      <td>0.495102</td>\n",
              "      <td>1.000000</td>\n",
              "      <td>0.817986</td>\n",
              "      <td>0.746004</td>\n",
              "      <td>0.241501</td>\n",
              "      <td>0.332689</td>\n",
              "      <td>0.129602</td>\n",
              "      <td>0.569146</td>\n",
              "      <td>0.458951</td>\n",
              "      <td>...</td>\n",
              "      <td>-0.112984</td>\n",
              "      <td>-0.241762</td>\n",
              "      <td>-0.170503</td>\n",
              "      <td>0.070504</td>\n",
              "      <td>-0.261622</td>\n",
              "      <td>0.454025</td>\n",
              "      <td>-0.284638</td>\n",
              "      <td>-0.245891</td>\n",
              "      <td>-0.316513</td>\n",
              "      <td>0.304098</td>\n",
              "    </tr>\n",
              "    <tr>\n",
              "      <th>NR1_N</th>\n",
              "      <td>0.314795</td>\n",
              "      <td>0.428745</td>\n",
              "      <td>0.817986</td>\n",
              "      <td>1.000000</td>\n",
              "      <td>0.866667</td>\n",
              "      <td>0.185322</td>\n",
              "      <td>0.220929</td>\n",
              "      <td>0.253744</td>\n",
              "      <td>0.599846</td>\n",
              "      <td>0.399791</td>\n",
              "      <td>...</td>\n",
              "      <td>-0.100915</td>\n",
              "      <td>-0.431328</td>\n",
              "      <td>-0.329547</td>\n",
              "      <td>0.227674</td>\n",
              "      <td>-0.354048</td>\n",
              "      <td>0.486483</td>\n",
              "      <td>-0.339320</td>\n",
              "      <td>-0.371601</td>\n",
              "      <td>-0.416312</td>\n",
              "      <td>0.205033</td>\n",
              "    </tr>\n",
              "    <tr>\n",
              "      <th>NR2A_N</th>\n",
              "      <td>0.340011</td>\n",
              "      <td>0.421034</td>\n",
              "      <td>0.746004</td>\n",
              "      <td>0.866667</td>\n",
              "      <td>1.000000</td>\n",
              "      <td>0.076446</td>\n",
              "      <td>0.079740</td>\n",
              "      <td>0.223203</td>\n",
              "      <td>0.362348</td>\n",
              "      <td>0.387644</td>\n",
              "      <td>...</td>\n",
              "      <td>-0.237932</td>\n",
              "      <td>-0.515386</td>\n",
              "      <td>-0.360714</td>\n",
              "      <td>0.215495</td>\n",
              "      <td>-0.398397</td>\n",
              "      <td>0.377628</td>\n",
              "      <td>-0.365133</td>\n",
              "      <td>-0.404731</td>\n",
              "      <td>-0.495630</td>\n",
              "      <td>0.185840</td>\n",
              "    </tr>\n",
              "  </tbody>\n",
              "</table>\n",
              "<p>5 rows × 77 columns</p>\n",
              "</div>\n",
              "      <button class=\"colab-df-convert\" onclick=\"convertToInteractive('df-64ebf634-ac40-49f2-8128-4f647e920f48')\"\n",
              "              title=\"Convert this dataframe to an interactive table.\"\n",
              "              style=\"display:none;\">\n",
              "        \n",
              "  <svg xmlns=\"http://www.w3.org/2000/svg\" height=\"24px\"viewBox=\"0 0 24 24\"\n",
              "       width=\"24px\">\n",
              "    <path d=\"M0 0h24v24H0V0z\" fill=\"none\"/>\n",
              "    <path d=\"M18.56 5.44l.94 2.06.94-2.06 2.06-.94-2.06-.94-.94-2.06-.94 2.06-2.06.94zm-11 1L8.5 8.5l.94-2.06 2.06-.94-2.06-.94L8.5 2.5l-.94 2.06-2.06.94zm10 10l.94 2.06.94-2.06 2.06-.94-2.06-.94-.94-2.06-.94 2.06-2.06.94z\"/><path d=\"M17.41 7.96l-1.37-1.37c-.4-.4-.92-.59-1.43-.59-.52 0-1.04.2-1.43.59L10.3 9.45l-7.72 7.72c-.78.78-.78 2.05 0 2.83L4 21.41c.39.39.9.59 1.41.59.51 0 1.02-.2 1.41-.59l7.78-7.78 2.81-2.81c.8-.78.8-2.07 0-2.86zM5.41 20L4 18.59l7.72-7.72 1.47 1.35L5.41 20z\"/>\n",
              "  </svg>\n",
              "      </button>\n",
              "      \n",
              "  <style>\n",
              "    .colab-df-container {\n",
              "      display:flex;\n",
              "      flex-wrap:wrap;\n",
              "      gap: 12px;\n",
              "    }\n",
              "\n",
              "    .colab-df-convert {\n",
              "      background-color: #E8F0FE;\n",
              "      border: none;\n",
              "      border-radius: 50%;\n",
              "      cursor: pointer;\n",
              "      display: none;\n",
              "      fill: #1967D2;\n",
              "      height: 32px;\n",
              "      padding: 0 0 0 0;\n",
              "      width: 32px;\n",
              "    }\n",
              "\n",
              "    .colab-df-convert:hover {\n",
              "      background-color: #E2EBFA;\n",
              "      box-shadow: 0px 1px 2px rgba(60, 64, 67, 0.3), 0px 1px 3px 1px rgba(60, 64, 67, 0.15);\n",
              "      fill: #174EA6;\n",
              "    }\n",
              "\n",
              "    [theme=dark] .colab-df-convert {\n",
              "      background-color: #3B4455;\n",
              "      fill: #D2E3FC;\n",
              "    }\n",
              "\n",
              "    [theme=dark] .colab-df-convert:hover {\n",
              "      background-color: #434B5C;\n",
              "      box-shadow: 0px 1px 3px 1px rgba(0, 0, 0, 0.15);\n",
              "      filter: drop-shadow(0px 1px 2px rgba(0, 0, 0, 0.3));\n",
              "      fill: #FFFFFF;\n",
              "    }\n",
              "  </style>\n",
              "\n",
              "      <script>\n",
              "        const buttonEl =\n",
              "          document.querySelector('#df-64ebf634-ac40-49f2-8128-4f647e920f48 button.colab-df-convert');\n",
              "        buttonEl.style.display =\n",
              "          google.colab.kernel.accessAllowed ? 'block' : 'none';\n",
              "\n",
              "        async function convertToInteractive(key) {\n",
              "          const element = document.querySelector('#df-64ebf634-ac40-49f2-8128-4f647e920f48');\n",
              "          const dataTable =\n",
              "            await google.colab.kernel.invokeFunction('convertToInteractive',\n",
              "                                                     [key], {});\n",
              "          if (!dataTable) return;\n",
              "\n",
              "          const docLinkHtml = 'Like what you see? Visit the ' +\n",
              "            '<a target=\"_blank\" href=https://colab.research.google.com/notebooks/data_table.ipynb>data table notebook</a>'\n",
              "            + ' to learn more about interactive tables.';\n",
              "          element.innerHTML = '';\n",
              "          dataTable['output_type'] = 'display_data';\n",
              "          await google.colab.output.renderOutput(dataTable, element);\n",
              "          const docLink = document.createElement('div');\n",
              "          docLink.innerHTML = docLinkHtml;\n",
              "          element.appendChild(docLink);\n",
              "        }\n",
              "      </script>\n",
              "    </div>\n",
              "  </div>\n",
              "  "
            ]
          },
          "metadata": {},
          "execution_count": 2
        }
      ]
    },
    {
      "cell_type": "markdown",
      "source": [
        "Here correlation greater than 0.9 used as the threshold level"
      ],
      "metadata": {
        "id": "fB6EjO0eX7SZ"
      }
    },
    {
      "cell_type": "code",
      "source": [
        "#run through the matrix, checking each value to compare it with 0.9 and then taking note of those values and their index\n",
        "\n",
        "corrM_array = np.array(corrM)  #Correlation matrix in to numpy arrays\n",
        "highCorr = []                  #To store the highly corelated columns\n",
        "for i in range(0,len(corrM_array)): #Find those position that highly corelated\n",
        "  for j in range(i,len(corrM_array[0])):\n",
        "    if(i!=j):\n",
        "      if (corrM_array[i][j] >=0.9):  #Those positions in correlation matrix has values greater than or equal to 0.9\n",
        "        tup = (i,j)\n",
        "        highCorr.append(tup) #save those index as tuple in highCorr list\n",
        "\n",
        "highCorr #Result\n"
      ],
      "metadata": {
        "id": "n0u7d5pQ76jv",
        "colab": {
          "base_uri": "https://localhost:8080/"
        },
        "outputId": "32435d9e-f2e9-49d4-a2c4-e29d5262c004"
      },
      "execution_count": 3,
      "outputs": [
        {
          "output_type": "execute_result",
          "data": {
            "text/plain": [
              "[(0, 1),\n",
              " (0, 10),\n",
              " (0, 20),\n",
              " (1, 10),\n",
              " (1, 20),\n",
              " (3, 14),\n",
              " (3, 31),\n",
              " (10, 20),\n",
              " (14, 16),\n",
              " (53, 70)]"
            ]
          },
          "metadata": {},
          "execution_count": 3
        }
      ]
    },
    {
      "cell_type": "code",
      "source": [
        "highCorr\n",
        "highCorr_flat=list(sum(highCorr, ())) #flatten the list [7]https://stackoverflow.com/questions/40399315/flatten-tuple-containing-numpy-array-to-numpy-array\n",
        "highCorr_flat=np.array(highCorr_flat) #converting into array\n",
        "np.unique(highCorr_flat) #finding how many unique columns are correleted to some other columns.\n"
      ],
      "metadata": {
        "id": "Fp2VYvzRgz4U",
        "colab": {
          "base_uri": "https://localhost:8080/"
        },
        "outputId": "1157fff7-d82b-4394-ee3a-658f0935a474"
      },
      "execution_count": 4,
      "outputs": [
        {
          "output_type": "execute_result",
          "data": {
            "text/plain": [
              "array([ 0,  1,  3, 10, 14, 16, 20, 31, 53, 70])"
            ]
          },
          "metadata": {},
          "execution_count": 4
        }
      ]
    },
    {
      "cell_type": "code",
      "source": [
        "# To find the unique columns\n",
        "\n",
        "#in highcorr matrix, we will scan throuugh all its value and save them in the list ofcolumns to be remove\n",
        "templist=[]\n",
        "for i in highCorr:\n",
        "  if i[0] not in templist:    #if the value is already there, we will not append it again\n",
        "    templist.append(i[0])\n",
        "remove_cols = np.array(templist)\n",
        "remove_cols\n"
      ],
      "metadata": {
        "id": "OoOoLV1mJ-wD",
        "colab": {
          "base_uri": "https://localhost:8080/"
        },
        "outputId": "8e2a602a-03ca-4a6d-fd9e-6503cfda87b8"
      },
      "execution_count": 5,
      "outputs": [
        {
          "output_type": "execute_result",
          "data": {
            "text/plain": [
              "array([ 0,  1,  3, 10, 14, 53])"
            ]
          },
          "metadata": {},
          "execution_count": 5
        }
      ]
    },
    {
      "cell_type": "code",
      "source": [
        "#following snippete is taken from [8]https://stackoverflow.com/questions/13411544/delete-a-column-from-a-pandas-dataframe\n",
        "# useful_df = train_df.drop(train_df.columns[[0,  1,  3,  4,  5,  6, 10, 11, 13]], axis=1)  #deleting half of the columns  (manually telling which columns to delete)\n",
        "useful_df = test_data_ip.drop(test_data_ip.columns[remove_cols], axis=1)  #removing the columns\n",
        "useful_df"
      ],
      "metadata": {
        "id": "pCG7p7NApDSX",
        "colab": {
          "base_uri": "https://localhost:8080/",
          "height": 487
        },
        "outputId": "c4cc70a5-4738-4e52-9134-dd31ac68d378"
      },
      "execution_count": 6,
      "outputs": [
        {
          "output_type": "execute_result",
          "data": {
            "text/plain": [
              "       BDNF_N    NR2A_N    pAKT_N   pBRAF_N  pCAMKII_N   pCREB_N    pELK_N  \\\n",
              "0    0.430175  5.990152  0.218830  0.177565   2.373744  0.232224  1.750936   \n",
              "1    0.411770  5.685038  0.211636  0.172817   2.292150  0.226972  1.596377   \n",
              "2    0.418309  5.622059  0.209011  0.175722   2.283337  0.230247  1.561316   \n",
              "3    0.358626  4.979503  0.222886  0.176463   2.152301  0.207004  1.595086   \n",
              "4    0.358802  4.718679  0.213106  0.173627   2.134014  0.192158  1.504230   \n",
              "..        ...       ...       ...       ...        ...       ...       ...   \n",
              "757  0.316564  3.314706  0.234529  0.200657   3.208804  0.221809  1.218951   \n",
              "758  0.321841  3.411782  0.236546  0.190826   3.384350  0.231899  1.250487   \n",
              "759  0.318545  3.073636  0.259636  0.202727   3.006364  0.223455  1.248727   \n",
              "760  0.297992  2.783551  0.245333  0.190384   2.948221  0.217506  1.177527   \n",
              "761  0.301539  2.952577  0.248568  0.198819   3.069435  0.226736  1.220472   \n",
              "\n",
              "       pJNK_N    PKCA_N    pMEK_N  ...     SHH_N     BAD_N    BCL2_N  \\\n",
              "0    0.306382  0.402698  0.296927  ...  0.188852  0.122652  0.107515   \n",
              "1    0.299051  0.385987  0.281319  ...  0.200404  0.116682  0.109055   \n",
              "2    0.291276  0.381002  0.281710  ...  0.193685  0.118508  0.108598   \n",
              "3    0.296729  0.377087  0.313832  ...  0.192112  0.132781  0.118362   \n",
              "4    0.286961  0.363502  0.277964  ...  0.205604  0.129954  0.118030   \n",
              "..        ...       ...       ...  ...       ...       ...       ...   \n",
              "757  0.317851  0.306417  0.282836  ...  0.216128  0.156371  0.110916   \n",
              "758  0.329786  0.323939  0.300555  ...  0.209717  0.153224  0.110350   \n",
              "759  0.354545  0.324182  0.310364  ...  0.211279  0.166417  0.133664   \n",
              "760  0.325819  0.310497  0.294646  ...  0.197436  0.158631  0.136994   \n",
              "761  0.351288  0.310129  0.295991  ...  0.225640  0.172492  0.120182   \n",
              "\n",
              "        pS6_N   pCFOS_N     SYP_N  H3AcK18_N    EGR1_N  H3MeK4_N    CaNA_N  \n",
              "0    0.106305  0.108336  0.427099   0.114783  0.131790  0.128186  1.675652  \n",
              "1    0.106592  0.104315  0.441581   0.111974  0.135103  0.131119  1.743610  \n",
              "2    0.108303  0.106219  0.435777   0.111883  0.133362  0.127431  1.926427  \n",
              "3    0.103184  0.111262  0.391691   0.130405  0.147444  0.146901  1.700563  \n",
              "4    0.104784  0.110694  0.434154   0.118481  0.140314  0.148380  1.839730  \n",
              "..        ...       ...       ...        ...       ...       ...       ...  \n",
              "757  0.119428  0.115567  0.441207   0.148473  0.146192  0.190681  1.474465  \n",
              "758  0.118081  0.108944  0.444913   0.153137  0.149798  0.197944  1.516605  \n",
              "759  0.116134  0.114635  0.422789   0.148426  0.163649  0.191212  1.433514  \n",
              "760  0.120649  0.120649  0.459901   0.146872  0.140640  0.213899  1.543274  \n",
              "761  0.121738  0.110486  0.424228   0.173689  0.166268  0.206129  1.520110  \n",
              "\n",
              "[762 rows x 71 columns]"
            ],
            "text/html": [
              "\n",
              "  <div id=\"df-e2e598d7-59b1-4d75-b1b9-31068e4c13de\">\n",
              "    <div class=\"colab-df-container\">\n",
              "      <div>\n",
              "<style scoped>\n",
              "    .dataframe tbody tr th:only-of-type {\n",
              "        vertical-align: middle;\n",
              "    }\n",
              "\n",
              "    .dataframe tbody tr th {\n",
              "        vertical-align: top;\n",
              "    }\n",
              "\n",
              "    .dataframe thead th {\n",
              "        text-align: right;\n",
              "    }\n",
              "</style>\n",
              "<table border=\"1\" class=\"dataframe\">\n",
              "  <thead>\n",
              "    <tr style=\"text-align: right;\">\n",
              "      <th></th>\n",
              "      <th>BDNF_N</th>\n",
              "      <th>NR2A_N</th>\n",
              "      <th>pAKT_N</th>\n",
              "      <th>pBRAF_N</th>\n",
              "      <th>pCAMKII_N</th>\n",
              "      <th>pCREB_N</th>\n",
              "      <th>pELK_N</th>\n",
              "      <th>pJNK_N</th>\n",
              "      <th>PKCA_N</th>\n",
              "      <th>pMEK_N</th>\n",
              "      <th>...</th>\n",
              "      <th>SHH_N</th>\n",
              "      <th>BAD_N</th>\n",
              "      <th>BCL2_N</th>\n",
              "      <th>pS6_N</th>\n",
              "      <th>pCFOS_N</th>\n",
              "      <th>SYP_N</th>\n",
              "      <th>H3AcK18_N</th>\n",
              "      <th>EGR1_N</th>\n",
              "      <th>H3MeK4_N</th>\n",
              "      <th>CaNA_N</th>\n",
              "    </tr>\n",
              "  </thead>\n",
              "  <tbody>\n",
              "    <tr>\n",
              "      <th>0</th>\n",
              "      <td>0.430175</td>\n",
              "      <td>5.990152</td>\n",
              "      <td>0.218830</td>\n",
              "      <td>0.177565</td>\n",
              "      <td>2.373744</td>\n",
              "      <td>0.232224</td>\n",
              "      <td>1.750936</td>\n",
              "      <td>0.306382</td>\n",
              "      <td>0.402698</td>\n",
              "      <td>0.296927</td>\n",
              "      <td>...</td>\n",
              "      <td>0.188852</td>\n",
              "      <td>0.122652</td>\n",
              "      <td>0.107515</td>\n",
              "      <td>0.106305</td>\n",
              "      <td>0.108336</td>\n",
              "      <td>0.427099</td>\n",
              "      <td>0.114783</td>\n",
              "      <td>0.131790</td>\n",
              "      <td>0.128186</td>\n",
              "      <td>1.675652</td>\n",
              "    </tr>\n",
              "    <tr>\n",
              "      <th>1</th>\n",
              "      <td>0.411770</td>\n",
              "      <td>5.685038</td>\n",
              "      <td>0.211636</td>\n",
              "      <td>0.172817</td>\n",
              "      <td>2.292150</td>\n",
              "      <td>0.226972</td>\n",
              "      <td>1.596377</td>\n",
              "      <td>0.299051</td>\n",
              "      <td>0.385987</td>\n",
              "      <td>0.281319</td>\n",
              "      <td>...</td>\n",
              "      <td>0.200404</td>\n",
              "      <td>0.116682</td>\n",
              "      <td>0.109055</td>\n",
              "      <td>0.106592</td>\n",
              "      <td>0.104315</td>\n",
              "      <td>0.441581</td>\n",
              "      <td>0.111974</td>\n",
              "      <td>0.135103</td>\n",
              "      <td>0.131119</td>\n",
              "      <td>1.743610</td>\n",
              "    </tr>\n",
              "    <tr>\n",
              "      <th>2</th>\n",
              "      <td>0.418309</td>\n",
              "      <td>5.622059</td>\n",
              "      <td>0.209011</td>\n",
              "      <td>0.175722</td>\n",
              "      <td>2.283337</td>\n",
              "      <td>0.230247</td>\n",
              "      <td>1.561316</td>\n",
              "      <td>0.291276</td>\n",
              "      <td>0.381002</td>\n",
              "      <td>0.281710</td>\n",
              "      <td>...</td>\n",
              "      <td>0.193685</td>\n",
              "      <td>0.118508</td>\n",
              "      <td>0.108598</td>\n",
              "      <td>0.108303</td>\n",
              "      <td>0.106219</td>\n",
              "      <td>0.435777</td>\n",
              "      <td>0.111883</td>\n",
              "      <td>0.133362</td>\n",
              "      <td>0.127431</td>\n",
              "      <td>1.926427</td>\n",
              "    </tr>\n",
              "    <tr>\n",
              "      <th>3</th>\n",
              "      <td>0.358626</td>\n",
              "      <td>4.979503</td>\n",
              "      <td>0.222886</td>\n",
              "      <td>0.176463</td>\n",
              "      <td>2.152301</td>\n",
              "      <td>0.207004</td>\n",
              "      <td>1.595086</td>\n",
              "      <td>0.296729</td>\n",
              "      <td>0.377087</td>\n",
              "      <td>0.313832</td>\n",
              "      <td>...</td>\n",
              "      <td>0.192112</td>\n",
              "      <td>0.132781</td>\n",
              "      <td>0.118362</td>\n",
              "      <td>0.103184</td>\n",
              "      <td>0.111262</td>\n",
              "      <td>0.391691</td>\n",
              "      <td>0.130405</td>\n",
              "      <td>0.147444</td>\n",
              "      <td>0.146901</td>\n",
              "      <td>1.700563</td>\n",
              "    </tr>\n",
              "    <tr>\n",
              "      <th>4</th>\n",
              "      <td>0.358802</td>\n",
              "      <td>4.718679</td>\n",
              "      <td>0.213106</td>\n",
              "      <td>0.173627</td>\n",
              "      <td>2.134014</td>\n",
              "      <td>0.192158</td>\n",
              "      <td>1.504230</td>\n",
              "      <td>0.286961</td>\n",
              "      <td>0.363502</td>\n",
              "      <td>0.277964</td>\n",
              "      <td>...</td>\n",
              "      <td>0.205604</td>\n",
              "      <td>0.129954</td>\n",
              "      <td>0.118030</td>\n",
              "      <td>0.104784</td>\n",
              "      <td>0.110694</td>\n",
              "      <td>0.434154</td>\n",
              "      <td>0.118481</td>\n",
              "      <td>0.140314</td>\n",
              "      <td>0.148380</td>\n",
              "      <td>1.839730</td>\n",
              "    </tr>\n",
              "    <tr>\n",
              "      <th>...</th>\n",
              "      <td>...</td>\n",
              "      <td>...</td>\n",
              "      <td>...</td>\n",
              "      <td>...</td>\n",
              "      <td>...</td>\n",
              "      <td>...</td>\n",
              "      <td>...</td>\n",
              "      <td>...</td>\n",
              "      <td>...</td>\n",
              "      <td>...</td>\n",
              "      <td>...</td>\n",
              "      <td>...</td>\n",
              "      <td>...</td>\n",
              "      <td>...</td>\n",
              "      <td>...</td>\n",
              "      <td>...</td>\n",
              "      <td>...</td>\n",
              "      <td>...</td>\n",
              "      <td>...</td>\n",
              "      <td>...</td>\n",
              "      <td>...</td>\n",
              "    </tr>\n",
              "    <tr>\n",
              "      <th>757</th>\n",
              "      <td>0.316564</td>\n",
              "      <td>3.314706</td>\n",
              "      <td>0.234529</td>\n",
              "      <td>0.200657</td>\n",
              "      <td>3.208804</td>\n",
              "      <td>0.221809</td>\n",
              "      <td>1.218951</td>\n",
              "      <td>0.317851</td>\n",
              "      <td>0.306417</td>\n",
              "      <td>0.282836</td>\n",
              "      <td>...</td>\n",
              "      <td>0.216128</td>\n",
              "      <td>0.156371</td>\n",
              "      <td>0.110916</td>\n",
              "      <td>0.119428</td>\n",
              "      <td>0.115567</td>\n",
              "      <td>0.441207</td>\n",
              "      <td>0.148473</td>\n",
              "      <td>0.146192</td>\n",
              "      <td>0.190681</td>\n",
              "      <td>1.474465</td>\n",
              "    </tr>\n",
              "    <tr>\n",
              "      <th>758</th>\n",
              "      <td>0.321841</td>\n",
              "      <td>3.411782</td>\n",
              "      <td>0.236546</td>\n",
              "      <td>0.190826</td>\n",
              "      <td>3.384350</td>\n",
              "      <td>0.231899</td>\n",
              "      <td>1.250487</td>\n",
              "      <td>0.329786</td>\n",
              "      <td>0.323939</td>\n",
              "      <td>0.300555</td>\n",
              "      <td>...</td>\n",
              "      <td>0.209717</td>\n",
              "      <td>0.153224</td>\n",
              "      <td>0.110350</td>\n",
              "      <td>0.118081</td>\n",
              "      <td>0.108944</td>\n",
              "      <td>0.444913</td>\n",
              "      <td>0.153137</td>\n",
              "      <td>0.149798</td>\n",
              "      <td>0.197944</td>\n",
              "      <td>1.516605</td>\n",
              "    </tr>\n",
              "    <tr>\n",
              "      <th>759</th>\n",
              "      <td>0.318545</td>\n",
              "      <td>3.073636</td>\n",
              "      <td>0.259636</td>\n",
              "      <td>0.202727</td>\n",
              "      <td>3.006364</td>\n",
              "      <td>0.223455</td>\n",
              "      <td>1.248727</td>\n",
              "      <td>0.354545</td>\n",
              "      <td>0.324182</td>\n",
              "      <td>0.310364</td>\n",
              "      <td>...</td>\n",
              "      <td>0.211279</td>\n",
              "      <td>0.166417</td>\n",
              "      <td>0.133664</td>\n",
              "      <td>0.116134</td>\n",
              "      <td>0.114635</td>\n",
              "      <td>0.422789</td>\n",
              "      <td>0.148426</td>\n",
              "      <td>0.163649</td>\n",
              "      <td>0.191212</td>\n",
              "      <td>1.433514</td>\n",
              "    </tr>\n",
              "    <tr>\n",
              "      <th>760</th>\n",
              "      <td>0.297992</td>\n",
              "      <td>2.783551</td>\n",
              "      <td>0.245333</td>\n",
              "      <td>0.190384</td>\n",
              "      <td>2.948221</td>\n",
              "      <td>0.217506</td>\n",
              "      <td>1.177527</td>\n",
              "      <td>0.325819</td>\n",
              "      <td>0.310497</td>\n",
              "      <td>0.294646</td>\n",
              "      <td>...</td>\n",
              "      <td>0.197436</td>\n",
              "      <td>0.158631</td>\n",
              "      <td>0.136994</td>\n",
              "      <td>0.120649</td>\n",
              "      <td>0.120649</td>\n",
              "      <td>0.459901</td>\n",
              "      <td>0.146872</td>\n",
              "      <td>0.140640</td>\n",
              "      <td>0.213899</td>\n",
              "      <td>1.543274</td>\n",
              "    </tr>\n",
              "    <tr>\n",
              "      <th>761</th>\n",
              "      <td>0.301539</td>\n",
              "      <td>2.952577</td>\n",
              "      <td>0.248568</td>\n",
              "      <td>0.198819</td>\n",
              "      <td>3.069435</td>\n",
              "      <td>0.226736</td>\n",
              "      <td>1.220472</td>\n",
              "      <td>0.351288</td>\n",
              "      <td>0.310129</td>\n",
              "      <td>0.295991</td>\n",
              "      <td>...</td>\n",
              "      <td>0.225640</td>\n",
              "      <td>0.172492</td>\n",
              "      <td>0.120182</td>\n",
              "      <td>0.121738</td>\n",
              "      <td>0.110486</td>\n",
              "      <td>0.424228</td>\n",
              "      <td>0.173689</td>\n",
              "      <td>0.166268</td>\n",
              "      <td>0.206129</td>\n",
              "      <td>1.520110</td>\n",
              "    </tr>\n",
              "  </tbody>\n",
              "</table>\n",
              "<p>762 rows × 71 columns</p>\n",
              "</div>\n",
              "      <button class=\"colab-df-convert\" onclick=\"convertToInteractive('df-e2e598d7-59b1-4d75-b1b9-31068e4c13de')\"\n",
              "              title=\"Convert this dataframe to an interactive table.\"\n",
              "              style=\"display:none;\">\n",
              "        \n",
              "  <svg xmlns=\"http://www.w3.org/2000/svg\" height=\"24px\"viewBox=\"0 0 24 24\"\n",
              "       width=\"24px\">\n",
              "    <path d=\"M0 0h24v24H0V0z\" fill=\"none\"/>\n",
              "    <path d=\"M18.56 5.44l.94 2.06.94-2.06 2.06-.94-2.06-.94-.94-2.06-.94 2.06-2.06.94zm-11 1L8.5 8.5l.94-2.06 2.06-.94-2.06-.94L8.5 2.5l-.94 2.06-2.06.94zm10 10l.94 2.06.94-2.06 2.06-.94-2.06-.94-.94-2.06-.94 2.06-2.06.94z\"/><path d=\"M17.41 7.96l-1.37-1.37c-.4-.4-.92-.59-1.43-.59-.52 0-1.04.2-1.43.59L10.3 9.45l-7.72 7.72c-.78.78-.78 2.05 0 2.83L4 21.41c.39.39.9.59 1.41.59.51 0 1.02-.2 1.41-.59l7.78-7.78 2.81-2.81c.8-.78.8-2.07 0-2.86zM5.41 20L4 18.59l7.72-7.72 1.47 1.35L5.41 20z\"/>\n",
              "  </svg>\n",
              "      </button>\n",
              "      \n",
              "  <style>\n",
              "    .colab-df-container {\n",
              "      display:flex;\n",
              "      flex-wrap:wrap;\n",
              "      gap: 12px;\n",
              "    }\n",
              "\n",
              "    .colab-df-convert {\n",
              "      background-color: #E8F0FE;\n",
              "      border: none;\n",
              "      border-radius: 50%;\n",
              "      cursor: pointer;\n",
              "      display: none;\n",
              "      fill: #1967D2;\n",
              "      height: 32px;\n",
              "      padding: 0 0 0 0;\n",
              "      width: 32px;\n",
              "    }\n",
              "\n",
              "    .colab-df-convert:hover {\n",
              "      background-color: #E2EBFA;\n",
              "      box-shadow: 0px 1px 2px rgba(60, 64, 67, 0.3), 0px 1px 3px 1px rgba(60, 64, 67, 0.15);\n",
              "      fill: #174EA6;\n",
              "    }\n",
              "\n",
              "    [theme=dark] .colab-df-convert {\n",
              "      background-color: #3B4455;\n",
              "      fill: #D2E3FC;\n",
              "    }\n",
              "\n",
              "    [theme=dark] .colab-df-convert:hover {\n",
              "      background-color: #434B5C;\n",
              "      box-shadow: 0px 1px 3px 1px rgba(0, 0, 0, 0.15);\n",
              "      filter: drop-shadow(0px 1px 2px rgba(0, 0, 0, 0.3));\n",
              "      fill: #FFFFFF;\n",
              "    }\n",
              "  </style>\n",
              "\n",
              "      <script>\n",
              "        const buttonEl =\n",
              "          document.querySelector('#df-e2e598d7-59b1-4d75-b1b9-31068e4c13de button.colab-df-convert');\n",
              "        buttonEl.style.display =\n",
              "          google.colab.kernel.accessAllowed ? 'block' : 'none';\n",
              "\n",
              "        async function convertToInteractive(key) {\n",
              "          const element = document.querySelector('#df-e2e598d7-59b1-4d75-b1b9-31068e4c13de');\n",
              "          const dataTable =\n",
              "            await google.colab.kernel.invokeFunction('convertToInteractive',\n",
              "                                                     [key], {});\n",
              "          if (!dataTable) return;\n",
              "\n",
              "          const docLinkHtml = 'Like what you see? Visit the ' +\n",
              "            '<a target=\"_blank\" href=https://colab.research.google.com/notebooks/data_table.ipynb>data table notebook</a>'\n",
              "            + ' to learn more about interactive tables.';\n",
              "          element.innerHTML = '';\n",
              "          dataTable['output_type'] = 'display_data';\n",
              "          await google.colab.output.renderOutput(dataTable, element);\n",
              "          const docLink = document.createElement('div');\n",
              "          docLink.innerHTML = docLinkHtml;\n",
              "          element.appendChild(docLink);\n",
              "        }\n",
              "      </script>\n",
              "    </div>\n",
              "  </div>\n",
              "  "
            ]
          },
          "metadata": {},
          "execution_count": 6
        }
      ]
    },
    {
      "cell_type": "code",
      "source": [
        "input_df1=useful_df\n",
        "\n",
        "#https://stackoverflow.com/questions/40142686/converting-non-numeric-to-numeric-value-using-panda-libraries\n",
        "\n",
        "from sklearn.preprocessing import LabelEncoder\n",
        "enc = LabelEncoder()  #lable encoder to encode the target values\n",
        "enc.fit(train_df['Genotype'])   #specifying which column to be encoded\n",
        "train_df['Genotype'] = enc.transform(train_df['Genotype'])    #overwriting with the lables \n",
        "model1_out = train_df[\"Genotype\"]\n",
        "model1_out"
      ],
      "metadata": {
        "id": "JRHKjRLCJH3j",
        "colab": {
          "base_uri": "https://localhost:8080/"
        },
        "outputId": "d99bee70-acd0-47f9-8511-7cdac46a282d"
      },
      "execution_count": 7,
      "outputs": [
        {
          "output_type": "execute_result",
          "data": {
            "text/plain": [
              "0      0\n",
              "1      0\n",
              "2      0\n",
              "3      0\n",
              "4      0\n",
              "      ..\n",
              "757    1\n",
              "758    1\n",
              "759    1\n",
              "760    1\n",
              "761    1\n",
              "Name: Genotype, Length: 762, dtype: int64"
            ]
          },
          "metadata": {},
          "execution_count": 7
        }
      ]
    },
    {
      "cell_type": "markdown",
      "source": [
        "Normalizing the data"
      ],
      "metadata": {
        "id": "jTE1CGJqbVfB"
      }
    },
    {
      "cell_type": "code",
      "source": [
        "from sklearn.preprocessing import StandardScaler\n",
        "#Initalizing the Standard scaler\n",
        "X_scaler = StandardScaler()\n",
        "input_df1_scaled = X_scaler.fit_transform(input_df1)\n",
        "#Standardizing ouput explicitly by substracting mean and dividing by standard deviation\n",
        "output_df1_scaled = (model1_out-model1_out.mean())/model1_out.std()"
      ],
      "metadata": {
        "id": "UGAz0Q4zbbl4"
      },
      "execution_count": 8,
      "outputs": []
    },
    {
      "cell_type": "markdown",
      "source": [
        "**To split data into train and test**"
      ],
      "metadata": {
        "id": "_muxPEBOZg_f"
      }
    },
    {
      "cell_type": "code",
      "source": [
        "from sklearn.model_selection import train_test_split #From sklearm.model we can choose train_test_split for this operation\n",
        "model1_ip_train, model1_ip_test, model1_out_train, model1_out_test = train_test_split(input_df1_scaled, model1_out, test_size=0.2, random_state=42)#Test size is given as 0.2 then there may 20% test and 80% train datas."
      ],
      "metadata": {
        "id": "0tJndL-wTr7h"
      },
      "execution_count": 9,
      "outputs": []
    },
    {
      "cell_type": "code",
      "source": [
        "from sklearn.model_selection import KFold\n",
        "#model1_out , input_df1\n",
        "fld= KFold(n_splits=5,random_state=30, shuffle=True)    #we will make 5 folds for kfold cross validation"
      ],
      "metadata": {
        "id": "k2Dw9Zl6YXW6"
      },
      "execution_count": 10,
      "outputs": []
    },
    {
      "cell_type": "code",
      "source": [
        " from sklearn.model_selection import GridSearchCV"
      ],
      "metadata": {
        "id": "FVIo-HjdqREC"
      },
      "execution_count": 11,
      "outputs": []
    },
    {
      "cell_type": "markdown",
      "source": [
        "# Binary Classification"
      ],
      "metadata": {
        "id": "Sd2X81kNMBOE"
      }
    },
    {
      "cell_type": "markdown",
      "source": [
        "**1.Logistic Regression with ElasticNet Penalty**"
      ],
      "metadata": {
        "id": "5uqS_DVqcdra"
      }
    },
    {
      "cell_type": "code",
      "source": [
        "from sklearn.linear_model import ElasticNet\n",
        "from sklearn.datasets import make_regression\n",
        "from sklearn.model_selection import cross_val_score\n",
        "from sklearn.model_selection import cross_validate\n",
        "from sklearn.linear_model import LogisticRegression\n",
        "\n",
        "import warnings\n",
        "# warnings.filterwarnings(\"ignore\", category=DeprecationWarning)  #https://stackoverflow.com/questions/32612180/eliminating-warnings-from-scikit-learn\n",
        "\n",
        "# param_grid={'alpha': [0.001,0.01, 0.1, 1,10],'l1_ratio': [0.001,0.01, 0.1, 1]}\n",
        "param_grid={'C': [0.001,0.01, 0.1, 1,10,50,100] ,'l1_ratio': [0.001,0.01, 0.1, 1]}  #we prepare this grid containing range of hyper parameters, through this we will do hyperparameter tunning\n",
        "\n",
        "\n",
        "\n",
        "# fld= KFold(n_splits=5,random_state=30, shuffle=True)\n",
        "# mdl=ElasticNet(random_state=0)\n",
        "mdl=LogisticRegression(random_state=0,penalty='elasticnet',solver='saga',max_iter=1000,tol=0.01)    \n",
        "#now we perform grid search with this model to find best hyperparameters\n",
        "gs= GridSearchCV(mdl, param_grid, cv=fld,scoring='f1') #since the classes are not balanced, it is wise to use f1 score\n",
        "\n",
        "result=gs.fit(input_df1,model1_out)\n",
        "result.best_params_ ,result\n",
        "# result=cross_validate(mdl, input_df1, model1_out, cv=fld,return_estimator=True)\n"
      ],
      "metadata": {
        "colab": {
          "base_uri": "https://localhost:8080/"
        },
        "id": "4wrlHhgqceLT",
        "outputId": "ae252bf0-beec-410e-8d41-5be5f182445f"
      },
      "execution_count": 12,
      "outputs": [
        {
          "output_type": "execute_result",
          "data": {
            "text/plain": [
              "({'C': 10, 'l1_ratio': 1},\n",
              " GridSearchCV(cv=KFold(n_splits=5, random_state=30, shuffle=True),\n",
              "              estimator=LogisticRegression(max_iter=1000, penalty='elasticnet',\n",
              "                                           random_state=0, solver='saga',\n",
              "                                           tol=0.01),\n",
              "              param_grid={'C': [0.001, 0.01, 0.1, 1, 10, 50, 100],\n",
              "                          'l1_ratio': [0.001, 0.01, 0.1, 1]},\n",
              "              scoring='f1'))"
            ]
          },
          "metadata": {},
          "execution_count": 12
        }
      ]
    },
    {
      "cell_type": "code",
      "source": [
        "gs.best_estimator_ #best estimator (best hyperparameters (c and alpha))"
      ],
      "metadata": {
        "colab": {
          "base_uri": "https://localhost:8080/"
        },
        "id": "A7O0dJ2f3lTG",
        "outputId": "f23b1985-05ec-41b0-fcab-962986545ea4"
      },
      "execution_count": 13,
      "outputs": [
        {
          "output_type": "execute_result",
          "data": {
            "text/plain": [
              "LogisticRegression(C=10, l1_ratio=1, max_iter=1000, penalty='elasticnet',\n",
              "                   random_state=0, solver='saga', tol=0.01)"
            ]
          },
          "metadata": {},
          "execution_count": 13
        }
      ]
    },
    {
      "cell_type": "code",
      "source": [
        "print('Score Given by best estimator is :' + str(gs.best_score_))    #score given by best estimator"
      ],
      "metadata": {
        "colab": {
          "base_uri": "https://localhost:8080/"
        },
        "id": "oY5FKazf33GC",
        "outputId": "53240f59-3c16-4a8f-9e94-5127628d11af"
      },
      "execution_count": 14,
      "outputs": [
        {
          "output_type": "stream",
          "name": "stdout",
          "text": [
            "Score Given by best estimator is :0.8454754799299152\n"
          ]
        }
      ]
    },
    {
      "cell_type": "markdown",
      "source": [
        "FINDING FEATURE IMPORTANCE"
      ],
      "metadata": {
        "id": "0iXI03_zZioa"
      }
    },
    {
      "cell_type": "code",
      "source": [
        "#https://stackoverflow.com/questions/48377296/get-feature-importance-from-gridsearchcv\n",
        "# feat_imp=gs.best_estimator_.feature_importances_ # extracting importance of each feature for the grid serach result which is best estimator \n",
        "feat_imp=gs.best_estimator_.coef_[0]\n",
        "fig = plt.figure()\n",
        "plt.bar(gs.feature_names_in_,feat_imp)\n",
        "plt.title('Feature Importance')"
      ],
      "metadata": {
        "id": "6Ewrtm2bVFm8",
        "colab": {
          "base_uri": "https://localhost:8080/",
          "height": 303
        },
        "outputId": "5efa92de-8e19-4d4b-b38c-7b66ff33f18e"
      },
      "execution_count": 15,
      "outputs": [
        {
          "output_type": "execute_result",
          "data": {
            "text/plain": [
              "Text(0.5, 1.0, 'Feature Importance')"
            ]
          },
          "metadata": {},
          "execution_count": 15
        },
        {
          "output_type": "display_data",
          "data": {
            "text/plain": [
              "<Figure size 432x288 with 1 Axes>"
            ],
            "image/png": "[encoded data removed]"
          },
          "metadata": {
            "needs_background": "light"
          }
        }
      ]
    },
    {
      "cell_type": "markdown",
      "source": [
        "Recursive Feature Elimination"
      ],
      "metadata": {
        "id": "mqfNGpvG48Ys"
      }
    },
    {
      "cell_type": "code",
      "source": [
        "#reference: https://machinelearningmastery.com/rfe-feature-selection-in-python/\n",
        "#reference:https://scikit-learn.org/stable/modules/generated/sklearn.feature_selection.RFECV.html\n",
        "\n",
        "from sklearn.feature_selection import RFE\n",
        "from sklearn.pipeline import Pipeline\n",
        "\n",
        "from sklearn.feature_selection import RFECV\n",
        "estimator = gs.best_estimator_    #we will use the best estimator achieved from gridsearch\n",
        "selector = RFECV(estimator, step=1, cv=fld)   # define RFECV selector using best estimator\n",
        "selector = selector.fit(input_df1,model1_out) # fit the data into selector\n",
        "\n",
        "#print mean (of all folds) score for every feature eliminated\n",
        "print(\"\\n Mean Test scores for each feature eliminated are:\")\n",
        "print(selector.cv_results_['mean_test_score'])\n",
        "\n",
        "\n",
        "#plot the scores after eliminating each feature\n",
        "\n",
        "fig = plt.figure()\n",
        "plt.bar(gs.feature_names_in_,selector.cv_results_['mean_test_score'])\n",
        "plt.title('Feature Elemination Score')\n",
        "\n",
        "#ranking of each feature as per score it gives when eliminated\n",
        "print(\"\\n Rankings of Each feature \")\n",
        "print(selector.ranking_)\n",
        "\n",
        "\n",
        "#maximum accuracy achieved in the process\n",
        "print(\"\\n maximum accuracy achieved is:\")\n",
        "print(max(selector.cv_results_['mean_test_score']))"
      ],
      "metadata": {
        "id": "YtQ4BNjKzK1Q",
        "colab": {
          "base_uri": "https://localhost:8080/",
          "height": 667
        },
        "outputId": "e6cbe54f-0e44-4a38-e97a-5712e6d9b574"
      },
      "execution_count": 16,
      "outputs": [
        {
          "output_type": "stream",
          "name": "stdout",
          "text": [
            "\n",
            " Mean Test scores for each feature eliminated are:\n",
            "[0.7494066  0.8005246  0.8373237  0.85181459 0.8504472  0.8504472\n",
            " 0.86876505 0.86089611 0.85826453 0.85431717 0.86086171 0.90552976\n",
            " 0.90814413 0.90292398 0.90289818 0.89764362 0.90159959 0.89896801\n",
            " 0.89632783 0.89369625 0.89373925 0.89375645 0.89113347 0.88195734\n",
            " 0.88589611 0.88458032 0.88588751 0.87932577 0.87932577 0.88324733\n",
            " 0.88062436 0.88193154 0.88063295 0.87669419 0.88064155 0.88064155\n",
            " 0.87800998 0.87932577 0.88062436 0.87930857 0.8753784  0.8753698\n",
            " 0.8753612  0.8753612  0.87799278 0.87799278 0.87930857 0.87799278\n",
            " 0.87930857 0.87667699 0.87272962 0.87009804 0.87009804 0.86879945\n",
            " 0.87009804 0.87141383 0.87141383 0.87272962 0.87272962 0.87272962\n",
            " 0.87272962 0.87404541 0.87404541 0.87404541 0.87404541 0.87404541\n",
            " 0.87273822 0.87273822 0.87273822 0.87273822 0.87273822]\n",
            "\n",
            " Rankings of Each feature \n",
            "[53 21 16 59 43 26 50 36 55 28  4 12 14 27 48 34 51 46 19  2 20 45  9  1\n",
            " 52  1 22 42  1  1 10  1  1  1 29 40  1 23 37  1 39 13 54  1 25 17 32 56\n",
            " 57 44  1 41  1 24  6 38 30 49 33  5 11 31  8  7 58 15  1 47  3 18 35]\n",
            "\n",
            " maximum accuracy achieved is:\n",
            "0.9081441348469212\n"
          ]
        },
        {
          "output_type": "display_data",
          "data": {
            "text/plain": [
              "<Figure size 432x288 with 1 Axes>"
            ],
            "image/png": "[encoded data removed]"
          },
          "metadata": {
            "needs_background": "light"
          }
        }
      ]
    },
    {
      "cell_type": "markdown",
      "source": [
        "Observations for LogReg:\n",
        "1. The best score was achieved with hyperparameters c=10 and l1ratio of 1.\n",
        "2. The score achieved was 0.84.\n",
        "3. Through feature importance we got to know important features (graphically)\n",
        "4. Removing certain feature increases the score significantly."
      ],
      "metadata": {
        "id": "PWmg2czj1aM2"
      }
    },
    {
      "cell_type": "markdown",
      "source": [
        "**2.Neural Network**"
      ],
      "metadata": {
        "id": "ANn7GhmNekzT"
      }
    },
    {
      "cell_type": "code",
      "source": [
        "from sklearn.linear_model import ElasticNet\n",
        "from sklearn.datasets import make_regression\n",
        "from sklearn.model_selection import cross_val_score\n",
        "from sklearn.model_selection import cross_validate\n",
        "from sklearn.linear_model import LogisticRegression\n",
        "from sklearn.neural_network import MLPClassifier\n",
        "import warnings\n",
        "# warnings.filterwarnings(\"ignore\", category=DeprecationWarning)  #https://stackoverflow.com/questions/32612180/eliminating-warnings-from-scikit-learn\n",
        "\n",
        "# param_grid={'alpha': [0.001,0.01, 0.1, 1,10],'l1_ratio': [0.001,0.01, 0.1, 1]}\n",
        "# param_grid={'C': [0.001,0.01, 0.1, 1,10,50,100] ,'l1_ratio': [0.001,0.01, 0.1, 1]}\n",
        "param_grid= {'alpha':[0.001,0.01,0.1,1,10,100] ,'hidden_layer_sizes': [(71)]}#,(80), (100), (120)] } # hyperparameters alpha(weight decay) and number of neurons in hidden layer\n",
        "\n",
        "\n",
        "\n",
        "# fld= KFold(n_splits=5,random_state=30, shuffle=True)\n",
        "# mdl=ElasticNet(random_state=0)\n",
        "mdl= MLPClassifier(hidden_layer_sizes=(71),activation=\"relu\" ,random_state=1, max_iter=1000)\n",
        "gs= GridSearchCV(mdl, param_grid, cv=fld,scoring='f1') #since the classes are not balanced, it is wise to use f1 score\n",
        "\n",
        "result=gs.fit(input_df1,model1_out)\n",
        "result.best_params_ ,result\n",
        "# result=cross_validate(mdl, input_df1, model1_out, cv=fld,return_estimator=True)\n"
      ],
      "metadata": {
        "id": "kADjTPI0SP-e",
        "colab": {
          "base_uri": "https://localhost:8080/"
        },
        "outputId": "41a442be-7d26-4167-e9bb-fe77066ed81b"
      },
      "execution_count": 17,
      "outputs": [
        {
          "output_type": "execute_result",
          "data": {
            "text/plain": [
              "({'alpha': 0.1, 'hidden_layer_sizes': 71},\n",
              " GridSearchCV(cv=KFold(n_splits=5, random_state=30, shuffle=True),\n",
              "              estimator=MLPClassifier(hidden_layer_sizes=71, max_iter=1000,\n",
              "                                      random_state=1),\n",
              "              param_grid={'alpha': [0.001, 0.01, 0.1, 1, 10, 100],\n",
              "                          'hidden_layer_sizes': [71]},\n",
              "              scoring='f1'))"
            ]
          },
          "metadata": {},
          "execution_count": 17
        }
      ]
    },
    {
      "cell_type": "code",
      "source": [
        "gs.best_estimator_ , gs.best_score_"
      ],
      "metadata": {
        "id": "SFH0AHdbd7n8",
        "colab": {
          "base_uri": "https://localhost:8080/"
        },
        "outputId": "9d3f6433-6b1d-4eab-d556-8fcaadebef16"
      },
      "execution_count": 18,
      "outputs": [
        {
          "output_type": "execute_result",
          "data": {
            "text/plain": [
              "(MLPClassifier(alpha=0.1, hidden_layer_sizes=71, max_iter=1000, random_state=1),\n",
              " 0.828670912390763)"
            ]
          },
          "metadata": {},
          "execution_count": 18
        }
      ]
    },
    {
      "cell_type": "markdown",
      "source": [
        "Finding Feature Importance"
      ],
      "metadata": {
        "id": "uRNvBpmc5HWG"
      }
    },
    {
      "cell_type": "code",
      "source": [
        ""
      ],
      "metadata": {
        "id": "M_lV4DuT5C3l"
      },
      "execution_count": 18,
      "outputs": []
    },
    {
      "cell_type": "code",
      "source": [
        "feat_imp=gs.best_estimator_.coefs_\n",
        "feat_imp=feat_imp[1]\n",
        "feat_imp=feat_imp.flatten()\n",
        "\n",
        "fig = plt.figure()\n",
        "plt.bar(gs.feature_names_in_,feat_imp)\n",
        "plt.title('Feature Importance')"
      ],
      "metadata": {
        "id": "4mzmd8yN_MPa",
        "colab": {
          "base_uri": "https://localhost:8080/",
          "height": 303
        },
        "outputId": "6fd1fb5f-7970-43e5-97eb-9f1ca65f591d"
      },
      "execution_count": 19,
      "outputs": [
        {
          "output_type": "execute_result",
          "data": {
            "text/plain": [
              "Text(0.5, 1.0, 'Feature Importance')"
            ]
          },
          "metadata": {},
          "execution_count": 19
        },
        {
          "output_type": "display_data",
          "data": {
            "text/plain": [
              "<Figure size 432x288 with 1 Axes>"
            ],
            "image/png": "[encoded data removed]"
          },
          "metadata": {
            "needs_background": "light"
          }
        }
      ]
    },
    {
      "cell_type": "markdown",
      "source": [
        "Observations for Neural Network:\n",
        "1. The best score was achieved at weight decay= 0.1\n",
        "2. Importance of certain features was observed.\n",
        "3. Overall the score was not so good."
      ],
      "metadata": {
        "id": "q8NYZjLd2G7n"
      }
    },
    {
      "cell_type": "markdown",
      "source": [
        "3.**SVM**"
      ],
      "metadata": {
        "id": "-wKIZkNUUOSz"
      }
    },
    {
      "cell_type": "code",
      "source": [
        "import numpy as np\n",
        "from sklearn.pipeline import make_pipeline\n",
        "from sklearn.preprocessing import StandardScaler\n",
        "from sklearn import svm\n",
        "\n",
        "param_grid= {'degree':[2,3,4,5,6] ,'gamma': [0.001,0.01,0.1,1,10]}\n",
        "mdl = svm.SVC(kernel='linear') # Linear Kernel\n",
        "\n",
        "gs= GridSearchCV(mdl, param_grid, cv=fld,scoring='f1') #since the classes are not balanced, it is wise to use f1 score\n",
        "\n",
        "result=gs.fit(input_df1,model1_out)\n",
        "result.best_params_ ,result\n",
        "\n",
        "\n"
      ],
      "metadata": {
        "id": "yru6fAiYUTr2",
        "colab": {
          "base_uri": "https://localhost:8080/"
        },
        "outputId": "ca5f6f61-f8a4-4d93-d3f2-3b4e9c9e3c07"
      },
      "execution_count": 20,
      "outputs": [
        {
          "output_type": "execute_result",
          "data": {
            "text/plain": [
              "({'degree': 2, 'gamma': 0.001},\n",
              " GridSearchCV(cv=KFold(n_splits=5, random_state=30, shuffle=True),\n",
              "              estimator=SVC(kernel='linear'),\n",
              "              param_grid={'degree': [2, 3, 4, 5, 6],\n",
              "                          'gamma': [0.001, 0.01, 0.1, 1, 10]},\n",
              "              scoring='f1'))"
            ]
          },
          "metadata": {},
          "execution_count": 20
        }
      ]
    },
    {
      "cell_type": "code",
      "source": [
        "gs.best_score_,gs.best_estimator_"
      ],
      "metadata": {
        "id": "2F6xIwRPZw0F",
        "colab": {
          "base_uri": "https://localhost:8080/"
        },
        "outputId": "2bc08c23-1b16-4d16-935c-2569892e70d5"
      },
      "execution_count": 21,
      "outputs": [
        {
          "output_type": "execute_result",
          "data": {
            "text/plain": [
              "(0.8910349900513836, SVC(degree=2, gamma=0.001, kernel='linear'))"
            ]
          },
          "metadata": {},
          "execution_count": 21
        }
      ]
    },
    {
      "cell_type": "markdown",
      "source": [
        "Feature Importance"
      ],
      "metadata": {
        "id": "zbGcfwWy5MJ1"
      }
    },
    {
      "cell_type": "code",
      "source": [
        "feat_imp=gs.best_estimator_.coef_\n",
        "feat_imp\n",
        "# feat_imp=gs.best_estimator_.coefs_\n",
        "# feat_imp=feat_imp[1]\n",
        "feat_imp=feat_imp.flatten()\n",
        "fig = plt.figure()\n",
        "plt.bar(gs.feature_names_in_,feat_imp)\n",
        "plt.title('Feature Importance')"
      ],
      "metadata": {
        "id": "C137qtUJaNsl",
        "colab": {
          "base_uri": "https://localhost:8080/",
          "height": 303
        },
        "outputId": "8355f7b1-7605-41a8-ea61-2f70016f3a65"
      },
      "execution_count": 22,
      "outputs": [
        {
          "output_type": "execute_result",
          "data": {
            "text/plain": [
              "Text(0.5, 1.0, 'Feature Importance')"
            ]
          },
          "metadata": {},
          "execution_count": 22
        },
        {
          "output_type": "display_data",
          "data": {
            "text/plain": [
              "<Figure size 432x288 with 1 Axes>"
            ],
            "image/png": "[encoded data removed]"
          },
          "metadata": {
            "needs_background": "light"
          }
        }
      ]
    },
    {
      "cell_type": "markdown",
      "source": [
        "Recursive Feature Elimination"
      ],
      "metadata": {
        "id": "Ev0NoaMh5Puy"
      }
    },
    {
      "cell_type": "code",
      "source": [
        "#reference: https://machinelearningmastery.com/rfe-feature-selection-in-python/\n",
        "#reference:https://scikit-learn.org/stable/modules/generated/sklearn.feature_selection.RFECV.html\n",
        "\n",
        "from sklearn.feature_selection import RFE\n",
        "from sklearn.pipeline import Pipeline\n",
        "\n",
        "val_model1= gs.best_estimator_    #we will use this model on testing data later\n",
        "estimator = gs.best_estimator_    #we will use the best estimator achieved from gridsearch\n",
        "selector = RFECV(estimator, step=1, cv=fld)   # define RFECV selector using best estimator\n",
        "selector = selector.fit(input_df1,model1_out) # fit the data into selector\n",
        "\n",
        "#print mean (of all folds) score for every feature eliminated\n",
        "print(\"\\n Mean Test scores for each feature eliminated are:\")\n",
        "print(selector.cv_results_['mean_test_score'])\n",
        "\n",
        "\n",
        "#plot the scores after eliminating each feature\n",
        "\n",
        "fig = plt.figure()\n",
        "plt.bar(gs.feature_names_in_,selector.cv_results_['mean_test_score'])\n",
        "plt.title('Feature Elemination Score')\n",
        "\n",
        "#ranking of each feature as per score it gives when eliminated\n",
        "print(\"\\n Rankings of Each feature \")\n",
        "print(selector.ranking_)\n",
        "\n",
        "\n",
        "#maximum accuracy achieved in the process\n",
        "print(\"\\n maximum accuracy achieved is:\")\n",
        "print(max(selector.cv_results_['mean_test_score']))"
      ],
      "metadata": {
        "id": "bNRqs8BGFbUK",
        "colab": {
          "base_uri": "https://localhost:8080/",
          "height": 667
        },
        "outputId": "c539ff34-5393-44b3-fa12-c0e66653172d"
      },
      "execution_count": 23,
      "outputs": [
        {
          "output_type": "stream",
          "name": "stdout",
          "text": [
            "\n",
            " Mean Test scores for each feature eliminated are:\n",
            "[0.69288786 0.76503268 0.81097351 0.83464912 0.84912281 0.87272102\n",
            " 0.8622119  0.86616787 0.86614207 0.87401101 0.86618507 0.87805298\n",
            " 0.88326453 0.88061576 0.87930857 0.87668559 0.88587891 0.900301\n",
            " 0.90292398 0.900301   0.90555556 0.90554696 0.90686275 0.90816993\n",
            " 0.90686275 0.90555556 0.90685415 0.90686275 0.90554696 0.90552976\n",
            " 0.90683695 0.90422257 0.90553836 0.90422257 0.90422257 0.90553836\n",
            " 0.90948572 0.90816993 0.90816993 0.90948572 0.90685415 0.91343309\n",
            " 0.9121173  0.91604747 0.9121087  0.9121087  0.91341589 0.91472308\n",
            " 0.91472308 0.91603027 0.91734606 0.91734606 0.91603887 0.91603887\n",
            " 0.91603887 0.91603027 0.91340729 0.91340729 0.91340729 0.91340729\n",
            " 0.91472308 0.91472308 0.91340729 0.91472308 0.91472308 0.91472308\n",
            " 0.91472308 0.91472308 0.91472308 0.91472308 0.91472308]\n",
            "\n",
            " Rankings of Each feature \n",
            "[18  4  1  1  1  1 12  9  1  7  1  1  1  1 17 15  1  8  1  1  1  1  1  1\n",
            "  1  1  5  6  1  1  1  1  1  1  1  3  1 21  1  1 13  1  1  1 19  1  1  1\n",
            "  1  1  1 11  1  1  1 14  1  1 20  1  1 16  1  1  2  1  1  1  1  1 10]\n",
            "\n",
            " maximum accuracy achieved is:\n",
            "0.9173460612315102\n"
          ]
        },
        {
          "output_type": "display_data",
          "data": {
            "text/plain": [
              "<Figure size 432x288 with 1 Axes>"
            ],
            "image/png": "[encoded data removed]"
          },
          "metadata": {
            "needs_background": "light"
          }
        }
      ]
    },
    {
      "cell_type": "markdown",
      "source": [
        "Observations for SVM:\n",
        "\n",
        "1. Best result was given by linear kernal of degree 2 and gamma =0.001\n",
        "2. Certain features were more important than others.\n",
        "3. Overall, the score was good.\n",
        "4. Score increased significantly when certain features were eliminated."
      ],
      "metadata": {
        "id": "DsDDH-v72hsf"
      }
    },
    {
      "cell_type": "markdown",
      "source": [
        "4.**RANDOM FOREST**"
      ],
      "metadata": {
        "id": "7P9MlrDnYDkD"
      }
    },
    {
      "cell_type": "code",
      "source": [
        "from sklearn.ensemble import RandomForestClassifier #To import Random Forest Classifier from sklearn.ensemble"
      ],
      "metadata": {
        "id": "LECPC9euYHyl"
      },
      "execution_count": 24,
      "outputs": []
    },
    {
      "cell_type": "code",
      "source": [
        "##Initializing the Random Forest classifier with max_depth and n_estimators\n",
        "param_grid= {'n_estimators':[500] ,'max_leaf_nodes': [10]} #since the code was taking too much time to run, i experimented with certain values and finally only kept these 2 values to save runtime\n",
        "mdl = RandomForestClassifier(max_depth=10, ) #n_estimator number of trees in the forest max_depth=depthbof tree\n",
        "gs= GridSearchCV(mdl, param_grid, cv=fld,scoring='f1') #since the classes are not balanced, it is wise to use f1 score\n",
        "\n",
        "result=gs.fit(input_df1,model1_out)\n",
        "val_model2=gs.best_estimator_   #we will use this model for validation later\n",
        "result.best_params_ ,result,gs.best_score_\n"
      ],
      "metadata": {
        "id": "KrExiYzKYSAE",
        "colab": {
          "base_uri": "https://localhost:8080/"
        },
        "outputId": "0edb9b05-9119-4933-867d-443c699ab0c8"
      },
      "execution_count": 25,
      "outputs": [
        {
          "output_type": "execute_result",
          "data": {
            "text/plain": [
              "({'max_leaf_nodes': 10, 'n_estimators': 500},\n",
              " GridSearchCV(cv=KFold(n_splits=5, random_state=30, shuffle=True),\n",
              "              estimator=RandomForestClassifier(max_depth=10),\n",
              "              param_grid={'max_leaf_nodes': [10], 'n_estimators': [500]},\n",
              "              scoring='f1'),\n",
              " 0.8978368999651817)"
            ]
          },
          "metadata": {},
          "execution_count": 25
        }
      ]
    },
    {
      "cell_type": "code",
      "source": [
        "feat_imp=gs.best_estimator_.feature_importances_"
      ],
      "metadata": {
        "id": "cKX939Tp3B9t"
      },
      "execution_count": 26,
      "outputs": []
    },
    {
      "cell_type": "code",
      "source": [
        "#https://stackoverflow.com/questions/48377296/get-feature-importance-from-gridsearchcv\n",
        "feat_imp=gs.best_estimator_.feature_importances_ # extracting importance of each feature for the grid serach result which is best estimator \n",
        "fig = plt.figure()\n",
        "plt.bar(gs.feature_names_in_,feat_imp)\n",
        "plt.title('Feature Importance')"
      ],
      "metadata": {
        "id": "TugMzKbL5FqB",
        "colab": {
          "base_uri": "https://localhost:8080/",
          "height": 303
        },
        "outputId": "7c249e38-155e-45f7-a864-86c7070923b0"
      },
      "execution_count": 27,
      "outputs": [
        {
          "output_type": "execute_result",
          "data": {
            "text/plain": [
              "Text(0.5, 1.0, 'Feature Importance')"
            ]
          },
          "metadata": {},
          "execution_count": 27
        },
        {
          "output_type": "display_data",
          "data": {
            "text/plain": [
              "<Figure size 432x288 with 1 Axes>"
            ],
            "image/png": "[encoded data removed]"
          },
          "metadata": {
            "needs_background": "light"
          }
        }
      ]
    },
    {
      "cell_type": "markdown",
      "source": [
        "Observation:\n",
        "\n",
        "1. Very good score was given by SVM with n-estimators=500 and 10 leaf nodes.\n",
        "2. Score was the best among the 4 models.\n",
        "3. Certain features were more important than the others."
      ],
      "metadata": {
        "id": "0DnXtEES3Lms"
      }
    },
    {
      "cell_type": "markdown",
      "source": [
        "# Multiclass Prediction"
      ],
      "metadata": {
        "id": "p5GkOafhMK48"
      }
    },
    {
      "cell_type": "markdown",
      "source": [
        "Let Label treatment behaviour"
      ],
      "metadata": {
        "id": "1EdC2RxmNaPt"
      }
    },
    {
      "cell_type": "code",
      "source": [
        "from sklearn import preprocessing \n",
        "enc = preprocessing.LabelEncoder() #Import the liabrary\n",
        "train_df['Treatment_Behavior'] = enc.fit_transform(train_df['Treatment_Behavior']) #Label the discrete values\n",
        "model2_out = train_df['Treatment_Behavior'] \n",
        "model2_out #Output in numarical form..."
      ],
      "metadata": {
        "id": "VCsjMWrSMPkK",
        "colab": {
          "base_uri": "https://localhost:8080/"
        },
        "outputId": "9355217f-d7ee-4a1a-8463-00a3a49f46a6"
      },
      "execution_count": 29,
      "outputs": [
        {
          "output_type": "execute_result",
          "data": {
            "text/plain": [
              "0      0\n",
              "1      0\n",
              "2      0\n",
              "3      0\n",
              "4      0\n",
              "      ..\n",
              "757    3\n",
              "758    3\n",
              "759    3\n",
              "760    3\n",
              "761    3\n",
              "Name: Treatment_Behavior, Length: 762, dtype: int64"
            ]
          },
          "metadata": {},
          "execution_count": 29
        }
      ]
    },
    {
      "cell_type": "code",
      "source": [
        "from sklearn.model_selection import train_test_split # From sklearm.model we can choose train_test_split for this operation\n",
        "model2_ip_train, model2_ip_test, model2_out_train, model2_out_test = train_test_split(input_df1_scaled, model2_out, test_size=0.2, random_state=42) # Test size is given as 0.2 then there may 20% test and 80% train datas."
      ],
      "metadata": {
        "id": "bQfKcvo3PGIr"
      },
      "execution_count": 30,
      "outputs": []
    },
    {
      "cell_type": "markdown",
      "source": [
        "**1.Logistic regression with elastic penality**"
      ],
      "metadata": {
        "id": "jWeEf8u2QoXr"
      }
    },
    {
      "cell_type": "code",
      "source": [
        "from sklearn.model_selection import cross_val_score\n",
        "from sklearn.linear_model import LogisticRegression\n",
        "\n",
        "# Let us define Logistic regression in Logistic2 elastic net \n",
        "Logistic2 = LogisticRegression(C=0.6, penalty=\"elasticnet\", solver=\"saga\", l1_ratio=0.2,max_iter=1000)\n",
        "#Form the model and for 1000 iterations and mean accuracy given by\n",
        "score2 = cross_val_score(Logistic2, model2_ip_train, model2_out_train, scoring='accuracy', cv=fld, n_jobs=-1)\n",
        "print('Treatment Behavior mean accuracy is :' + str(np.mean(score2)))"
      ],
      "metadata": {
        "id": "jaOQQxEeQmSR",
        "colab": {
          "base_uri": "https://localhost:8080/"
        },
        "outputId": "ba2ccd31-996b-44f8-bcfd-23720740406f"
      },
      "execution_count": 31,
      "outputs": [
        {
          "output_type": "stream",
          "name": "stdout",
          "text": [
            "Treatment Behavior mean accuracy is :0.9786207830917221\n"
          ]
        }
      ]
    },
    {
      "cell_type": "code",
      "source": [
        "#To calculate the prediction score  using test data\n",
        "regression_model = LogisticRegression(C=1, penalty=\"elasticnet\", solver=\"saga\", l1_ratio=0.2,max_iter = 1000).fit(model2_ip_train, model2_out_train)\n",
        "val_model3=regression_model #we will use this model later for test\n",
        "output_2 = regression_model.predict(model2_ip_test)\n",
        "print(\"Model accuracy score: \",regression_model.score(model2_ip_test, np.ravel(model2_out_test)))"
      ],
      "metadata": {
        "id": "UB_r-SN2S9_0",
        "colab": {
          "base_uri": "https://localhost:8080/"
        },
        "outputId": "d81c31d8-1d3e-4460-e79d-62fe48f07798"
      },
      "execution_count": 32,
      "outputs": [
        {
          "output_type": "stream",
          "name": "stdout",
          "text": [
            "Model accuracy score:  0.9869281045751634\n"
          ]
        }
      ]
    },
    {
      "cell_type": "code",
      "source": [
        "feat_imp=regression_model.coef_[0]\n",
        "fig = plt.figure()\n",
        "plt.bar(gs.feature_names_in_,feat_imp)\n",
        "plt.title('Feature Importance')"
      ],
      "metadata": {
        "id": "zayczMsbd0Af",
        "colab": {
          "base_uri": "https://localhost:8080/",
          "height": 303
        },
        "outputId": "6761ee7d-e20c-44a0-9215-c2c1d945ebe4"
      },
      "execution_count": 33,
      "outputs": [
        {
          "output_type": "execute_result",
          "data": {
            "text/plain": [
              "Text(0.5, 1.0, 'Feature Importance')"
            ]
          },
          "metadata": {},
          "execution_count": 33
        },
        {
          "output_type": "display_data",
          "data": {
            "text/plain": [
              "<Figure size 432x288 with 1 Axes>"
            ],
            "image/png": "[encoded data removed]"
          },
          "metadata": {
            "needs_background": "light"
          }
        }
      ]
    },
    {
      "cell_type": "code",
      "source": [
        "#reference: https://machinelearningmastery.com/rfe-feature-selection-in-python/\n",
        "#reference:https://scikit-learn.org/stable/modules/generated/sklearn.feature_selection.RFECV.html\n",
        "\n",
        "from sklearn.feature_selection import RFE\n",
        "from sklearn.pipeline import Pipeline\n",
        "\n",
        "estimator = regression_model    #we will use the best estimator achieved from gridsearch\n",
        "selector = RFECV(estimator, step=1, cv=fld)   # define RFECV selector using best estimator\n",
        "selector = selector.fit(model2_ip_train,model2_out_train) # fit the data into selector\n",
        "\n",
        "#print mean (of all folds) score for every feature eliminated\n",
        "print(\"\\n Mean Test scores for each feature eliminated are:\")\n",
        "print(selector.cv_results_['mean_test_score'])\n",
        "\n",
        "\n",
        "#plot the scores after eliminating each feature\n",
        "\n",
        "fig = plt.figure()\n",
        "plt.bar(gs.feature_names_in_,selector.cv_results_['mean_test_score'])\n",
        "plt.title('Feature Elemination Score')\n",
        "\n",
        "#ranking of each feature as per score it gives when eliminated\n",
        "print(\"\\n Rankings of Each feature \")\n",
        "print(selector.ranking_)\n",
        "\n",
        "\n",
        "#maximum accuracy achieved in the process\n",
        "print(\"\\n maximum accuracy achieved is:\")\n",
        "print(max(selector.cv_results_['mean_test_score']))"
      ],
      "metadata": {
        "id": "liv2qfcYjpx1",
        "colab": {
          "base_uri": "https://localhost:8080/",
          "height": 667
        },
        "outputId": "7b9ef77f-8825-49c6-c3b2-a8f57905055e"
      },
      "execution_count": 34,
      "outputs": [
        {
          "output_type": "stream",
          "name": "stdout",
          "text": [
            "\n",
            " Mean Test scores for each feature eliminated are:\n",
            "[0.59597615 0.64363907 0.68291559 0.76511313 0.81269476 0.84399133\n",
            " 0.87019374 0.87675112 0.90638125 0.91129928 0.93926297 0.94418101\n",
            " 0.94247392 0.95233708 0.95235063 0.95069774 0.95232353 0.95396288\n",
            " 0.95726866 0.95892156 0.95398997 0.96713182 0.96549248 0.96385314\n",
            " 0.96547893 0.96710473 0.97203631 0.97698144 0.97039697 0.97532855\n",
            " 0.97204986 0.9736892  0.97532855 0.97696789 0.97367565 0.97863433\n",
            " 0.97699499 0.9736892  0.97532855 0.97532855 0.97860723 0.97860723\n",
            " 0.97860723 0.97695434 0.97695434 0.97367565 0.97367565 0.975315\n",
            " 0.97862078 0.98026013 0.98189947 0.98026013 0.98026013 0.97862078\n",
            " 0.97862078 0.98026013 0.98189947 0.98189947 0.98189947 0.98353882\n",
            " 0.98026013 0.98026013 0.98026013 0.98026013 0.98189947 0.98189947\n",
            " 0.98026013 0.98353882 0.98353882 0.98353882 0.98353882]\n",
            "\n",
            " Rankings of Each feature \n",
            "[ 1  1  1  1  1  1  1  1  1  2  1  1  1  8  1  1  1  1  1  1  1  1  1  1\n",
            "  1  1  1  1  1  1  1  1 12  1  1  1  1  1  1  1  1  1  1  1  7  4  1  1\n",
            "  1  1  1  1  1  1  1  1  1  5  1  1  1  1  9  1  1 11  3  1 10  6  1]\n",
            "\n",
            " maximum accuracy achieved is:\n",
            "0.9835388158786073\n"
          ]
        },
        {
          "output_type": "display_data",
          "data": {
            "text/plain": [
              "<Figure size 432x288 with 1 Axes>"
            ],
            "image/png": "[encoded data removed]"
          },
          "metadata": {
            "needs_background": "light"
          }
        }
      ]
    },
    {
      "cell_type": "code",
      "source": [
        "#Importing confusion Matrix\n",
        "from sklearn.metrics import confusion_matrix"
      ],
      "metadata": {
        "id": "BioN4yP2rcOq"
      },
      "execution_count": 35,
      "outputs": []
    },
    {
      "cell_type": "code",
      "source": [
        "##Defining confusion matrix to plot actual and predicted values...\n",
        "cm = confusion_matrix(model2_out_test,output_2)\n",
        "#matrix will be oriented as [0,1,2,3] i.e class 0 in first row 1 in second row and so and so forth\n",
        "#plotted in heatmap labels are given\n",
        "sns.heatmap(cm,annot=True,fmt = '.2f',xticklabels=['Memantine_C/S','Memantine_S/C','Saline_C/S','Saline_S/C'],yticklabels=['Memantine_C/S','Memantine_S/C','Saline_C/S','Saline_S/C'])\n",
        "plt.ylabel('True labels')\n",
        "plt.xlabel('Predicted labels')\n",
        "plt.show()"
      ],
      "metadata": {
        "id": "pguac2mCoM0f",
        "colab": {
          "base_uri": "https://localhost:8080/",
          "height": 361
        },
        "outputId": "d001050f-ce46-4e81-c9ee-16c01b4f3338"
      },
      "execution_count": 36,
      "outputs": [
        {
          "output_type": "display_data",
          "data": {
            "text/plain": [
              "<Figure size 432x288 with 2 Axes>"
            ],
            "image/png": "[encoded data removed]"
          },
          "metadata": {
            "needs_background": "light"
          }
        }
      ]
    },
    {
      "cell_type": "markdown",
      "source": [
        "**Summary from confusion matrix**\n",
        "\n",
        "1.   Column represents predicted lables and row are actual labels.\n",
        "2.   The diagonal shows the correclty classified labels on predicted and actual.\n",
        "\n",
        "1.   Off diagonal are zero therefore no miss classification..\n",
        "\n",
        "\n",
        "\n",
        "\n"
      ],
      "metadata": {
        "id": "lZ3efwc_tuVK"
      }
    },
    {
      "cell_type": "code",
      "source": [
        "#classification report\n",
        "from sklearn.metrics import classification_report\n",
        "print(classification_report(model2_out_test,output_2))"
      ],
      "metadata": {
        "id": "yxZn1tJvsyl7",
        "colab": {
          "base_uri": "https://localhost:8080/"
        },
        "outputId": "ff34816c-9eab-4351-b827-d8be25d34959"
      },
      "execution_count": 37,
      "outputs": [
        {
          "output_type": "stream",
          "name": "stdout",
          "text": [
            "              precision    recall  f1-score   support\n",
            "\n",
            "           0       0.98      0.98      0.98        48\n",
            "           1       1.00      1.00      1.00        38\n",
            "           2       0.97      1.00      0.99        34\n",
            "           3       1.00      0.97      0.98        33\n",
            "\n",
            "    accuracy                           0.99       153\n",
            "   macro avg       0.99      0.99      0.99       153\n",
            "weighted avg       0.99      0.99      0.99       153\n",
            "\n"
          ]
        }
      ]
    },
    {
      "cell_type": "markdown",
      "source": [
        "**2.Neural Network**"
      ],
      "metadata": {
        "id": "A-89TACqxGfd"
      }
    },
    {
      "cell_type": "code",
      "source": [
        "#Liabrary to check by model before using K for cross validation...\n",
        "#ref https://scikit-learn.org/stable/modules/neural_networks_supervised.html#multi-layer-perceptron\n",
        "from sklearn.model_selection import cross_val_score\n",
        "from sklearn.neural_network import MLPClassifier\n",
        "from sklearn.model_selection import KFold\n",
        "# define the neueral network model 2\n",
        "model_neural2 = MLPClassifier(hidden_layer_sizes=(100,),activation='relu', alpha=0.05)\n",
        "#Single hidden size given as (100,) default in reference\n",
        "#activation function is choosen as 'relu'\n",
        "# define the 5-fold cross validation procedure\n",
        "cv = KFold(n_splits=5,shuffle=False)\n",
        "# evaluate the model and collect the scores\n",
        "n_scores = cross_val_score(model_neural2, model2_ip_test, model2_out_test, scoring='accuracy', cv=cv, n_jobs=-1)\n",
        "print('Mean Accuracy of Treatment Behavior:' + str(np.mean(n_scores)))"
      ],
      "metadata": {
        "id": "3YyBgJ3xxNoj",
        "colab": {
          "base_uri": "https://localhost:8080/"
        },
        "outputId": "45d8307c-90f8-43a3-bccb-fc7d38273079"
      },
      "execution_count": 38,
      "outputs": [
        {
          "output_type": "stream",
          "name": "stdout",
          "text": [
            "Mean Accuracy of Treatment Behavior:0.9146236559139785\n"
          ]
        }
      ]
    },
    {
      "cell_type": "code",
      "source": [
        "model_neural2 = MLPClassifier(hidden_layer_sizes=(50,20),activation='relu', alpha=0.05)\n",
        "model_neural2.fit(model2_ip_train,model2_out_train)\n",
        "output_2_NN = model_neural2.predict(model2_ip_test)\n",
        "val_model4=model_neural2 #we will use this model later in test\n",
        "print(\"Model accuracy score: \",model_neural2.score(model2_ip_test, np.ravel(model2_out_test)))"
      ],
      "metadata": {
        "id": "VaLVNydoFTqd",
        "colab": {
          "base_uri": "https://localhost:8080/"
        },
        "outputId": "4dc463fd-6d65-496a-abb1-b4cdc7a788c1"
      },
      "execution_count": 39,
      "outputs": [
        {
          "output_type": "stream",
          "name": "stdout",
          "text": [
            "Model accuracy score:  0.9934640522875817\n"
          ]
        }
      ]
    },
    {
      "cell_type": "code",
      "source": [
        "##Defining confusion matrix to plot actual and predicted values...\n",
        "cm = confusion_matrix(model2_out_test,output_2_NN)\n",
        "#matrix will be oriented as [0,1,2,3] i.e class 0 in first row 1 in second row and so and so forth\n",
        "#plotted in heatmap labels are given\n",
        "sns.heatmap(cm,annot=True,fmt = '.2f',xticklabels=['Memantine_C/S','Memantine_S/C','Saline_C/S','Saline_S/C'],yticklabels=['Memantine_C/S','Memantine_S/C','Saline_C/S','Saline_S/C'])\n",
        "plt.ylabel('True labels')\n",
        "plt.xlabel('Predicted labels')\n",
        "plt.show()"
      ],
      "metadata": {
        "id": "0d119IOuHjym",
        "colab": {
          "base_uri": "https://localhost:8080/",
          "height": 361
        },
        "outputId": "738b5ba7-7fbb-4211-a65b-5669242f5edc"
      },
      "execution_count": 40,
      "outputs": [
        {
          "output_type": "display_data",
          "data": {
            "text/plain": [
              "<Figure size 432x288 with 2 Axes>"
            ],
            "image/png": "[encoded data removed]"
          },
          "metadata": {
            "needs_background": "light"
          }
        }
      ]
    },
    {
      "cell_type": "code",
      "source": [
        "from sklearn.metrics import classification_report\n",
        "print(classification_report(model2_out_test,output_2_NN))"
      ],
      "metadata": {
        "id": "IvhHk21iIjlT",
        "colab": {
          "base_uri": "https://localhost:8080/"
        },
        "outputId": "f160db17-a3f8-4e23-ee78-672a72a6d0df"
      },
      "execution_count": 41,
      "outputs": [
        {
          "output_type": "stream",
          "name": "stdout",
          "text": [
            "              precision    recall  f1-score   support\n",
            "\n",
            "           0       0.98      1.00      0.99        48\n",
            "           1       1.00      1.00      1.00        38\n",
            "           2       1.00      1.00      1.00        34\n",
            "           3       1.00      0.97      0.98        33\n",
            "\n",
            "    accuracy                           0.99       153\n",
            "   macro avg       0.99      0.99      0.99       153\n",
            "weighted avg       0.99      0.99      0.99       153\n",
            "\n"
          ]
        }
      ]
    },
    {
      "cell_type": "markdown",
      "source": [
        "**3.SVM**"
      ],
      "metadata": {
        "id": "q8Ro4BQNbUH3"
      }
    },
    {
      "cell_type": "code",
      "source": [
        "from sklearn.model_selection import cross_val_score\n",
        "from sklearn.model_selection import KFold\n",
        "from sklearn.svm import SVC\n",
        "# define the SVM model\n",
        "SVM2 = SVC(kernel='rbf', C=1.0, gamma='auto')\n",
        "# define the 5-fold cross validation procedure\n",
        "SVM_fold = KFold(n_splits=5,shuffle=False)\n",
        "# evaluate the model and collect the scores\n",
        "n_scores = cross_val_score(SVM2, model2_ip_train, model2_out_train, scoring='accuracy', cv=SVM_fold, n_jobs=-1)\n",
        "print('Treatment Behavior mean accuracy is :' + str(np.mean(n_scores)))"
      ],
      "metadata": {
        "id": "2MpoZL62bJt0",
        "colab": {
          "base_uri": "https://localhost:8080/"
        },
        "outputId": "b2e13cac-5d85-410b-a864-e9b2f6ceba7f"
      },
      "execution_count": 42,
      "outputs": [
        {
          "output_type": "stream",
          "name": "stdout",
          "text": [
            "Treatment Behavior mean accuracy is :0.990150386126541\n"
          ]
        }
      ]
    },
    {
      "cell_type": "code",
      "source": [
        "#Related library\n",
        "#REF https://scikit-learn.org/stable/modules/generated/sklearn.datasets.make_classification.html\n",
        "from sklearn.svm import SVC\n",
        "from sklearn.model_selection import StratifiedKFold\n",
        "from sklearn.feature_selection import RFECV\n",
        "from sklearn.datasets import make_classification\n",
        "\n",
        "\n",
        "X, Y = make_classification(\n",
        "    n_samples=762,                                                               #No.of samples here 762\n",
        "    n_features=70,                                                               #No.of features\n",
        "    n_informative=30,                                                            #Informative features\n",
        "    n_redundant=0,\n",
        "    n_repeated=0,\n",
        "    n_classes=4,\n",
        "    n_clusters_per_class=4,\n",
        "    random_state=0,\n",
        ")\n",
        "# Create the RFE object and compute a cross-validated score.\n",
        "modelSV = SVC(kernel='linear', C=1.0, gamma='auto')\n",
        "# The \"accuracy\" scoring shows the proportion of correct classifications\n",
        "\n",
        "min_features_to_select = 10  # Minimum number of features to consider\n",
        "SVM_Model = RFECV(\n",
        "    estimator=modelSV,\n",
        "    step=1,\n",
        "    cv=StratifiedKFold(5),\n",
        "    scoring=\"accuracy\",\n",
        "    min_features_to_select=min_features_to_select,\n",
        ")\n",
        "SVM_Model.fit(model2_ip_train, model2_out_train,)\n",
        "\n",
        "print(\"Optimal number of features wrt Treatment behaviour : %d\" % SVM_Model.n_features_)\n",
        "SVM_Model.get_feature_names_out()"
      ],
      "metadata": {
        "id": "rsH4rPEviFla",
        "colab": {
          "base_uri": "https://localhost:8080/"
        },
        "outputId": "98221155-1ff4-4c5c-f729-43cfca369046"
      },
      "execution_count": 43,
      "outputs": [
        {
          "output_type": "stream",
          "name": "stdout",
          "text": [
            "Optimal number of features wrt Treatment behaviour : 60\n"
          ]
        },
        {
          "output_type": "execute_result",
          "data": {
            "text/plain": [
              "array(['x0', 'x1', 'x2', 'x3', 'x4', 'x5', 'x7', 'x8', 'x9', 'x10', 'x11',\n",
              "       'x12', 'x13', 'x14', 'x15', 'x16', 'x18', 'x19', 'x20', 'x21',\n",
              "       'x22', 'x23', 'x24', 'x25', 'x26', 'x27', 'x28', 'x29', 'x30',\n",
              "       'x31', 'x34', 'x35', 'x36', 'x37', 'x38', 'x39', 'x41', 'x42',\n",
              "       'x43', 'x44', 'x45', 'x46', 'x47', 'x49', 'x50', 'x51', 'x52',\n",
              "       'x53', 'x54', 'x55', 'x56', 'x57', 'x58', 'x59', 'x60', 'x63',\n",
              "       'x64', 'x67', 'x68', 'x70'], dtype=object)"
            ]
          },
          "metadata": {},
          "execution_count": 43
        }
      ]
    },
    {
      "cell_type": "code",
      "source": [
        "#reference: https://machinelearningmastery.com/rfe-feature-selection-in-python/\n",
        "#reference:https://scikit-learn.org/stable/modules/generated/sklearn.feature_selection.RFECV.html\n",
        "\n",
        "from sklearn.feature_selection import RFE\n",
        "from sklearn.pipeline import Pipeline\n",
        "\n",
        "estimator = modelSV    #we will use the best estimator achieved from gridsearch\n",
        "selector = RFECV(estimator, step=1, cv=fld)   # define RFECV selector using best estimator\n",
        "selector = selector.fit(model2_ip_train,model2_out_train) # fit the data into selector\n",
        "\n",
        "#print mean (of all folds) score for every feature eliminated\n",
        "print(\"\\n Mean Test scores for each feature eliminated are:\")\n",
        "print(selector.cv_results_['mean_test_score'])\n",
        "\n",
        "\n",
        "#plot the scores after eliminating each feature\n",
        "\n",
        "fig = plt.figure()\n",
        "plt.bar(gs.feature_names_in_,selector.cv_results_['mean_test_score'])\n",
        "plt.title('Feature Elemination Score')\n",
        "\n",
        "#ranking of each feature as per score it gives when eliminated\n",
        "print(\"\\n Rankings of Each feature \")\n",
        "print(selector.ranking_)\n",
        "\n",
        "\n",
        "#maximum accuracy achieved in the process\n",
        "print(\"\\n maximum accuracy achieved is:\")\n",
        "print(max(selector.cv_results_['mean_test_score']))"
      ],
      "metadata": {
        "id": "Hxxjs2n9gy_i",
        "colab": {
          "base_uri": "https://localhost:8080/",
          "height": 649
        },
        "outputId": "8dd352e6-78ff-4873-eea7-b1b706d00f0f"
      },
      "execution_count": 44,
      "outputs": [
        {
          "output_type": "stream",
          "name": "stdout",
          "text": [
            "\n",
            " Mean Test scores for each feature eliminated are:\n",
            "[0.58777943 0.62234115 0.73727137 0.77825498 0.81281669 0.85714673\n",
            " 0.87683241 0.89157296 0.91299282 0.92280179 0.93595719 0.95239127\n",
            " 0.94908549 0.95240482 0.95566996 0.96224089 0.96224089 0.96715892\n",
            " 0.9720905  0.97867498 0.97700854 0.97535564 0.98031432 0.97538274\n",
            " 0.97866143 0.98195366 0.98359301 0.98194012 0.98194012 0.98030077\n",
            " 0.97864788 0.97866143 0.98521881 0.98030077 0.98030077 0.98194012\n",
            " 0.98194012 0.97866143 0.98357946 0.98028722 0.97535564 0.97699499\n",
            " 0.98192657 0.98356591 0.98028722 0.98194012 0.97866143 0.98194012\n",
            " 0.98030077 0.98194012 0.98194012 0.98357946 0.98194012 0.98030077\n",
            " 0.98030077 0.98030077 0.98030077 0.98194012 0.98194012 0.98194012\n",
            " 0.98030077 0.98030077 0.98357946 0.98357946 0.98521881 0.98357946\n",
            " 0.98521881 0.98685815 0.98685815 0.98685815 0.98685815]\n",
            "\n",
            " Rankings of Each feature \n",
            "[1 1 1 1 1 1 1 1 1 1 1 1 1 1 1 1 1 1 1 1 1 1 1 1 1 1 1 1 1 1 1 1 1 1 1 1 1\n",
            " 1 1 1 1 1 1 1 1 1 1 1 1 1 1 1 1 1 1 1 1 1 1 1 1 1 1 1 1 4 2 1 1 3 1]\n",
            "\n",
            " maximum accuracy achieved is:\n",
            "0.9868581493022625\n"
          ]
        },
        {
          "output_type": "display_data",
          "data": {
            "text/plain": [
              "<Figure size 432x288 with 1 Axes>"
            ],
            "image/png": "[encoded data removed]"
          },
          "metadata": {
            "needs_background": "light"
          }
        }
      ]
    },
    {
      "cell_type": "markdown",
      "source": [
        "**4.Random forest**"
      ],
      "metadata": {
        "id": "4C3vQbx7w5fa"
      }
    },
    {
      "cell_type": "code",
      "source": [
        "#Building Random forrest model\n",
        "from sklearn.ensemble import RandomForestClassifier\n",
        "##Initializing with max_depth and n_estimators\n",
        "randm_clf2 = RandomForestClassifier(max_depth=10, n_estimators=1000,max_leaf_nodes=10) #n_estimator number of trees in the forest max_depth=depthbof tree\n",
        "randm_clf2.fit(model2_ip_train,model2_out_train)"
      ],
      "metadata": {
        "id": "rC9HdWQGyW3h",
        "colab": {
          "base_uri": "https://localhost:8080/"
        },
        "outputId": "506578ab-5585-4325-d64b-90428f2f3bfe"
      },
      "execution_count": 45,
      "outputs": [
        {
          "output_type": "execute_result",
          "data": {
            "text/plain": [
              "RandomForestClassifier(max_depth=10, max_leaf_nodes=10, n_estimators=1000)"
            ]
          },
          "metadata": {},
          "execution_count": 45
        }
      ]
    },
    {
      "cell_type": "code",
      "source": [
        "feat_imp=randm_clf2.feature_importances_ # extracting importance of each feature for the grid serach result which is best estimator \n",
        "fig = plt.figure()\n",
        "plt.bar(gs.feature_names_in_,feat_imp)\n",
        "plt.title('Feature Importance')"
      ],
      "metadata": {
        "id": "PUQMmgurjWJs",
        "colab": {
          "base_uri": "https://localhost:8080/",
          "height": 303
        },
        "outputId": "1c8b591a-a5c7-4238-b9a5-63f0b81dc44b"
      },
      "execution_count": 46,
      "outputs": [
        {
          "output_type": "execute_result",
          "data": {
            "text/plain": [
              "Text(0.5, 1.0, 'Feature Importance')"
            ]
          },
          "metadata": {},
          "execution_count": 46
        },
        {
          "output_type": "display_data",
          "data": {
            "text/plain": [
              "<Figure size 432x288 with 1 Axes>"
            ],
            "image/png": "[encoded data removed]"
          },
          "metadata": {
            "needs_background": "light"
          }
        }
      ]
    },
    {
      "cell_type": "code",
      "source": [
        "output_2_rf = randm_clf2.predict(model2_ip_test)\n",
        "##Defining confusion matrix to plot actual and predicted values...\n",
        "cm = confusion_matrix(model2_out_test,output_2_rf)\n",
        "#matrix will be oriented as [0,1,2,3] i.e class 0 in first row 1 in second row and so and so forth\n",
        "#plotted in heatmap labels are given\n",
        "sns.heatmap(cm,annot=True,fmt = '.2f',xticklabels=['Memantine_C/S','Memantine_S/C','Saline_C/S','Saline_S/C'],yticklabels=['Memantine_C/S','Memantine_S/C','Saline_C/S','Saline_S/C'])\n",
        "plt.ylabel('True labels')\n",
        "plt.xlabel('Predicted labels')\n",
        "plt.show()"
      ],
      "metadata": {
        "id": "BQCZli8yAW-I",
        "colab": {
          "base_uri": "https://localhost:8080/",
          "height": 361
        },
        "outputId": "95b71a80-4092-42dc-9b7d-179d08c15747"
      },
      "execution_count": 47,
      "outputs": [
        {
          "output_type": "display_data",
          "data": {
            "text/plain": [
              "<Figure size 432x288 with 2 Axes>"
            ],
            "image/png": "[encoded data removed]"
          },
          "metadata": {
            "needs_background": "light"
          }
        }
      ]
    },
    {
      "cell_type": "markdown",
      "source": [
        "**Observation from confusion Matrix**\n",
        "\n",
        "1.   For prediction and test labels the diagonal elements are the shows the correct classification\n",
        "2.   Off diagonal has few numbers so the model perfectly fits and classification is perfect\n",
        "\n"
      ],
      "metadata": {
        "id": "aCK_ToGXUWJg"
      }
    },
    {
      "cell_type": "code",
      "source": [
        "#Classification report...\n",
        "#Give the f1 score and related parametrs..\n",
        "print(classification_report(model2_out_test,output_2_rf))"
      ],
      "metadata": {
        "id": "ph9AjkJ0A4LA",
        "colab": {
          "base_uri": "https://localhost:8080/"
        },
        "outputId": "de4964ea-fffe-473c-beff-94be470cfcf1"
      },
      "execution_count": 48,
      "outputs": [
        {
          "output_type": "stream",
          "name": "stdout",
          "text": [
            "              precision    recall  f1-score   support\n",
            "\n",
            "           0       0.89      0.98      0.93        48\n",
            "           1       0.86      1.00      0.93        38\n",
            "           2       0.97      0.82      0.89        34\n",
            "           3       1.00      0.82      0.90        33\n",
            "\n",
            "    accuracy                           0.92       153\n",
            "   macro avg       0.93      0.91      0.91       153\n",
            "weighted avg       0.92      0.92      0.91       153\n",
            "\n"
          ]
        }
      ]
    },
    {
      "cell_type": "code",
      "source": [
        "#reference: https://machinelearningmastery.com/rfe-feature-selection-in-python/\n",
        "#reference:https://scikit-learn.org/stable/modules/generated/sklearn.feature_selection.RFECV.html\n",
        "\n",
        "from sklearn.feature_selection import RFE\n",
        "from sklearn.pipeline import Pipeline\n",
        "\n",
        "estimator = randm_clf2    #we will use the best estimator achieved from gridsearch\n",
        "selector = RFECV(estimator, step=1, cv=fld)   # define RFECV selector using best estimator\n",
        "selector = selector.fit(model2_ip_train,model2_out_train) # fit the data into selector\n",
        "\n",
        "#print mean (of all folds) score for every feature eliminated\n",
        "print(\"\\n Mean Test scores for each feature eliminated are:\")\n",
        "print(selector.cv_results_['mean_test_score'])\n",
        "\n",
        "\n",
        "#plot the scores after eliminating each feature\n",
        "\n",
        "fig = plt.figure()\n",
        "plt.bar(gs.feature_names_in_,selector.cv_results_['mean_test_score'])\n",
        "plt.title('Feature Elemination Score')\n",
        "\n",
        "#ranking of each feature as per score it gives when eliminated\n",
        "print(\"\\n Rankings of Each feature \")\n",
        "print(selector.ranking_)\n",
        "\n",
        "\n",
        "#maximum accuracy achieved in the process\n",
        "print(\"\\n maximum accuracy achieved is:\")\n",
        "print(max(selector.cv_results_['mean_test_score']))"
      ],
      "metadata": {
        "id": "K4XK6eRAlc9P",
        "colab": {
          "base_uri": "https://localhost:8080/",
          "height": 667
        },
        "outputId": "ca5a82ce-af51-4dca-815a-ad38f78d49cf"
      },
      "execution_count": 49,
      "outputs": [
        {
          "output_type": "stream",
          "name": "stdout",
          "text": [
            "\n",
            " Mean Test scores for each feature eliminated are:\n",
            "[0.60751931 0.71425281 0.75691641 0.78483945 0.81440184 0.83078174\n",
            " 0.85706544 0.85545319 0.87837691 0.88492074 0.88007045 0.86367701\n",
            " 0.86202412 0.85711963 0.87524726 0.87524726 0.86862214 0.87522016\n",
            " 0.87023439 0.8801111  0.88669557 0.88996071 0.89817098 0.90144967\n",
            " 0.89490584 0.89653164 0.89322585 0.89814388 0.89650454 0.89814388\n",
            " 0.90307546 0.90470126 0.90964639 0.9063677  0.9079664  0.90312966\n",
            " 0.90144967 0.90308901 0.90471481 0.91127219 0.90800705 0.91293863\n",
            " 0.91131283 0.91459152 0.91129928 0.919496   0.91787021 0.91125864\n",
            " 0.90965994 0.91127219 0.90800705 0.90963284 0.90964639 0.91291153\n",
            " 0.91619022 0.91456442 0.90142257 0.9063406  0.90143612 0.91624441\n",
            " 0.9063677  0.91127219 0.91457797 0.91128573 0.90967349 0.91129928\n",
            " 0.90470126 0.91292508 0.91459152 0.90140902 0.90800705]\n",
            "\n",
            " Rankings of Each feature \n",
            "[12 23  1  1  1  9  1  1  1  1  1 24  1  5  1  1 11 15  1  8  1  1  7 22\n",
            " 20 14 25  1  1  1  1  1 13  1  1  1  1  1  1  1  1  1  1  1 17  4  1  1\n",
            " 10  1  1  1  1  6  1  1  1  1  1  1  2  3 26 16  1 19  1  1 18 21  1]\n",
            "\n",
            " maximum accuracy achieved is:\n",
            "0.9194960032515919\n"
          ]
        },
        {
          "output_type": "display_data",
          "data": {
            "text/plain": [
              "<Figure size 432x288 with 1 Axes>"
            ],
            "image/png": "[encoded data removed]"
          },
          "metadata": {
            "needs_background": "light"
          }
        }
      ]
    },
    {
      "cell_type": "markdown",
      "source": [
        "TESTING DATA PREDICTIONS"
      ],
      "metadata": {
        "id": "uInNN20sXfcA"
      }
    },
    {
      "cell_type": "markdown",
      "source": [
        "1.BINARY CLASSIFICATION"
      ],
      "metadata": {
        "id": "J1_6-PFLXl_E"
      }
    },
    {
      "cell_type": "code",
      "source": [
        "pd.read_csv(\"https://www.ee.iitb.ac.in/~asethi/Dump/MouseTest.csv\")"
      ],
      "metadata": {
        "colab": {
          "base_uri": "https://localhost:8080/",
          "height": 487
        },
        "id": "PHZfO8lQYGIs",
        "outputId": "d4819421-adee-4664-8d0d-c09e6789dade"
      },
      "execution_count": 53,
      "outputs": [
        {
          "output_type": "execute_result",
          "data": {
            "text/plain": [
              "     DYRK1A_N   ITSN1_N    BDNF_N     NR1_N    NR2A_N    pAKT_N   pBRAF_N  \\\n",
              "0    0.627582  0.954187  0.446958  2.930717  5.915039  0.197897  0.185599   \n",
              "1    0.651253  0.962021  0.464964  2.992689  5.975028  0.202810  0.188473   \n",
              "2    0.644346  0.967179  0.470056  3.073847  5.927379  0.205131  0.182590   \n",
              "3    0.568229  0.812018  0.393465  2.606780  5.808102  0.218211  0.179905   \n",
              "4    0.587038  0.863728  0.411203  2.757975  6.006657  0.223688  0.189400   \n",
              "..        ...       ...       ...       ...       ...       ...       ...   \n",
              "220  0.226900  0.395432  0.248694  1.460666  1.860128  0.188536  0.148977   \n",
              "221  0.261107  0.443780  0.276658  1.674129  2.256494  0.218216  0.176008   \n",
              "222  0.216134  0.364058  0.241693  1.330831  1.737540  0.197125  0.151597   \n",
              "223  0.212369  0.369960  0.239036  1.346827  1.814940  0.194538  0.143454   \n",
              "224  0.257290  0.432628  0.289689  1.589289  2.125977  0.232704  0.177244   \n",
              "\n",
              "     pCAMKII_N   pCREB_N    pELK_N  ...    BCL2_N     pS6_N   pCFOS_N  \\\n",
              "0     1.765115  0.232257  1.808111  ...  0.120835  0.148773  0.120885   \n",
              "1     1.807824  0.259020  1.960691  ...  0.130462  0.147660  0.128960   \n",
              "2     1.783552  0.258795  2.147883  ...  0.118851  0.143169  0.129154   \n",
              "3     2.312324  0.209154  1.733692  ...  0.116218  0.140063  0.127661   \n",
              "4     2.375283  0.218538  1.843255  ...  0.142739  0.140775  0.121389   \n",
              "..         ...       ...       ...  ...       ...       ...       ...   \n",
              "220   2.178982  0.165398  0.770115  ...  0.157209  0.122747  0.134559   \n",
              "221   2.475735  0.184040  0.913363  ...  0.151454  0.119881  0.131988   \n",
              "222   1.919489  0.162780  0.720767  ...  0.171437  0.118758  0.146772   \n",
              "223   1.908112  0.155823  0.772530  ...  0.177576  0.121366  0.152825   \n",
              "224   2.308557  0.181056  0.894797  ...  0.172697  0.123290  0.163880   \n",
              "\n",
              "        SYP_N  H3AcK18_N    EGR1_N  H3MeK4_N    CaNA_N  Genotype  \\\n",
              "0    0.541241   0.121674  0.158103       NaN  1.649983   Control   \n",
              "1    0.525966   0.126780  0.163405       NaN  1.638988   Control   \n",
              "2    0.508214   0.122796  0.160293       NaN  1.564925   Control   \n",
              "3    0.561721   0.123122  0.156108       NaN  1.682222   Control   \n",
              "4    0.534845   0.133996  0.180373       NaN  1.660352   Control   \n",
              "..        ...        ...       ...       ...       ...       ...   \n",
              "220  0.400268   0.228568  0.233317  0.283853  1.160740    Ts65Dn   \n",
              "221  0.407596   0.228843  0.226944  0.249970  1.139347    Ts65Dn   \n",
              "222  0.431334   0.255633  0.257004  0.304811  1.142205    Ts65Dn   \n",
              "223  0.395408   0.245564  0.255852  0.308484  1.112718    Ts65Dn   \n",
              "224  0.402706   0.245363  0.278048  0.326087  1.171785    Ts65Dn   \n",
              "\n",
              "     Treatment_Behavior  \n",
              "0         Memantine_C/S  \n",
              "1         Memantine_C/S  \n",
              "2         Memantine_C/S  \n",
              "3         Memantine_C/S  \n",
              "4         Memantine_C/S  \n",
              "..                  ...  \n",
              "220          Saline_S/C  \n",
              "221          Saline_S/C  \n",
              "222          Saline_S/C  \n",
              "223          Saline_S/C  \n",
              "224          Saline_S/C  \n",
              "\n",
              "[225 rows x 79 columns]"
            ],
            "text/html": [
              "\n",
              "  <div id=\"df-651d66bd-3b34-46af-9385-f555af33993a\">\n",
              "    <div class=\"colab-df-container\">\n",
              "      <div>\n",
              "<style scoped>\n",
              "    .dataframe tbody tr th:only-of-type {\n",
              "        vertical-align: middle;\n",
              "    }\n",
              "\n",
              "    .dataframe tbody tr th {\n",
              "        vertical-align: top;\n",
              "    }\n",
              "\n",
              "    .dataframe thead th {\n",
              "        text-align: right;\n",
              "    }\n",
              "</style>\n",
              "<table border=\"1\" class=\"dataframe\">\n",
              "  <thead>\n",
              "    <tr style=\"text-align: right;\">\n",
              "      <th></th>\n",
              "      <th>DYRK1A_N</th>\n",
              "      <th>ITSN1_N</th>\n",
              "      <th>BDNF_N</th>\n",
              "      <th>NR1_N</th>\n",
              "      <th>NR2A_N</th>\n",
              "      <th>pAKT_N</th>\n",
              "      <th>pBRAF_N</th>\n",
              "      <th>pCAMKII_N</th>\n",
              "      <th>pCREB_N</th>\n",
              "      <th>pELK_N</th>\n",
              "      <th>...</th>\n",
              "      <th>BCL2_N</th>\n",
              "      <th>pS6_N</th>\n",
              "      <th>pCFOS_N</th>\n",
              "      <th>SYP_N</th>\n",
              "      <th>H3AcK18_N</th>\n",
              "      <th>EGR1_N</th>\n",
              "      <th>H3MeK4_N</th>\n",
              "      <th>CaNA_N</th>\n",
              "      <th>Genotype</th>\n",
              "      <th>Treatment_Behavior</th>\n",
              "    </tr>\n",
              "  </thead>\n",
              "  <tbody>\n",
              "    <tr>\n",
              "      <th>0</th>\n",
              "      <td>0.627582</td>\n",
              "      <td>0.954187</td>\n",
              "      <td>0.446958</td>\n",
              "      <td>2.930717</td>\n",
              "      <td>5.915039</td>\n",
              "      <td>0.197897</td>\n",
              "      <td>0.185599</td>\n",
              "      <td>1.765115</td>\n",
              "      <td>0.232257</td>\n",
              "      <td>1.808111</td>\n",
              "      <td>...</td>\n",
              "      <td>0.120835</td>\n",
              "      <td>0.148773</td>\n",
              "      <td>0.120885</td>\n",
              "      <td>0.541241</td>\n",
              "      <td>0.121674</td>\n",
              "      <td>0.158103</td>\n",
              "      <td>NaN</td>\n",
              "      <td>1.649983</td>\n",
              "      <td>Control</td>\n",
              "      <td>Memantine_C/S</td>\n",
              "    </tr>\n",
              "    <tr>\n",
              "      <th>1</th>\n",
              "      <td>0.651253</td>\n",
              "      <td>0.962021</td>\n",
              "      <td>0.464964</td>\n",
              "      <td>2.992689</td>\n",
              "      <td>5.975028</td>\n",
              "      <td>0.202810</td>\n",
              "      <td>0.188473</td>\n",
              "      <td>1.807824</td>\n",
              "      <td>0.259020</td>\n",
              "      <td>1.960691</td>\n",
              "      <td>...</td>\n",
              "      <td>0.130462</td>\n",
              "      <td>0.147660</td>\n",
              "      <td>0.128960</td>\n",
              "      <td>0.525966</td>\n",
              "      <td>0.126780</td>\n",
              "      <td>0.163405</td>\n",
              "      <td>NaN</td>\n",
              "      <td>1.638988</td>\n",
              "      <td>Control</td>\n",
              "      <td>Memantine_C/S</td>\n",
              "    </tr>\n",
              "    <tr>\n",
              "      <th>2</th>\n",
              "      <td>0.644346</td>\n",
              "      <td>0.967179</td>\n",
              "      <td>0.470056</td>\n",
              "      <td>3.073847</td>\n",
              "      <td>5.927379</td>\n",
              "      <td>0.205131</td>\n",
              "      <td>0.182590</td>\n",
              "      <td>1.783552</td>\n",
              "      <td>0.258795</td>\n",
              "      <td>2.147883</td>\n",
              "      <td>...</td>\n",
              "      <td>0.118851</td>\n",
              "      <td>0.143169</td>\n",
              "      <td>0.129154</td>\n",
              "      <td>0.508214</td>\n",
              "      <td>0.122796</td>\n",
              "      <td>0.160293</td>\n",
              "      <td>NaN</td>\n",
              "      <td>1.564925</td>\n",
              "      <td>Control</td>\n",
              "      <td>Memantine_C/S</td>\n",
              "    </tr>\n",
              "    <tr>\n",
              "      <th>3</th>\n",
              "      <td>0.568229</td>\n",
              "      <td>0.812018</td>\n",
              "      <td>0.393465</td>\n",
              "      <td>2.606780</td>\n",
              "      <td>5.808102</td>\n",
              "      <td>0.218211</td>\n",
              "      <td>0.179905</td>\n",
              "      <td>2.312324</td>\n",
              "      <td>0.209154</td>\n",
              "      <td>1.733692</td>\n",
              "      <td>...</td>\n",
              "      <td>0.116218</td>\n",
              "      <td>0.140063</td>\n",
              "      <td>0.127661</td>\n",
              "      <td>0.561721</td>\n",
              "      <td>0.123122</td>\n",
              "      <td>0.156108</td>\n",
              "      <td>NaN</td>\n",
              "      <td>1.682222</td>\n",
              "      <td>Control</td>\n",
              "      <td>Memantine_C/S</td>\n",
              "    </tr>\n",
              "    <tr>\n",
              "      <th>4</th>\n",
              "      <td>0.587038</td>\n",
              "      <td>0.863728</td>\n",
              "      <td>0.411203</td>\n",
              "      <td>2.757975</td>\n",
              "      <td>6.006657</td>\n",
              "      <td>0.223688</td>\n",
              "      <td>0.189400</td>\n",
              "      <td>2.375283</td>\n",
              "      <td>0.218538</td>\n",
              "      <td>1.843255</td>\n",
              "      <td>...</td>\n",
              "      <td>0.142739</td>\n",
              "      <td>0.140775</td>\n",
              "      <td>0.121389</td>\n",
              "      <td>0.534845</td>\n",
              "      <td>0.133996</td>\n",
              "      <td>0.180373</td>\n",
              "      <td>NaN</td>\n",
              "      <td>1.660352</td>\n",
              "      <td>Control</td>\n",
              "      <td>Memantine_C/S</td>\n",
              "    </tr>\n",
              "    <tr>\n",
              "      <th>...</th>\n",
              "      <td>...</td>\n",
              "      <td>...</td>\n",
              "      <td>...</td>\n",
              "      <td>...</td>\n",
              "      <td>...</td>\n",
              "      <td>...</td>\n",
              "      <td>...</td>\n",
              "      <td>...</td>\n",
              "      <td>...</td>\n",
              "      <td>...</td>\n",
              "      <td>...</td>\n",
              "      <td>...</td>\n",
              "      <td>...</td>\n",
              "      <td>...</td>\n",
              "      <td>...</td>\n",
              "      <td>...</td>\n",
              "      <td>...</td>\n",
              "      <td>...</td>\n",
              "      <td>...</td>\n",
              "      <td>...</td>\n",
              "      <td>...</td>\n",
              "    </tr>\n",
              "    <tr>\n",
              "      <th>220</th>\n",
              "      <td>0.226900</td>\n",
              "      <td>0.395432</td>\n",
              "      <td>0.248694</td>\n",
              "      <td>1.460666</td>\n",
              "      <td>1.860128</td>\n",
              "      <td>0.188536</td>\n",
              "      <td>0.148977</td>\n",
              "      <td>2.178982</td>\n",
              "      <td>0.165398</td>\n",
              "      <td>0.770115</td>\n",
              "      <td>...</td>\n",
              "      <td>0.157209</td>\n",
              "      <td>0.122747</td>\n",
              "      <td>0.134559</td>\n",
              "      <td>0.400268</td>\n",
              "      <td>0.228568</td>\n",
              "      <td>0.233317</td>\n",
              "      <td>0.283853</td>\n",
              "      <td>1.160740</td>\n",
              "      <td>Ts65Dn</td>\n",
              "      <td>Saline_S/C</td>\n",
              "    </tr>\n",
              "    <tr>\n",
              "      <th>221</th>\n",
              "      <td>0.261107</td>\n",
              "      <td>0.443780</td>\n",
              "      <td>0.276658</td>\n",
              "      <td>1.674129</td>\n",
              "      <td>2.256494</td>\n",
              "      <td>0.218216</td>\n",
              "      <td>0.176008</td>\n",
              "      <td>2.475735</td>\n",
              "      <td>0.184040</td>\n",
              "      <td>0.913363</td>\n",
              "      <td>...</td>\n",
              "      <td>0.151454</td>\n",
              "      <td>0.119881</td>\n",
              "      <td>0.131988</td>\n",
              "      <td>0.407596</td>\n",
              "      <td>0.228843</td>\n",
              "      <td>0.226944</td>\n",
              "      <td>0.249970</td>\n",
              "      <td>1.139347</td>\n",
              "      <td>Ts65Dn</td>\n",
              "      <td>Saline_S/C</td>\n",
              "    </tr>\n",
              "    <tr>\n",
              "      <th>222</th>\n",
              "      <td>0.216134</td>\n",
              "      <td>0.364058</td>\n",
              "      <td>0.241693</td>\n",
              "      <td>1.330831</td>\n",
              "      <td>1.737540</td>\n",
              "      <td>0.197125</td>\n",
              "      <td>0.151597</td>\n",
              "      <td>1.919489</td>\n",
              "      <td>0.162780</td>\n",
              "      <td>0.720767</td>\n",
              "      <td>...</td>\n",
              "      <td>0.171437</td>\n",
              "      <td>0.118758</td>\n",
              "      <td>0.146772</td>\n",
              "      <td>0.431334</td>\n",
              "      <td>0.255633</td>\n",
              "      <td>0.257004</td>\n",
              "      <td>0.304811</td>\n",
              "      <td>1.142205</td>\n",
              "      <td>Ts65Dn</td>\n",
              "      <td>Saline_S/C</td>\n",
              "    </tr>\n",
              "    <tr>\n",
              "      <th>223</th>\n",
              "      <td>0.212369</td>\n",
              "      <td>0.369960</td>\n",
              "      <td>0.239036</td>\n",
              "      <td>1.346827</td>\n",
              "      <td>1.814940</td>\n",
              "      <td>0.194538</td>\n",
              "      <td>0.143454</td>\n",
              "      <td>1.908112</td>\n",
              "      <td>0.155823</td>\n",
              "      <td>0.772530</td>\n",
              "      <td>...</td>\n",
              "      <td>0.177576</td>\n",
              "      <td>0.121366</td>\n",
              "      <td>0.152825</td>\n",
              "      <td>0.395408</td>\n",
              "      <td>0.245564</td>\n",
              "      <td>0.255852</td>\n",
              "      <td>0.308484</td>\n",
              "      <td>1.112718</td>\n",
              "      <td>Ts65Dn</td>\n",
              "      <td>Saline_S/C</td>\n",
              "    </tr>\n",
              "    <tr>\n",
              "      <th>224</th>\n",
              "      <td>0.257290</td>\n",
              "      <td>0.432628</td>\n",
              "      <td>0.289689</td>\n",
              "      <td>1.589289</td>\n",
              "      <td>2.125977</td>\n",
              "      <td>0.232704</td>\n",
              "      <td>0.177244</td>\n",
              "      <td>2.308557</td>\n",
              "      <td>0.181056</td>\n",
              "      <td>0.894797</td>\n",
              "      <td>...</td>\n",
              "      <td>0.172697</td>\n",
              "      <td>0.123290</td>\n",
              "      <td>0.163880</td>\n",
              "      <td>0.402706</td>\n",
              "      <td>0.245363</td>\n",
              "      <td>0.278048</td>\n",
              "      <td>0.326087</td>\n",
              "      <td>1.171785</td>\n",
              "      <td>Ts65Dn</td>\n",
              "      <td>Saline_S/C</td>\n",
              "    </tr>\n",
              "  </tbody>\n",
              "</table>\n",
              "<p>225 rows × 79 columns</p>\n",
              "</div>\n",
              "      <button class=\"colab-df-convert\" onclick=\"convertToInteractive('df-651d66bd-3b34-46af-9385-f555af33993a')\"\n",
              "              title=\"Convert this dataframe to an interactive table.\"\n",
              "              style=\"display:none;\">\n",
              "        \n",
              "  <svg xmlns=\"http://www.w3.org/2000/svg\" height=\"24px\"viewBox=\"0 0 24 24\"\n",
              "       width=\"24px\">\n",
              "    <path d=\"M0 0h24v24H0V0z\" fill=\"none\"/>\n",
              "    <path d=\"M18.56 5.44l.94 2.06.94-2.06 2.06-.94-2.06-.94-.94-2.06-.94 2.06-2.06.94zm-11 1L8.5 8.5l.94-2.06 2.06-.94-2.06-.94L8.5 2.5l-.94 2.06-2.06.94zm10 10l.94 2.06.94-2.06 2.06-.94-2.06-.94-.94-2.06-.94 2.06-2.06.94z\"/><path d=\"M17.41 7.96l-1.37-1.37c-.4-.4-.92-.59-1.43-.59-.52 0-1.04.2-1.43.59L10.3 9.45l-7.72 7.72c-.78.78-.78 2.05 0 2.83L4 21.41c.39.39.9.59 1.41.59.51 0 1.02-.2 1.41-.59l7.78-7.78 2.81-2.81c.8-.78.8-2.07 0-2.86zM5.41 20L4 18.59l7.72-7.72 1.47 1.35L5.41 20z\"/>\n",
              "  </svg>\n",
              "      </button>\n",
              "      \n",
              "  <style>\n",
              "    .colab-df-container {\n",
              "      display:flex;\n",
              "      flex-wrap:wrap;\n",
              "      gap: 12px;\n",
              "    }\n",
              "\n",
              "    .colab-df-convert {\n",
              "      background-color: #E8F0FE;\n",
              "      border: none;\n",
              "      border-radius: 50%;\n",
              "      cursor: pointer;\n",
              "      display: none;\n",
              "      fill: #1967D2;\n",
              "      height: 32px;\n",
              "      padding: 0 0 0 0;\n",
              "      width: 32px;\n",
              "    }\n",
              "\n",
              "    .colab-df-convert:hover {\n",
              "      background-color: #E2EBFA;\n",
              "      box-shadow: 0px 1px 2px rgba(60, 64, 67, 0.3), 0px 1px 3px 1px rgba(60, 64, 67, 0.15);\n",
              "      fill: #174EA6;\n",
              "    }\n",
              "\n",
              "    [theme=dark] .colab-df-convert {\n",
              "      background-color: #3B4455;\n",
              "      fill: #D2E3FC;\n",
              "    }\n",
              "\n",
              "    [theme=dark] .colab-df-convert:hover {\n",
              "      background-color: #434B5C;\n",
              "      box-shadow: 0px 1px 3px 1px rgba(0, 0, 0, 0.15);\n",
              "      filter: drop-shadow(0px 1px 2px rgba(0, 0, 0, 0.3));\n",
              "      fill: #FFFFFF;\n",
              "    }\n",
              "  </style>\n",
              "\n",
              "      <script>\n",
              "        const buttonEl =\n",
              "          document.querySelector('#df-651d66bd-3b34-46af-9385-f555af33993a button.colab-df-convert');\n",
              "        buttonEl.style.display =\n",
              "          google.colab.kernel.accessAllowed ? 'block' : 'none';\n",
              "\n",
              "        async function convertToInteractive(key) {\n",
              "          const element = document.querySelector('#df-651d66bd-3b34-46af-9385-f555af33993a');\n",
              "          const dataTable =\n",
              "            await google.colab.kernel.invokeFunction('convertToInteractive',\n",
              "                                                     [key], {});\n",
              "          if (!dataTable) return;\n",
              "\n",
              "          const docLinkHtml = 'Like what you see? Visit the ' +\n",
              "            '<a target=\"_blank\" href=https://colab.research.google.com/notebooks/data_table.ipynb>data table notebook</a>'\n",
              "            + ' to learn more about interactive tables.';\n",
              "          element.innerHTML = '';\n",
              "          dataTable['output_type'] = 'display_data';\n",
              "          await google.colab.output.renderOutput(dataTable, element);\n",
              "          const docLink = document.createElement('div');\n",
              "          docLink.innerHTML = docLinkHtml;\n",
              "          element.appendChild(docLink);\n",
              "        }\n",
              "      </script>\n",
              "    </div>\n",
              "  </div>\n",
              "  "
            ]
          },
          "metadata": {},
          "execution_count": 53
        }
      ]
    },
    {
      "cell_type": "code",
      "source": [
        "train_df = pd.read_csv(\"https://www.ee.iitb.ac.in/~asethi/Dump/MouseTest.csv\")\n",
        "train_df.info()\n",
        "train_df.Genotype.value_counts() #Value count...\n",
        "train_df.Treatment_Behavior.value_counts()\n",
        "#Unique values count\n",
        "for clms in train_df.columns.values: #Ittertared through columns\n",
        "  print(clms+\" has \"+str(len(pd.unique(train_df[clms])))+\" unique values \") #Generates string length for unique values in each columns\n",
        "  print(\"\\n\")\n",
        "from sklearn.experimental import enable_iterative_imputer #Related library\n",
        "from sklearn.impute import IterativeImputer\n",
        "data_test_ip = train_df.loc[:,'DYRK1A_N':'CaNA_N']\n",
        "data_test_ip #Select input data\n",
        "#ref [5]\n",
        "\n",
        "# imp = IterativeImputer(max_iter=20, random_state=0)\n",
        "# imp.fit(data_test_ip)\n",
        "# IterativeImputer(random_state=0)\n",
        "# imp.transform(data_test_ip)\n",
        "\n",
        "#ref [9]\n",
        "from sklearn.experimental import enable_iterative_imputer\n",
        "from sklearn.impute import IterativeImputer\n",
        "imputer = IterativeImputer(random_state=42)\n",
        "test_data_ip = imputer.fit_transform(data_test_ip)\n",
        "test_data_ip = pd.DataFrame(test_data_ip, columns=data_test_ip.columns)\n",
        "test_data_ip.info()"
      ],
      "metadata": {
        "id": "72dc9W0TXo4Y",
        "colab": {
          "base_uri": "https://localhost:8080/"
        },
        "outputId": "d439f553-1931-48ae-f3e1-f9daa74479c5"
      },
      "execution_count": 54,
      "outputs": [
        {
          "output_type": "stream",
          "name": "stdout",
          "text": [
            "<class 'pandas.core.frame.DataFrame'>\n",
            "RangeIndex: 225 entries, 0 to 224\n",
            "Data columns (total 79 columns):\n",
            " #   Column              Non-Null Count  Dtype  \n",
            "---  ------              --------------  -----  \n",
            " 0   DYRK1A_N            225 non-null    float64\n",
            " 1   ITSN1_N             225 non-null    float64\n",
            " 2   BDNF_N              225 non-null    float64\n",
            " 3   NR1_N               225 non-null    float64\n",
            " 4   NR2A_N              225 non-null    float64\n",
            " 5   pAKT_N              225 non-null    float64\n",
            " 6   pBRAF_N             225 non-null    float64\n",
            " 7   pCAMKII_N           225 non-null    float64\n",
            " 8   pCREB_N             225 non-null    float64\n",
            " 9   pELK_N              225 non-null    float64\n",
            " 10  pERK_N              225 non-null    float64\n",
            " 11  pJNK_N              225 non-null    float64\n",
            " 12  PKCA_N              225 non-null    float64\n",
            " 13  pMEK_N              225 non-null    float64\n",
            " 14  pNR1_N              225 non-null    float64\n",
            " 15  pNR2A_N             225 non-null    float64\n",
            " 16  pNR2B_N             225 non-null    float64\n",
            " 17  pPKCAB_N            225 non-null    float64\n",
            " 18  pRSK_N              225 non-null    float64\n",
            " 19  AKT_N               225 non-null    float64\n",
            " 20  BRAF_N              225 non-null    float64\n",
            " 21  CAMKII_N            225 non-null    float64\n",
            " 22  CREB_N              225 non-null    float64\n",
            " 23  ELK_N               225 non-null    float64\n",
            " 24  ERK_N               225 non-null    float64\n",
            " 25  GSK3B_N             225 non-null    float64\n",
            " 26  JNK_N               225 non-null    float64\n",
            " 27  MEK_N               225 non-null    float64\n",
            " 28  TRKA_N              225 non-null    float64\n",
            " 29  RSK_N               225 non-null    float64\n",
            " 30  APP_N               225 non-null    float64\n",
            " 31  Bcatenin_N          225 non-null    float64\n",
            " 32  SOD1_N              225 non-null    float64\n",
            " 33  MTOR_N              225 non-null    float64\n",
            " 34  P38_N               225 non-null    float64\n",
            " 35  pMTOR_N             225 non-null    float64\n",
            " 36  DSCR1_N             225 non-null    float64\n",
            " 37  AMPKA_N             225 non-null    float64\n",
            " 38  NR2B_N              225 non-null    float64\n",
            " 39  pNUMB_N             225 non-null    float64\n",
            " 40  RAPTOR_N            225 non-null    float64\n",
            " 41  TIAM1_N             225 non-null    float64\n",
            " 42  pP70S6_N            225 non-null    float64\n",
            " 43  NUMB_N              225 non-null    float64\n",
            " 44  P70S6_N             225 non-null    float64\n",
            " 45  pGSK3B_N            225 non-null    float64\n",
            " 46  pPKCG_N             225 non-null    float64\n",
            " 47  CDK5_N              225 non-null    float64\n",
            " 48  S6_N                225 non-null    float64\n",
            " 49  ADARB1_N            225 non-null    float64\n",
            " 50  AcetylH3K9_N        225 non-null    float64\n",
            " 51  RRP1_N              225 non-null    float64\n",
            " 52  BAX_N               225 non-null    float64\n",
            " 53  ARC_N               225 non-null    float64\n",
            " 54  ERBB4_N             225 non-null    float64\n",
            " 55  nNOS_N              225 non-null    float64\n",
            " 56  Tau_N               225 non-null    float64\n",
            " 57  GFAP_N              225 non-null    float64\n",
            " 58  GluR3_N             225 non-null    float64\n",
            " 59  GluR4_N             225 non-null    float64\n",
            " 60  IL1B_N              225 non-null    float64\n",
            " 61  P3525_N             225 non-null    float64\n",
            " 62  pCASP9_N            225 non-null    float64\n",
            " 63  PSD95_N             225 non-null    float64\n",
            " 64  SNCA_N              225 non-null    float64\n",
            " 65  Ubiquitin_N         225 non-null    float64\n",
            " 66  pGSK3B_Tyr216_N     225 non-null    float64\n",
            " 67  SHH_N               225 non-null    float64\n",
            " 68  BAD_N               192 non-null    float64\n",
            " 69  BCL2_N              180 non-null    float64\n",
            " 70  pS6_N               225 non-null    float64\n",
            " 71  pCFOS_N             225 non-null    float64\n",
            " 72  SYP_N               225 non-null    float64\n",
            " 73  H3AcK18_N           195 non-null    float64\n",
            " 74  EGR1_N              210 non-null    float64\n",
            " 75  H3MeK4_N            135 non-null    float64\n",
            " 76  CaNA_N              225 non-null    float64\n",
            " 77  Genotype            225 non-null    object \n",
            " 78  Treatment_Behavior  225 non-null    object \n",
            "dtypes: float64(77), object(2)\n",
            "memory usage: 139.0+ KB\n",
            "DYRK1A_N has 225 unique values \n",
            "\n",
            "\n",
            "ITSN1_N has 225 unique values \n",
            "\n",
            "\n",
            "BDNF_N has 225 unique values \n",
            "\n",
            "\n",
            "NR1_N has 225 unique values \n",
            "\n",
            "\n",
            "NR2A_N has 225 unique values \n",
            "\n",
            "\n",
            "pAKT_N has 225 unique values \n",
            "\n",
            "\n",
            "pBRAF_N has 225 unique values \n",
            "\n",
            "\n",
            "pCAMKII_N has 225 unique values \n",
            "\n",
            "\n",
            "pCREB_N has 225 unique values \n",
            "\n",
            "\n",
            "pELK_N has 225 unique values \n",
            "\n",
            "\n",
            "pERK_N has 225 unique values \n",
            "\n",
            "\n",
            "pJNK_N has 225 unique values \n",
            "\n",
            "\n",
            "PKCA_N has 225 unique values \n",
            "\n",
            "\n",
            "pMEK_N has 225 unique values \n",
            "\n",
            "\n",
            "pNR1_N has 225 unique values \n",
            "\n",
            "\n",
            "pNR2A_N has 225 unique values \n",
            "\n",
            "\n",
            "pNR2B_N has 225 unique values \n",
            "\n",
            "\n",
            "pPKCAB_N has 225 unique values \n",
            "\n",
            "\n",
            "pRSK_N has 225 unique values \n",
            "\n",
            "\n",
            "AKT_N has 225 unique values \n",
            "\n",
            "\n",
            "BRAF_N has 225 unique values \n",
            "\n",
            "\n",
            "CAMKII_N has 225 unique values \n",
            "\n",
            "\n",
            "CREB_N has 225 unique values \n",
            "\n",
            "\n",
            "ELK_N has 225 unique values \n",
            "\n",
            "\n",
            "ERK_N has 225 unique values \n",
            "\n",
            "\n",
            "GSK3B_N has 225 unique values \n",
            "\n",
            "\n",
            "JNK_N has 225 unique values \n",
            "\n",
            "\n",
            "MEK_N has 225 unique values \n",
            "\n",
            "\n",
            "TRKA_N has 225 unique values \n",
            "\n",
            "\n",
            "RSK_N has 225 unique values \n",
            "\n",
            "\n",
            "APP_N has 225 unique values \n",
            "\n",
            "\n",
            "Bcatenin_N has 225 unique values \n",
            "\n",
            "\n",
            "SOD1_N has 225 unique values \n",
            "\n",
            "\n",
            "MTOR_N has 225 unique values \n",
            "\n",
            "\n",
            "P38_N has 225 unique values \n",
            "\n",
            "\n",
            "pMTOR_N has 225 unique values \n",
            "\n",
            "\n",
            "DSCR1_N has 225 unique values \n",
            "\n",
            "\n",
            "AMPKA_N has 225 unique values \n",
            "\n",
            "\n",
            "NR2B_N has 225 unique values \n",
            "\n",
            "\n",
            "pNUMB_N has 225 unique values \n",
            "\n",
            "\n",
            "RAPTOR_N has 225 unique values \n",
            "\n",
            "\n",
            "TIAM1_N has 225 unique values \n",
            "\n",
            "\n",
            "pP70S6_N has 225 unique values \n",
            "\n",
            "\n",
            "NUMB_N has 225 unique values \n",
            "\n",
            "\n",
            "P70S6_N has 225 unique values \n",
            "\n",
            "\n",
            "pGSK3B_N has 225 unique values \n",
            "\n",
            "\n",
            "pPKCG_N has 225 unique values \n",
            "\n",
            "\n",
            "CDK5_N has 225 unique values \n",
            "\n",
            "\n",
            "S6_N has 225 unique values \n",
            "\n",
            "\n",
            "ADARB1_N has 225 unique values \n",
            "\n",
            "\n",
            "AcetylH3K9_N has 225 unique values \n",
            "\n",
            "\n",
            "RRP1_N has 225 unique values \n",
            "\n",
            "\n",
            "BAX_N has 225 unique values \n",
            "\n",
            "\n",
            "ARC_N has 225 unique values \n",
            "\n",
            "\n",
            "ERBB4_N has 225 unique values \n",
            "\n",
            "\n",
            "nNOS_N has 225 unique values \n",
            "\n",
            "\n",
            "Tau_N has 225 unique values \n",
            "\n",
            "\n",
            "GFAP_N has 225 unique values \n",
            "\n",
            "\n",
            "GluR3_N has 225 unique values \n",
            "\n",
            "\n",
            "GluR4_N has 225 unique values \n",
            "\n",
            "\n",
            "IL1B_N has 225 unique values \n",
            "\n",
            "\n",
            "P3525_N has 225 unique values \n",
            "\n",
            "\n",
            "pCASP9_N has 225 unique values \n",
            "\n",
            "\n",
            "PSD95_N has 225 unique values \n",
            "\n",
            "\n",
            "SNCA_N has 225 unique values \n",
            "\n",
            "\n",
            "Ubiquitin_N has 225 unique values \n",
            "\n",
            "\n",
            "pGSK3B_Tyr216_N has 225 unique values \n",
            "\n",
            "\n",
            "SHH_N has 225 unique values \n",
            "\n",
            "\n",
            "BAD_N has 193 unique values \n",
            "\n",
            "\n",
            "BCL2_N has 181 unique values \n",
            "\n",
            "\n",
            "pS6_N has 225 unique values \n",
            "\n",
            "\n",
            "pCFOS_N has 225 unique values \n",
            "\n",
            "\n",
            "SYP_N has 225 unique values \n",
            "\n",
            "\n",
            "H3AcK18_N has 196 unique values \n",
            "\n",
            "\n",
            "EGR1_N has 211 unique values \n",
            "\n",
            "\n",
            "H3MeK4_N has 136 unique values \n",
            "\n",
            "\n",
            "CaNA_N has 225 unique values \n",
            "\n",
            "\n",
            "Genotype has 2 unique values \n",
            "\n",
            "\n",
            "Treatment_Behavior has 4 unique values \n",
            "\n",
            "\n",
            "<class 'pandas.core.frame.DataFrame'>\n",
            "RangeIndex: 225 entries, 0 to 224\n",
            "Data columns (total 77 columns):\n",
            " #   Column           Non-Null Count  Dtype  \n",
            "---  ------           --------------  -----  \n",
            " 0   DYRK1A_N         225 non-null    float64\n",
            " 1   ITSN1_N          225 non-null    float64\n",
            " 2   BDNF_N           225 non-null    float64\n",
            " 3   NR1_N            225 non-null    float64\n",
            " 4   NR2A_N           225 non-null    float64\n",
            " 5   pAKT_N           225 non-null    float64\n",
            " 6   pBRAF_N          225 non-null    float64\n",
            " 7   pCAMKII_N        225 non-null    float64\n",
            " 8   pCREB_N          225 non-null    float64\n",
            " 9   pELK_N           225 non-null    float64\n",
            " 10  pERK_N           225 non-null    float64\n",
            " 11  pJNK_N           225 non-null    float64\n",
            " 12  PKCA_N           225 non-null    float64\n",
            " 13  pMEK_N           225 non-null    float64\n",
            " 14  pNR1_N           225 non-null    float64\n",
            " 15  pNR2A_N          225 non-null    float64\n",
            " 16  pNR2B_N          225 non-null    float64\n",
            " 17  pPKCAB_N         225 non-null    float64\n",
            " 18  pRSK_N           225 non-null    float64\n",
            " 19  AKT_N            225 non-null    float64\n",
            " 20  BRAF_N           225 non-null    float64\n",
            " 21  CAMKII_N         225 non-null    float64\n",
            " 22  CREB_N           225 non-null    float64\n",
            " 23  ELK_N            225 non-null    float64\n",
            " 24  ERK_N            225 non-null    float64\n",
            " 25  GSK3B_N          225 non-null    float64\n",
            " 26  JNK_N            225 non-null    float64\n",
            " 27  MEK_N            225 non-null    float64\n",
            " 28  TRKA_N           225 non-null    float64\n",
            " 29  RSK_N            225 non-null    float64\n",
            " 30  APP_N            225 non-null    float64\n",
            " 31  Bcatenin_N       225 non-null    float64\n",
            " 32  SOD1_N           225 non-null    float64\n",
            " 33  MTOR_N           225 non-null    float64\n",
            " 34  P38_N            225 non-null    float64\n",
            " 35  pMTOR_N          225 non-null    float64\n",
            " 36  DSCR1_N          225 non-null    float64\n",
            " 37  AMPKA_N          225 non-null    float64\n",
            " 38  NR2B_N           225 non-null    float64\n",
            " 39  pNUMB_N          225 non-null    float64\n",
            " 40  RAPTOR_N         225 non-null    float64\n",
            " 41  TIAM1_N          225 non-null    float64\n",
            " 42  pP70S6_N         225 non-null    float64\n",
            " 43  NUMB_N           225 non-null    float64\n",
            " 44  P70S6_N          225 non-null    float64\n",
            " 45  pGSK3B_N         225 non-null    float64\n",
            " 46  pPKCG_N          225 non-null    float64\n",
            " 47  CDK5_N           225 non-null    float64\n",
            " 48  S6_N             225 non-null    float64\n",
            " 49  ADARB1_N         225 non-null    float64\n",
            " 50  AcetylH3K9_N     225 non-null    float64\n",
            " 51  RRP1_N           225 non-null    float64\n",
            " 52  BAX_N            225 non-null    float64\n",
            " 53  ARC_N            225 non-null    float64\n",
            " 54  ERBB4_N          225 non-null    float64\n",
            " 55  nNOS_N           225 non-null    float64\n",
            " 56  Tau_N            225 non-null    float64\n",
            " 57  GFAP_N           225 non-null    float64\n",
            " 58  GluR3_N          225 non-null    float64\n",
            " 59  GluR4_N          225 non-null    float64\n",
            " 60  IL1B_N           225 non-null    float64\n",
            " 61  P3525_N          225 non-null    float64\n",
            " 62  pCASP9_N         225 non-null    float64\n",
            " 63  PSD95_N          225 non-null    float64\n",
            " 64  SNCA_N           225 non-null    float64\n",
            " 65  Ubiquitin_N      225 non-null    float64\n",
            " 66  pGSK3B_Tyr216_N  225 non-null    float64\n",
            " 67  SHH_N            225 non-null    float64\n",
            " 68  BAD_N            225 non-null    float64\n",
            " 69  BCL2_N           225 non-null    float64\n",
            " 70  pS6_N            225 non-null    float64\n",
            " 71  pCFOS_N          225 non-null    float64\n",
            " 72  SYP_N            225 non-null    float64\n",
            " 73  H3AcK18_N        225 non-null    float64\n",
            " 74  EGR1_N           225 non-null    float64\n",
            " 75  H3MeK4_N         225 non-null    float64\n",
            " 76  CaNA_N           225 non-null    float64\n",
            "dtypes: float64(77)\n",
            "memory usage: 135.5 KB\n"
          ]
        }
      ]
    },
    {
      "cell_type": "code",
      "source": [
        "from sklearn import preprocessing \n",
        "enc = preprocessing.LabelEncoder() #Import the liabrary\n",
        "train_df['Genotype'] = enc.fit_transform(train_df['Genotype']) #Label the discrete values\n",
        "val_model1_target = train_df['Genotype'] \n",
        "val_model1_target #Output in numarical form..."
      ],
      "metadata": {
        "colab": {
          "base_uri": "https://localhost:8080/"
        },
        "id": "hsyph6CAZoFw",
        "outputId": "c1b60904-768a-4675-cb8b-a34b12642aec"
      },
      "execution_count": 55,
      "outputs": [
        {
          "output_type": "execute_result",
          "data": {
            "text/plain": [
              "0      0\n",
              "1      0\n",
              "2      0\n",
              "3      0\n",
              "4      0\n",
              "      ..\n",
              "220    1\n",
              "221    1\n",
              "222    1\n",
              "223    1\n",
              "224    1\n",
              "Name: Genotype, Length: 225, dtype: int64"
            ]
          },
          "metadata": {},
          "execution_count": 55
        }
      ]
    },
    {
      "cell_type": "code",
      "source": [
        "from sklearn import preprocessing \n",
        "enc = preprocessing.LabelEncoder() #Import the liabrary\n",
        "train_df['Treatment_Behavior'] = enc.fit_transform(train_df['Treatment_Behavior']) #Label the discrete values\n",
        "val_model2_target = train_df['Treatment_Behavior'] \n",
        "val_model2_target #Output in numarical form..."
      ],
      "metadata": {
        "colab": {
          "base_uri": "https://localhost:8080/"
        },
        "id": "ARFZeVFUaBh_",
        "outputId": "4d97e758-d50c-45b3-ea51-3985a2d5a212"
      },
      "execution_count": 56,
      "outputs": [
        {
          "output_type": "execute_result",
          "data": {
            "text/plain": [
              "0      0\n",
              "1      0\n",
              "2      0\n",
              "3      0\n",
              "4      0\n",
              "      ..\n",
              "220    3\n",
              "221    3\n",
              "222    3\n",
              "223    3\n",
              "224    3\n",
              "Name: Treatment_Behavior, Length: 225, dtype: int64"
            ]
          },
          "metadata": {},
          "execution_count": 56
        }
      ]
    },
    {
      "cell_type": "code",
      "source": [
        "val_data_ip_raw=test_data_ip\n",
        "val_data_ip_raw\n",
        "\n"
      ],
      "metadata": {
        "id": "15YkRb9dacIM",
        "colab": {
          "base_uri": "https://localhost:8080/",
          "height": 487
        },
        "outputId": "41936adb-7fe9-4902-f986-b0ced143a1a3"
      },
      "execution_count": 57,
      "outputs": [
        {
          "output_type": "execute_result",
          "data": {
            "text/plain": [
              "     DYRK1A_N   ITSN1_N    BDNF_N     NR1_N    NR2A_N    pAKT_N   pBRAF_N  \\\n",
              "0    0.627582  0.954187  0.446958  2.930717  5.915039  0.197897  0.185599   \n",
              "1    0.651253  0.962021  0.464964  2.992689  5.975028  0.202810  0.188473   \n",
              "2    0.644346  0.967179  0.470056  3.073847  5.927379  0.205131  0.182590   \n",
              "3    0.568229  0.812018  0.393465  2.606780  5.808102  0.218211  0.179905   \n",
              "4    0.587038  0.863728  0.411203  2.757975  6.006657  0.223688  0.189400   \n",
              "..        ...       ...       ...       ...       ...       ...       ...   \n",
              "220  0.226900  0.395432  0.248694  1.460666  1.860128  0.188536  0.148977   \n",
              "221  0.261107  0.443780  0.276658  1.674129  2.256494  0.218216  0.176008   \n",
              "222  0.216134  0.364058  0.241693  1.330831  1.737540  0.197125  0.151597   \n",
              "223  0.212369  0.369960  0.239036  1.346827  1.814940  0.194538  0.143454   \n",
              "224  0.257290  0.432628  0.289689  1.589289  2.125977  0.232704  0.177244   \n",
              "\n",
              "     pCAMKII_N   pCREB_N    pELK_N  ...     SHH_N     BAD_N    BCL2_N  \\\n",
              "0     1.765115  0.232257  1.808111  ...  0.211462  0.127400  0.120835   \n",
              "1     1.807824  0.259020  1.960691  ...  0.222265  0.134822  0.130462   \n",
              "2     1.783552  0.258795  2.147883  ...  0.227446  0.124327  0.118851   \n",
              "3     2.312324  0.209154  1.733692  ...  0.207185  0.145496  0.116218   \n",
              "4     2.375283  0.218538  1.843255  ...  0.213444  0.148315  0.142739   \n",
              "..         ...       ...       ...  ...       ...       ...       ...   \n",
              "220   2.178982  0.165398  0.770115  ...  0.278251  0.208354  0.157209   \n",
              "221   2.475735  0.184040  0.913363  ...  0.273234  0.192760  0.151454   \n",
              "222   1.919489  0.162780  0.720767  ...  0.289738  0.218179  0.171437   \n",
              "223   1.908112  0.155823  0.772530  ...  0.279559  0.209781  0.177576   \n",
              "224   2.308557  0.181056  0.894797  ...  0.298115  0.236394  0.172697   \n",
              "\n",
              "        pS6_N   pCFOS_N     SYP_N  H3AcK18_N    EGR1_N  H3MeK4_N    CaNA_N  \n",
              "0    0.148773  0.120885  0.541241   0.121674  0.158103  0.121739  1.649983  \n",
              "1    0.147660  0.128960  0.525966   0.126780  0.163405  0.116850  1.638988  \n",
              "2    0.143169  0.129154  0.508214   0.122796  0.160293  0.108506  1.564925  \n",
              "3    0.140063  0.127661  0.561721   0.123122  0.156108  0.144687  1.682222  \n",
              "4    0.140775  0.121389  0.534845   0.133996  0.180373  0.140219  1.660352  \n",
              "..        ...       ...       ...        ...       ...       ...       ...  \n",
              "220  0.122747  0.134559  0.400268   0.228568  0.233317  0.283853  1.160740  \n",
              "221  0.119881  0.131988  0.407596   0.228843  0.226944  0.249970  1.139347  \n",
              "222  0.118758  0.146772  0.431334   0.255633  0.257004  0.304811  1.142205  \n",
              "223  0.121366  0.152825  0.395408   0.245564  0.255852  0.308484  1.112718  \n",
              "224  0.123290  0.163880  0.402706   0.245363  0.278048  0.326087  1.171785  \n",
              "\n",
              "[225 rows x 77 columns]"
            ],
            "text/html": [
              "\n",
              "  <div id=\"df-d932e981-f860-43cf-a074-7ef17f5e2f19\">\n",
              "    <div class=\"colab-df-container\">\n",
              "      <div>\n",
              "<style scoped>\n",
              "    .dataframe tbody tr th:only-of-type {\n",
              "        vertical-align: middle;\n",
              "    }\n",
              "\n",
              "    .dataframe tbody tr th {\n",
              "        vertical-align: top;\n",
              "    }\n",
              "\n",
              "    .dataframe thead th {\n",
              "        text-align: right;\n",
              "    }\n",
              "</style>\n",
              "<table border=\"1\" class=\"dataframe\">\n",
              "  <thead>\n",
              "    <tr style=\"text-align: right;\">\n",
              "      <th></th>\n",
              "      <th>DYRK1A_N</th>\n",
              "      <th>ITSN1_N</th>\n",
              "      <th>BDNF_N</th>\n",
              "      <th>NR1_N</th>\n",
              "      <th>NR2A_N</th>\n",
              "      <th>pAKT_N</th>\n",
              "      <th>pBRAF_N</th>\n",
              "      <th>pCAMKII_N</th>\n",
              "      <th>pCREB_N</th>\n",
              "      <th>pELK_N</th>\n",
              "      <th>...</th>\n",
              "      <th>SHH_N</th>\n",
              "      <th>BAD_N</th>\n",
              "      <th>BCL2_N</th>\n",
              "      <th>pS6_N</th>\n",
              "      <th>pCFOS_N</th>\n",
              "      <th>SYP_N</th>\n",
              "      <th>H3AcK18_N</th>\n",
              "      <th>EGR1_N</th>\n",
              "      <th>H3MeK4_N</th>\n",
              "      <th>CaNA_N</th>\n",
              "    </tr>\n",
              "  </thead>\n",
              "  <tbody>\n",
              "    <tr>\n",
              "      <th>0</th>\n",
              "      <td>0.627582</td>\n",
              "      <td>0.954187</td>\n",
              "      <td>0.446958</td>\n",
              "      <td>2.930717</td>\n",
              "      <td>5.915039</td>\n",
              "      <td>0.197897</td>\n",
              "      <td>0.185599</td>\n",
              "      <td>1.765115</td>\n",
              "      <td>0.232257</td>\n",
              "      <td>1.808111</td>\n",
              "      <td>...</td>\n",
              "      <td>0.211462</td>\n",
              "      <td>0.127400</td>\n",
              "      <td>0.120835</td>\n",
              "      <td>0.148773</td>\n",
              "      <td>0.120885</td>\n",
              "      <td>0.541241</td>\n",
              "      <td>0.121674</td>\n",
              "      <td>0.158103</td>\n",
              "      <td>0.121739</td>\n",
              "      <td>1.649983</td>\n",
              "    </tr>\n",
              "    <tr>\n",
              "      <th>1</th>\n",
              "      <td>0.651253</td>\n",
              "      <td>0.962021</td>\n",
              "      <td>0.464964</td>\n",
              "      <td>2.992689</td>\n",
              "      <td>5.975028</td>\n",
              "      <td>0.202810</td>\n",
              "      <td>0.188473</td>\n",
              "      <td>1.807824</td>\n",
              "      <td>0.259020</td>\n",
              "      <td>1.960691</td>\n",
              "      <td>...</td>\n",
              "      <td>0.222265</td>\n",
              "      <td>0.134822</td>\n",
              "      <td>0.130462</td>\n",
              "      <td>0.147660</td>\n",
              "      <td>0.128960</td>\n",
              "      <td>0.525966</td>\n",
              "      <td>0.126780</td>\n",
              "      <td>0.163405</td>\n",
              "      <td>0.116850</td>\n",
              "      <td>1.638988</td>\n",
              "    </tr>\n",
              "    <tr>\n",
              "      <th>2</th>\n",
              "      <td>0.644346</td>\n",
              "      <td>0.967179</td>\n",
              "      <td>0.470056</td>\n",
              "      <td>3.073847</td>\n",
              "      <td>5.927379</td>\n",
              "      <td>0.205131</td>\n",
              "      <td>0.182590</td>\n",
              "      <td>1.783552</td>\n",
              "      <td>0.258795</td>\n",
              "      <td>2.147883</td>\n",
              "      <td>...</td>\n",
              "      <td>0.227446</td>\n",
              "      <td>0.124327</td>\n",
              "      <td>0.118851</td>\n",
              "      <td>0.143169</td>\n",
              "      <td>0.129154</td>\n",
              "      <td>0.508214</td>\n",
              "      <td>0.122796</td>\n",
              "      <td>0.160293</td>\n",
              "      <td>0.108506</td>\n",
              "      <td>1.564925</td>\n",
              "    </tr>\n",
              "    <tr>\n",
              "      <th>3</th>\n",
              "      <td>0.568229</td>\n",
              "      <td>0.812018</td>\n",
              "      <td>0.393465</td>\n",
              "      <td>2.606780</td>\n",
              "      <td>5.808102</td>\n",
              "      <td>0.218211</td>\n",
              "      <td>0.179905</td>\n",
              "      <td>2.312324</td>\n",
              "      <td>0.209154</td>\n",
              "      <td>1.733692</td>\n",
              "      <td>...</td>\n",
              "      <td>0.207185</td>\n",
              "      <td>0.145496</td>\n",
              "      <td>0.116218</td>\n",
              "      <td>0.140063</td>\n",
              "      <td>0.127661</td>\n",
              "      <td>0.561721</td>\n",
              "      <td>0.123122</td>\n",
              "      <td>0.156108</td>\n",
              "      <td>0.144687</td>\n",
              "      <td>1.682222</td>\n",
              "    </tr>\n",
              "    <tr>\n",
              "      <th>4</th>\n",
              "      <td>0.587038</td>\n",
              "      <td>0.863728</td>\n",
              "      <td>0.411203</td>\n",
              "      <td>2.757975</td>\n",
              "      <td>6.006657</td>\n",
              "      <td>0.223688</td>\n",
              "      <td>0.189400</td>\n",
              "      <td>2.375283</td>\n",
              "      <td>0.218538</td>\n",
              "      <td>1.843255</td>\n",
              "      <td>...</td>\n",
              "      <td>0.213444</td>\n",
              "      <td>0.148315</td>\n",
              "      <td>0.142739</td>\n",
              "      <td>0.140775</td>\n",
              "      <td>0.121389</td>\n",
              "      <td>0.534845</td>\n",
              "      <td>0.133996</td>\n",
              "      <td>0.180373</td>\n",
              "      <td>0.140219</td>\n",
              "      <td>1.660352</td>\n",
              "    </tr>\n",
              "    <tr>\n",
              "      <th>...</th>\n",
              "      <td>...</td>\n",
              "      <td>...</td>\n",
              "      <td>...</td>\n",
              "      <td>...</td>\n",
              "      <td>...</td>\n",
              "      <td>...</td>\n",
              "      <td>...</td>\n",
              "      <td>...</td>\n",
              "      <td>...</td>\n",
              "      <td>...</td>\n",
              "      <td>...</td>\n",
              "      <td>...</td>\n",
              "      <td>...</td>\n",
              "      <td>...</td>\n",
              "      <td>...</td>\n",
              "      <td>...</td>\n",
              "      <td>...</td>\n",
              "      <td>...</td>\n",
              "      <td>...</td>\n",
              "      <td>...</td>\n",
              "      <td>...</td>\n",
              "    </tr>\n",
              "    <tr>\n",
              "      <th>220</th>\n",
              "      <td>0.226900</td>\n",
              "      <td>0.395432</td>\n",
              "      <td>0.248694</td>\n",
              "      <td>1.460666</td>\n",
              "      <td>1.860128</td>\n",
              "      <td>0.188536</td>\n",
              "      <td>0.148977</td>\n",
              "      <td>2.178982</td>\n",
              "      <td>0.165398</td>\n",
              "      <td>0.770115</td>\n",
              "      <td>...</td>\n",
              "      <td>0.278251</td>\n",
              "      <td>0.208354</td>\n",
              "      <td>0.157209</td>\n",
              "      <td>0.122747</td>\n",
              "      <td>0.134559</td>\n",
              "      <td>0.400268</td>\n",
              "      <td>0.228568</td>\n",
              "      <td>0.233317</td>\n",
              "      <td>0.283853</td>\n",
              "      <td>1.160740</td>\n",
              "    </tr>\n",
              "    <tr>\n",
              "      <th>221</th>\n",
              "      <td>0.261107</td>\n",
              "      <td>0.443780</td>\n",
              "      <td>0.276658</td>\n",
              "      <td>1.674129</td>\n",
              "      <td>2.256494</td>\n",
              "      <td>0.218216</td>\n",
              "      <td>0.176008</td>\n",
              "      <td>2.475735</td>\n",
              "      <td>0.184040</td>\n",
              "      <td>0.913363</td>\n",
              "      <td>...</td>\n",
              "      <td>0.273234</td>\n",
              "      <td>0.192760</td>\n",
              "      <td>0.151454</td>\n",
              "      <td>0.119881</td>\n",
              "      <td>0.131988</td>\n",
              "      <td>0.407596</td>\n",
              "      <td>0.228843</td>\n",
              "      <td>0.226944</td>\n",
              "      <td>0.249970</td>\n",
              "      <td>1.139347</td>\n",
              "    </tr>\n",
              "    <tr>\n",
              "      <th>222</th>\n",
              "      <td>0.216134</td>\n",
              "      <td>0.364058</td>\n",
              "      <td>0.241693</td>\n",
              "      <td>1.330831</td>\n",
              "      <td>1.737540</td>\n",
              "      <td>0.197125</td>\n",
              "      <td>0.151597</td>\n",
              "      <td>1.919489</td>\n",
              "      <td>0.162780</td>\n",
              "      <td>0.720767</td>\n",
              "      <td>...</td>\n",
              "      <td>0.289738</td>\n",
              "      <td>0.218179</td>\n",
              "      <td>0.171437</td>\n",
              "      <td>0.118758</td>\n",
              "      <td>0.146772</td>\n",
              "      <td>0.431334</td>\n",
              "      <td>0.255633</td>\n",
              "      <td>0.257004</td>\n",
              "      <td>0.304811</td>\n",
              "      <td>1.142205</td>\n",
              "    </tr>\n",
              "    <tr>\n",
              "      <th>223</th>\n",
              "      <td>0.212369</td>\n",
              "      <td>0.369960</td>\n",
              "      <td>0.239036</td>\n",
              "      <td>1.346827</td>\n",
              "      <td>1.814940</td>\n",
              "      <td>0.194538</td>\n",
              "      <td>0.143454</td>\n",
              "      <td>1.908112</td>\n",
              "      <td>0.155823</td>\n",
              "      <td>0.772530</td>\n",
              "      <td>...</td>\n",
              "      <td>0.279559</td>\n",
              "      <td>0.209781</td>\n",
              "      <td>0.177576</td>\n",
              "      <td>0.121366</td>\n",
              "      <td>0.152825</td>\n",
              "      <td>0.395408</td>\n",
              "      <td>0.245564</td>\n",
              "      <td>0.255852</td>\n",
              "      <td>0.308484</td>\n",
              "      <td>1.112718</td>\n",
              "    </tr>\n",
              "    <tr>\n",
              "      <th>224</th>\n",
              "      <td>0.257290</td>\n",
              "      <td>0.432628</td>\n",
              "      <td>0.289689</td>\n",
              "      <td>1.589289</td>\n",
              "      <td>2.125977</td>\n",
              "      <td>0.232704</td>\n",
              "      <td>0.177244</td>\n",
              "      <td>2.308557</td>\n",
              "      <td>0.181056</td>\n",
              "      <td>0.894797</td>\n",
              "      <td>...</td>\n",
              "      <td>0.298115</td>\n",
              "      <td>0.236394</td>\n",
              "      <td>0.172697</td>\n",
              "      <td>0.123290</td>\n",
              "      <td>0.163880</td>\n",
              "      <td>0.402706</td>\n",
              "      <td>0.245363</td>\n",
              "      <td>0.278048</td>\n",
              "      <td>0.326087</td>\n",
              "      <td>1.171785</td>\n",
              "    </tr>\n",
              "  </tbody>\n",
              "</table>\n",
              "<p>225 rows × 77 columns</p>\n",
              "</div>\n",
              "      <button class=\"colab-df-convert\" onclick=\"convertToInteractive('df-d932e981-f860-43cf-a074-7ef17f5e2f19')\"\n",
              "              title=\"Convert this dataframe to an interactive table.\"\n",
              "              style=\"display:none;\">\n",
              "        \n",
              "  <svg xmlns=\"http://www.w3.org/2000/svg\" height=\"24px\"viewBox=\"0 0 24 24\"\n",
              "       width=\"24px\">\n",
              "    <path d=\"M0 0h24v24H0V0z\" fill=\"none\"/>\n",
              "    <path d=\"M18.56 5.44l.94 2.06.94-2.06 2.06-.94-2.06-.94-.94-2.06-.94 2.06-2.06.94zm-11 1L8.5 8.5l.94-2.06 2.06-.94-2.06-.94L8.5 2.5l-.94 2.06-2.06.94zm10 10l.94 2.06.94-2.06 2.06-.94-2.06-.94-.94-2.06-.94 2.06-2.06.94z\"/><path d=\"M17.41 7.96l-1.37-1.37c-.4-.4-.92-.59-1.43-.59-.52 0-1.04.2-1.43.59L10.3 9.45l-7.72 7.72c-.78.78-.78 2.05 0 2.83L4 21.41c.39.39.9.59 1.41.59.51 0 1.02-.2 1.41-.59l7.78-7.78 2.81-2.81c.8-.78.8-2.07 0-2.86zM5.41 20L4 18.59l7.72-7.72 1.47 1.35L5.41 20z\"/>\n",
              "  </svg>\n",
              "      </button>\n",
              "      \n",
              "  <style>\n",
              "    .colab-df-container {\n",
              "      display:flex;\n",
              "      flex-wrap:wrap;\n",
              "      gap: 12px;\n",
              "    }\n",
              "\n",
              "    .colab-df-convert {\n",
              "      background-color: #E8F0FE;\n",
              "      border: none;\n",
              "      border-radius: 50%;\n",
              "      cursor: pointer;\n",
              "      display: none;\n",
              "      fill: #1967D2;\n",
              "      height: 32px;\n",
              "      padding: 0 0 0 0;\n",
              "      width: 32px;\n",
              "    }\n",
              "\n",
              "    .colab-df-convert:hover {\n",
              "      background-color: #E2EBFA;\n",
              "      box-shadow: 0px 1px 2px rgba(60, 64, 67, 0.3), 0px 1px 3px 1px rgba(60, 64, 67, 0.15);\n",
              "      fill: #174EA6;\n",
              "    }\n",
              "\n",
              "    [theme=dark] .colab-df-convert {\n",
              "      background-color: #3B4455;\n",
              "      fill: #D2E3FC;\n",
              "    }\n",
              "\n",
              "    [theme=dark] .colab-df-convert:hover {\n",
              "      background-color: #434B5C;\n",
              "      box-shadow: 0px 1px 3px 1px rgba(0, 0, 0, 0.15);\n",
              "      filter: drop-shadow(0px 1px 2px rgba(0, 0, 0, 0.3));\n",
              "      fill: #FFFFFF;\n",
              "    }\n",
              "  </style>\n",
              "\n",
              "      <script>\n",
              "        const buttonEl =\n",
              "          document.querySelector('#df-d932e981-f860-43cf-a074-7ef17f5e2f19 button.colab-df-convert');\n",
              "        buttonEl.style.display =\n",
              "          google.colab.kernel.accessAllowed ? 'block' : 'none';\n",
              "\n",
              "        async function convertToInteractive(key) {\n",
              "          const element = document.querySelector('#df-d932e981-f860-43cf-a074-7ef17f5e2f19');\n",
              "          const dataTable =\n",
              "            await google.colab.kernel.invokeFunction('convertToInteractive',\n",
              "                                                     [key], {});\n",
              "          if (!dataTable) return;\n",
              "\n",
              "          const docLinkHtml = 'Like what you see? Visit the ' +\n",
              "            '<a target=\"_blank\" href=https://colab.research.google.com/notebooks/data_table.ipynb>data table notebook</a>'\n",
              "            + ' to learn more about interactive tables.';\n",
              "          element.innerHTML = '';\n",
              "          dataTable['output_type'] = 'display_data';\n",
              "          await google.colab.output.renderOutput(dataTable, element);\n",
              "          const docLink = document.createElement('div');\n",
              "          docLink.innerHTML = docLinkHtml;\n",
              "          element.appendChild(docLink);\n",
              "        }\n",
              "      </script>\n",
              "    </div>\n",
              "  </div>\n",
              "  "
            ]
          },
          "metadata": {},
          "execution_count": 57
        }
      ]
    },
    {
      "cell_type": "code",
      "source": [
        "remove_cols"
      ],
      "metadata": {
        "colab": {
          "base_uri": "https://localhost:8080/"
        },
        "id": "jd0Yd09XfkwN",
        "outputId": "4355d714-dccd-4d9c-e231-c635a76122db"
      },
      "execution_count": 58,
      "outputs": [
        {
          "output_type": "execute_result",
          "data": {
            "text/plain": [
              "array([ 0,  1,  3, 10, 14, 53])"
            ]
          },
          "metadata": {},
          "execution_count": 58
        }
      ]
    },
    {
      "cell_type": "markdown",
      "source": [
        "Model1: we will use SVM since it gave good results with gamma=0.01 and degree=2"
      ],
      "metadata": {
        "id": "TNvZy7btbCrc"
      }
    },
    {
      "cell_type": "code",
      "source": [
        "val_data_ip = val_data_ip_raw.drop(val_data_ip_raw.columns[remove_cols], axis=1) # removing the columns\n",
        "val_data_ip\n"
      ],
      "metadata": {
        "id": "RA4UvtCUbNl1",
        "colab": {
          "base_uri": "https://localhost:8080/",
          "height": 487
        },
        "outputId": "45e4c65d-dd35-4efb-8996-269ebdff4570"
      },
      "execution_count": 59,
      "outputs": [
        {
          "output_type": "execute_result",
          "data": {
            "text/plain": [
              "       BDNF_N    NR2A_N    pAKT_N   pBRAF_N  pCAMKII_N   pCREB_N    pELK_N  \\\n",
              "0    0.446958  5.915039  0.197897  0.185599   1.765115  0.232257  1.808111   \n",
              "1    0.464964  5.975028  0.202810  0.188473   1.807824  0.259020  1.960691   \n",
              "2    0.470056  5.927379  0.205131  0.182590   1.783552  0.258795  2.147883   \n",
              "3    0.393465  5.808102  0.218211  0.179905   2.312324  0.209154  1.733692   \n",
              "4    0.411203  6.006657  0.223688  0.189400   2.375283  0.218538  1.843255   \n",
              "..        ...       ...       ...       ...        ...       ...       ...   \n",
              "220  0.248694  1.860128  0.188536  0.148977   2.178982  0.165398  0.770115   \n",
              "221  0.276658  2.256494  0.218216  0.176008   2.475735  0.184040  0.913363   \n",
              "222  0.241693  1.737540  0.197125  0.151597   1.919489  0.162780  0.720767   \n",
              "223  0.239036  1.814940  0.194538  0.143454   1.908112  0.155823  0.772530   \n",
              "224  0.289689  2.125977  0.232704  0.177244   2.308557  0.181056  0.894797   \n",
              "\n",
              "       pJNK_N    PKCA_N    pMEK_N  ...     SHH_N     BAD_N    BCL2_N  \\\n",
              "0    0.348667  0.348291  0.245963  ...  0.211462  0.127400  0.120835   \n",
              "1    0.353874  0.362704  0.260634  ...  0.222265  0.134822  0.130462   \n",
              "2    0.361690  0.368386  0.259549  ...  0.227446  0.124327  0.118851   \n",
              "3    0.337290  0.335699  0.250643  ...  0.207185  0.145496  0.116218   \n",
              "4    0.348531  0.354685  0.270284  ...  0.213444  0.148315  0.142739   \n",
              "..        ...       ...       ...  ...       ...       ...       ...   \n",
              "220  0.234513  0.222421  0.218092  ...  0.278251  0.208354  0.157209   \n",
              "221  0.264183  0.259228  0.257006  ...  0.273234  0.192760  0.151454   \n",
              "222  0.223802  0.236581  0.221725  ...  0.289738  0.218179  0.171437   \n",
              "223  0.222490  0.215904  0.215422  ...  0.279559  0.209781  0.177576   \n",
              "224  0.262436  0.254241  0.254812  ...  0.298115  0.236394  0.172697   \n",
              "\n",
              "        pS6_N   pCFOS_N     SYP_N  H3AcK18_N    EGR1_N  H3MeK4_N    CaNA_N  \n",
              "0    0.148773  0.120885  0.541241   0.121674  0.158103  0.121739  1.649983  \n",
              "1    0.147660  0.128960  0.525966   0.126780  0.163405  0.116850  1.638988  \n",
              "2    0.143169  0.129154  0.508214   0.122796  0.160293  0.108506  1.564925  \n",
              "3    0.140063  0.127661  0.561721   0.123122  0.156108  0.144687  1.682222  \n",
              "4    0.140775  0.121389  0.534845   0.133996  0.180373  0.140219  1.660352  \n",
              "..        ...       ...       ...        ...       ...       ...       ...  \n",
              "220  0.122747  0.134559  0.400268   0.228568  0.233317  0.283853  1.160740  \n",
              "221  0.119881  0.131988  0.407596   0.228843  0.226944  0.249970  1.139347  \n",
              "222  0.118758  0.146772  0.431334   0.255633  0.257004  0.304811  1.142205  \n",
              "223  0.121366  0.152825  0.395408   0.245564  0.255852  0.308484  1.112718  \n",
              "224  0.123290  0.163880  0.402706   0.245363  0.278048  0.326087  1.171785  \n",
              "\n",
              "[225 rows x 71 columns]"
            ],
            "text/html": [
              "\n",
              "  <div id=\"df-7a853cca-7a2a-4a1c-93cb-c81ea5bf5d0d\">\n",
              "    <div class=\"colab-df-container\">\n",
              "      <div>\n",
              "<style scoped>\n",
              "    .dataframe tbody tr th:only-of-type {\n",
              "        vertical-align: middle;\n",
              "    }\n",
              "\n",
              "    .dataframe tbody tr th {\n",
              "        vertical-align: top;\n",
              "    }\n",
              "\n",
              "    .dataframe thead th {\n",
              "        text-align: right;\n",
              "    }\n",
              "</style>\n",
              "<table border=\"1\" class=\"dataframe\">\n",
              "  <thead>\n",
              "    <tr style=\"text-align: right;\">\n",
              "      <th></th>\n",
              "      <th>BDNF_N</th>\n",
              "      <th>NR2A_N</th>\n",
              "      <th>pAKT_N</th>\n",
              "      <th>pBRAF_N</th>\n",
              "      <th>pCAMKII_N</th>\n",
              "      <th>pCREB_N</th>\n",
              "      <th>pELK_N</th>\n",
              "      <th>pJNK_N</th>\n",
              "      <th>PKCA_N</th>\n",
              "      <th>pMEK_N</th>\n",
              "      <th>...</th>\n",
              "      <th>SHH_N</th>\n",
              "      <th>BAD_N</th>\n",
              "      <th>BCL2_N</th>\n",
              "      <th>pS6_N</th>\n",
              "      <th>pCFOS_N</th>\n",
              "      <th>SYP_N</th>\n",
              "      <th>H3AcK18_N</th>\n",
              "      <th>EGR1_N</th>\n",
              "      <th>H3MeK4_N</th>\n",
              "      <th>CaNA_N</th>\n",
              "    </tr>\n",
              "  </thead>\n",
              "  <tbody>\n",
              "    <tr>\n",
              "      <th>0</th>\n",
              "      <td>0.446958</td>\n",
              "      <td>5.915039</td>\n",
              "      <td>0.197897</td>\n",
              "      <td>0.185599</td>\n",
              "      <td>1.765115</td>\n",
              "      <td>0.232257</td>\n",
              "      <td>1.808111</td>\n",
              "      <td>0.348667</td>\n",
              "      <td>0.348291</td>\n",
              "      <td>0.245963</td>\n",
              "      <td>...</td>\n",
              "      <td>0.211462</td>\n",
              "      <td>0.127400</td>\n",
              "      <td>0.120835</td>\n",
              "      <td>0.148773</td>\n",
              "      <td>0.120885</td>\n",
              "      <td>0.541241</td>\n",
              "      <td>0.121674</td>\n",
              "      <td>0.158103</td>\n",
              "      <td>0.121739</td>\n",
              "      <td>1.649983</td>\n",
              "    </tr>\n",
              "    <tr>\n",
              "      <th>1</th>\n",
              "      <td>0.464964</td>\n",
              "      <td>5.975028</td>\n",
              "      <td>0.202810</td>\n",
              "      <td>0.188473</td>\n",
              "      <td>1.807824</td>\n",
              "      <td>0.259020</td>\n",
              "      <td>1.960691</td>\n",
              "      <td>0.353874</td>\n",
              "      <td>0.362704</td>\n",
              "      <td>0.260634</td>\n",
              "      <td>...</td>\n",
              "      <td>0.222265</td>\n",
              "      <td>0.134822</td>\n",
              "      <td>0.130462</td>\n",
              "      <td>0.147660</td>\n",
              "      <td>0.128960</td>\n",
              "      <td>0.525966</td>\n",
              "      <td>0.126780</td>\n",
              "      <td>0.163405</td>\n",
              "      <td>0.116850</td>\n",
              "      <td>1.638988</td>\n",
              "    </tr>\n",
              "    <tr>\n",
              "      <th>2</th>\n",
              "      <td>0.470056</td>\n",
              "      <td>5.927379</td>\n",
              "      <td>0.205131</td>\n",
              "      <td>0.182590</td>\n",
              "      <td>1.783552</td>\n",
              "      <td>0.258795</td>\n",
              "      <td>2.147883</td>\n",
              "      <td>0.361690</td>\n",
              "      <td>0.368386</td>\n",
              "      <td>0.259549</td>\n",
              "      <td>...</td>\n",
              "      <td>0.227446</td>\n",
              "      <td>0.124327</td>\n",
              "      <td>0.118851</td>\n",
              "      <td>0.143169</td>\n",
              "      <td>0.129154</td>\n",
              "      <td>0.508214</td>\n",
              "      <td>0.122796</td>\n",
              "      <td>0.160293</td>\n",
              "      <td>0.108506</td>\n",
              "      <td>1.564925</td>\n",
              "    </tr>\n",
              "    <tr>\n",
              "      <th>3</th>\n",
              "      <td>0.393465</td>\n",
              "      <td>5.808102</td>\n",
              "      <td>0.218211</td>\n",
              "      <td>0.179905</td>\n",
              "      <td>2.312324</td>\n",
              "      <td>0.209154</td>\n",
              "      <td>1.733692</td>\n",
              "      <td>0.337290</td>\n",
              "      <td>0.335699</td>\n",
              "      <td>0.250643</td>\n",
              "      <td>...</td>\n",
              "      <td>0.207185</td>\n",
              "      <td>0.145496</td>\n",
              "      <td>0.116218</td>\n",
              "      <td>0.140063</td>\n",
              "      <td>0.127661</td>\n",
              "      <td>0.561721</td>\n",
              "      <td>0.123122</td>\n",
              "      <td>0.156108</td>\n",
              "      <td>0.144687</td>\n",
              "      <td>1.682222</td>\n",
              "    </tr>\n",
              "    <tr>\n",
              "      <th>4</th>\n",
              "      <td>0.411203</td>\n",
              "      <td>6.006657</td>\n",
              "      <td>0.223688</td>\n",
              "      <td>0.189400</td>\n",
              "      <td>2.375283</td>\n",
              "      <td>0.218538</td>\n",
              "      <td>1.843255</td>\n",
              "      <td>0.348531</td>\n",
              "      <td>0.354685</td>\n",
              "      <td>0.270284</td>\n",
              "      <td>...</td>\n",
              "      <td>0.213444</td>\n",
              "      <td>0.148315</td>\n",
              "      <td>0.142739</td>\n",
              "      <td>0.140775</td>\n",
              "      <td>0.121389</td>\n",
              "      <td>0.534845</td>\n",
              "      <td>0.133996</td>\n",
              "      <td>0.180373</td>\n",
              "      <td>0.140219</td>\n",
              "      <td>1.660352</td>\n",
              "    </tr>\n",
              "    <tr>\n",
              "      <th>...</th>\n",
              "      <td>...</td>\n",
              "      <td>...</td>\n",
              "      <td>...</td>\n",
              "      <td>...</td>\n",
              "      <td>...</td>\n",
              "      <td>...</td>\n",
              "      <td>...</td>\n",
              "      <td>...</td>\n",
              "      <td>...</td>\n",
              "      <td>...</td>\n",
              "      <td>...</td>\n",
              "      <td>...</td>\n",
              "      <td>...</td>\n",
              "      <td>...</td>\n",
              "      <td>...</td>\n",
              "      <td>...</td>\n",
              "      <td>...</td>\n",
              "      <td>...</td>\n",
              "      <td>...</td>\n",
              "      <td>...</td>\n",
              "      <td>...</td>\n",
              "    </tr>\n",
              "    <tr>\n",
              "      <th>220</th>\n",
              "      <td>0.248694</td>\n",
              "      <td>1.860128</td>\n",
              "      <td>0.188536</td>\n",
              "      <td>0.148977</td>\n",
              "      <td>2.178982</td>\n",
              "      <td>0.165398</td>\n",
              "      <td>0.770115</td>\n",
              "      <td>0.234513</td>\n",
              "      <td>0.222421</td>\n",
              "      <td>0.218092</td>\n",
              "      <td>...</td>\n",
              "      <td>0.278251</td>\n",
              "      <td>0.208354</td>\n",
              "      <td>0.157209</td>\n",
              "      <td>0.122747</td>\n",
              "      <td>0.134559</td>\n",
              "      <td>0.400268</td>\n",
              "      <td>0.228568</td>\n",
              "      <td>0.233317</td>\n",
              "      <td>0.283853</td>\n",
              "      <td>1.160740</td>\n",
              "    </tr>\n",
              "    <tr>\n",
              "      <th>221</th>\n",
              "      <td>0.276658</td>\n",
              "      <td>2.256494</td>\n",
              "      <td>0.218216</td>\n",
              "      <td>0.176008</td>\n",
              "      <td>2.475735</td>\n",
              "      <td>0.184040</td>\n",
              "      <td>0.913363</td>\n",
              "      <td>0.264183</td>\n",
              "      <td>0.259228</td>\n",
              "      <td>0.257006</td>\n",
              "      <td>...</td>\n",
              "      <td>0.273234</td>\n",
              "      <td>0.192760</td>\n",
              "      <td>0.151454</td>\n",
              "      <td>0.119881</td>\n",
              "      <td>0.131988</td>\n",
              "      <td>0.407596</td>\n",
              "      <td>0.228843</td>\n",
              "      <td>0.226944</td>\n",
              "      <td>0.249970</td>\n",
              "      <td>1.139347</td>\n",
              "    </tr>\n",
              "    <tr>\n",
              "      <th>222</th>\n",
              "      <td>0.241693</td>\n",
              "      <td>1.737540</td>\n",
              "      <td>0.197125</td>\n",
              "      <td>0.151597</td>\n",
              "      <td>1.919489</td>\n",
              "      <td>0.162780</td>\n",
              "      <td>0.720767</td>\n",
              "      <td>0.223802</td>\n",
              "      <td>0.236581</td>\n",
              "      <td>0.221725</td>\n",
              "      <td>...</td>\n",
              "      <td>0.289738</td>\n",
              "      <td>0.218179</td>\n",
              "      <td>0.171437</td>\n",
              "      <td>0.118758</td>\n",
              "      <td>0.146772</td>\n",
              "      <td>0.431334</td>\n",
              "      <td>0.255633</td>\n",
              "      <td>0.257004</td>\n",
              "      <td>0.304811</td>\n",
              "      <td>1.142205</td>\n",
              "    </tr>\n",
              "    <tr>\n",
              "      <th>223</th>\n",
              "      <td>0.239036</td>\n",
              "      <td>1.814940</td>\n",
              "      <td>0.194538</td>\n",
              "      <td>0.143454</td>\n",
              "      <td>1.908112</td>\n",
              "      <td>0.155823</td>\n",
              "      <td>0.772530</td>\n",
              "      <td>0.222490</td>\n",
              "      <td>0.215904</td>\n",
              "      <td>0.215422</td>\n",
              "      <td>...</td>\n",
              "      <td>0.279559</td>\n",
              "      <td>0.209781</td>\n",
              "      <td>0.177576</td>\n",
              "      <td>0.121366</td>\n",
              "      <td>0.152825</td>\n",
              "      <td>0.395408</td>\n",
              "      <td>0.245564</td>\n",
              "      <td>0.255852</td>\n",
              "      <td>0.308484</td>\n",
              "      <td>1.112718</td>\n",
              "    </tr>\n",
              "    <tr>\n",
              "      <th>224</th>\n",
              "      <td>0.289689</td>\n",
              "      <td>2.125977</td>\n",
              "      <td>0.232704</td>\n",
              "      <td>0.177244</td>\n",
              "      <td>2.308557</td>\n",
              "      <td>0.181056</td>\n",
              "      <td>0.894797</td>\n",
              "      <td>0.262436</td>\n",
              "      <td>0.254241</td>\n",
              "      <td>0.254812</td>\n",
              "      <td>...</td>\n",
              "      <td>0.298115</td>\n",
              "      <td>0.236394</td>\n",
              "      <td>0.172697</td>\n",
              "      <td>0.123290</td>\n",
              "      <td>0.163880</td>\n",
              "      <td>0.402706</td>\n",
              "      <td>0.245363</td>\n",
              "      <td>0.278048</td>\n",
              "      <td>0.326087</td>\n",
              "      <td>1.171785</td>\n",
              "    </tr>\n",
              "  </tbody>\n",
              "</table>\n",
              "<p>225 rows × 71 columns</p>\n",
              "</div>\n",
              "      <button class=\"colab-df-convert\" onclick=\"convertToInteractive('df-7a853cca-7a2a-4a1c-93cb-c81ea5bf5d0d')\"\n",
              "              title=\"Convert this dataframe to an interactive table.\"\n",
              "              style=\"display:none;\">\n",
              "        \n",
              "  <svg xmlns=\"http://www.w3.org/2000/svg\" height=\"24px\"viewBox=\"0 0 24 24\"\n",
              "       width=\"24px\">\n",
              "    <path d=\"M0 0h24v24H0V0z\" fill=\"none\"/>\n",
              "    <path d=\"M18.56 5.44l.94 2.06.94-2.06 2.06-.94-2.06-.94-.94-2.06-.94 2.06-2.06.94zm-11 1L8.5 8.5l.94-2.06 2.06-.94-2.06-.94L8.5 2.5l-.94 2.06-2.06.94zm10 10l.94 2.06.94-2.06 2.06-.94-2.06-.94-.94-2.06-.94 2.06-2.06.94z\"/><path d=\"M17.41 7.96l-1.37-1.37c-.4-.4-.92-.59-1.43-.59-.52 0-1.04.2-1.43.59L10.3 9.45l-7.72 7.72c-.78.78-.78 2.05 0 2.83L4 21.41c.39.39.9.59 1.41.59.51 0 1.02-.2 1.41-.59l7.78-7.78 2.81-2.81c.8-.78.8-2.07 0-2.86zM5.41 20L4 18.59l7.72-7.72 1.47 1.35L5.41 20z\"/>\n",
              "  </svg>\n",
              "      </button>\n",
              "      \n",
              "  <style>\n",
              "    .colab-df-container {\n",
              "      display:flex;\n",
              "      flex-wrap:wrap;\n",
              "      gap: 12px;\n",
              "    }\n",
              "\n",
              "    .colab-df-convert {\n",
              "      background-color: #E8F0FE;\n",
              "      border: none;\n",
              "      border-radius: 50%;\n",
              "      cursor: pointer;\n",
              "      display: none;\n",
              "      fill: #1967D2;\n",
              "      height: 32px;\n",
              "      padding: 0 0 0 0;\n",
              "      width: 32px;\n",
              "    }\n",
              "\n",
              "    .colab-df-convert:hover {\n",
              "      background-color: #E2EBFA;\n",
              "      box-shadow: 0px 1px 2px rgba(60, 64, 67, 0.3), 0px 1px 3px 1px rgba(60, 64, 67, 0.15);\n",
              "      fill: #174EA6;\n",
              "    }\n",
              "\n",
              "    [theme=dark] .colab-df-convert {\n",
              "      background-color: #3B4455;\n",
              "      fill: #D2E3FC;\n",
              "    }\n",
              "\n",
              "    [theme=dark] .colab-df-convert:hover {\n",
              "      background-color: #434B5C;\n",
              "      box-shadow: 0px 1px 3px 1px rgba(0, 0, 0, 0.15);\n",
              "      filter: drop-shadow(0px 1px 2px rgba(0, 0, 0, 0.3));\n",
              "      fill: #FFFFFF;\n",
              "    }\n",
              "  </style>\n",
              "\n",
              "      <script>\n",
              "        const buttonEl =\n",
              "          document.querySelector('#df-7a853cca-7a2a-4a1c-93cb-c81ea5bf5d0d button.colab-df-convert');\n",
              "        buttonEl.style.display =\n",
              "          google.colab.kernel.accessAllowed ? 'block' : 'none';\n",
              "\n",
              "        async function convertToInteractive(key) {\n",
              "          const element = document.querySelector('#df-7a853cca-7a2a-4a1c-93cb-c81ea5bf5d0d');\n",
              "          const dataTable =\n",
              "            await google.colab.kernel.invokeFunction('convertToInteractive',\n",
              "                                                     [key], {});\n",
              "          if (!dataTable) return;\n",
              "\n",
              "          const docLinkHtml = 'Like what you see? Visit the ' +\n",
              "            '<a target=\"_blank\" href=https://colab.research.google.com/notebooks/data_table.ipynb>data table notebook</a>'\n",
              "            + ' to learn more about interactive tables.';\n",
              "          element.innerHTML = '';\n",
              "          dataTable['output_type'] = 'display_data';\n",
              "          await google.colab.output.renderOutput(dataTable, element);\n",
              "          const docLink = document.createElement('div');\n",
              "          docLink.innerHTML = docLinkHtml;\n",
              "          element.appendChild(docLink);\n",
              "        }\n",
              "      </script>\n",
              "    </div>\n",
              "  </div>\n",
              "  "
            ]
          },
          "metadata": {},
          "execution_count": 59
        }
      ]
    },
    {
      "cell_type": "code",
      "source": [
        "model1_pred1=val_model1.predict(val_data_ip)"
      ],
      "metadata": {
        "id": "3JUoXSlpgaOs"
      },
      "execution_count": 60,
      "outputs": []
    },
    {
      "cell_type": "code",
      "source": [
        "from sklearn.metrics import classification_report, confusion_matrix\n",
        "print(confusion_matrix(val_model1_target,model1_pred1))\n",
        "print(classification_report(val_model1_target,model1_pred1))"
      ],
      "metadata": {
        "colab": {
          "base_uri": "https://localhost:8080/"
        },
        "id": "vSgfX4O6gomF",
        "outputId": "2b6b18b2-e37a-4c0d-93b1-b4ba5b526720"
      },
      "execution_count": 61,
      "outputs": [
        {
          "output_type": "stream",
          "name": "stdout",
          "text": [
            "[[113  22]\n",
            " [ 27  63]]\n",
            "              precision    recall  f1-score   support\n",
            "\n",
            "           0       0.81      0.84      0.82       135\n",
            "           1       0.74      0.70      0.72        90\n",
            "\n",
            "    accuracy                           0.78       225\n",
            "   macro avg       0.77      0.77      0.77       225\n",
            "weighted avg       0.78      0.78      0.78       225\n",
            "\n"
          ]
        }
      ]
    },
    {
      "cell_type": "markdown",
      "source": [
        "**Observations**\n",
        "\n",
        "1.   Given model gives resonable F1 score for predicted and exact values\n",
        "2.   Shows accuracy around 0.77.\n",
        "\n"
      ],
      "metadata": {
        "id": "SdySnNezOyS3"
      }
    },
    {
      "cell_type": "markdown",
      "source": [
        "Model2: we will use RANDMO FOREST MODEL."
      ],
      "metadata": {
        "id": "ZV83Y5bgqDbE"
      }
    },
    {
      "cell_type": "code",
      "source": [
        "model2_pred=val_model2.predict(val_data_ip)\n",
        "print(confusion_matrix(val_model1_target,model2_pred))\n",
        "print(classification_report(val_model1_target,model2_pred))"
      ],
      "metadata": {
        "colab": {
          "base_uri": "https://localhost:8080/"
        },
        "id": "4oMHPdzmiuMn",
        "outputId": "b7079562-ed36-4e3b-8c7d-550cc8f0069b"
      },
      "execution_count": 62,
      "outputs": [
        {
          "output_type": "stream",
          "name": "stdout",
          "text": [
            "[[105  30]\n",
            " [ 39  51]]\n",
            "              precision    recall  f1-score   support\n",
            "\n",
            "           0       0.73      0.78      0.75       135\n",
            "           1       0.63      0.57      0.60        90\n",
            "\n",
            "    accuracy                           0.69       225\n",
            "   macro avg       0.68      0.67      0.67       225\n",
            "weighted avg       0.69      0.69      0.69       225\n",
            "\n"
          ]
        }
      ]
    },
    {
      "cell_type": "markdown",
      "source": [
        "**Obeservations**\n",
        "\n",
        "\n",
        "1.   List item\n",
        "2.   List item\n",
        "\n"
      ],
      "metadata": {
        "id": "R_mLD3sOPRjQ"
      }
    },
    {
      "cell_type": "markdown",
      "source": [
        "2.Multi Class Classification"
      ],
      "metadata": {
        "id": "p5Pw8bh1pPui"
      }
    },
    {
      "cell_type": "markdown",
      "source": [
        "2.1.We will use Loogistic Regression Model with ElasticNet Penalty"
      ],
      "metadata": {
        "id": "RjX1rOi1qbn8"
      }
    },
    {
      "cell_type": "code",
      "source": [
        "model3_pred = regression_model.predict(val_data_ip) #Prediction by our model \"regression_model\" is the model name\n",
        "print(confusion_matrix(val_model2_target,model3_pred)) #Confusion matrix generation\n",
        "print(classification_report(val_model2_target,model3_pred)) #Model summary"
      ],
      "metadata": {
        "colab": {
          "base_uri": "https://localhost:8080/"
        },
        "id": "alD_zZlZpVUr",
        "outputId": "1ca88c7b-2827-42b7-a1b1-5d6ad6e3782e"
      },
      "execution_count": 67,
      "outputs": [
        {
          "output_type": "stream",
          "name": "stdout",
          "text": [
            "[[60  0  0  0]\n",
            " [ 0 60  0  0]\n",
            " [60  0  0  0]\n",
            " [15 30  0  0]]\n",
            "              precision    recall  f1-score   support\n",
            "\n",
            "           0       0.44      1.00      0.62        60\n",
            "           1       0.67      1.00      0.80        60\n",
            "           2       0.00      0.00      0.00        60\n",
            "           3       0.00      0.00      0.00        45\n",
            "\n",
            "    accuracy                           0.53       225\n",
            "   macro avg       0.28      0.50      0.35       225\n",
            "weighted avg       0.30      0.53      0.38       225\n",
            "\n"
          ]
        }
      ]
    },
    {
      "cell_type": "markdown",
      "source": [
        "**Observation**\n",
        "\n",
        "\n",
        "> There is lots of miss classification for label 2 and 3 for label 0 and 1 gives reasonable f1 score\n",
        "\n"
      ],
      "metadata": {
        "id": "kaQ8nZnJRSuD"
      }
    },
    {
      "cell_type": "markdown",
      "source": [
        "2.2.We will use neural network model"
      ],
      "metadata": {
        "id": "NuzV6pXFqrrg"
      }
    },
    {
      "cell_type": "code",
      "source": [
        "output_2_NN = model_neural2.predict(val_data_ip) #Predict the output using NN model"
      ],
      "metadata": {
        "id": "7Ldt63idSmLk"
      },
      "execution_count": 68,
      "outputs": []
    },
    {
      "cell_type": "code",
      "source": [
        "##Defining confusion matrix to plot actual and predicted values...\n",
        "cm = confusion_matrix(val_model2_target,output_2_NN)\n",
        "#matrix will be oriented as [0,1,2,3] i.e class 0 in first row 1 in second row and so and so forth\n",
        "#plotted in heatmap labels are given\n",
        "sns.heatmap(cm,annot=True,fmt = '.2f',xticklabels=['Memantine_C/S','Memantine_S/C','Saline_C/S','Saline_S/C'],yticklabels=['Memantine_C/S','Memantine_S/C','Saline_C/S','Saline_S/C'])\n",
        "plt.ylabel('True labels')\n",
        "plt.xlabel('Predicted labels')\n",
        "plt.show()"
      ],
      "metadata": {
        "colab": {
          "base_uri": "https://localhost:8080/",
          "height": 365
        },
        "id": "baaPHqcCR_96",
        "outputId": "178b9c1b-8701-4564-bbd5-cf31fbb4361c"
      },
      "execution_count": 71,
      "outputs": [
        {
          "output_type": "display_data",
          "data": {
            "text/plain": [
              "<Figure size 432x288 with 2 Axes>"
            ],
            "image/png": "[encoded data removed]"
          },
          "metadata": {
            "needs_background": "light"
          }
        }
      ]
    },
    {
      "cell_type": "code",
      "source": [
        "model4_pred=val_model4.predict(val_data_ip)\n",
        "#print(confusion_matrix(val_model2_target,model4_pred))\n",
        "print(classification_report(val_model2_target,model4_pred))"
      ],
      "metadata": {
        "colab": {
          "base_uri": "https://localhost:8080/"
        },
        "id": "Er3C8iHFq30I",
        "outputId": "f825718a-710f-42a0-a6dc-3a69f3cded64"
      },
      "execution_count": 72,
      "outputs": [
        {
          "output_type": "stream",
          "name": "stdout",
          "text": [
            "              precision    recall  f1-score   support\n",
            "\n",
            "           0       0.37      0.88      0.52        60\n",
            "           1       0.70      0.93      0.80        60\n",
            "           2       0.00      0.00      0.00        60\n",
            "           3       0.00      0.00      0.00        45\n",
            "\n",
            "    accuracy                           0.48       225\n",
            "   macro avg       0.27      0.45      0.33       225\n",
            "weighted avg       0.28      0.48      0.35       225\n",
            "\n"
          ]
        }
      ]
    },
    {
      "cell_type": "markdown",
      "source": [
        "**Observation**\n",
        "\n",
        "\n",
        "> This model is also not perfect for labels 'Saline_C/S','Saline_S/C'\n"
      ],
      "metadata": {
        "id": "76K0v-ohTG4x"
      }
    },
    {
      "cell_type": "markdown",
      "source": [
        "REFERENCES:\n",
        "\n",
        "[1]https://www.geeksforgeeks.org/count-the-number-of-rows-and-columns-of-a-pandas-dataframe/\n",
        "[2]https://thispointer.com/pandas-loop-or-iterate-over-all-or-certain-columns-of-a-dataframe/\n",
        "[3]https://medium.com/@sebastiannorena/finding-correlation-between-many-variables-multidimensional-dataset-with-python-5deb3f39ffb3\n",
        "[4]https://pandas.pydata.org/pandas-docs/version/0.23/generated/pandas.DataFrame.html\n",
        "[5]https://scikit-learn.org/stable/modules/impute.html\n",
        "[6]https://www.youtube.com/watch?v=HBi-P5j0Kec\n",
        "[7]https://stackoverflow.com/questions/40399315/flatten-tuple-containing-numpy-array-to-numpy-array\n",
        "[8]https://stackoverflow.com/questions/13411544/delete-a-column-from-a-pandas-dataframe\n",
        "[9]https://towardsdatascience.com/iterative-imputation-with-scikit-learn-8f3eb22b1a38\n",
        "[10]https://stackoverflow.com/questions/40142686/converting-non-numeric-to-numeric-value-using-panda-libraries\n",
        "[11]https://scikit-learn.org/stable/modules/generated/sklearn.model_selection.GridSearchCV.html\n",
        "[12]https://scikit-learn.org/stable/modules/generated/sklearn.linear_model.ElasticNet.html\n",
        "[13]https://stackoverflow.com/questions/48377296/get-feature-importance-from-gridsearchcv\n",
        "\n",
        "Multiclass prediction...\n",
        "\n",
        "1.Label encoder: \n",
        "\thttps://scikit-learn.org/stable/modules/generated/sklearn.preprocessing.LabelEncoder.html\n",
        "\n",
        "2.Logistic regression with elastic penality\n",
        "\n",
        "\n",
        "> \ta.Machine learning using Python by Manaranjan Pradhan and U Dinesh Kumar Chapter 5&6 Page No: from 158 to 210...\n",
        "\tb.https://machinelearningmastery.com/elastic-net-regression-in-python/\n",
        "\tc.https://scikit-learn.org/stable/modules/generated/sklearn.linear_model.ElasticNet.html\n",
        "\n",
        "\n",
        "3. Neural Network\n",
        ">\ta.https://scikit-learn.org/stable/modules/neural_networks_supervised.html#multi-layer-perceptron\n",
        "\t\n",
        "4. SVM\n",
        ">\ta.https://scikit-learn.org/stable/modules/generated/sklearn.datasets.make_classification.html\n",
        "\t\n",
        "5.Random forest\n",
        "> a. Machine learning using Python by Manaranjan Pradhan and U Dinesh  Kumar Chapter 5&6 Page No: from 226 to 243\n",
        "For ROC and AUC\n",
        "\tMachine learning using Python by Manaranjan Pradhan and U Dinesh Kumar Chapter 5&6 Page No: 229\n",
        "\n",
        "\n",
        "Other Students With Whom I Dsicussed:\n",
        "\n",
        "Paavan Harish Gouniyal : 213070051\n",
        "Anal Prakash Sharma : 213079011\n",
        "Surbhika Rastogi : 213070056\n",
        "Rohan Appaso More :213230013\n",
        "\n"
      ],
      "metadata": {
        "id": "-wWtM8BvUzUN"
      }
    }
  ]
}